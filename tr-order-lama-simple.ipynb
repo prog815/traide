{
 "cells": [
  {
   "cell_type": "markdown",
   "id": "d2fbe2f0",
   "metadata": {
    "papermill": {
     "duration": 0.031438,
     "end_time": "2022-04-28T08:13:10.956253",
     "exception": false,
     "start_time": "2022-04-28T08:13:10.924815",
     "status": "completed"
    },
    "tags": []
   },
   "source": [
    "# Загрузка библиотек"
   ]
  },
  {
   "cell_type": "code",
   "execution_count": 1,
   "id": "c6f518a2",
   "metadata": {
    "execution": {
     "iopub.execute_input": "2022-04-28T08:13:11.016644Z",
     "iopub.status.busy": "2022-04-28T08:13:11.016095Z",
     "iopub.status.idle": "2022-04-28T08:13:25.316287Z",
     "shell.execute_reply": "2022-04-28T08:13:25.315026Z"
    },
    "papermill": {
     "duration": 14.334432,
     "end_time": "2022-04-28T08:13:25.320150",
     "exception": false,
     "start_time": "2022-04-28T08:13:10.985718",
     "status": "completed"
    },
    "tags": []
   },
   "outputs": [
    {
     "name": "stdout",
     "output_type": "stream",
     "text": [
      "Collecting yfinance\r\n",
      "  Downloading yfinance-0.1.70-py2.py3-none-any.whl (26 kB)\r\n",
      "Collecting multitasking>=0.0.7\r\n",
      "  Downloading multitasking-0.0.10.tar.gz (8.2 kB)\r\n",
      "  Preparing metadata (setup.py) ... \u001b[?25l-\b \bdone\r\n",
      "\u001b[?25hRequirement already satisfied: pandas>=0.24.0 in /opt/conda/lib/python3.7/site-packages (from yfinance) (1.3.5)\r\n",
      "Requirement already satisfied: numpy>=1.15 in /opt/conda/lib/python3.7/site-packages (from yfinance) (1.21.5)\r\n",
      "Requirement already satisfied: requests>=2.26 in /opt/conda/lib/python3.7/site-packages (from yfinance) (2.27.1)\r\n",
      "Requirement already satisfied: lxml>=4.5.1 in /opt/conda/lib/python3.7/site-packages (from yfinance) (4.8.0)\r\n",
      "Requirement already satisfied: python-dateutil>=2.7.3 in /opt/conda/lib/python3.7/site-packages (from pandas>=0.24.0->yfinance) (2.8.2)\r\n",
      "Requirement already satisfied: pytz>=2017.3 in /opt/conda/lib/python3.7/site-packages (from pandas>=0.24.0->yfinance) (2021.3)\r\n",
      "Requirement already satisfied: charset-normalizer~=2.0.0 in /opt/conda/lib/python3.7/site-packages (from requests>=2.26->yfinance) (2.0.12)\r\n",
      "Requirement already satisfied: certifi>=2017.4.17 in /opt/conda/lib/python3.7/site-packages (from requests>=2.26->yfinance) (2021.10.8)\r\n",
      "Requirement already satisfied: urllib3<1.27,>=1.21.1 in /opt/conda/lib/python3.7/site-packages (from requests>=2.26->yfinance) (1.26.8)\r\n",
      "Requirement already satisfied: idna<4,>=2.5 in /opt/conda/lib/python3.7/site-packages (from requests>=2.26->yfinance) (3.3)\r\n",
      "Requirement already satisfied: six>=1.5 in /opt/conda/lib/python3.7/site-packages (from python-dateutil>=2.7.3->pandas>=0.24.0->yfinance) (1.16.0)\r\n",
      "Building wheels for collected packages: multitasking\r\n",
      "  Building wheel for multitasking (setup.py) ... \u001b[?25l-\b \b\\\b \bdone\r\n",
      "\u001b[?25h  Created wheel for multitasking: filename=multitasking-0.0.10-py3-none-any.whl size=8500 sha256=8b23cba39b24b8cdb9465e0ddd48d1ab62404ccc5ce8567152fb53ad5edf70ce\r\n",
      "  Stored in directory: /root/.cache/pip/wheels/34/ba/79/c0260c6f1a03f420ec7673eff9981778f293b9107974679e36\r\n",
      "Successfully built multitasking\r\n",
      "Installing collected packages: multitasking, yfinance\r\n",
      "Successfully installed multitasking-0.0.10 yfinance-0.1.70\r\n",
      "\u001b[33mWARNING: Running pip as the 'root' user can result in broken permissions and conflicting behaviour with the system package manager. It is recommended to use a virtual environment instead: https://pip.pypa.io/warnings/venv\u001b[0m\u001b[33m\r\n",
      "\u001b[0mNote: you may need to restart the kernel to use updated packages.\n"
     ]
    }
   ],
   "source": [
    "pip install yfinance"
   ]
  },
  {
   "cell_type": "code",
   "execution_count": 2,
   "id": "125c1125",
   "metadata": {
    "execution": {
     "iopub.execute_input": "2022-04-28T08:13:25.389741Z",
     "iopub.status.busy": "2022-04-28T08:13:25.389450Z",
     "iopub.status.idle": "2022-04-28T08:13:39.423315Z",
     "shell.execute_reply": "2022-04-28T08:13:39.422607Z"
    },
    "papermill": {
     "duration": 14.070744,
     "end_time": "2022-04-28T08:13:39.425420",
     "exception": false,
     "start_time": "2022-04-28T08:13:25.354676",
     "status": "completed"
    },
    "tags": []
   },
   "outputs": [
    {
     "name": "stdout",
     "output_type": "stream",
     "text": [
      "Collecting git+https://github.com/prog815/progOrder\r\n",
      "  Cloning https://github.com/prog815/progOrder to /tmp/pip-req-build-uvxlqq1l\r\n",
      "  Running command git clone --filter=blob:none --quiet https://github.com/prog815/progOrder /tmp/pip-req-build-uvxlqq1l\r\n",
      "  Resolved https://github.com/prog815/progOrder to commit da7c7d38cd9609ee97bcf13032c088475c8a259b\r\n",
      "  Preparing metadata (setup.py) ... \u001b[?25l-\b \bdone\r\n",
      "\u001b[?25hBuilding wheels for collected packages: progOrder\r\n",
      "  Building wheel for progOrder (setup.py) ... \u001b[?25l-\b \b\\\b \bdone\r\n",
      "\u001b[?25h  Created wheel for progOrder: filename=progOrder-0.0.5-py3-none-any.whl size=2628 sha256=3d1cb4e82eda50cd3524ddead977f52f3389fc106c690c3f65f227c56371b66f\r\n",
      "  Stored in directory: /tmp/pip-ephem-wheel-cache-yqent79_/wheels/90/27/db/48a874d26924c492944ffd71d357e9002e1e70cc4e04dede4f\r\n",
      "Successfully built progOrder\r\n",
      "Installing collected packages: progOrder\r\n",
      "Successfully installed progOrder-0.0.5\r\n",
      "\u001b[33mWARNING: Running pip as the 'root' user can result in broken permissions and conflicting behaviour with the system package manager. It is recommended to use a virtual environment instead: https://pip.pypa.io/warnings/venv\u001b[0m\u001b[33m\r\n",
      "\u001b[0mNote: you may need to restart the kernel to use updated packages.\n"
     ]
    }
   ],
   "source": [
    "pip install git+https://github.com/prog815/progOrder"
   ]
  },
  {
   "cell_type": "code",
   "execution_count": 3,
   "id": "c0eb3e4a",
   "metadata": {
    "_cell_guid": "b1076dfc-b9ad-4769-8c92-a6c4dae69d19",
    "_uuid": "8f2839f25d086af736a60e9eeb907d3b93b6e0e5",
    "execution": {
     "iopub.execute_input": "2022-04-28T08:13:39.503552Z",
     "iopub.status.busy": "2022-04-28T08:13:39.503252Z",
     "iopub.status.idle": "2022-04-28T08:13:39.517018Z",
     "shell.execute_reply": "2022-04-28T08:13:39.516355Z"
    },
    "papermill": {
     "duration": 0.055097,
     "end_time": "2022-04-28T08:13:39.519482",
     "exception": false,
     "start_time": "2022-04-28T08:13:39.464385",
     "status": "completed"
    },
    "tags": []
   },
   "outputs": [],
   "source": [
    "import numpy as np \n",
    "import pandas as pd \n",
    "import yfinance as yf\n",
    "import progOrder"
   ]
  },
  {
   "cell_type": "markdown",
   "id": "dc208b34",
   "metadata": {
    "papermill": {
     "duration": 0.03737,
     "end_time": "2022-04-28T08:13:39.593430",
     "exception": false,
     "start_time": "2022-04-28T08:13:39.556060",
     "status": "completed"
    },
    "tags": []
   },
   "source": [
    "# Загрузка котировок"
   ]
  },
  {
   "cell_type": "code",
   "execution_count": 4,
   "id": "87f026ec",
   "metadata": {
    "execution": {
     "iopub.execute_input": "2022-04-28T08:13:39.670154Z",
     "iopub.status.busy": "2022-04-28T08:13:39.669828Z",
     "iopub.status.idle": "2022-04-28T08:13:40.012515Z",
     "shell.execute_reply": "2022-04-28T08:13:40.011207Z"
    },
    "papermill": {
     "duration": 0.383492,
     "end_time": "2022-04-28T08:13:40.015350",
     "exception": false,
     "start_time": "2022-04-28T08:13:39.631858",
     "status": "completed"
    },
    "tags": []
   },
   "outputs": [
    {
     "name": "stdout",
     "output_type": "stream",
     "text": [
      "[*********************100%***********************]  1 of 1 completed\n"
     ]
    },
    {
     "data": {
      "text/html": [
       "<div>\n",
       "<style scoped>\n",
       "    .dataframe tbody tr th:only-of-type {\n",
       "        vertical-align: middle;\n",
       "    }\n",
       "\n",
       "    .dataframe tbody tr th {\n",
       "        vertical-align: top;\n",
       "    }\n",
       "\n",
       "    .dataframe thead th {\n",
       "        text-align: right;\n",
       "    }\n",
       "</style>\n",
       "<table border=\"1\" class=\"dataframe\">\n",
       "  <thead>\n",
       "    <tr style=\"text-align: right;\">\n",
       "      <th></th>\n",
       "      <th>Open</th>\n",
       "      <th>High</th>\n",
       "      <th>Low</th>\n",
       "      <th>Close</th>\n",
       "      <th>Adj Close</th>\n",
       "      <th>Volume</th>\n",
       "    </tr>\n",
       "    <tr>\n",
       "      <th>Date</th>\n",
       "      <th></th>\n",
       "      <th></th>\n",
       "      <th></th>\n",
       "      <th></th>\n",
       "      <th></th>\n",
       "      <th></th>\n",
       "    </tr>\n",
       "  </thead>\n",
       "  <tbody>\n",
       "    <tr>\n",
       "      <th>2012-05-02</th>\n",
       "      <td>94.470001</td>\n",
       "      <td>95.690002</td>\n",
       "      <td>93.059998</td>\n",
       "      <td>93.120003</td>\n",
       "      <td>51.650772</td>\n",
       "      <td>106143030</td>\n",
       "    </tr>\n",
       "    <tr>\n",
       "      <th>2012-05-03</th>\n",
       "      <td>93.300003</td>\n",
       "      <td>93.639999</td>\n",
       "      <td>92.120003</td>\n",
       "      <td>92.889999</td>\n",
       "      <td>51.523205</td>\n",
       "      <td>10646420</td>\n",
       "    </tr>\n",
       "    <tr>\n",
       "      <th>2012-05-04</th>\n",
       "      <td>92.120003</td>\n",
       "      <td>92.639999</td>\n",
       "      <td>90.320000</td>\n",
       "      <td>90.900002</td>\n",
       "      <td>50.419407</td>\n",
       "      <td>154978600</td>\n",
       "    </tr>\n",
       "    <tr>\n",
       "      <th>2012-05-07</th>\n",
       "      <td>89.000000</td>\n",
       "      <td>89.870003</td>\n",
       "      <td>86.000000</td>\n",
       "      <td>88.360001</td>\n",
       "      <td>49.010555</td>\n",
       "      <td>8603371</td>\n",
       "    </tr>\n",
       "    <tr>\n",
       "      <th>2012-05-08</th>\n",
       "      <td>89.019997</td>\n",
       "      <td>90.400002</td>\n",
       "      <td>87.629997</td>\n",
       "      <td>89.089996</td>\n",
       "      <td>49.415459</td>\n",
       "      <td>10447514</td>\n",
       "    </tr>\n",
       "    <tr>\n",
       "      <th>...</th>\n",
       "      <td>...</td>\n",
       "      <td>...</td>\n",
       "      <td>...</td>\n",
       "      <td>...</td>\n",
       "      <td>...</td>\n",
       "      <td>...</td>\n",
       "    </tr>\n",
       "    <tr>\n",
       "      <th>2022-04-22</th>\n",
       "      <td>118.650002</td>\n",
       "      <td>122.320000</td>\n",
       "      <td>115.550003</td>\n",
       "      <td>116.970001</td>\n",
       "      <td>116.970001</td>\n",
       "      <td>57466590</td>\n",
       "    </tr>\n",
       "    <tr>\n",
       "      <th>2022-04-25</th>\n",
       "      <td>116.970001</td>\n",
       "      <td>116.970001</td>\n",
       "      <td>116.970001</td>\n",
       "      <td>116.970001</td>\n",
       "      <td>116.970001</td>\n",
       "      <td>0</td>\n",
       "    </tr>\n",
       "    <tr>\n",
       "      <th>2022-04-26</th>\n",
       "      <td>112.580002</td>\n",
       "      <td>124.919998</td>\n",
       "      <td>111.900002</td>\n",
       "      <td>122.360001</td>\n",
       "      <td>122.360001</td>\n",
       "      <td>83540530</td>\n",
       "    </tr>\n",
       "    <tr>\n",
       "      <th>2022-04-27</th>\n",
       "      <td>123.000000</td>\n",
       "      <td>131.729996</td>\n",
       "      <td>120.599998</td>\n",
       "      <td>131.110001</td>\n",
       "      <td>131.110001</td>\n",
       "      <td>115500050</td>\n",
       "    </tr>\n",
       "    <tr>\n",
       "      <th>2022-04-28</th>\n",
       "      <td>132.139999</td>\n",
       "      <td>134.500000</td>\n",
       "      <td>131.000000</td>\n",
       "      <td>131.889999</td>\n",
       "      <td>131.889999</td>\n",
       "      <td>33010150</td>\n",
       "    </tr>\n",
       "  </tbody>\n",
       "</table>\n",
       "<p>2491 rows × 6 columns</p>\n",
       "</div>"
      ],
      "text/plain": [
       "                  Open        High         Low       Close   Adj Close  \\\n",
       "Date                                                                     \n",
       "2012-05-02   94.470001   95.690002   93.059998   93.120003   51.650772   \n",
       "2012-05-03   93.300003   93.639999   92.120003   92.889999   51.523205   \n",
       "2012-05-04   92.120003   92.639999   90.320000   90.900002   50.419407   \n",
       "2012-05-07   89.000000   89.870003   86.000000   88.360001   49.010555   \n",
       "2012-05-08   89.019997   90.400002   87.629997   89.089996   49.415459   \n",
       "...                ...         ...         ...         ...         ...   \n",
       "2022-04-22  118.650002  122.320000  115.550003  116.970001  116.970001   \n",
       "2022-04-25  116.970001  116.970001  116.970001  116.970001  116.970001   \n",
       "2022-04-26  112.580002  124.919998  111.900002  122.360001  122.360001   \n",
       "2022-04-27  123.000000  131.729996  120.599998  131.110001  131.110001   \n",
       "2022-04-28  132.139999  134.500000  131.000000  131.889999  131.889999   \n",
       "\n",
       "               Volume  \n",
       "Date                   \n",
       "2012-05-02  106143030  \n",
       "2012-05-03   10646420  \n",
       "2012-05-04  154978600  \n",
       "2012-05-07    8603371  \n",
       "2012-05-08   10447514  \n",
       "...               ...  \n",
       "2022-04-22   57466590  \n",
       "2022-04-25          0  \n",
       "2022-04-26   83540530  \n",
       "2022-04-27  115500050  \n",
       "2022-04-28   33010150  \n",
       "\n",
       "[2491 rows x 6 columns]"
      ]
     },
     "execution_count": 4,
     "metadata": {},
     "output_type": "execute_result"
    }
   ],
   "source": [
    "data = yf.download('SBER.ME',period='10y')\n",
    "data"
   ]
  },
  {
   "cell_type": "markdown",
   "id": "358d89fd",
   "metadata": {
    "papermill": {
     "duration": 0.03753,
     "end_time": "2022-04-28T08:13:40.090949",
     "exception": false,
     "start_time": "2022-04-28T08:13:40.053419",
     "status": "completed"
    },
    "tags": []
   },
   "source": [
    "# Подготовка данных для модели"
   ]
  },
  {
   "cell_type": "code",
   "execution_count": 5,
   "id": "b7b076e0",
   "metadata": {
    "execution": {
     "iopub.execute_input": "2022-04-28T08:13:40.168385Z",
     "iopub.status.busy": "2022-04-28T08:13:40.168077Z",
     "iopub.status.idle": "2022-04-28T08:13:40.236158Z",
     "shell.execute_reply": "2022-04-28T08:13:40.235107Z"
    },
    "papermill": {
     "duration": 0.109733,
     "end_time": "2022-04-28T08:13:40.238717",
     "exception": false,
     "start_time": "2022-04-28T08:13:40.128984",
     "status": "completed"
    },
    "tags": []
   },
   "outputs": [],
   "source": [
    "?progOrder.getBuySellForData"
   ]
  },
  {
   "cell_type": "code",
   "execution_count": 6,
   "id": "d22c8c91",
   "metadata": {
    "execution": {
     "iopub.execute_input": "2022-04-28T08:13:40.316527Z",
     "iopub.status.busy": "2022-04-28T08:13:40.316250Z",
     "iopub.status.idle": "2022-04-28T08:13:40.629215Z",
     "shell.execute_reply": "2022-04-28T08:13:40.628319Z"
    },
    "papermill": {
     "duration": 0.354174,
     "end_time": "2022-04-28T08:13:40.631387",
     "exception": false,
     "start_time": "2022-04-28T08:13:40.277213",
     "status": "completed"
    },
    "tags": []
   },
   "outputs": [
    {
     "name": "stderr",
     "output_type": "stream",
     "text": [
      "/opt/conda/lib/python3.7/site-packages/ipykernel_launcher.py:14: PerformanceWarning: DataFrame is highly fragmented.  This is usually the result of calling `frame.insert` many times, which has poor performance.  Consider joining all columns at once using pd.concat(axis=1) instead.  To get a de-fragmented frame, use `newframe = frame.copy()`\n",
      "  \n",
      "/opt/conda/lib/python3.7/site-packages/ipykernel_launcher.py:15: PerformanceWarning: DataFrame is highly fragmented.  This is usually the result of calling `frame.insert` many times, which has poor performance.  Consider joining all columns at once using pd.concat(axis=1) instead.  To get a de-fragmented frame, use `newframe = frame.copy()`\n",
      "  from ipykernel import kernelapp as app\n",
      "/opt/conda/lib/python3.7/site-packages/ipykernel_launcher.py:16: PerformanceWarning: DataFrame is highly fragmented.  This is usually the result of calling `frame.insert` many times, which has poor performance.  Consider joining all columns at once using pd.concat(axis=1) instead.  To get a de-fragmented frame, use `newframe = frame.copy()`\n",
      "  app.launch_new_instance()\n",
      "/opt/conda/lib/python3.7/site-packages/ipykernel_launcher.py:18: PerformanceWarning: DataFrame is highly fragmented.  This is usually the result of calling `frame.insert` many times, which has poor performance.  Consider joining all columns at once using pd.concat(axis=1) instead.  To get a de-fragmented frame, use `newframe = frame.copy()`\n",
      "/opt/conda/lib/python3.7/site-packages/ipykernel_launcher.py:19: PerformanceWarning: DataFrame is highly fragmented.  This is usually the result of calling `frame.insert` many times, which has poor performance.  Consider joining all columns at once using pd.concat(axis=1) instead.  To get a de-fragmented frame, use `newframe = frame.copy()`\n",
      "/opt/conda/lib/python3.7/site-packages/ipykernel_launcher.py:20: PerformanceWarning: DataFrame is highly fragmented.  This is usually the result of calling `frame.insert` many times, which has poor performance.  Consider joining all columns at once using pd.concat(axis=1) instead.  To get a de-fragmented frame, use `newframe = frame.copy()`\n",
      "/opt/conda/lib/python3.7/site-packages/ipykernel_launcher.py:22: PerformanceWarning: DataFrame is highly fragmented.  This is usually the result of calling `frame.insert` many times, which has poor performance.  Consider joining all columns at once using pd.concat(axis=1) instead.  To get a de-fragmented frame, use `newframe = frame.copy()`\n",
      "/opt/conda/lib/python3.7/site-packages/ipykernel_launcher.py:23: PerformanceWarning: DataFrame is highly fragmented.  This is usually the result of calling `frame.insert` many times, which has poor performance.  Consider joining all columns at once using pd.concat(axis=1) instead.  To get a de-fragmented frame, use `newframe = frame.copy()`\n",
      "/opt/conda/lib/python3.7/site-packages/ipykernel_launcher.py:24: PerformanceWarning: DataFrame is highly fragmented.  This is usually the result of calling `frame.insert` many times, which has poor performance.  Consider joining all columns at once using pd.concat(axis=1) instead.  To get a de-fragmented frame, use `newframe = frame.copy()`\n",
      "/opt/conda/lib/python3.7/site-packages/ipykernel_launcher.py:26: PerformanceWarning: DataFrame is highly fragmented.  This is usually the result of calling `frame.insert` many times, which has poor performance.  Consider joining all columns at once using pd.concat(axis=1) instead.  To get a de-fragmented frame, use `newframe = frame.copy()`\n",
      "/opt/conda/lib/python3.7/site-packages/ipykernel_launcher.py:27: PerformanceWarning: DataFrame is highly fragmented.  This is usually the result of calling `frame.insert` many times, which has poor performance.  Consider joining all columns at once using pd.concat(axis=1) instead.  To get a de-fragmented frame, use `newframe = frame.copy()`\n",
      "/opt/conda/lib/python3.7/site-packages/ipykernel_launcher.py:28: PerformanceWarning: DataFrame is highly fragmented.  This is usually the result of calling `frame.insert` many times, which has poor performance.  Consider joining all columns at once using pd.concat(axis=1) instead.  To get a de-fragmented frame, use `newframe = frame.copy()`\n"
     ]
    },
    {
     "data": {
      "text/html": [
       "<div>\n",
       "<style scoped>\n",
       "    .dataframe tbody tr th:only-of-type {\n",
       "        vertical-align: middle;\n",
       "    }\n",
       "\n",
       "    .dataframe tbody tr th {\n",
       "        vertical-align: top;\n",
       "    }\n",
       "\n",
       "    .dataframe thead th {\n",
       "        text-align: right;\n",
       "    }\n",
       "</style>\n",
       "<table border=\"1\" class=\"dataframe\">\n",
       "  <thead>\n",
       "    <tr style=\"text-align: right;\">\n",
       "      <th></th>\n",
       "      <th>dClose</th>\n",
       "      <th>dClose_1</th>\n",
       "      <th>dClose_2</th>\n",
       "      <th>dClose_3</th>\n",
       "      <th>dClose_4</th>\n",
       "      <th>dClose_5</th>\n",
       "      <th>dClose_6</th>\n",
       "      <th>dClose_7</th>\n",
       "      <th>dClose_8</th>\n",
       "      <th>dClose_9</th>\n",
       "      <th>...</th>\n",
       "      <th>dom</th>\n",
       "      <th>dom_sin</th>\n",
       "      <th>dom_cos</th>\n",
       "      <th>month</th>\n",
       "      <th>month_sin</th>\n",
       "      <th>month_cos</th>\n",
       "      <th>week</th>\n",
       "      <th>week_sin</th>\n",
       "      <th>week_cos</th>\n",
       "      <th>Target</th>\n",
       "    </tr>\n",
       "    <tr>\n",
       "      <th>Date</th>\n",
       "      <th></th>\n",
       "      <th></th>\n",
       "      <th></th>\n",
       "      <th></th>\n",
       "      <th></th>\n",
       "      <th></th>\n",
       "      <th></th>\n",
       "      <th></th>\n",
       "      <th></th>\n",
       "      <th></th>\n",
       "      <th></th>\n",
       "      <th></th>\n",
       "      <th></th>\n",
       "      <th></th>\n",
       "      <th></th>\n",
       "      <th></th>\n",
       "      <th></th>\n",
       "      <th></th>\n",
       "      <th></th>\n",
       "      <th></th>\n",
       "      <th></th>\n",
       "    </tr>\n",
       "  </thead>\n",
       "  <tbody>\n",
       "    <tr>\n",
       "      <th>2020-05-14</th>\n",
       "      <td>-0.018686</td>\n",
       "      <td>-0.021369</td>\n",
       "      <td>-0.023569</td>\n",
       "      <td>0.002609</td>\n",
       "      <td>-0.000971</td>\n",
       "      <td>0.004878</td>\n",
       "      <td>0.005473</td>\n",
       "      <td>-0.018048</td>\n",
       "      <td>0.007406</td>\n",
       "      <td>0.015560</td>\n",
       "      <td>...</td>\n",
       "      <td>14</td>\n",
       "      <td>0.299363</td>\n",
       "      <td>-0.954139</td>\n",
       "      <td>5</td>\n",
       "      <td>0.500000</td>\n",
       "      <td>-0.866025</td>\n",
       "      <td>19</td>\n",
       "      <td>0.558647</td>\n",
       "      <td>0.829406</td>\n",
       "      <td>0</td>\n",
       "    </tr>\n",
       "    <tr>\n",
       "      <th>2020-05-15</th>\n",
       "      <td>0.000218</td>\n",
       "      <td>-0.018686</td>\n",
       "      <td>-0.021369</td>\n",
       "      <td>-0.023569</td>\n",
       "      <td>0.002609</td>\n",
       "      <td>-0.000971</td>\n",
       "      <td>0.004878</td>\n",
       "      <td>0.005473</td>\n",
       "      <td>-0.018048</td>\n",
       "      <td>0.007406</td>\n",
       "      <td>...</td>\n",
       "      <td>15</td>\n",
       "      <td>0.101168</td>\n",
       "      <td>-0.994869</td>\n",
       "      <td>5</td>\n",
       "      <td>0.500000</td>\n",
       "      <td>-0.866025</td>\n",
       "      <td>19</td>\n",
       "      <td>0.558647</td>\n",
       "      <td>0.829406</td>\n",
       "      <td>0</td>\n",
       "    </tr>\n",
       "    <tr>\n",
       "      <th>2020-05-18</th>\n",
       "      <td>0.027631</td>\n",
       "      <td>0.000218</td>\n",
       "      <td>-0.018686</td>\n",
       "      <td>-0.021369</td>\n",
       "      <td>-0.023569</td>\n",
       "      <td>0.002609</td>\n",
       "      <td>-0.000971</td>\n",
       "      <td>0.004878</td>\n",
       "      <td>0.005473</td>\n",
       "      <td>-0.018048</td>\n",
       "      <td>...</td>\n",
       "      <td>18</td>\n",
       "      <td>-0.485302</td>\n",
       "      <td>-0.874347</td>\n",
       "      <td>5</td>\n",
       "      <td>0.500000</td>\n",
       "      <td>-0.866025</td>\n",
       "      <td>20</td>\n",
       "      <td>0.558647</td>\n",
       "      <td>0.829406</td>\n",
       "      <td>0</td>\n",
       "    </tr>\n",
       "    <tr>\n",
       "      <th>2020-05-19</th>\n",
       "      <td>0.000371</td>\n",
       "      <td>0.027631</td>\n",
       "      <td>0.000218</td>\n",
       "      <td>-0.018686</td>\n",
       "      <td>-0.021369</td>\n",
       "      <td>-0.023569</td>\n",
       "      <td>0.002609</td>\n",
       "      <td>-0.000971</td>\n",
       "      <td>0.004878</td>\n",
       "      <td>0.005473</td>\n",
       "      <td>...</td>\n",
       "      <td>19</td>\n",
       "      <td>-0.651372</td>\n",
       "      <td>-0.758758</td>\n",
       "      <td>5</td>\n",
       "      <td>0.500000</td>\n",
       "      <td>-0.866025</td>\n",
       "      <td>20</td>\n",
       "      <td>0.558647</td>\n",
       "      <td>0.829406</td>\n",
       "      <td>0</td>\n",
       "    </tr>\n",
       "    <tr>\n",
       "      <th>2020-05-20</th>\n",
       "      <td>0.026349</td>\n",
       "      <td>0.000371</td>\n",
       "      <td>0.027631</td>\n",
       "      <td>0.000218</td>\n",
       "      <td>-0.018686</td>\n",
       "      <td>-0.021369</td>\n",
       "      <td>-0.023569</td>\n",
       "      <td>0.002609</td>\n",
       "      <td>-0.000971</td>\n",
       "      <td>0.004878</td>\n",
       "      <td>...</td>\n",
       "      <td>20</td>\n",
       "      <td>-0.790776</td>\n",
       "      <td>-0.612106</td>\n",
       "      <td>5</td>\n",
       "      <td>0.500000</td>\n",
       "      <td>-0.866025</td>\n",
       "      <td>20</td>\n",
       "      <td>0.558647</td>\n",
       "      <td>0.829406</td>\n",
       "      <td>0</td>\n",
       "    </tr>\n",
       "    <tr>\n",
       "      <th>...</th>\n",
       "      <td>...</td>\n",
       "      <td>...</td>\n",
       "      <td>...</td>\n",
       "      <td>...</td>\n",
       "      <td>...</td>\n",
       "      <td>...</td>\n",
       "      <td>...</td>\n",
       "      <td>...</td>\n",
       "      <td>...</td>\n",
       "      <td>...</td>\n",
       "      <td>...</td>\n",
       "      <td>...</td>\n",
       "      <td>...</td>\n",
       "      <td>...</td>\n",
       "      <td>...</td>\n",
       "      <td>...</td>\n",
       "      <td>...</td>\n",
       "      <td>...</td>\n",
       "      <td>...</td>\n",
       "      <td>...</td>\n",
       "      <td>...</td>\n",
       "    </tr>\n",
       "    <tr>\n",
       "      <th>2022-04-21</th>\n",
       "      <td>0.000000</td>\n",
       "      <td>0.009975</td>\n",
       "      <td>-0.028664</td>\n",
       "      <td>-0.053713</td>\n",
       "      <td>0.014181</td>\n",
       "      <td>-0.047601</td>\n",
       "      <td>0.000886</td>\n",
       "      <td>-0.023866</td>\n",
       "      <td>-0.034999</td>\n",
       "      <td>-0.025627</td>\n",
       "      <td>...</td>\n",
       "      <td>21</td>\n",
       "      <td>-0.897805</td>\n",
       "      <td>-0.440394</td>\n",
       "      <td>4</td>\n",
       "      <td>0.866025</td>\n",
       "      <td>-0.500000</td>\n",
       "      <td>15</td>\n",
       "      <td>0.456629</td>\n",
       "      <td>0.889657</td>\n",
       "      <td>0</td>\n",
       "    </tr>\n",
       "    <tr>\n",
       "      <th>2022-04-22</th>\n",
       "      <td>-0.037284</td>\n",
       "      <td>0.000000</td>\n",
       "      <td>0.009975</td>\n",
       "      <td>-0.028664</td>\n",
       "      <td>-0.053713</td>\n",
       "      <td>0.014181</td>\n",
       "      <td>-0.047601</td>\n",
       "      <td>0.000886</td>\n",
       "      <td>-0.023866</td>\n",
       "      <td>-0.034999</td>\n",
       "      <td>...</td>\n",
       "      <td>22</td>\n",
       "      <td>-0.968077</td>\n",
       "      <td>-0.250653</td>\n",
       "      <td>4</td>\n",
       "      <td>0.866025</td>\n",
       "      <td>-0.500000</td>\n",
       "      <td>15</td>\n",
       "      <td>0.456629</td>\n",
       "      <td>0.889657</td>\n",
       "      <td>0</td>\n",
       "    </tr>\n",
       "    <tr>\n",
       "      <th>2022-04-25</th>\n",
       "      <td>0.000000</td>\n",
       "      <td>-0.037284</td>\n",
       "      <td>0.000000</td>\n",
       "      <td>0.009975</td>\n",
       "      <td>-0.028664</td>\n",
       "      <td>-0.053713</td>\n",
       "      <td>0.014181</td>\n",
       "      <td>-0.047601</td>\n",
       "      <td>0.000886</td>\n",
       "      <td>-0.023866</td>\n",
       "      <td>...</td>\n",
       "      <td>25</td>\n",
       "      <td>-0.937752</td>\n",
       "      <td>0.347305</td>\n",
       "      <td>4</td>\n",
       "      <td>0.866025</td>\n",
       "      <td>-0.500000</td>\n",
       "      <td>16</td>\n",
       "      <td>0.456629</td>\n",
       "      <td>0.889657</td>\n",
       "      <td>0</td>\n",
       "    </tr>\n",
       "    <tr>\n",
       "      <th>2022-04-26</th>\n",
       "      <td>0.046080</td>\n",
       "      <td>0.000000</td>\n",
       "      <td>-0.037284</td>\n",
       "      <td>0.000000</td>\n",
       "      <td>0.009975</td>\n",
       "      <td>-0.028664</td>\n",
       "      <td>-0.053713</td>\n",
       "      <td>0.014181</td>\n",
       "      <td>-0.047601</td>\n",
       "      <td>0.000886</td>\n",
       "      <td>...</td>\n",
       "      <td>26</td>\n",
       "      <td>-0.848644</td>\n",
       "      <td>0.528964</td>\n",
       "      <td>4</td>\n",
       "      <td>0.866025</td>\n",
       "      <td>-0.500000</td>\n",
       "      <td>16</td>\n",
       "      <td>0.456629</td>\n",
       "      <td>0.889657</td>\n",
       "      <td>0</td>\n",
       "    </tr>\n",
       "    <tr>\n",
       "      <th>2022-04-27</th>\n",
       "      <td>0.071510</td>\n",
       "      <td>0.046080</td>\n",
       "      <td>0.000000</td>\n",
       "      <td>-0.037284</td>\n",
       "      <td>0.000000</td>\n",
       "      <td>0.009975</td>\n",
       "      <td>-0.028664</td>\n",
       "      <td>-0.053713</td>\n",
       "      <td>0.014181</td>\n",
       "      <td>-0.047601</td>\n",
       "      <td>...</td>\n",
       "      <td>27</td>\n",
       "      <td>-0.724793</td>\n",
       "      <td>0.688967</td>\n",
       "      <td>4</td>\n",
       "      <td>0.866025</td>\n",
       "      <td>-0.500000</td>\n",
       "      <td>16</td>\n",
       "      <td>0.456629</td>\n",
       "      <td>0.889657</td>\n",
       "      <td>0</td>\n",
       "    </tr>\n",
       "  </tbody>\n",
       "</table>\n",
       "<p>478 rows × 113 columns</p>\n",
       "</div>"
      ],
      "text/plain": [
       "              dClose  dClose_1  dClose_2  dClose_3  dClose_4  dClose_5  \\\n",
       "Date                                                                     \n",
       "2020-05-14 -0.018686 -0.021369 -0.023569  0.002609 -0.000971  0.004878   \n",
       "2020-05-15  0.000218 -0.018686 -0.021369 -0.023569  0.002609 -0.000971   \n",
       "2020-05-18  0.027631  0.000218 -0.018686 -0.021369 -0.023569  0.002609   \n",
       "2020-05-19  0.000371  0.027631  0.000218 -0.018686 -0.021369 -0.023569   \n",
       "2020-05-20  0.026349  0.000371  0.027631  0.000218 -0.018686 -0.021369   \n",
       "...              ...       ...       ...       ...       ...       ...   \n",
       "2022-04-21  0.000000  0.009975 -0.028664 -0.053713  0.014181 -0.047601   \n",
       "2022-04-22 -0.037284  0.000000  0.009975 -0.028664 -0.053713  0.014181   \n",
       "2022-04-25  0.000000 -0.037284  0.000000  0.009975 -0.028664 -0.053713   \n",
       "2022-04-26  0.046080  0.000000 -0.037284  0.000000  0.009975 -0.028664   \n",
       "2022-04-27  0.071510  0.046080  0.000000 -0.037284  0.000000  0.009975   \n",
       "\n",
       "            dClose_6  dClose_7  dClose_8  dClose_9  ...  dom   dom_sin  \\\n",
       "Date                                                ...                  \n",
       "2020-05-14  0.005473 -0.018048  0.007406  0.015560  ...   14  0.299363   \n",
       "2020-05-15  0.004878  0.005473 -0.018048  0.007406  ...   15  0.101168   \n",
       "2020-05-18 -0.000971  0.004878  0.005473 -0.018048  ...   18 -0.485302   \n",
       "2020-05-19  0.002609 -0.000971  0.004878  0.005473  ...   19 -0.651372   \n",
       "2020-05-20 -0.023569  0.002609 -0.000971  0.004878  ...   20 -0.790776   \n",
       "...              ...       ...       ...       ...  ...  ...       ...   \n",
       "2022-04-21  0.000886 -0.023866 -0.034999 -0.025627  ...   21 -0.897805   \n",
       "2022-04-22 -0.047601  0.000886 -0.023866 -0.034999  ...   22 -0.968077   \n",
       "2022-04-25  0.014181 -0.047601  0.000886 -0.023866  ...   25 -0.937752   \n",
       "2022-04-26 -0.053713  0.014181 -0.047601  0.000886  ...   26 -0.848644   \n",
       "2022-04-27 -0.028664 -0.053713  0.014181 -0.047601  ...   27 -0.724793   \n",
       "\n",
       "             dom_cos  month  month_sin  month_cos  week  week_sin  week_cos  \\\n",
       "Date                                                                          \n",
       "2020-05-14 -0.954139      5   0.500000  -0.866025    19  0.558647  0.829406   \n",
       "2020-05-15 -0.994869      5   0.500000  -0.866025    19  0.558647  0.829406   \n",
       "2020-05-18 -0.874347      5   0.500000  -0.866025    20  0.558647  0.829406   \n",
       "2020-05-19 -0.758758      5   0.500000  -0.866025    20  0.558647  0.829406   \n",
       "2020-05-20 -0.612106      5   0.500000  -0.866025    20  0.558647  0.829406   \n",
       "...              ...    ...        ...        ...   ...       ...       ...   \n",
       "2022-04-21 -0.440394      4   0.866025  -0.500000    15  0.456629  0.889657   \n",
       "2022-04-22 -0.250653      4   0.866025  -0.500000    15  0.456629  0.889657   \n",
       "2022-04-25  0.347305      4   0.866025  -0.500000    16  0.456629  0.889657   \n",
       "2022-04-26  0.528964      4   0.866025  -0.500000    16  0.456629  0.889657   \n",
       "2022-04-27  0.688967      4   0.866025  -0.500000    16  0.456629  0.889657   \n",
       "\n",
       "            Target  \n",
       "Date                \n",
       "2020-05-14       0  \n",
       "2020-05-15       0  \n",
       "2020-05-18       0  \n",
       "2020-05-19       0  \n",
       "2020-05-20       0  \n",
       "...            ...  \n",
       "2022-04-21       0  \n",
       "2022-04-22       0  \n",
       "2022-04-25       0  \n",
       "2022-04-26       0  \n",
       "2022-04-27       0  \n",
       "\n",
       "[478 rows x 113 columns]"
      ]
     },
     "execution_count": 6,
     "metadata": {},
     "output_type": "execute_result"
    }
   ],
   "source": [
    "window = 100 \n",
    "test_part = 0.2\n",
    "\n",
    "# подготовка входов\n",
    "df = pd.DataFrame(index=data.index)\n",
    "df['dClose'] = data['Close'].pct_change()\n",
    "\n",
    "# оконный сдвиг\n",
    "for name in df.columns:\n",
    "    for n in range(1,window):\n",
    "        df[name + \"_\" + str(n)] = df[name].shift(n)\n",
    "\n",
    "# добавляем дату\n",
    "df['dow'] = df.index.day_of_week\n",
    "df['dow_sin'] = np.sin(2 * np.pi * df['dow'] / 7)\n",
    "df['dow_cos'] = np.cos(2 * np.pi * df['dow'] / 7)\n",
    "\n",
    "df['dom'] = data.reset_index()['Date'].dt.day.values\n",
    "df['dom_sin'] = np.sin(2 * np.pi * df['dom'] / 31)\n",
    "df['dom_cos'] = np.cos(2 * np.pi * df['dom'] / 31)\n",
    "\n",
    "df['month'] = data.reset_index()['Date'].dt.month.values\n",
    "df['month_sin'] = np.sin(2 * np.pi * df['month'] / 12)\n",
    "df['month_cos'] = np.cos(2 * np.pi * df['month'] / 12)\n",
    "\n",
    "df['week'] = data.reset_index()['Date'].dt.isocalendar().week.values - 1\n",
    "df['week_sin'] = np.sin(2 * np.pi * df['month'] / 53)\n",
    "df['week_cos'] = np.cos(2 * np.pi * df['month'] / 53)\n",
    "\n",
    "# размножаем на два типа ордеров\n",
    "data_buy = df.copy()\n",
    "data_sell = df.copy()\n",
    "\n",
    "# добавляем таргет\n",
    "ohlc = data.values[:,:4]\n",
    "buy,sell = progOrder.getBuySellForData(ohlc,SP=0.05)\n",
    "data_buy['Target'] = buy.astype(int)\n",
    "data_sell['Target'] = sell.astype(int)\n",
    "\n",
    "# выделяем размер тестовой\n",
    "\n",
    "test_len = int((data.shape[0]-window-1)*test_part)\n",
    "\n",
    "# выделяем обучающую\n",
    "\n",
    "data_buy_train = data_buy.iloc[window+1:-test_len-1,:]\n",
    "data_sell_train = data_sell.iloc[window+1:-test_len-1,:]\n",
    "\n",
    "# выделяем тестовоую\n",
    "\n",
    "data_buy_test = data_buy.iloc[-test_len-1:-1,:]\n",
    "data_sell_test = data_sell.iloc[-test_len-1:-1,:]\n",
    "\n",
    "# выделяем расчетную\n",
    "\n",
    "data_buy_calc = data_buy.iloc[[-1],:]\n",
    "data_sell_calc = data_sell.iloc[[-1],:]\n",
    "\n",
    "data_buy_test"
   ]
  },
  {
   "cell_type": "code",
   "execution_count": 7,
   "id": "d69f68fe",
   "metadata": {
    "execution": {
     "iopub.execute_input": "2022-04-28T08:13:40.711102Z",
     "iopub.status.busy": "2022-04-28T08:13:40.710821Z",
     "iopub.status.idle": "2022-04-28T08:13:41.189558Z",
     "shell.execute_reply": "2022-04-28T08:13:41.188836Z"
    },
    "papermill": {
     "duration": 0.521165,
     "end_time": "2022-04-28T08:13:41.191604",
     "exception": false,
     "start_time": "2022-04-28T08:13:40.670439",
     "status": "completed"
    },
    "tags": []
   },
   "outputs": [
    {
     "data": {
      "text/html": [
       "<div>\n",
       "<style scoped>\n",
       "    .dataframe tbody tr th:only-of-type {\n",
       "        vertical-align: middle;\n",
       "    }\n",
       "\n",
       "    .dataframe tbody tr th {\n",
       "        vertical-align: top;\n",
       "    }\n",
       "\n",
       "    .dataframe thead th {\n",
       "        text-align: right;\n",
       "    }\n",
       "</style>\n",
       "<table border=\"1\" class=\"dataframe\">\n",
       "  <thead>\n",
       "    <tr style=\"text-align: right;\">\n",
       "      <th></th>\n",
       "      <th>dClose</th>\n",
       "      <th>dClose_1</th>\n",
       "      <th>dClose_2</th>\n",
       "      <th>dClose_3</th>\n",
       "      <th>dClose_4</th>\n",
       "      <th>dClose_5</th>\n",
       "      <th>dClose_6</th>\n",
       "      <th>dClose_7</th>\n",
       "      <th>dClose_8</th>\n",
       "      <th>dClose_9</th>\n",
       "      <th>...</th>\n",
       "      <th>dom</th>\n",
       "      <th>dom_sin</th>\n",
       "      <th>dom_cos</th>\n",
       "      <th>month</th>\n",
       "      <th>month_sin</th>\n",
       "      <th>month_cos</th>\n",
       "      <th>week</th>\n",
       "      <th>week_sin</th>\n",
       "      <th>week_cos</th>\n",
       "      <th>Target</th>\n",
       "    </tr>\n",
       "  </thead>\n",
       "  <tbody>\n",
       "    <tr>\n",
       "      <th>train</th>\n",
       "      <td>0.000562</td>\n",
       "      <td>0.000573</td>\n",
       "      <td>0.000588</td>\n",
       "      <td>0.000586</td>\n",
       "      <td>0.000581</td>\n",
       "      <td>0.000574</td>\n",
       "      <td>0.000568</td>\n",
       "      <td>0.000595</td>\n",
       "      <td>0.000588</td>\n",
       "      <td>0.000578</td>\n",
       "      <td>...</td>\n",
       "      <td>16.020408</td>\n",
       "      <td>-0.017043</td>\n",
       "      <td>-0.031495</td>\n",
       "      <td>6.566719</td>\n",
       "      <td>-0.000294</td>\n",
       "      <td>0.023421</td>\n",
       "      <td>25.913658</td>\n",
       "      <td>0.643804</td>\n",
       "      <td>0.652500</td>\n",
       "      <td>0.026688</td>\n",
       "    </tr>\n",
       "    <tr>\n",
       "      <th>test</th>\n",
       "      <td>-0.000128</td>\n",
       "      <td>-0.000322</td>\n",
       "      <td>-0.000468</td>\n",
       "      <td>-0.000462</td>\n",
       "      <td>-0.000386</td>\n",
       "      <td>-0.000376</td>\n",
       "      <td>-0.000386</td>\n",
       "      <td>-0.000363</td>\n",
       "      <td>-0.000235</td>\n",
       "      <td>-0.000233</td>\n",
       "      <td>...</td>\n",
       "      <td>15.937238</td>\n",
       "      <td>-0.021287</td>\n",
       "      <td>-0.032341</td>\n",
       "      <td>6.757322</td>\n",
       "      <td>-0.062611</td>\n",
       "      <td>0.007247</td>\n",
       "      <td>26.635983</td>\n",
       "      <td>0.660920</td>\n",
       "      <td>0.638589</td>\n",
       "      <td>0.033473</td>\n",
       "    </tr>\n",
       "  </tbody>\n",
       "</table>\n",
       "<p>2 rows × 113 columns</p>\n",
       "</div>"
      ],
      "text/plain": [
       "         dClose  dClose_1  dClose_2  dClose_3  dClose_4  dClose_5  dClose_6  \\\n",
       "train  0.000562  0.000573  0.000588  0.000586  0.000581  0.000574  0.000568   \n",
       "test  -0.000128 -0.000322 -0.000468 -0.000462 -0.000386 -0.000376 -0.000386   \n",
       "\n",
       "       dClose_7  dClose_8  dClose_9  ...        dom   dom_sin   dom_cos  \\\n",
       "train  0.000595  0.000588  0.000578  ...  16.020408 -0.017043 -0.031495   \n",
       "test  -0.000363 -0.000235 -0.000233  ...  15.937238 -0.021287 -0.032341   \n",
       "\n",
       "          month  month_sin  month_cos       week  week_sin  week_cos    Target  \n",
       "train  6.566719  -0.000294   0.023421  25.913658  0.643804  0.652500  0.026688  \n",
       "test   6.757322  -0.062611   0.007247  26.635983  0.660920  0.638589  0.033473  \n",
       "\n",
       "[2 rows x 113 columns]"
      ]
     },
     "execution_count": 7,
     "metadata": {},
     "output_type": "execute_result"
    }
   ],
   "source": [
    "# контроль средних\n",
    "pd.DataFrame([data_buy_train.describe().loc['mean',:],data_buy_test.describe().loc['mean',:]],index=['train','test'])"
   ]
  },
  {
   "cell_type": "code",
   "execution_count": 8,
   "id": "4765cd3d",
   "metadata": {
    "execution": {
     "iopub.execute_input": "2022-04-28T08:13:41.272756Z",
     "iopub.status.busy": "2022-04-28T08:13:41.272221Z",
     "iopub.status.idle": "2022-04-28T08:13:41.747567Z",
     "shell.execute_reply": "2022-04-28T08:13:41.746702Z"
    },
    "papermill": {
     "duration": 0.518609,
     "end_time": "2022-04-28T08:13:41.749734",
     "exception": false,
     "start_time": "2022-04-28T08:13:41.231125",
     "status": "completed"
    },
    "tags": []
   },
   "outputs": [
    {
     "data": {
      "text/html": [
       "<div>\n",
       "<style scoped>\n",
       "    .dataframe tbody tr th:only-of-type {\n",
       "        vertical-align: middle;\n",
       "    }\n",
       "\n",
       "    .dataframe tbody tr th {\n",
       "        vertical-align: top;\n",
       "    }\n",
       "\n",
       "    .dataframe thead th {\n",
       "        text-align: right;\n",
       "    }\n",
       "</style>\n",
       "<table border=\"1\" class=\"dataframe\">\n",
       "  <thead>\n",
       "    <tr style=\"text-align: right;\">\n",
       "      <th></th>\n",
       "      <th>dClose</th>\n",
       "      <th>dClose_1</th>\n",
       "      <th>dClose_2</th>\n",
       "      <th>dClose_3</th>\n",
       "      <th>dClose_4</th>\n",
       "      <th>dClose_5</th>\n",
       "      <th>dClose_6</th>\n",
       "      <th>dClose_7</th>\n",
       "      <th>dClose_8</th>\n",
       "      <th>dClose_9</th>\n",
       "      <th>...</th>\n",
       "      <th>dom</th>\n",
       "      <th>dom_sin</th>\n",
       "      <th>dom_cos</th>\n",
       "      <th>month</th>\n",
       "      <th>month_sin</th>\n",
       "      <th>month_cos</th>\n",
       "      <th>week</th>\n",
       "      <th>week_sin</th>\n",
       "      <th>week_cos</th>\n",
       "      <th>Target</th>\n",
       "    </tr>\n",
       "  </thead>\n",
       "  <tbody>\n",
       "    <tr>\n",
       "      <th>train</th>\n",
       "      <td>0.020051</td>\n",
       "      <td>0.020044</td>\n",
       "      <td>0.020037</td>\n",
       "      <td>0.020037</td>\n",
       "      <td>0.020038</td>\n",
       "      <td>0.020039</td>\n",
       "      <td>0.020040</td>\n",
       "      <td>0.020050</td>\n",
       "      <td>0.020050</td>\n",
       "      <td>0.020048</td>\n",
       "      <td>...</td>\n",
       "      <td>8.700430</td>\n",
       "      <td>0.713833</td>\n",
       "      <td>0.699773</td>\n",
       "      <td>3.487993</td>\n",
       "      <td>0.713373</td>\n",
       "      <td>0.700767</td>\n",
       "      <td>15.173460</td>\n",
       "      <td>0.285382</td>\n",
       "      <td>0.280001</td>\n",
       "      <td>0.161211</td>\n",
       "    </tr>\n",
       "    <tr>\n",
       "      <th>test</th>\n",
       "      <td>0.031855</td>\n",
       "      <td>0.031700</td>\n",
       "      <td>0.031647</td>\n",
       "      <td>0.031647</td>\n",
       "      <td>0.031602</td>\n",
       "      <td>0.031603</td>\n",
       "      <td>0.031601</td>\n",
       "      <td>0.031584</td>\n",
       "      <td>0.031491</td>\n",
       "      <td>0.031493</td>\n",
       "      <td>...</td>\n",
       "      <td>8.720697</td>\n",
       "      <td>0.712588</td>\n",
       "      <td>0.702006</td>\n",
       "      <td>3.441591</td>\n",
       "      <td>0.697594</td>\n",
       "      <td>0.715177</td>\n",
       "      <td>15.138124</td>\n",
       "      <td>0.281585</td>\n",
       "      <td>0.276450</td>\n",
       "      <td>0.180056</td>\n",
       "    </tr>\n",
       "  </tbody>\n",
       "</table>\n",
       "<p>2 rows × 113 columns</p>\n",
       "</div>"
      ],
      "text/plain": [
       "         dClose  dClose_1  dClose_2  dClose_3  dClose_4  dClose_5  dClose_6  \\\n",
       "train  0.020051  0.020044  0.020037  0.020037  0.020038  0.020039  0.020040   \n",
       "test   0.031855  0.031700  0.031647  0.031647  0.031602  0.031603  0.031601   \n",
       "\n",
       "       dClose_7  dClose_8  dClose_9  ...       dom   dom_sin   dom_cos  \\\n",
       "train  0.020050  0.020050  0.020048  ...  8.700430  0.713833  0.699773   \n",
       "test   0.031584  0.031491  0.031493  ...  8.720697  0.712588  0.702006   \n",
       "\n",
       "          month  month_sin  month_cos       week  week_sin  week_cos    Target  \n",
       "train  3.487993   0.713373   0.700767  15.173460  0.285382  0.280001  0.161211  \n",
       "test   3.441591   0.697594   0.715177  15.138124  0.281585  0.276450  0.180056  \n",
       "\n",
       "[2 rows x 113 columns]"
      ]
     },
     "execution_count": 8,
     "metadata": {},
     "output_type": "execute_result"
    }
   ],
   "source": [
    "# контроль стандартного отклонения\n",
    "pd.DataFrame([data_buy_train.describe().loc['std',:],data_buy_test.describe().loc['std',:]],index=['train','test'])"
   ]
  },
  {
   "cell_type": "markdown",
   "id": "9f921137",
   "metadata": {
    "papermill": {
     "duration": 0.0421,
     "end_time": "2022-04-28T08:13:41.831744",
     "exception": false,
     "start_time": "2022-04-28T08:13:41.789644",
     "status": "completed"
    },
    "tags": []
   },
   "source": [
    "# Создание модели"
   ]
  },
  {
   "cell_type": "code",
   "execution_count": 9,
   "id": "258d9f31",
   "metadata": {
    "execution": {
     "iopub.execute_input": "2022-04-28T08:13:41.913755Z",
     "iopub.status.busy": "2022-04-28T08:13:41.913177Z",
     "iopub.status.idle": "2022-04-28T08:15:23.401205Z",
     "shell.execute_reply": "2022-04-28T08:15:23.400216Z"
    },
    "papermill": {
     "duration": 101.742462,
     "end_time": "2022-04-28T08:15:23.614221",
     "exception": false,
     "start_time": "2022-04-28T08:13:41.871759",
     "status": "completed"
    },
    "tags": []
   },
   "outputs": [
    {
     "name": "stdout",
     "output_type": "stream",
     "text": [
      "Collecting lightautoml\r\n",
      "  Downloading LightAutoML-0.3.4-py3-none-any.whl (296 kB)\r\n",
      "\u001b[2K     \u001b[90m━━━━━━━━━━━━━━━━━━━━━━━━━━━━━━━━━━━━━━━\u001b[0m \u001b[32m296.2/296.2 KB\u001b[0m \u001b[31m5.8 MB/s\u001b[0m eta \u001b[36m0:00:00\u001b[0m\r\n",
      "\u001b[?25hRequirement already satisfied: torchvision in /opt/conda/lib/python3.7/site-packages (from lightautoml) (0.10.1+cpu)\r\n",
      "Collecting dataclasses==0.6\r\n",
      "  Downloading dataclasses-0.6-py3-none-any.whl (14 kB)\r\n",
      "Requirement already satisfied: catboost>=0.26.1 in /opt/conda/lib/python3.7/site-packages (from lightautoml) (1.0.5)\r\n",
      "Requirement already satisfied: networkx in /opt/conda/lib/python3.7/site-packages (from lightautoml) (2.5)\r\n",
      "Requirement already satisfied: optuna in /opt/conda/lib/python3.7/site-packages (from lightautoml) (2.10.0)\r\n",
      "Requirement already satisfied: cmaes in /opt/conda/lib/python3.7/site-packages (from lightautoml) (0.8.2)\r\n",
      "Requirement already satisfied: scikit-learn>=0.22 in /opt/conda/lib/python3.7/site-packages (from lightautoml) (1.0.2)\r\n",
      "Requirement already satisfied: joblib in /opt/conda/lib/python3.7/site-packages (from lightautoml) (1.0.1)\r\n",
      "Collecting lightgbm<3.0,>=2.3\r\n",
      "  Downloading lightgbm-2.3.1-py2.py3-none-manylinux1_x86_64.whl (1.2 MB)\r\n",
      "\u001b[2K     \u001b[90m━━━━━━━━━━━━━━━━━━━━━━━━━━━━━━━━━━━━━━━━\u001b[0m \u001b[32m1.2/1.2 MB\u001b[0m \u001b[31m28.1 MB/s\u001b[0m eta \u001b[36m0:00:00\u001b[0m\r\n",
      "\u001b[?25hCollecting scipy<=1.5.4\r\n",
      "  Downloading scipy-1.5.4-cp37-cp37m-manylinux1_x86_64.whl (25.9 MB)\r\n",
      "\u001b[2K     \u001b[90m━━━━━━━━━━━━━━━━━━━━━━━━━━━━━━━━━━━━━━━━\u001b[0m \u001b[32m25.9/25.9 MB\u001b[0m \u001b[31m38.1 MB/s\u001b[0m eta \u001b[36m0:00:00\u001b[0m\r\n",
      "\u001b[?25hRequirement already satisfied: holidays in /opt/conda/lib/python3.7/site-packages (from lightautoml) (0.13)\r\n",
      "Collecting autowoe>=1.2\r\n",
      "  Downloading AutoWoE-1.3.2-py3-none-any.whl (215 kB)\r\n",
      "\u001b[2K     \u001b[90m━━━━━━━━━━━━━━━━━━━━━━━━━━━━━━━━━━━━━━\u001b[0m \u001b[32m215.7/215.7 KB\u001b[0m \u001b[31m17.1 MB/s\u001b[0m eta \u001b[36m0:00:00\u001b[0m\r\n",
      "\u001b[?25hRequirement already satisfied: jinja2 in /opt/conda/lib/python3.7/site-packages (from lightautoml) (3.1.1)\r\n",
      "Requirement already satisfied: numpy>=1.2 in /opt/conda/lib/python3.7/site-packages (from lightautoml) (1.21.5)\r\n",
      "Collecting json2html\r\n",
      "  Downloading json2html-1.3.0.tar.gz (7.0 kB)\r\n",
      "  Preparing metadata (setup.py) ... \u001b[?25l-\b \bdone\r\n",
      "\u001b[?25hRequirement already satisfied: tqdm in /opt/conda/lib/python3.7/site-packages (from lightautoml) (4.63.0)\r\n",
      "Collecting pandas==1.1.5\r\n",
      "  Downloading pandas-1.1.5-cp37-cp37m-manylinux1_x86_64.whl (9.5 MB)\r\n",
      "\u001b[2K     \u001b[90m━━━━━━━━━━━━━━━━━━━━━━━━━━━━━━━━━━━━━━━━\u001b[0m \u001b[32m9.5/9.5 MB\u001b[0m \u001b[31m60.3 MB/s\u001b[0m eta \u001b[36m0:00:00\u001b[0m\r\n",
      "\u001b[?25hRequirement already satisfied: pyyaml in /opt/conda/lib/python3.7/site-packages (from lightautoml) (6.0)\r\n",
      "Collecting poetry-core<2.0.0,>=1.0.0\r\n",
      "  Downloading poetry_core-1.0.8-py2.py3-none-any.whl (425 kB)\r\n",
      "\u001b[2K     \u001b[90m━━━━━━━━━━━━━━━━━━━━━━━━━━━━━━━━━━━━━━\u001b[0m \u001b[32m425.0/425.0 KB\u001b[0m \u001b[31m26.2 MB/s\u001b[0m eta \u001b[36m0:00:00\u001b[0m\r\n",
      "\u001b[?25hCollecting importlib-metadata<2.0,>=1.0\r\n",
      "  Downloading importlib_metadata-1.7.0-py2.py3-none-any.whl (31 kB)\r\n",
      "Collecting torch<1.9\r\n",
      "  Downloading torch-1.8.1-cp37-cp37m-manylinux1_x86_64.whl (804.1 MB)\r\n",
      "\u001b[2K     \u001b[90m━━━━━━━━━━━━━━━━━━━━━━━━━━━━━━━━━━━━━━━\u001b[0m \u001b[32m804.1/804.1 MB\u001b[0m \u001b[31m1.2 MB/s\u001b[0m eta \u001b[36m0:00:00\u001b[0m\r\n",
      "\u001b[?25hRequirement already satisfied: seaborn in /opt/conda/lib/python3.7/site-packages (from lightautoml) (0.11.2)\r\n",
      "Requirement already satisfied: pytz>=2017.2 in /opt/conda/lib/python3.7/site-packages (from pandas==1.1.5->lightautoml) (2021.3)\r\n",
      "Requirement already satisfied: python-dateutil>=2.7.3 in /opt/conda/lib/python3.7/site-packages (from pandas==1.1.5->lightautoml) (2.8.2)\r\n",
      "Collecting sphinx\r\n",
      "  Downloading Sphinx-4.5.0-py3-none-any.whl (3.1 MB)\r\n",
      "\u001b[2K     \u001b[90m━━━━━━━━━━━━━━━━━━━━━━━━━━━━━━━━━━━━━━━━\u001b[0m \u001b[32m3.1/3.1 MB\u001b[0m \u001b[31m65.9 MB/s\u001b[0m eta \u001b[36m0:00:00\u001b[0m\r\n",
      "\u001b[?25hRequirement already satisfied: matplotlib in /opt/conda/lib/python3.7/site-packages (from autowoe>=1.2->lightautoml) (3.5.1)\r\n",
      "Collecting StrEnum<0.5.0,>=0.4.7\r\n",
      "  Downloading StrEnum-0.4.7-py3-none-any.whl (9.9 kB)\r\n",
      "Requirement already satisfied: pytest in /opt/conda/lib/python3.7/site-packages (from autowoe>=1.2->lightautoml) (7.1.1)\r\n",
      "Requirement already satisfied: sphinx-rtd-theme in /opt/conda/lib/python3.7/site-packages (from autowoe>=1.2->lightautoml) (0.2.4)\r\n",
      "Requirement already satisfied: graphviz in /opt/conda/lib/python3.7/site-packages (from catboost>=0.26.1->lightautoml) (0.8.4)\r\n",
      "Requirement already satisfied: six in /opt/conda/lib/python3.7/site-packages (from catboost>=0.26.1->lightautoml) (1.16.0)\r\n",
      "Requirement already satisfied: plotly in /opt/conda/lib/python3.7/site-packages (from catboost>=0.26.1->lightautoml) (5.7.0)\r\n",
      "Requirement already satisfied: zipp>=0.5 in /opt/conda/lib/python3.7/site-packages (from importlib-metadata<2.0,>=1.0->lightautoml) (3.7.0)\r\n",
      "Requirement already satisfied: threadpoolctl>=2.0.0 in /opt/conda/lib/python3.7/site-packages (from scikit-learn>=0.22->lightautoml) (3.1.0)\r\n",
      "Requirement already satisfied: typing-extensions in /opt/conda/lib/python3.7/site-packages (from torch<1.9->lightautoml) (4.1.1)\r\n",
      "Requirement already satisfied: korean-lunar-calendar in /opt/conda/lib/python3.7/site-packages (from holidays->lightautoml) (0.2.1)\r\n",
      "Requirement already satisfied: convertdate>=2.3.0 in /opt/conda/lib/python3.7/site-packages (from holidays->lightautoml) (2.4.0)\r\n",
      "Requirement already satisfied: hijri-converter in /opt/conda/lib/python3.7/site-packages (from holidays->lightautoml) (2.2.3)\r\n",
      "Requirement already satisfied: MarkupSafe>=2.0 in /opt/conda/lib/python3.7/site-packages (from jinja2->lightautoml) (2.0.1)\r\n",
      "Requirement already satisfied: decorator>=4.3.0 in /opt/conda/lib/python3.7/site-packages (from networkx->lightautoml) (5.1.1)\r\n",
      "Requirement already satisfied: colorlog in /opt/conda/lib/python3.7/site-packages (from optuna->lightautoml) (6.6.0)\r\n",
      "Requirement already satisfied: alembic in /opt/conda/lib/python3.7/site-packages (from optuna->lightautoml) (1.7.7)\r\n",
      "Requirement already satisfied: sqlalchemy>=1.1.0 in /opt/conda/lib/python3.7/site-packages (from optuna->lightautoml) (1.4.32)\r\n",
      "Requirement already satisfied: cliff in /opt/conda/lib/python3.7/site-packages (from optuna->lightautoml) (3.10.1)\r\n",
      "Requirement already satisfied: packaging>=20.0 in /opt/conda/lib/python3.7/site-packages (from optuna->lightautoml) (21.3)\r\n",
      "Requirement already satisfied: pillow>=5.3.0 in /opt/conda/lib/python3.7/site-packages (from torchvision->lightautoml) (9.0.1)\r\n",
      "Collecting torchvision\r\n",
      "  Downloading torchvision-0.12.0-cp37-cp37m-manylinux1_x86_64.whl (21.0 MB)\r\n",
      "\u001b[2K     \u001b[90m━━━━━━━━━━━━━━━━━━━━━━━━━━━━━━━━━━━━━━━━\u001b[0m \u001b[32m21.0/21.0 MB\u001b[0m \u001b[31m51.8 MB/s\u001b[0m eta \u001b[36m0:00:00\u001b[0m\r\n",
      "\u001b[?25h  Downloading torchvision-0.11.3-cp37-cp37m-manylinux1_x86_64.whl (23.2 MB)\r\n",
      "\u001b[2K     \u001b[90m━━━━━━━━━━━━━━━━━━━━━━━━━━━━━━━━━━━━━━━━\u001b[0m \u001b[32m23.2/23.2 MB\u001b[0m \u001b[31m51.2 MB/s\u001b[0m eta \u001b[36m0:00:00\u001b[0m\r\n",
      "\u001b[?25h  Downloading torchvision-0.11.2-cp37-cp37m-manylinux1_x86_64.whl (23.3 MB)\r\n",
      "\u001b[2K     \u001b[90m━━━━━━━━━━━━━━━━━━━━━━━━━━━━━━━━━━━━━━━━\u001b[0m \u001b[32m23.3/23.3 MB\u001b[0m \u001b[31m54.2 MB/s\u001b[0m eta \u001b[36m0:00:00\u001b[0m\r\n",
      "\u001b[?25h  Downloading torchvision-0.11.1-cp37-cp37m-manylinux1_x86_64.whl (23.3 MB)\r\n",
      "\u001b[2K     \u001b[90m━━━━━━━━━━━━━━━━━━━━━━━━━━━━━━━━━━━━━━━━\u001b[0m \u001b[32m23.3/23.3 MB\u001b[0m \u001b[31m31.4 MB/s\u001b[0m eta \u001b[36m0:00:00\u001b[0m\r\n",
      "\u001b[?25h  Downloading torchvision-0.10.1-cp37-cp37m-manylinux1_x86_64.whl (22.1 MB)\r\n",
      "\u001b[2K     \u001b[90m━━━━━━━━━━━━━━━━━━━━━━━━━━━━━━━━━━━━━━━━\u001b[0m \u001b[32m22.1/22.1 MB\u001b[0m \u001b[31m6.6 MB/s\u001b[0m eta \u001b[36m0:00:00\u001b[0m\r\n",
      "\u001b[?25h  Downloading torchvision-0.10.0-cp37-cp37m-manylinux1_x86_64.whl (22.1 MB)\r\n",
      "\u001b[2K     \u001b[90m━━━━━━━━━━━━━━━━━━━━━━━━━━━━━━━━━━━━━━━━\u001b[0m \u001b[32m22.1/22.1 MB\u001b[0m \u001b[31m55.3 MB/s\u001b[0m eta \u001b[36m0:00:00\u001b[0m\r\n",
      "\u001b[?25h  Downloading torchvision-0.9.1-cp37-cp37m-manylinux1_x86_64.whl (17.4 MB)\r\n",
      "\u001b[2K     \u001b[90m━━━━━━━━━━━━━━━━━━━━━━━━━━━━━━━━━━━━━━━━\u001b[0m \u001b[32m17.4/17.4 MB\u001b[0m \u001b[31m61.7 MB/s\u001b[0m eta \u001b[36m0:00:00\u001b[0m\r\n",
      "\u001b[?25hRequirement already satisfied: pymeeus<=1,>=0.3.13 in /opt/conda/lib/python3.7/site-packages (from convertdate>=2.3.0->holidays->lightautoml) (0.5.11)\r\n",
      "Requirement already satisfied: cycler>=0.10 in /opt/conda/lib/python3.7/site-packages (from matplotlib->autowoe>=1.2->lightautoml) (0.11.0)\r\n",
      "Requirement already satisfied: kiwisolver>=1.0.1 in /opt/conda/lib/python3.7/site-packages (from matplotlib->autowoe>=1.2->lightautoml) (1.4.0)\r\n",
      "Requirement already satisfied: fonttools>=4.22.0 in /opt/conda/lib/python3.7/site-packages (from matplotlib->autowoe>=1.2->lightautoml) (4.30.0)\r\n",
      "Requirement already satisfied: pyparsing>=2.2.1 in /opt/conda/lib/python3.7/site-packages (from matplotlib->autowoe>=1.2->lightautoml) (3.0.7)\r\n",
      "Requirement already satisfied: greenlet!=0.4.17 in /opt/conda/lib/python3.7/site-packages (from sqlalchemy>=1.1.0->optuna->lightautoml) (1.1.2)\r\n",
      "Requirement already satisfied: Mako in /opt/conda/lib/python3.7/site-packages (from alembic->optuna->lightautoml) (1.2.0)\r\n",
      "Requirement already satisfied: importlib-resources in /opt/conda/lib/python3.7/site-packages (from alembic->optuna->lightautoml) (5.4.0)\r\n",
      "Requirement already satisfied: PrettyTable>=0.7.2 in /opt/conda/lib/python3.7/site-packages (from cliff->optuna->lightautoml) (3.2.0)\r\n",
      "Requirement already satisfied: pbr!=2.1.0,>=2.0.0 in /opt/conda/lib/python3.7/site-packages (from cliff->optuna->lightautoml) (5.8.1)\r\n",
      "Requirement already satisfied: autopage>=0.4.0 in /opt/conda/lib/python3.7/site-packages (from cliff->optuna->lightautoml) (0.5.0)\r\n",
      "Requirement already satisfied: cmd2>=1.0.0 in /opt/conda/lib/python3.7/site-packages (from cliff->optuna->lightautoml) (2.4.0)\r\n",
      "Requirement already satisfied: stevedore>=2.0.1 in /opt/conda/lib/python3.7/site-packages (from cliff->optuna->lightautoml) (3.5.0)\r\n",
      "Requirement already satisfied: tenacity>=6.2.0 in /opt/conda/lib/python3.7/site-packages (from plotly->catboost>=0.26.1->lightautoml) (8.0.1)\r\n",
      "Requirement already satisfied: tomli>=1.0.0 in /opt/conda/lib/python3.7/site-packages (from pytest->autowoe>=1.2->lightautoml) (2.0.1)\r\n",
      "Requirement already satisfied: py>=1.8.2 in /opt/conda/lib/python3.7/site-packages (from pytest->autowoe>=1.2->lightautoml) (1.11.0)\r\n",
      "Requirement already satisfied: iniconfig in /opt/conda/lib/python3.7/site-packages (from pytest->autowoe>=1.2->lightautoml) (1.1.1)\r\n",
      "Requirement already satisfied: attrs>=19.2.0 in /opt/conda/lib/python3.7/site-packages (from pytest->autowoe>=1.2->lightautoml) (21.4.0)\r\n",
      "Requirement already satisfied: pluggy<2.0,>=0.12 in /opt/conda/lib/python3.7/site-packages (from pytest->autowoe>=1.2->lightautoml) (1.0.0)\r\n",
      "Collecting sphinxcontrib-serializinghtml>=1.1.5\r\n",
      "  Downloading sphinxcontrib_serializinghtml-1.1.5-py2.py3-none-any.whl (94 kB)\r\n",
      "\u001b[2K     \u001b[90m━━━━━━━━━━━━━━━━━━━━━━━━━━━━━━━━━━━━━━━━\u001b[0m \u001b[32m94.0/94.0 KB\u001b[0m \u001b[31m8.4 MB/s\u001b[0m eta \u001b[36m0:00:00\u001b[0m\r\n",
      "\u001b[?25hCollecting alabaster<0.8,>=0.7\r\n",
      "  Downloading alabaster-0.7.12-py2.py3-none-any.whl (14 kB)\r\n",
      "Collecting sphinxcontrib-qthelp\r\n",
      "  Downloading sphinxcontrib_qthelp-1.0.3-py2.py3-none-any.whl (90 kB)\r\n",
      "\u001b[2K     \u001b[90m━━━━━━━━━━━━━━━━━━━━━━━━━━━━━━━━━━━━━━━━\u001b[0m \u001b[32m90.6/90.6 KB\u001b[0m \u001b[31m7.9 MB/s\u001b[0m eta \u001b[36m0:00:00\u001b[0m\r\n",
      "\u001b[?25hRequirement already satisfied: Pygments>=2.0 in /opt/conda/lib/python3.7/site-packages (from sphinx->autowoe>=1.2->lightautoml) (2.11.2)\r\n",
      "Collecting sphinxcontrib-htmlhelp>=2.0.0\r\n",
      "  Downloading sphinxcontrib_htmlhelp-2.0.0-py2.py3-none-any.whl (100 kB)\r\n",
      "\u001b[2K     \u001b[90m━━━━━━━━━━━━━━━━━━━━━━━━━━━━━━━━━━━━━━━\u001b[0m \u001b[32m100.5/100.5 KB\u001b[0m \u001b[31m8.1 MB/s\u001b[0m eta \u001b[36m0:00:00\u001b[0m\r\n",
      "\u001b[?25hCollecting sphinx\r\n",
      "  Downloading Sphinx-4.4.0-py3-none-any.whl (3.1 MB)\r\n",
      "\u001b[2K     \u001b[90m━━━━━━━━━━━━━━━━━━━━━━━━━━━━━━━━━━━━━━━━\u001b[0m \u001b[32m3.1/3.1 MB\u001b[0m \u001b[31m64.1 MB/s\u001b[0m eta \u001b[36m0:00:00\u001b[0m\r\n",
      "\u001b[?25h  Downloading Sphinx-4.3.2-py3-none-any.whl (3.1 MB)\r\n",
      "\u001b[2K     \u001b[90m━━━━━━━━━━━━━━━━━━━━━━━━━━━━━━━━━━━━━━━━\u001b[0m \u001b[32m3.1/3.1 MB\u001b[0m \u001b[31m67.2 MB/s\u001b[0m eta \u001b[36m0:00:00\u001b[0m\r\n",
      "\u001b[?25hCollecting docutils<0.18,>=0.14\r\n",
      "  Downloading docutils-0.17.1-py2.py3-none-any.whl (575 kB)\r\n",
      "\u001b[2K     \u001b[90m━━━━━━━━━━━━━━━━━━━━━━━━━━━━━━━━━━━━━━\u001b[0m \u001b[32m575.5/575.5 KB\u001b[0m \u001b[31m28.7 MB/s\u001b[0m eta \u001b[36m0:00:00\u001b[0m\r\n",
      "\u001b[?25hCollecting sphinxcontrib-jsmath\r\n",
      "  Downloading sphinxcontrib_jsmath-1.0.1-py2.py3-none-any.whl (5.1 kB)\r\n",
      "Requirement already satisfied: requests>=2.5.0 in /opt/conda/lib/python3.7/site-packages (from sphinx->autowoe>=1.2->lightautoml) (2.27.1)\r\n",
      "Requirement already satisfied: setuptools in /opt/conda/lib/python3.7/site-packages (from sphinx->autowoe>=1.2->lightautoml) (59.8.0)\r\n",
      "Collecting sphinxcontrib-devhelp\r\n",
      "  Downloading sphinxcontrib_devhelp-1.0.2-py2.py3-none-any.whl (84 kB)\r\n",
      "\u001b[2K     \u001b[90m━━━━━━━━━━━━━━━━━━━━━━━━━━━━━━━━━━━━━━━━\u001b[0m \u001b[32m84.7/84.7 KB\u001b[0m \u001b[31m7.5 MB/s\u001b[0m eta \u001b[36m0:00:00\u001b[0m\r\n",
      "\u001b[?25hRequirement already satisfied: babel>=1.3 in /opt/conda/lib/python3.7/site-packages (from sphinx->autowoe>=1.2->lightautoml) (2.9.1)\r\n",
      "Requirement already satisfied: snowballstemmer>=1.1 in /opt/conda/lib/python3.7/site-packages (from sphinx->autowoe>=1.2->lightautoml) (2.2.0)\r\n",
      "Collecting sphinxcontrib-applehelp\r\n",
      "  Downloading sphinxcontrib_applehelp-1.0.2-py2.py3-none-any.whl (121 kB)\r\n",
      "\u001b[2K     \u001b[90m━━━━━━━━━━━━━━━━━━━━━━━━━━━━━━━━━━━━━━\u001b[0m \u001b[32m121.2/121.2 KB\u001b[0m \u001b[31m10.5 MB/s\u001b[0m eta \u001b[36m0:00:00\u001b[0m\r\n",
      "\u001b[?25hCollecting imagesize\r\n",
      "  Downloading imagesize-1.3.0-py2.py3-none-any.whl (5.2 kB)\r\n",
      "Requirement already satisfied: pyperclip>=1.6 in /opt/conda/lib/python3.7/site-packages (from cmd2>=1.0.0->cliff->optuna->lightautoml) (1.8.2)\r\n",
      "Requirement already satisfied: wcwidth>=0.1.7 in /opt/conda/lib/python3.7/site-packages (from cmd2>=1.0.0->cliff->optuna->lightautoml) (0.2.5)\r\n",
      "Requirement already satisfied: certifi>=2017.4.17 in /opt/conda/lib/python3.7/site-packages (from requests>=2.5.0->sphinx->autowoe>=1.2->lightautoml) (2021.10.8)\r\n",
      "Requirement already satisfied: idna<4,>=2.5 in /opt/conda/lib/python3.7/site-packages (from requests>=2.5.0->sphinx->autowoe>=1.2->lightautoml) (3.3)\r\n",
      "Requirement already satisfied: urllib3<1.27,>=1.21.1 in /opt/conda/lib/python3.7/site-packages (from requests>=2.5.0->sphinx->autowoe>=1.2->lightautoml) (1.26.8)\r\n",
      "Requirement already satisfied: charset-normalizer~=2.0.0 in /opt/conda/lib/python3.7/site-packages (from requests>=2.5.0->sphinx->autowoe>=1.2->lightautoml) (2.0.12)\r\n",
      "Building wheels for collected packages: json2html\r\n",
      "  Building wheel for json2html (setup.py) ... \u001b[?25l-\b \b\\\b \bdone\r\n",
      "\u001b[?25h  Created wheel for json2html: filename=json2html-1.3.0-py3-none-any.whl size=7609 sha256=f62ccecb792ebb1908930bac9776d4de375c3cc2a47a42f5b18bbfc3b18540a4\r\n",
      "  Stored in directory: /root/.cache/pip/wheels/e5/99/37/e1839a5ad733e0d6abb7e0419fd913e8926ddf96408239ce01\r\n",
      "Successfully built json2html\r\n",
      "Installing collected packages: StrEnum, json2html, dataclasses, alabaster, torch, sphinxcontrib-serializinghtml, sphinxcontrib-qthelp, sphinxcontrib-jsmath, sphinxcontrib-htmlhelp, sphinxcontrib-devhelp, sphinxcontrib-applehelp, scipy, importlib-metadata, imagesize, docutils, torchvision, sphinx, poetry-core, pandas, lightgbm, autowoe, lightautoml\r\n",
      "  Attempting uninstall: dataclasses\r\n",
      "    Found existing installation: dataclasses 0.8\r\n",
      "    Uninstalling dataclasses-0.8:\r\n",
      "      Successfully uninstalled dataclasses-0.8\r\n",
      "  Attempting uninstall: torch\r\n",
      "    Found existing installation: torch 1.9.1+cpu\r\n",
      "    Uninstalling torch-1.9.1+cpu:\r\n",
      "      Successfully uninstalled torch-1.9.1+cpu\r\n",
      "  Attempting uninstall: scipy\r\n",
      "    Found existing installation: scipy 1.7.3\r\n",
      "    Uninstalling scipy-1.7.3:\r\n",
      "      Successfully uninstalled scipy-1.7.3\r\n",
      "  Attempting uninstall: importlib-metadata\r\n",
      "    Found existing installation: importlib-metadata 4.11.3\r\n",
      "    Uninstalling importlib-metadata-4.11.3:\r\n",
      "      Successfully uninstalled importlib-metadata-4.11.3\r\n",
      "  Attempting uninstall: docutils\r\n",
      "    Found existing installation: docutils 0.18.1\r\n",
      "    Uninstalling docutils-0.18.1:\r\n",
      "      Successfully uninstalled docutils-0.18.1\r\n",
      "  Attempting uninstall: torchvision\r\n",
      "    Found existing installation: torchvision 0.10.1+cpu\r\n",
      "    Uninstalling torchvision-0.10.1+cpu:\r\n",
      "      Successfully uninstalled torchvision-0.10.1+cpu\r\n",
      "  Attempting uninstall: pandas\r\n",
      "    Found existing installation: pandas 1.3.5\r\n",
      "    Uninstalling pandas-1.3.5:\r\n",
      "      Successfully uninstalled pandas-1.3.5\r\n",
      "  Attempting uninstall: lightgbm\r\n",
      "    Found existing installation: lightgbm 3.3.1\r\n",
      "    Uninstalling lightgbm-3.3.1:\r\n",
      "      Successfully uninstalled lightgbm-3.3.1\r\n",
      "\u001b[31mERROR: pip's dependency resolver does not currently take into account all the packages that are installed. This behaviour is the source of the following dependency conflicts.\r\n",
      "beatrix-jupyterlab 3.1.7 requires google-cloud-bigquery-storage, which is not installed.\r\n",
      "woodwork 0.15.0 requires pandas>=1.3.0, but you have pandas 1.1.5 which is incompatible.\r\n",
      "torchtext 0.10.1 requires torch==1.9.1, but you have torch 1.8.1 which is incompatible.\r\n",
      "torchaudio 0.9.1 requires torch==1.9.1, but you have torch 1.8.1 which is incompatible.\r\n",
      "tfx-bsl 1.7.0 requires pyarrow<6,>=1, but you have pyarrow 7.0.0 which is incompatible.\r\n",
      "tfx-bsl 1.7.0 requires tensorflow!=2.0.*,!=2.1.*,!=2.2.*,!=2.3.*,!=2.4.*,!=2.5.*,!=2.6.*,!=2.7.*,<3,>=1.15.5, but you have tensorflow 2.6.3 which is incompatible.\r\n",
      "tensorflow-transform 1.7.0 requires pyarrow<6,>=1, but you have pyarrow 7.0.0 which is incompatible.\r\n",
      "tensorflow-transform 1.7.0 requires tensorflow!=2.0.*,!=2.1.*,!=2.2.*,!=2.3.*,!=2.4.*,!=2.5.*,!=2.6.*,!=2.7.*,<2.9,>=1.15.5, but you have tensorflow 2.6.3 which is incompatible.\r\n",
      "pymc3 3.11.5 requires scipy<1.8.0,>=1.7.3, but you have scipy 1.5.4 which is incompatible.\r\n",
      "pdpbox 0.2.1 requires matplotlib==3.1.1, but you have matplotlib 3.5.1 which is incompatible.\r\n",
      "markdown 3.3.6 requires importlib-metadata>=4.4; python_version < \"3.10\", but you have importlib-metadata 1.7.0 which is incompatible.\r\n",
      "keyring 23.5.0 requires importlib-metadata>=3.6, but you have importlib-metadata 1.7.0 which is incompatible.\r\n",
      "ibis-framework 2.1.1 requires importlib-metadata<5,>=4; python_version < \"3.8\", but you have importlib-metadata 1.7.0 which is incompatible.\r\n",
      "ibis-framework 2.1.1 requires pandas<2,>=1.2.5, but you have pandas 1.1.5 which is incompatible.\r\n",
      "gym 0.23.1 requires importlib-metadata>=4.10.0; python_version < \"3.10\", but you have importlib-metadata 1.7.0 which is incompatible.\r\n",
      "flask 2.1.1 requires importlib-metadata>=3.6.0; python_version < \"3.10\", but you have importlib-metadata 1.7.0 which is incompatible.\r\n",
      "featuretools 1.8.0 requires pandas>=1.3.0, but you have pandas 1.1.5 which is incompatible.\u001b[0m\u001b[31m\r\n",
      "\u001b[0mSuccessfully installed StrEnum-0.4.7 alabaster-0.7.12 autowoe-1.3.2 dataclasses-0.6 docutils-0.17.1 imagesize-1.3.0 importlib-metadata-1.7.0 json2html-1.3.0 lightautoml-0.3.4 lightgbm-2.3.1 pandas-1.1.5 poetry-core-1.0.8 scipy-1.5.4 sphinx-4.3.2 sphinxcontrib-applehelp-1.0.2 sphinxcontrib-devhelp-1.0.2 sphinxcontrib-htmlhelp-2.0.0 sphinxcontrib-jsmath-1.0.1 sphinxcontrib-qthelp-1.0.3 sphinxcontrib-serializinghtml-1.1.5 torch-1.8.1 torchvision-0.9.1\r\n",
      "\u001b[33mWARNING: Running pip as the 'root' user can result in broken permissions and conflicting behaviour with the system package manager. It is recommended to use a virtual environment instead: https://pip.pypa.io/warnings/venv\u001b[0m\u001b[33m\r\n",
      "\u001b[0mNote: you may need to restart the kernel to use updated packages.\n"
     ]
    }
   ],
   "source": [
    "pip install -U lightautoml"
   ]
  },
  {
   "cell_type": "code",
   "execution_count": 10,
   "id": "dfc27bbb",
   "metadata": {
    "execution": {
     "iopub.execute_input": "2022-04-28T08:15:24.020136Z",
     "iopub.status.busy": "2022-04-28T08:15:24.019854Z",
     "iopub.status.idle": "2022-04-28T08:15:26.455244Z",
     "shell.execute_reply": "2022-04-28T08:15:26.454231Z"
    },
    "papermill": {
     "duration": 2.642172,
     "end_time": "2022-04-28T08:15:26.457913",
     "exception": false,
     "start_time": "2022-04-28T08:15:23.815741",
     "status": "completed"
    },
    "tags": []
   },
   "outputs": [
    {
     "data": {
      "text/html": [
       "<style type='text/css'>\n",
       ".datatable table.frame { margin-bottom: 0; }\n",
       ".datatable table.frame thead { border-bottom: none; }\n",
       ".datatable table.frame tr.coltypes td {  color: #FFFFFF;  line-height: 6px;  padding: 0 0.5em;}\n",
       ".datatable .bool    { background: #DDDD99; }\n",
       ".datatable .object  { background: #565656; }\n",
       ".datatable .int     { background: #5D9E5D; }\n",
       ".datatable .float   { background: #4040CC; }\n",
       ".datatable .str     { background: #CC4040; }\n",
       ".datatable .time    { background: #40CC40; }\n",
       ".datatable .row_index {  background: var(--jp-border-color3);  border-right: 1px solid var(--jp-border-color0);  color: var(--jp-ui-font-color3);  font-size: 9px;}\n",
       ".datatable .frame tbody td { text-align: left; }\n",
       ".datatable .frame tr.coltypes .row_index {  background: var(--jp-border-color0);}\n",
       ".datatable th:nth-child(2) { padding-left: 12px; }\n",
       ".datatable .hellipsis {  color: var(--jp-cell-editor-border-color);}\n",
       ".datatable .vellipsis {  background: var(--jp-layout-color0);  color: var(--jp-cell-editor-border-color);}\n",
       ".datatable .na {  color: var(--jp-cell-editor-border-color);  font-size: 80%;}\n",
       ".datatable .sp {  opacity: 0.25;}\n",
       ".datatable .footer { font-size: 9px; }\n",
       ".datatable .frame_dimensions {  background: var(--jp-border-color3);  border-top: 1px solid var(--jp-border-color0);  color: var(--jp-ui-font-color3);  display: inline-block;  opacity: 0.6;  padding: 1px 10px 1px 5px;}\n",
       "</style>\n"
      ],
      "text/plain": [
       "<IPython.core.display.HTML object>"
      ]
     },
     "metadata": {},
     "output_type": "display_data"
    }
   ],
   "source": [
    "from lightautoml.automl.presets.tabular_presets import TabularAutoML\n",
    "from lightautoml.tasks import Task"
   ]
  },
  {
   "cell_type": "code",
   "execution_count": 11,
   "id": "6b1af41d",
   "metadata": {
    "execution": {
     "iopub.execute_input": "2022-04-28T08:15:26.866627Z",
     "iopub.status.busy": "2022-04-28T08:15:26.865698Z",
     "iopub.status.idle": "2022-04-28T08:15:26.871631Z",
     "shell.execute_reply": "2022-04-28T08:15:26.870960Z"
    },
    "papermill": {
     "duration": 0.210389,
     "end_time": "2022-04-28T08:15:26.873495",
     "exception": false,
     "start_time": "2022-04-28T08:15:26.663106",
     "status": "completed"
    },
    "tags": []
   },
   "outputs": [],
   "source": [
    "from sklearn.metrics import accuracy_score, f1_score, roc_auc_score, roc_curve\n",
    "\n",
    "def acc_score(y_true, y_pred, **kwargs):\n",
    "    return accuracy_score(y_true, (y_pred > 0.5).astype(int), **kwargs)\n",
    "\n",
    "def f1_metric(y_true, y_pred, **kwargs):\n",
    "    return f1_score(y_true, (y_pred > 0.5).astype(int), **kwargs)"
   ]
  },
  {
   "cell_type": "code",
   "execution_count": 12,
   "id": "df0b6ec5",
   "metadata": {
    "execution": {
     "iopub.execute_input": "2022-04-28T08:15:27.280359Z",
     "iopub.status.busy": "2022-04-28T08:15:27.279808Z",
     "iopub.status.idle": "2022-04-28T08:15:27.307946Z",
     "shell.execute_reply": "2022-04-28T08:15:27.307119Z"
    },
    "papermill": {
     "duration": 0.234234,
     "end_time": "2022-04-28T08:15:27.310196",
     "exception": false,
     "start_time": "2022-04-28T08:15:27.075962",
     "status": "completed"
    },
    "tags": []
   },
   "outputs": [],
   "source": [
    "task = Task('binary')\n",
    "roles = { 'target': 'Target'}\n",
    "automl = TabularAutoML(task,\n",
    "                      reader_params={'cv' : 7})"
   ]
  },
  {
   "cell_type": "markdown",
   "id": "63322d4e",
   "metadata": {
    "papermill": {
     "duration": 0.206309,
     "end_time": "2022-04-28T08:15:27.720229",
     "exception": false,
     "start_time": "2022-04-28T08:15:27.513920",
     "status": "completed"
    },
    "tags": []
   },
   "source": [
    "# Обучение модели"
   ]
  },
  {
   "cell_type": "code",
   "execution_count": 13,
   "id": "bb98ffbe",
   "metadata": {
    "execution": {
     "iopub.execute_input": "2022-04-28T08:15:28.129758Z",
     "iopub.status.busy": "2022-04-28T08:15:28.129221Z",
     "iopub.status.idle": "2022-04-28T08:17:52.337553Z",
     "shell.execute_reply": "2022-04-28T08:17:52.336653Z"
    },
    "papermill": {
     "duration": 144.413776,
     "end_time": "2022-04-28T08:17:52.339727",
     "exception": false,
     "start_time": "2022-04-28T08:15:27.925951",
     "status": "completed"
    },
    "tags": []
   },
   "outputs": [
    {
     "name": "stdout",
     "output_type": "stream",
     "text": [
      "[08:15:28] Stdout logging level is INFO.\n",
      "[08:15:28] Copying TaskTimer may affect the parent PipelineTimer, so copy will create new unlimited TaskTimer\n",
      "[08:15:28] Task: binary\n",
      "\n",
      "[08:15:28] Start automl preset with listed constraints:\n",
      "[08:15:28] - time: 3600.00 seconds\n",
      "[08:15:28] - CPU: 4 cores\n",
      "[08:15:28] - memory: 16 GB\n",
      "\n",
      "[08:15:28] \u001b[1mTrain data shape: (1911, 113)\u001b[0m\n",
      "\n",
      "[08:15:31] Layer \u001b[1m1\u001b[0m train process start. Time left 3596.61 secs\n",
      "[08:15:32] Start fitting \u001b[1mLvl_0_Pipe_0_Mod_0_LinearL2\u001b[0m ...\n",
      "[08:15:34] Fitting \u001b[1mLvl_0_Pipe_0_Mod_0_LinearL2\u001b[0m finished. score = \u001b[1m0.5301813198397638\u001b[0m\n",
      "[08:15:34] \u001b[1mLvl_0_Pipe_0_Mod_0_LinearL2\u001b[0m fitting and predicting completed\n",
      "[08:15:34] Time left 3593.33 secs\n",
      "\n",
      "[08:15:35] \u001b[1mSelector_LightGBM\u001b[0m fitting and predicting completed\n",
      "[08:15:36] Start fitting \u001b[1mLvl_0_Pipe_1_Mod_0_LightGBM\u001b[0m ...\n",
      "[08:15:43] Fitting \u001b[1mLvl_0_Pipe_1_Mod_0_LightGBM\u001b[0m finished. score = \u001b[1m0.5911026776301919\u001b[0m\n",
      "[08:15:43] \u001b[1mLvl_0_Pipe_1_Mod_0_LightGBM\u001b[0m fitting and predicting completed\n",
      "[08:15:43] Start hyperparameters optimization for \u001b[1mLvl_0_Pipe_1_Mod_1_Tuned_LightGBM\u001b[0m ... Time budget is 300.00 secs\n",
      "[08:16:57] Hyperparameters optimization for \u001b[1mLvl_0_Pipe_1_Mod_1_Tuned_LightGBM\u001b[0m completed\n",
      "[08:16:57] Start fitting \u001b[1mLvl_0_Pipe_1_Mod_1_Tuned_LightGBM\u001b[0m ...\n",
      "[08:17:00] Fitting \u001b[1mLvl_0_Pipe_1_Mod_1_Tuned_LightGBM\u001b[0m finished. score = \u001b[1m0.6265549230444866\u001b[0m\n",
      "[08:17:00] \u001b[1mLvl_0_Pipe_1_Mod_1_Tuned_LightGBM\u001b[0m fitting and predicting completed\n",
      "[08:17:00] Start fitting \u001b[1mLvl_0_Pipe_1_Mod_2_CatBoost\u001b[0m ...\n",
      "[08:17:04] Fitting \u001b[1mLvl_0_Pipe_1_Mod_2_CatBoost\u001b[0m finished. score = \u001b[1m0.5657495256166983\u001b[0m\n",
      "[08:17:04] \u001b[1mLvl_0_Pipe_1_Mod_2_CatBoost\u001b[0m fitting and predicting completed\n",
      "[08:17:04] Start hyperparameters optimization for \u001b[1mLvl_0_Pipe_1_Mod_3_Tuned_CatBoost\u001b[0m ... Time budget is 300.00 secs\n",
      "[08:17:50] Hyperparameters optimization for \u001b[1mLvl_0_Pipe_1_Mod_3_Tuned_CatBoost\u001b[0m completed\n",
      "[08:17:50] Start fitting \u001b[1mLvl_0_Pipe_1_Mod_3_Tuned_CatBoost\u001b[0m ...\n",
      "[08:17:52] Fitting \u001b[1mLvl_0_Pipe_1_Mod_3_Tuned_CatBoost\u001b[0m finished. score = \u001b[1m0.5350358422939068\u001b[0m\n",
      "[08:17:52] \u001b[1mLvl_0_Pipe_1_Mod_3_Tuned_CatBoost\u001b[0m fitting and predicting completed\n",
      "[08:17:52] Time left 3456.00 secs\n",
      "\n",
      "[08:17:52] \u001b[1mLayer 1 training completed.\u001b[0m\n",
      "\n",
      "[08:17:52] Blending: optimization starts with equal weights and score \u001b[1m0.5739721695129664\u001b[0m\n",
      "[08:17:52] Blending: iteration \u001b[1m0\u001b[0m: score = \u001b[1m0.5777461522243306\u001b[0m, weights = \u001b[1m[0.         0.20436841 0.7956316  0.         0.        ]\u001b[0m\n",
      "[08:17:52] Blending: iteration \u001b[1m1\u001b[0m: score = \u001b[1m0.5777461522243306\u001b[0m, weights = \u001b[1m[0.         0.20436841 0.7956316  0.         0.        ]\u001b[0m\n",
      "[08:17:52] Blending: no score update. Terminated\n",
      "\n",
      "[08:17:52] \u001b[1mAutoml preset training completed in 144.15 seconds\u001b[0m\n",
      "\n",
      "[08:17:52] Model description:\n",
      "Final prediction for new objects (level 0) = \n",
      "\t 0.20437 * (7 averaged models Lvl_0_Pipe_1_Mod_0_LightGBM) +\n",
      "\t 0.79563 * (7 averaged models Lvl_0_Pipe_1_Mod_1_Tuned_LightGBM) \n",
      "\n"
     ]
    }
   ],
   "source": [
    "oof_pred = automl.fit_predict(data_buy_train,roles=roles,verbose=1)"
   ]
  },
  {
   "cell_type": "code",
   "execution_count": 14,
   "id": "8c4fd28b",
   "metadata": {
    "execution": {
     "iopub.execute_input": "2022-04-28T08:17:52.776689Z",
     "iopub.status.busy": "2022-04-28T08:17:52.776386Z",
     "iopub.status.idle": "2022-04-28T08:17:52.783061Z",
     "shell.execute_reply": "2022-04-28T08:17:52.782077Z"
    },
    "papermill": {
     "duration": 0.228745,
     "end_time": "2022-04-28T08:17:52.785285",
     "exception": false,
     "start_time": "2022-04-28T08:17:52.556540",
     "status": "completed"
    },
    "tags": []
   },
   "outputs": [
    {
     "data": {
      "text/plain": [
       "0.10797447"
      ]
     },
     "execution_count": 14,
     "metadata": {},
     "output_type": "execute_result"
    }
   ],
   "source": [
    "oof_pred.data.max()"
   ]
  },
  {
   "cell_type": "code",
   "execution_count": 15,
   "id": "22221c32",
   "metadata": {
    "execution": {
     "iopub.execute_input": "2022-04-28T08:17:53.218763Z",
     "iopub.status.busy": "2022-04-28T08:17:53.218479Z",
     "iopub.status.idle": "2022-04-28T08:17:53.222654Z",
     "shell.execute_reply": "2022-04-28T08:17:53.221527Z"
    },
    "papermill": {
     "duration": 0.223429,
     "end_time": "2022-04-28T08:17:53.224663",
     "exception": false,
     "start_time": "2022-04-28T08:17:53.001234",
     "status": "completed"
    },
    "tags": []
   },
   "outputs": [],
   "source": [
    "import seaborn as sns"
   ]
  },
  {
   "cell_type": "code",
   "execution_count": 16,
   "id": "c870ee1f",
   "metadata": {
    "execution": {
     "iopub.execute_input": "2022-04-28T08:17:53.660158Z",
     "iopub.status.busy": "2022-04-28T08:17:53.659439Z",
     "iopub.status.idle": "2022-04-28T08:17:53.915989Z",
     "shell.execute_reply": "2022-04-28T08:17:53.915086Z"
    },
    "papermill": {
     "duration": 0.476623,
     "end_time": "2022-04-28T08:17:53.918224",
     "exception": false,
     "start_time": "2022-04-28T08:17:53.441601",
     "status": "completed"
    },
    "tags": []
   },
   "outputs": [
    {
     "data": {
      "text/plain": [
       "<AxesSubplot:>"
      ]
     },
     "execution_count": 16,
     "metadata": {},
     "output_type": "execute_result"
    },
    {
     "data": {
      "image/png": "[encoded data removed]",
      "text/plain": [
       "<Figure size 432x288 with 1 Axes>"
      ]
     },
     "metadata": {
      "needs_background": "light"
     },
     "output_type": "display_data"
    }
   ],
   "source": [
    "sns.scatterplot(x=data_buy_train['Target'].values,y=oof_pred.data[:,0])"
   ]
  },
  {
   "cell_type": "code",
   "execution_count": 17,
   "id": "cc9cea90",
   "metadata": {
    "execution": {
     "iopub.execute_input": "2022-04-28T08:17:54.358027Z",
     "iopub.status.busy": "2022-04-28T08:17:54.357546Z",
     "iopub.status.idle": "2022-04-28T08:17:54.363515Z",
     "shell.execute_reply": "2022-04-28T08:17:54.362668Z"
    },
    "papermill": {
     "duration": 0.22674,
     "end_time": "2022-04-28T08:17:54.365488",
     "exception": false,
     "start_time": "2022-04-28T08:17:54.138748",
     "status": "completed"
    },
    "tags": []
   },
   "outputs": [
    {
     "data": {
      "text/plain": [
       "0.5295656724228153"
      ]
     },
     "execution_count": 17,
     "metadata": {},
     "output_type": "execute_result"
    }
   ],
   "source": [
    "(oof_pred.data > 0.02).mean()"
   ]
  },
  {
   "cell_type": "code",
   "execution_count": 18,
   "id": "8384eafa",
   "metadata": {
    "execution": {
     "iopub.execute_input": "2022-04-28T08:17:54.809039Z",
     "iopub.status.busy": "2022-04-28T08:17:54.808448Z",
     "iopub.status.idle": "2022-04-28T08:17:54.813256Z",
     "shell.execute_reply": "2022-04-28T08:17:54.812248Z"
    },
    "papermill": {
     "duration": 0.230325,
     "end_time": "2022-04-28T08:17:54.815963",
     "exception": false,
     "start_time": "2022-04-28T08:17:54.585638",
     "status": "completed"
    },
    "tags": []
   },
   "outputs": [],
   "source": [
    "import matplotlib.pyplot as plt"
   ]
  },
  {
   "cell_type": "code",
   "execution_count": 19,
   "id": "7173dd09",
   "metadata": {
    "execution": {
     "iopub.execute_input": "2022-04-28T08:17:55.254829Z",
     "iopub.status.busy": "2022-04-28T08:17:55.254512Z",
     "iopub.status.idle": "2022-04-28T08:17:55.263863Z",
     "shell.execute_reply": "2022-04-28T08:17:55.263021Z"
    },
    "papermill": {
     "duration": 0.231137,
     "end_time": "2022-04-28T08:17:55.266135",
     "exception": false,
     "start_time": "2022-04-28T08:17:55.034998",
     "status": "completed"
    },
    "tags": []
   },
   "outputs": [
    {
     "data": {
      "text/plain": [
       "0.6236769976807928"
      ]
     },
     "execution_count": 19,
     "metadata": {},
     "output_type": "execute_result"
    }
   ],
   "source": [
    "roc_auc_score(data_buy_train['Target'].values,oof_pred.data[:,0])"
   ]
  },
  {
   "cell_type": "code",
   "execution_count": 20,
   "id": "3da7f384",
   "metadata": {
    "execution": {
     "iopub.execute_input": "2022-04-28T08:17:55.707702Z",
     "iopub.status.busy": "2022-04-28T08:17:55.707410Z",
     "iopub.status.idle": "2022-04-28T08:17:55.912193Z",
     "shell.execute_reply": "2022-04-28T08:17:55.911126Z"
    },
    "papermill": {
     "duration": 0.427313,
     "end_time": "2022-04-28T08:17:55.914893",
     "exception": false,
     "start_time": "2022-04-28T08:17:55.487580",
     "status": "completed"
    },
    "tags": []
   },
   "outputs": [
    {
     "data": {
      "text/plain": [
       "[<matplotlib.lines.Line2D at 0x7f9bb8e33dd0>]"
      ]
     },
     "execution_count": 20,
     "metadata": {},
     "output_type": "execute_result"
    },
    {
     "data": {
      "image/png": "[encoded data removed]",
      "text/plain": [
       "<Figure size 432x288 with 1 Axes>"
      ]
     },
     "metadata": {
      "needs_background": "light"
     },
     "output_type": "display_data"
    }
   ],
   "source": [
    "fpr,tpr,thresholds = roc_curve(data_buy_train['Target'].values,oof_pred.data[:,0])\n",
    "plt.plot(fpr,tpr)\n",
    "plt.plot([0,1],[0,1],':')"
   ]
  },
  {
   "cell_type": "code",
   "execution_count": 21,
   "id": "0f4166e5",
   "metadata": {
    "execution": {
     "iopub.execute_input": "2022-04-28T08:17:56.366790Z",
     "iopub.status.busy": "2022-04-28T08:17:56.365966Z",
     "iopub.status.idle": "2022-04-28T08:17:56.371926Z",
     "shell.execute_reply": "2022-04-28T08:17:56.371047Z"
    },
    "papermill": {
     "duration": 0.231677,
     "end_time": "2022-04-28T08:17:56.374277",
     "exception": false,
     "start_time": "2022-04-28T08:17:56.142600",
     "status": "completed"
    },
    "tags": []
   },
   "outputs": [],
   "source": [
    "import optuna"
   ]
  },
  {
   "cell_type": "code",
   "execution_count": 22,
   "id": "e4e6f2e1",
   "metadata": {
    "execution": {
     "iopub.execute_input": "2022-04-28T08:17:56.821981Z",
     "iopub.status.busy": "2022-04-28T08:17:56.821294Z",
     "iopub.status.idle": "2022-04-28T08:17:57.398005Z",
     "shell.execute_reply": "2022-04-28T08:17:57.397078Z"
    },
    "papermill": {
     "duration": 0.802898,
     "end_time": "2022-04-28T08:17:57.400530",
     "exception": false,
     "start_time": "2022-04-28T08:17:56.597632",
     "status": "completed"
    },
    "tags": []
   },
   "outputs": [],
   "source": [
    "def f1_metric_trh(y_true, y_pred, threshold = 0.5, **kwargs):\n",
    "    return f1_score(y_true, (y_pred > threshold).astype(int), **kwargs)\n",
    "\n",
    "def objective(trial):\n",
    "    threshold = trial.suggest_float(\"threshold\", 0.01, 0.99)\n",
    "    return f1_metric_trh(data_buy_train['Target'].values,oof_pred.data[:,0], threshold)\n",
    "\n",
    "study = optuna.create_study(direction='maximize')\n",
    "study.optimize(objective, n_trials=100)\n"
   ]
  },
  {
   "cell_type": "code",
   "execution_count": 23,
   "id": "93bdf570",
   "metadata": {
    "execution": {
     "iopub.execute_input": "2022-04-28T08:17:57.846934Z",
     "iopub.status.busy": "2022-04-28T08:17:57.846611Z",
     "iopub.status.idle": "2022-04-28T08:17:57.856646Z",
     "shell.execute_reply": "2022-04-28T08:17:57.855857Z"
    },
    "papermill": {
     "duration": 0.237681,
     "end_time": "2022-04-28T08:17:57.858799",
     "exception": false,
     "start_time": "2022-04-28T08:17:57.621118",
     "status": "completed"
    },
    "tags": []
   },
   "outputs": [
    {
     "data": {
      "text/plain": [
       "({'threshold': 0.03727378612786981}, 0.11764705882352941)"
      ]
     },
     "execution_count": 23,
     "metadata": {},
     "output_type": "execute_result"
    }
   ],
   "source": [
    "study.best_params,f1_metric_trh(data_buy_train['Target'].values,oof_pred.data[:,0], study.best_params['threshold'])"
   ]
  },
  {
   "cell_type": "markdown",
   "id": "c1937f61",
   "metadata": {
    "papermill": {
     "duration": 0.220754,
     "end_time": "2022-04-28T08:17:58.301173",
     "exception": false,
     "start_time": "2022-04-28T08:17:58.080419",
     "status": "completed"
    },
    "tags": []
   },
   "source": [
    "# Тестирование модели"
   ]
  },
  {
   "cell_type": "code",
   "execution_count": null,
   "id": "ec2d697a",
   "metadata": {
    "papermill": {
     "duration": 0.23072,
     "end_time": "2022-04-28T08:17:58.758737",
     "exception": false,
     "start_time": "2022-04-28T08:17:58.528017",
     "status": "completed"
    },
    "tags": []
   },
   "outputs": [],
   "source": []
  }
 ],
 "metadata": {
  "kernelspec": {
   "display_name": "Python 3",
   "language": "python",
   "name": "python3"
  },
  "language_info": {
   "codemirror_mode": {
    "name": "ipython",
    "version": 3
   },
   "file_extension": ".py",
   "mimetype": "text/x-python",
   "name": "python",
   "nbconvert_exporter": "python",
   "pygments_lexer": "ipython3",
   "version": "3.7.12"
  },
  "papermill": {
   "default_parameters": {},
   "duration": 300.681867,
   "end_time": "2022-04-28T08:18:01.607822",
   "environment_variables": {},
   "exception": null,
   "input_path": "__notebook__.ipynb",
   "output_path": "__notebook__.ipynb",
   "parameters": {},
   "start_time": "2022-04-28T08:13:00.925955",
   "version": "2.3.4"
  }
 },
 "nbformat": 4,
 "nbformat_minor": 5
}

{
  "nbformat": 4,
  "nbformat_minor": 0,
  "metadata": {
    "colab": {
      "name": "Свертки и прогноз знака.ipynb",
      "provenance": [],
      "collapsed_sections": [],
      "toc_visible": true,
      "authorship_tag": "ABX9TyNf6yjNYr84CjHFl4Xe/mfg",
      "include_colab_link": true
    },
    "kernelspec": {
      "display_name": "Python 3",
      "name": "python3"
    },
    "language_info": {
      "name": "python"
    },
    "accelerator": "GPU"
  },
  "cells": [
    {
      "cell_type": "markdown",
      "metadata": {
        "id": "view-in-github",
        "colab_type": "text"
      },
      "source": [
        "<a href=\"https://colab.research.google.com/github/prog815/traide/blob/main/%D0%A1%D0%B2%D0%B5%D1%80%D1%82%D0%BA%D0%B8_%D0%B8_%D0%BF%D1%80%D0%BE%D0%B3%D0%BD%D0%BE%D0%B7_%D0%B7%D0%BD%D0%B0%D0%BA%D0%B0.ipynb\" target=\"_parent\"><img src=\"https://colab.research.google.com/assets/colab-badge.svg\" alt=\"Open In Colab\"/></a>"
      ]
    },
    {
      "cell_type": "markdown",
      "metadata": {
        "id": "SLjvs-NZdLR-"
      },
      "source": [
        "# Подключаем библиотеки"
      ]
    },
    {
      "cell_type": "code",
      "metadata": {
        "colab": {
          "base_uri": "https://localhost:8080/"
        },
        "id": "2FG9a7bpcj_t",
        "outputId": "e3e98041-46d0-494f-f531-7fdd7b2f4421"
      },
      "source": [
        "! pip install yfinance"
      ],
      "execution_count": 1,
      "outputs": [
        {
          "output_type": "stream",
          "text": [
            "Collecting yfinance\n",
            "  Downloading yfinance-0.1.63.tar.gz (26 kB)\n",
            "Requirement already satisfied: pandas>=0.24 in /usr/local/lib/python3.7/dist-packages (from yfinance) (1.1.5)\n",
            "Requirement already satisfied: numpy>=1.15 in /usr/local/lib/python3.7/dist-packages (from yfinance) (1.19.5)\n",
            "Requirement already satisfied: requests>=2.20 in /usr/local/lib/python3.7/dist-packages (from yfinance) (2.23.0)\n",
            "Requirement already satisfied: multitasking>=0.0.7 in /usr/local/lib/python3.7/dist-packages (from yfinance) (0.0.9)\n",
            "Collecting lxml>=4.5.1\n",
            "  Downloading lxml-4.6.3-cp37-cp37m-manylinux2014_x86_64.whl (6.3 MB)\n",
            "\u001b[K     |████████████████████████████████| 6.3 MB 11.9 MB/s \n",
            "\u001b[?25hRequirement already satisfied: python-dateutil>=2.7.3 in /usr/local/lib/python3.7/dist-packages (from pandas>=0.24->yfinance) (2.8.2)\n",
            "Requirement already satisfied: pytz>=2017.2 in /usr/local/lib/python3.7/dist-packages (from pandas>=0.24->yfinance) (2018.9)\n",
            "Requirement already satisfied: six>=1.5 in /usr/local/lib/python3.7/dist-packages (from python-dateutil>=2.7.3->pandas>=0.24->yfinance) (1.15.0)\n",
            "Requirement already satisfied: idna<3,>=2.5 in /usr/local/lib/python3.7/dist-packages (from requests>=2.20->yfinance) (2.10)\n",
            "Requirement already satisfied: urllib3!=1.25.0,!=1.25.1,<1.26,>=1.21.1 in /usr/local/lib/python3.7/dist-packages (from requests>=2.20->yfinance) (1.24.3)\n",
            "Requirement already satisfied: certifi>=2017.4.17 in /usr/local/lib/python3.7/dist-packages (from requests>=2.20->yfinance) (2021.5.30)\n",
            "Requirement already satisfied: chardet<4,>=3.0.2 in /usr/local/lib/python3.7/dist-packages (from requests>=2.20->yfinance) (3.0.4)\n",
            "Building wheels for collected packages: yfinance\n",
            "  Building wheel for yfinance (setup.py) ... \u001b[?25l\u001b[?25hdone\n",
            "  Created wheel for yfinance: filename=yfinance-0.1.63-py2.py3-none-any.whl size=23918 sha256=fe8740332803ebf37ee85535886d60a3566776f93e14e66af7302c92856a45f2\n",
            "  Stored in directory: /root/.cache/pip/wheels/fe/87/8b/7ec24486e001d3926537f5f7801f57a74d181be25b11157983\n",
            "Successfully built yfinance\n",
            "Installing collected packages: lxml, yfinance\n",
            "  Attempting uninstall: lxml\n",
            "    Found existing installation: lxml 4.2.6\n",
            "    Uninstalling lxml-4.2.6:\n",
            "      Successfully uninstalled lxml-4.2.6\n",
            "Successfully installed lxml-4.6.3 yfinance-0.1.63\n"
          ],
          "name": "stdout"
        }
      ]
    },
    {
      "cell_type": "code",
      "metadata": {
        "id": "gEYvpuixdKYr"
      },
      "source": [
        "import yfinance as yf\n",
        "import pandas as pd\n",
        "import matplotlib.pyplot as plt\n",
        "import seaborn as sns\n",
        "import numpy as np\n",
        "import datetime as dt\n",
        "import tensorflow as tf\n",
        "from tensorflow import keras\n",
        "from sklearn.model_selection import train_test_split\n",
        "from sklearn.metrics import classification_report"
      ],
      "execution_count": 41,
      "outputs": []
    },
    {
      "cell_type": "markdown",
      "metadata": {
        "id": "du_n-vm_drab"
      },
      "source": [
        "# Загрузка котировок"
      ]
    },
    {
      "cell_type": "markdown",
      "metadata": {
        "id": "Pd5N-cGE0w2K"
      },
      "source": [
        "## список тикеров"
      ]
    },
    {
      "cell_type": "code",
      "metadata": {
        "colab": {
          "base_uri": "https://localhost:8080/"
        },
        "id": "nNPXfaG50XLA",
        "outputId": "1964b869-eafd-40b3-c820-823d638c12a8"
      },
      "source": [
        "acc_list = \"TGKA\tFEES\tVTBR\tTGKB\tHYDR\tTGKD\tTGKN\tRSTI\tENRU\tSNGS\tMRKV\tGAZP\tMRKZ\tMRKP\tSNGSP\tMAGN\tTGKDP\tMSNG\tMRKC\tMRKU\tNMTP\tNLMK\tMTLR\tAFLT\tMSRS\tROSN\tTTLK\tFESH\tTRMK\tRSTIP\tRTKM\tSIBN\tAMEZ\tISKJ\tDVEC\tRASP\tRTKMP\tUTAR\tLSNG\tBSPB\tMRKS\tMVID\tNKNCP\tLSNGP\tPIKK\tKMAZ\tIRKT\tSVAV\tCHEP\tMRKK\tKUBE\tROSB\tKROT\".split('\\t')\n",
        "acc_list = [f'{name}.ME' for name in acc_list]\n",
        "np.array(acc_list)"
      ],
      "execution_count": 3,
      "outputs": [
        {
          "output_type": "execute_result",
          "data": {
            "text/plain": [
              "array(['TGKA.ME', 'FEES.ME', 'VTBR.ME', 'TGKB.ME', 'HYDR.ME', 'TGKD.ME',\n",
              "       'TGKN.ME', 'RSTI.ME', 'ENRU.ME', 'SNGS.ME', 'MRKV.ME', 'GAZP.ME',\n",
              "       'MRKZ.ME', 'MRKP.ME', 'SNGSP.ME', 'MAGN.ME', 'TGKDP.ME', 'MSNG.ME',\n",
              "       'MRKC.ME', 'MRKU.ME', 'NMTP.ME', 'NLMK.ME', 'MTLR.ME', 'AFLT.ME',\n",
              "       'MSRS.ME', 'ROSN.ME', 'TTLK.ME', 'FESH.ME', 'TRMK.ME', 'RSTIP.ME',\n",
              "       'RTKM.ME', 'SIBN.ME', 'AMEZ.ME', 'ISKJ.ME', 'DVEC.ME', 'RASP.ME',\n",
              "       'RTKMP.ME', 'UTAR.ME', 'LSNG.ME', 'BSPB.ME', 'MRKS.ME', 'MVID.ME',\n",
              "       'NKNCP.ME', 'LSNGP.ME', 'PIKK.ME', 'KMAZ.ME', 'IRKT.ME', 'SVAV.ME',\n",
              "       'CHEP.ME', 'MRKK.ME', 'KUBE.ME', 'ROSB.ME', 'KROT.ME'], dtype='<U8')"
            ]
          },
          "metadata": {},
          "execution_count": 3
        }
      ]
    },
    {
      "cell_type": "markdown",
      "metadata": {
        "id": "VcKjDtll0zy8"
      },
      "source": [
        "## Загрузка из сети"
      ]
    },
    {
      "cell_type": "code",
      "metadata": {
        "colab": {
          "base_uri": "https://localhost:8080/"
        },
        "id": "KVABHHii3KZf",
        "outputId": "bbbffc8c-6c09-4b86-e236-2f4bde1a71c8"
      },
      "source": [
        "all_data = yf.download(acc_list,period='10y',threads=False)\n"
      ],
      "execution_count": 4,
      "outputs": [
        {
          "output_type": "stream",
          "text": [
            "[*********************100%***********************]  53 of 53 completed\n"
          ],
          "name": "stdout"
        }
      ]
    },
    {
      "cell_type": "code",
      "metadata": {
        "colab": {
          "base_uri": "https://localhost:8080/"
        },
        "id": "5vCEL8Ty4SPN",
        "outputId": "ca93bd3e-ff1a-4531-eff1-31e567967c46"
      },
      "source": [
        "all_data.info()"
      ],
      "execution_count": 5,
      "outputs": [
        {
          "output_type": "stream",
          "text": [
            "<class 'pandas.core.frame.DataFrame'>\n",
            "DatetimeIndex: 2507 entries, 2011-08-19 to 2021-08-19\n",
            "Columns: 318 entries, ('Adj Close', 'AFLT.ME') to ('Volume', 'VTBR.ME')\n",
            "dtypes: float64(318)\n",
            "memory usage: 6.1 MB\n"
          ],
          "name": "stdout"
        }
      ]
    },
    {
      "cell_type": "markdown",
      "metadata": {
        "id": "bwcb54MY-XW-"
      },
      "source": [
        "## Заполнить пустоты предыдущим"
      ]
    },
    {
      "cell_type": "code",
      "metadata": {
        "id": "5yBao9P9eOzO"
      },
      "source": [
        "all_data.fillna(method='pad',inplace=True)"
      ],
      "execution_count": 6,
      "outputs": []
    },
    {
      "cell_type": "markdown",
      "metadata": {
        "id": "bx8r7PB4oKCn"
      },
      "source": [
        "# Подготовка данных"
      ]
    },
    {
      "cell_type": "markdown",
      "metadata": {
        "id": "Wlu-gWjs6crR"
      },
      "source": [
        "## К общему знаменателю (без сдвига)"
      ]
    },
    {
      "cell_type": "markdown",
      "metadata": {
        "id": "KGhds4uQVpnj"
      },
      "source": [
        "### Входы (курсы + объем) (без сдвига)"
      ]
    },
    {
      "cell_type": "code",
      "metadata": {
        "colab": {
          "base_uri": "https://localhost:8080/"
        },
        "id": "8afn1tex7Fdv",
        "outputId": "f3b3d723-dd79-4eb7-cede-35a31e42e885"
      },
      "source": [
        "# inpData1 = np.hstack([(all_data[gr] / all_data['Close'].shift(1)).values for gr in ('Open','High','Low','Close')])\n",
        "# inpData1.shape\n",
        "d = [all_data[gr]/all_data['Close'].shift(1) for gr in ('Open','High','Low','Close')]\n",
        "v = all_data['Volume'].apply(np.log1p)\n",
        "v = v.diff()\n",
        "d.append(v)\n",
        "d = np.hstack([x.values for x in d])\n",
        "d.shape"
      ],
      "execution_count": 7,
      "outputs": [
        {
          "output_type": "execute_result",
          "data": {
            "text/plain": [
              "(2507, 265)"
            ]
          },
          "metadata": {},
          "execution_count": 7
        }
      ]
    },
    {
      "cell_type": "markdown",
      "metadata": {
        "id": "Jd5XE-1YVs1L"
      },
      "source": [
        "### Выход"
      ]
    },
    {
      "cell_type": "code",
      "metadata": {
        "id": "kUJISrxGUyO5",
        "colab": {
          "base_uri": "https://localhost:8080/"
        },
        "outputId": "c5fc0d4d-b07e-417b-84bc-acb9d43e0415"
      },
      "source": [
        "# outDataHigh = (all_data['High'] / all_data['Close'].shift(1)).values\n",
        "# outDataLow = (all_data['Low'] / all_data['Close'].shift(1)).values\n",
        "output = np.array((all_data['Close'].diff() > 0) * 1)\n",
        "output.shape"
      ],
      "execution_count": 13,
      "outputs": [
        {
          "output_type": "execute_result",
          "data": {
            "text/plain": [
              "(2507, 53)"
            ]
          },
          "metadata": {},
          "execution_count": 13
        }
      ]
    },
    {
      "cell_type": "markdown",
      "metadata": {
        "id": "BmLT3n9E6gmE"
      },
      "source": [
        "## Первый вход в окно (без сдвига)"
      ]
    },
    {
      "cell_type": "code",
      "metadata": {
        "colab": {
          "base_uri": "https://localhost:8080/"
        },
        "id": "iW9X8lyNmUML",
        "outputId": "856f6fb2-4939-4c0d-8818-62dc61931d63"
      },
      "source": [
        "WINDOW = 10\n",
        "# d = pd.DataFrame(inpData1)\n",
        "# inpData1 = np.hstack([d.shift(n).values for n in range(WINDOW)])\n",
        "# inpData1.shape\n",
        "inpData1 = np.ones((d.shape[0],WINDOW,d.shape[-1]))\n",
        "d = pd.DataFrame(d)\n",
        "for n in range(WINDOW):\n",
        "    inpData1[:,n,:] = d.shift(n).values\n",
        "inpData1.shape"
      ],
      "execution_count": 14,
      "outputs": [
        {
          "output_type": "execute_result",
          "data": {
            "text/plain": [
              "(2507, 10, 265)"
            ]
          },
          "metadata": {},
          "execution_count": 14
        }
      ]
    },
    {
      "cell_type": "markdown",
      "metadata": {
        "id": "mwGdPI7oiOPb"
      },
      "source": [
        "## Второй вход - даты (без сдвига)"
      ]
    },
    {
      "cell_type": "code",
      "metadata": {
        "colab": {
          "base_uri": "https://localhost:8080/"
        },
        "id": "7NksDJ_WoTd8",
        "outputId": "919ea566-d14d-4037-981d-b0d9b0d27fd4"
      },
      "source": [
        "days = all_data.index.day.values\n",
        "weekdays = all_data.index.weekday.values\n",
        "months = all_data.index.month.values\n",
        "x2sc = lambda x,per: np.transpose([np.sin(x/per),np.cos(x/per)])\n",
        "inpData2 = np.hstack([x2sc(days,31),x2sc(weekdays,7),x2sc(months,12)])\n",
        "inpData2.shape"
      ],
      "execution_count": 15,
      "outputs": [
        {
          "output_type": "execute_result",
          "data": {
            "text/plain": [
              "(2507, 6)"
            ]
          },
          "metadata": {},
          "execution_count": 15
        }
      ]
    },
    {
      "cell_type": "markdown",
      "metadata": {
        "id": "NxjLc-k6iaFZ"
      },
      "source": [
        "## Разделяем обучение и расчет (появляется сдвиг)"
      ]
    },
    {
      "cell_type": "code",
      "metadata": {
        "id": "iEPTGpMkqO00"
      },
      "source": [
        "inpData1Calc = inpData1[-1,...]\n",
        "\n",
        "inpData1Learn = inpData1\n",
        "inpData1Learn[1:,...] = inpData1Learn[:-1,...]\n",
        "\n",
        "inpData2Calc = inpData2[-1,...]\n",
        "\n",
        "inpData2Learn = inpData2\n",
        "inpData2Learn[1:,...] = inpData2Learn[:-1,...]"
      ],
      "execution_count": 16,
      "outputs": []
    },
    {
      "cell_type": "code",
      "metadata": {
        "colab": {
          "base_uri": "https://localhost:8080/"
        },
        "id": "MWFPBI2xq9ix",
        "outputId": "e9626672-8e93-424e-9a13-9e4b6d473915"
      },
      "source": [
        "inpData1Learn.shape,inpData2Learn.shape"
      ],
      "execution_count": 17,
      "outputs": [
        {
          "output_type": "execute_result",
          "data": {
            "text/plain": [
              "((2507, 10, 265), (2507, 6))"
            ]
          },
          "metadata": {},
          "execution_count": 17
        }
      ]
    },
    {
      "cell_type": "code",
      "metadata": {
        "colab": {
          "base_uri": "https://localhost:8080/"
        },
        "id": "h1XEXLXirF3Z",
        "outputId": "442dfbe5-3ae2-4054-faee-ee46661a5c38"
      },
      "source": [
        "inpData1Calc.shape,inpData2Calc.shape"
      ],
      "execution_count": 18,
      "outputs": [
        {
          "output_type": "execute_result",
          "data": {
            "text/plain": [
              "((10, 265), (6,))"
            ]
          },
          "metadata": {},
          "execution_count": 18
        }
      ]
    },
    {
      "cell_type": "code",
      "metadata": {
        "colab": {
          "base_uri": "https://localhost:8080/"
        },
        "id": "p0ATtoWNrY9l",
        "outputId": "70643765-ac81-4e0b-a0bb-d517f485361d"
      },
      "source": [
        "output.shape"
      ],
      "execution_count": 19,
      "outputs": [
        {
          "output_type": "execute_result",
          "data": {
            "text/plain": [
              "(2507, 53)"
            ]
          },
          "metadata": {},
          "execution_count": 19
        }
      ]
    },
    {
      "cell_type": "markdown",
      "metadata": {
        "id": "WnMdkJlosDwg"
      },
      "source": [
        "## Чистим пустоты на обучении"
      ]
    },
    {
      "cell_type": "code",
      "metadata": {
        "colab": {
          "base_uri": "https://localhost:8080/"
        },
        "id": "VO6a1MzIsOLi",
        "outputId": "26e64d25-41de-4dc2-85c4-edd91574f684"
      },
      "source": [
        "index = (~np.isnan(np.sum(inpData1Learn,axis=(1,2)))) & (~np.isnan(np.sum(inpData2Learn,axis=1))) & (~np.isnan(np.sum(output,axis=1)))\n",
        "np.unique(index,return_counts=True)"
      ],
      "execution_count": 20,
      "outputs": [
        {
          "output_type": "execute_result",
          "data": {
            "text/plain": [
              "(array([False,  True]), array([  11, 2496]))"
            ]
          },
          "metadata": {},
          "execution_count": 20
        }
      ]
    },
    {
      "cell_type": "code",
      "metadata": {
        "id": "aSeuEYgv_wH8"
      },
      "source": [
        "inpData1Learn = inpData1Learn[index,:]\n",
        "inpData2Learn = inpData2Learn[index,:]\n",
        "output = output[index,:]\n",
        "learnDates = all_data.index.values[index]"
      ],
      "execution_count": 21,
      "outputs": []
    },
    {
      "cell_type": "code",
      "metadata": {
        "colab": {
          "base_uri": "https://localhost:8080/"
        },
        "id": "I3a3aj9xCXWU",
        "outputId": "a1d1954f-ca56-4366-e05d-f3d8539b77ab"
      },
      "source": [
        "print('inpData1Learn size',inpData1Learn.shape)\n",
        "print('inpData2Learn size',inpData2Learn.shape)\n",
        "print('output size',output.shape)\n",
        "print('Learn dates from',learnDates[0],'to',learnDates[-1])"
      ],
      "execution_count": 22,
      "outputs": [
        {
          "output_type": "stream",
          "text": [
            "inpData1Learn size (2496, 10, 265)\n",
            "inpData2Learn size (2496, 6)\n",
            "output size (2496, 53)\n",
            "Learn dates from 2011-09-05T00:00:00.000000000 to 2021-08-19T00:00:00.000000000\n"
          ],
          "name": "stdout"
        }
      ]
    },
    {
      "cell_type": "markdown",
      "metadata": {
        "id": "_yXfZ4fO659U"
      },
      "source": [
        "## Разделение на обучение и тест"
      ]
    },
    {
      "cell_type": "code",
      "metadata": {
        "id": "H9QxniBpBUzc"
      },
      "source": [
        "X1_train, X1_test, X2_train, X2_test, y_train, y_test, d_train, d_test = train_test_split(inpData1Learn,inpData2Learn,output,learnDates,test_size=0.33,shuffle=False)"
      ],
      "execution_count": 23,
      "outputs": []
    },
    {
      "cell_type": "markdown",
      "metadata": {
        "id": "SM6Xcny16_w_"
      },
      "source": [
        "## Нормировка данных (слой нормировки первого входа)"
      ]
    },
    {
      "cell_type": "code",
      "metadata": {
        "id": "wGpqzA5Wecjc"
      },
      "source": [
        "normLayer = keras.layers.experimental.preprocessing.Normalization(axis=-1)\n",
        "normLayer.adapt(X1_train)"
      ],
      "execution_count": 24,
      "outputs": []
    },
    {
      "cell_type": "markdown",
      "metadata": {
        "id": "mcfzljWWqq51"
      },
      "source": [
        "# Модель"
      ]
    },
    {
      "cell_type": "markdown",
      "metadata": {
        "id": "1o5mf7gMqwPI"
      },
      "source": [
        "## Слои"
      ]
    },
    {
      "cell_type": "code",
      "metadata": {
        "colab": {
          "base_uri": "https://localhost:8080/"
        },
        "id": "SCXh490hpSkb",
        "outputId": "61a13e60-774f-4cd6-95f2-c42f9feb7c9e"
      },
      "source": [
        "input1 = keras.layers.Input(shape=X1_train.shape[1:])\n",
        "x1 = normLayer(input1)\n",
        "\n",
        "x1 = keras.layers.Conv1D(50,2,padding='same',activation='relu')(x1)\n",
        "\n",
        "x1 = keras.layers.Flatten()(x1)\n",
        "\n",
        "input2 = keras.layers.Input(shape=(X2_train.shape[1],))\n",
        "\n",
        "x = keras.layers.Concatenate()([x1,input2])\n",
        "\n",
        "output = keras.layers.Dense(1)(x)\n",
        "\n",
        "model = keras.Model((input1,input2),output)\n",
        "model.compile(optimizer=tf.optimizers.Adam(),\n",
        "              loss=tf.losses.BinaryCrossentropy(),\n",
        "              metrics=[keras.metrics.BinaryAccuracy()])\n",
        "model.summary()"
      ],
      "execution_count": 48,
      "outputs": [
        {
          "output_type": "stream",
          "text": [
            "Model: \"model_2\"\n",
            "__________________________________________________________________________________________________\n",
            "Layer (type)                    Output Shape         Param #     Connected to                     \n",
            "==================================================================================================\n",
            "input_5 (InputLayer)            [(None, 10, 265)]    0                                            \n",
            "__________________________________________________________________________________________________\n",
            "normalization (Normalization)   (None, 10, 265)      531         input_5[0][0]                    \n",
            "__________________________________________________________________________________________________\n",
            "conv1d_2 (Conv1D)               (None, 10, 50)       26550       normalization[2][0]              \n",
            "__________________________________________________________________________________________________\n",
            "flatten_2 (Flatten)             (None, 500)          0           conv1d_2[0][0]                   \n",
            "__________________________________________________________________________________________________\n",
            "input_6 (InputLayer)            [(None, 6)]          0                                            \n",
            "__________________________________________________________________________________________________\n",
            "concatenate_2 (Concatenate)     (None, 506)          0           flatten_2[0][0]                  \n",
            "                                                                 input_6[0][0]                    \n",
            "__________________________________________________________________________________________________\n",
            "dense_2 (Dense)                 (None, 1)            507         concatenate_2[0][0]              \n",
            "==================================================================================================\n",
            "Total params: 27,588\n",
            "Trainable params: 27,057\n",
            "Non-trainable params: 531\n",
            "__________________________________________________________________________________________________\n"
          ],
          "name": "stdout"
        }
      ]
    },
    {
      "cell_type": "code",
      "metadata": {
        "colab": {
          "base_uri": "https://localhost:8080/",
          "height": 644
        },
        "id": "r4o4DlIhdn2W",
        "outputId": "35985804-3a97-4fb0-8417-22d5676542ab"
      },
      "source": [
        "keras.utils.plot_model(model,show_shapes=True)"
      ],
      "execution_count": 49,
      "outputs": [
        {
          "output_type": "execute_result",
          "data": {
            "image/png": "[encoded data removed]",
            "text/plain": [
              "<IPython.core.display.Image object>"
            ]
          },
          "metadata": {},
          "execution_count": 49
        }
      ]
    },
    {
      "cell_type": "markdown",
      "metadata": {
        "id": "puHag6EOv4J0"
      },
      "source": [
        "## Обучение"
      ]
    },
    {
      "cell_type": "code",
      "metadata": {
        "colab": {
          "base_uri": "https://localhost:8080/"
        },
        "id": "ARHSAQiqtM1O",
        "outputId": "a5dbea50-e79d-460f-a873-3bdfc71efd5b"
      },
      "source": [
        "cb = [tf.keras.callbacks.EarlyStopping(monitor='val_binary_accuracy',mode='max',patience=100,restore_best_weights=True,verbose=True),\n",
        "      tf.keras.callbacks.ReduceLROnPlateau(monitor='val_binary_accuracy',mode='max',patience=50,verbose=True)]\n",
        "history = model.fit((X1_train,X2_train),y_train[:,0],\n",
        "                    epochs=1000,\n",
        "                    validation_split=0.3,\n",
        "                    callbacks = cb)"
      ],
      "execution_count": 50,
      "outputs": [
        {
          "output_type": "stream",
          "text": [
            "Epoch 1/1000\n",
            "37/37 [==============================] - 1s 8ms/step - loss: 5.5178 - binary_accuracy: 0.5111 - val_loss: 5.2870 - val_binary_accuracy: 0.4641\n",
            "Epoch 2/1000\n",
            "37/37 [==============================] - 0s 4ms/step - loss: 5.2143 - binary_accuracy: 0.5590 - val_loss: 5.5369 - val_binary_accuracy: 0.4801\n",
            "Epoch 3/1000\n",
            "37/37 [==============================] - 0s 5ms/step - loss: 5.1946 - binary_accuracy: 0.5846 - val_loss: 6.4031 - val_binary_accuracy: 0.4900\n",
            "Epoch 4/1000\n",
            "37/37 [==============================] - 0s 5ms/step - loss: 4.8992 - binary_accuracy: 0.5795 - val_loss: 5.6378 - val_binary_accuracy: 0.4542\n",
            "Epoch 5/1000\n",
            "37/37 [==============================] - 0s 5ms/step - loss: 5.1891 - binary_accuracy: 0.5761 - val_loss: 5.8741 - val_binary_accuracy: 0.4602\n",
            "Epoch 6/1000\n",
            "37/37 [==============================] - 0s 4ms/step - loss: 5.0611 - binary_accuracy: 0.5786 - val_loss: 5.7473 - val_binary_accuracy: 0.5060\n",
            "Epoch 7/1000\n",
            "37/37 [==============================] - 0s 5ms/step - loss: 5.3169 - binary_accuracy: 0.5641 - val_loss: 5.6599 - val_binary_accuracy: 0.5080\n",
            "Epoch 8/1000\n",
            "37/37 [==============================] - 0s 5ms/step - loss: 5.2104 - binary_accuracy: 0.5752 - val_loss: 5.8643 - val_binary_accuracy: 0.5020\n",
            "Epoch 9/1000\n",
            "37/37 [==============================] - 0s 4ms/step - loss: 5.3748 - binary_accuracy: 0.5744 - val_loss: 5.4870 - val_binary_accuracy: 0.4940\n",
            "Epoch 10/1000\n",
            "37/37 [==============================] - 0s 4ms/step - loss: 4.8693 - binary_accuracy: 0.5983 - val_loss: 5.8444 - val_binary_accuracy: 0.4781\n",
            "Epoch 11/1000\n",
            "37/37 [==============================] - 0s 4ms/step - loss: 4.9168 - binary_accuracy: 0.5949 - val_loss: 6.1779 - val_binary_accuracy: 0.4861\n",
            "Epoch 12/1000\n",
            "37/37 [==============================] - 0s 4ms/step - loss: 5.1457 - binary_accuracy: 0.6017 - val_loss: 6.1742 - val_binary_accuracy: 0.5060\n",
            "Epoch 13/1000\n",
            "37/37 [==============================] - 0s 4ms/step - loss: 5.0065 - binary_accuracy: 0.6103 - val_loss: 6.1530 - val_binary_accuracy: 0.4940\n",
            "Epoch 14/1000\n",
            "37/37 [==============================] - 0s 4ms/step - loss: 4.9910 - binary_accuracy: 0.5940 - val_loss: 5.9764 - val_binary_accuracy: 0.5020\n",
            "Epoch 15/1000\n",
            "37/37 [==============================] - 0s 5ms/step - loss: 4.8050 - binary_accuracy: 0.6094 - val_loss: 5.9017 - val_binary_accuracy: 0.4741\n",
            "Epoch 16/1000\n",
            "37/37 [==============================] - 0s 4ms/step - loss: 5.1302 - binary_accuracy: 0.5889 - val_loss: 6.0803 - val_binary_accuracy: 0.4781\n",
            "Epoch 17/1000\n",
            "37/37 [==============================] - 0s 4ms/step - loss: 4.9281 - binary_accuracy: 0.6171 - val_loss: 5.9069 - val_binary_accuracy: 0.4761\n",
            "Epoch 18/1000\n",
            "37/37 [==============================] - 0s 5ms/step - loss: 4.7115 - binary_accuracy: 0.6274 - val_loss: 5.9238 - val_binary_accuracy: 0.4821\n",
            "Epoch 19/1000\n",
            "37/37 [==============================] - 0s 4ms/step - loss: 4.7488 - binary_accuracy: 0.6214 - val_loss: 5.8796 - val_binary_accuracy: 0.4861\n",
            "Epoch 20/1000\n",
            "37/37 [==============================] - 0s 5ms/step - loss: 4.4971 - binary_accuracy: 0.6402 - val_loss: 5.8750 - val_binary_accuracy: 0.4741\n",
            "Epoch 21/1000\n",
            "37/37 [==============================] - 0s 5ms/step - loss: 4.3838 - binary_accuracy: 0.6590 - val_loss: 5.7194 - val_binary_accuracy: 0.4900\n",
            "Epoch 22/1000\n",
            "37/37 [==============================] - 0s 5ms/step - loss: 4.3521 - binary_accuracy: 0.6658 - val_loss: 5.8306 - val_binary_accuracy: 0.4980\n",
            "Epoch 23/1000\n",
            "37/37 [==============================] - 0s 4ms/step - loss: 4.5280 - binary_accuracy: 0.6231 - val_loss: 5.8164 - val_binary_accuracy: 0.4861\n",
            "Epoch 24/1000\n",
            "37/37 [==============================] - 0s 4ms/step - loss: 4.2523 - binary_accuracy: 0.6744 - val_loss: 5.7464 - val_binary_accuracy: 0.4880\n",
            "Epoch 25/1000\n",
            "37/37 [==============================] - 0s 4ms/step - loss: 4.1669 - binary_accuracy: 0.6803 - val_loss: 5.7021 - val_binary_accuracy: 0.4880\n",
            "Epoch 26/1000\n",
            "37/37 [==============================] - 0s 4ms/step - loss: 4.1112 - binary_accuracy: 0.6863 - val_loss: 5.7482 - val_binary_accuracy: 0.4861\n",
            "Epoch 27/1000\n",
            "37/37 [==============================] - 0s 5ms/step - loss: 4.2886 - binary_accuracy: 0.6803 - val_loss: 6.0466 - val_binary_accuracy: 0.4781\n",
            "Epoch 28/1000\n",
            "37/37 [==============================] - 0s 4ms/step - loss: 4.1145 - binary_accuracy: 0.6872 - val_loss: 5.9963 - val_binary_accuracy: 0.4741\n",
            "Epoch 29/1000\n",
            "37/37 [==============================] - 0s 4ms/step - loss: 4.0668 - binary_accuracy: 0.6957 - val_loss: 6.0030 - val_binary_accuracy: 0.4781\n",
            "Epoch 30/1000\n",
            "37/37 [==============================] - 0s 5ms/step - loss: 3.9795 - binary_accuracy: 0.7120 - val_loss: 5.9478 - val_binary_accuracy: 0.4781\n",
            "Epoch 31/1000\n",
            "37/37 [==============================] - 0s 4ms/step - loss: 3.9566 - binary_accuracy: 0.7120 - val_loss: 5.9172 - val_binary_accuracy: 0.4741\n",
            "Epoch 32/1000\n",
            "37/37 [==============================] - 0s 4ms/step - loss: 3.9199 - binary_accuracy: 0.7179 - val_loss: 5.9540 - val_binary_accuracy: 0.4721\n",
            "Epoch 33/1000\n",
            "37/37 [==============================] - 0s 5ms/step - loss: 3.8821 - binary_accuracy: 0.7316 - val_loss: 5.9686 - val_binary_accuracy: 0.4741\n",
            "Epoch 34/1000\n",
            "37/37 [==============================] - 0s 5ms/step - loss: 3.8693 - binary_accuracy: 0.7393 - val_loss: 5.9931 - val_binary_accuracy: 0.4721\n",
            "Epoch 35/1000\n",
            "37/37 [==============================] - 0s 5ms/step - loss: 3.8624 - binary_accuracy: 0.7444 - val_loss: 5.9835 - val_binary_accuracy: 0.4721\n",
            "Epoch 36/1000\n",
            "37/37 [==============================] - 0s 5ms/step - loss: 3.8347 - binary_accuracy: 0.7402 - val_loss: 6.1785 - val_binary_accuracy: 0.4861\n",
            "Epoch 37/1000\n",
            "37/37 [==============================] - 0s 5ms/step - loss: 3.8990 - binary_accuracy: 0.6821 - val_loss: 6.2670 - val_binary_accuracy: 0.4701\n",
            "Epoch 38/1000\n",
            "37/37 [==============================] - 0s 5ms/step - loss: 3.8431 - binary_accuracy: 0.6991 - val_loss: 6.3699 - val_binary_accuracy: 0.4801\n",
            "Epoch 39/1000\n",
            "37/37 [==============================] - 0s 4ms/step - loss: 3.6968 - binary_accuracy: 0.7179 - val_loss: 6.3660 - val_binary_accuracy: 0.4661\n",
            "Epoch 40/1000\n",
            "37/37 [==============================] - 0s 4ms/step - loss: 3.8153 - binary_accuracy: 0.6752 - val_loss: 6.1427 - val_binary_accuracy: 0.4721\n",
            "Epoch 41/1000\n",
            "37/37 [==============================] - 0s 5ms/step - loss: 3.5571 - binary_accuracy: 0.7291 - val_loss: 6.4574 - val_binary_accuracy: 0.4701\n",
            "Epoch 42/1000\n",
            "37/37 [==============================] - 0s 4ms/step - loss: 3.4793 - binary_accuracy: 0.7291 - val_loss: 6.2144 - val_binary_accuracy: 0.4761\n",
            "Epoch 43/1000\n",
            "37/37 [==============================] - 0s 5ms/step - loss: 3.3876 - binary_accuracy: 0.7368 - val_loss: 6.3610 - val_binary_accuracy: 0.4781\n",
            "Epoch 44/1000\n",
            "37/37 [==============================] - 0s 4ms/step - loss: 3.3310 - binary_accuracy: 0.7573 - val_loss: 6.3768 - val_binary_accuracy: 0.4701\n",
            "Epoch 45/1000\n",
            "37/37 [==============================] - 0s 4ms/step - loss: 3.2955 - binary_accuracy: 0.7726 - val_loss: 6.3470 - val_binary_accuracy: 0.4701\n",
            "Epoch 46/1000\n",
            "37/37 [==============================] - 0s 4ms/step - loss: 3.2857 - binary_accuracy: 0.7761 - val_loss: 6.3760 - val_binary_accuracy: 0.4721\n",
            "Epoch 47/1000\n",
            "37/37 [==============================] - 0s 5ms/step - loss: 3.2770 - binary_accuracy: 0.7855 - val_loss: 6.3523 - val_binary_accuracy: 0.4701\n",
            "Epoch 48/1000\n",
            "37/37 [==============================] - 0s 5ms/step - loss: 3.2717 - binary_accuracy: 0.7872 - val_loss: 6.3755 - val_binary_accuracy: 0.4721\n",
            "Epoch 49/1000\n",
            "37/37 [==============================] - 0s 4ms/step - loss: 3.2680 - binary_accuracy: 0.7880 - val_loss: 6.3585 - val_binary_accuracy: 0.4701\n",
            "Epoch 50/1000\n",
            "37/37 [==============================] - 0s 4ms/step - loss: 3.2647 - binary_accuracy: 0.7880 - val_loss: 6.3983 - val_binary_accuracy: 0.4701\n",
            "Epoch 51/1000\n",
            "37/37 [==============================] - 0s 5ms/step - loss: 3.2622 - binary_accuracy: 0.7880 - val_loss: 6.4192 - val_binary_accuracy: 0.4701\n",
            "Epoch 52/1000\n",
            "37/37 [==============================] - 0s 5ms/step - loss: 3.2495 - binary_accuracy: 0.7880 - val_loss: 6.4424 - val_binary_accuracy: 0.4661\n",
            "Epoch 53/1000\n",
            "37/37 [==============================] - 0s 5ms/step - loss: 3.2460 - binary_accuracy: 0.7889 - val_loss: 6.3552 - val_binary_accuracy: 0.4701\n",
            "Epoch 54/1000\n",
            "37/37 [==============================] - 0s 5ms/step - loss: 3.2435 - binary_accuracy: 0.7889 - val_loss: 6.3971 - val_binary_accuracy: 0.4661\n",
            "Epoch 55/1000\n",
            "37/37 [==============================] - 0s 5ms/step - loss: 3.2421 - binary_accuracy: 0.7889 - val_loss: 6.3732 - val_binary_accuracy: 0.4661\n",
            "Epoch 56/1000\n",
            "37/37 [==============================] - 0s 5ms/step - loss: 3.2410 - binary_accuracy: 0.7889 - val_loss: 6.3739 - val_binary_accuracy: 0.4661\n",
            "Epoch 57/1000\n",
            "37/37 [==============================] - 0s 4ms/step - loss: 3.2402 - binary_accuracy: 0.7889 - val_loss: 6.3750 - val_binary_accuracy: 0.4661\n",
            "\n",
            "Epoch 00057: ReduceLROnPlateau reducing learning rate to 0.00010000000474974513.\n",
            "Epoch 58/1000\n",
            "37/37 [==============================] - 0s 5ms/step - loss: 3.2395 - binary_accuracy: 0.7889 - val_loss: 6.3747 - val_binary_accuracy: 0.4661\n",
            "Epoch 59/1000\n",
            "37/37 [==============================] - 0s 4ms/step - loss: 3.2395 - binary_accuracy: 0.7889 - val_loss: 6.3743 - val_binary_accuracy: 0.4661\n",
            "Epoch 60/1000\n",
            "37/37 [==============================] - 0s 5ms/step - loss: 3.2394 - binary_accuracy: 0.7889 - val_loss: 6.3747 - val_binary_accuracy: 0.4661\n",
            "Epoch 61/1000\n",
            "37/37 [==============================] - 0s 4ms/step - loss: 3.2393 - binary_accuracy: 0.7889 - val_loss: 6.3745 - val_binary_accuracy: 0.4661\n",
            "Epoch 62/1000\n",
            "37/37 [==============================] - 0s 4ms/step - loss: 3.2393 - binary_accuracy: 0.7889 - val_loss: 6.3747 - val_binary_accuracy: 0.4661\n",
            "Epoch 63/1000\n",
            "37/37 [==============================] - 0s 4ms/step - loss: 3.2392 - binary_accuracy: 0.7889 - val_loss: 6.3749 - val_binary_accuracy: 0.4661\n",
            "Epoch 64/1000\n",
            "37/37 [==============================] - 0s 4ms/step - loss: 3.2392 - binary_accuracy: 0.7889 - val_loss: 6.3753 - val_binary_accuracy: 0.4661\n",
            "Epoch 65/1000\n",
            "37/37 [==============================] - 0s 4ms/step - loss: 3.2391 - binary_accuracy: 0.7889 - val_loss: 6.3756 - val_binary_accuracy: 0.4661\n",
            "Epoch 66/1000\n",
            "37/37 [==============================] - 0s 5ms/step - loss: 3.2391 - binary_accuracy: 0.7889 - val_loss: 6.3757 - val_binary_accuracy: 0.4661\n",
            "Epoch 67/1000\n",
            "37/37 [==============================] - 0s 5ms/step - loss: 3.2391 - binary_accuracy: 0.7889 - val_loss: 6.3760 - val_binary_accuracy: 0.4661\n",
            "Epoch 68/1000\n",
            "37/37 [==============================] - 0s 5ms/step - loss: 3.2390 - binary_accuracy: 0.7889 - val_loss: 6.3772 - val_binary_accuracy: 0.4661\n",
            "Epoch 69/1000\n",
            "37/37 [==============================] - 0s 5ms/step - loss: 3.2390 - binary_accuracy: 0.7889 - val_loss: 6.3793 - val_binary_accuracy: 0.4661\n",
            "Epoch 70/1000\n",
            "37/37 [==============================] - 0s 4ms/step - loss: 3.2389 - binary_accuracy: 0.7889 - val_loss: 6.3812 - val_binary_accuracy: 0.4661\n",
            "Epoch 71/1000\n",
            "37/37 [==============================] - 0s 5ms/step - loss: 3.2389 - binary_accuracy: 0.7889 - val_loss: 6.3957 - val_binary_accuracy: 0.4661\n",
            "Epoch 72/1000\n",
            "37/37 [==============================] - 0s 5ms/step - loss: 3.2388 - binary_accuracy: 0.7889 - val_loss: 6.3957 - val_binary_accuracy: 0.4661\n",
            "Epoch 73/1000\n",
            "37/37 [==============================] - 0s 5ms/step - loss: 3.2388 - binary_accuracy: 0.7889 - val_loss: 6.3957 - val_binary_accuracy: 0.4661\n",
            "Epoch 74/1000\n",
            "37/37 [==============================] - 0s 4ms/step - loss: 3.2388 - binary_accuracy: 0.7889 - val_loss: 6.3958 - val_binary_accuracy: 0.4661\n",
            "Epoch 75/1000\n",
            "37/37 [==============================] - 0s 4ms/step - loss: 3.2387 - binary_accuracy: 0.7889 - val_loss: 6.3958 - val_binary_accuracy: 0.4661\n",
            "Epoch 76/1000\n",
            "37/37 [==============================] - 0s 4ms/step - loss: 3.2387 - binary_accuracy: 0.7889 - val_loss: 6.3959 - val_binary_accuracy: 0.4661\n",
            "Epoch 77/1000\n",
            "37/37 [==============================] - 0s 4ms/step - loss: 3.2387 - binary_accuracy: 0.7889 - val_loss: 6.3959 - val_binary_accuracy: 0.4661\n",
            "Epoch 78/1000\n",
            "37/37 [==============================] - 0s 5ms/step - loss: 3.2386 - binary_accuracy: 0.7889 - val_loss: 6.3959 - val_binary_accuracy: 0.4661\n",
            "Epoch 79/1000\n",
            "37/37 [==============================] - 0s 5ms/step - loss: 3.2386 - binary_accuracy: 0.7889 - val_loss: 6.3959 - val_binary_accuracy: 0.4661\n",
            "Epoch 80/1000\n",
            "37/37 [==============================] - 0s 5ms/step - loss: 3.2385 - binary_accuracy: 0.7889 - val_loss: 6.3960 - val_binary_accuracy: 0.4661\n",
            "Epoch 81/1000\n",
            "37/37 [==============================] - 0s 4ms/step - loss: 3.2385 - binary_accuracy: 0.7889 - val_loss: 6.3961 - val_binary_accuracy: 0.4661\n",
            "Epoch 82/1000\n",
            "37/37 [==============================] - 0s 5ms/step - loss: 3.2385 - binary_accuracy: 0.7889 - val_loss: 6.3963 - val_binary_accuracy: 0.4661\n",
            "Epoch 83/1000\n",
            "37/37 [==============================] - 0s 4ms/step - loss: 3.2384 - binary_accuracy: 0.7889 - val_loss: 6.3964 - val_binary_accuracy: 0.4661\n",
            "Epoch 84/1000\n",
            "37/37 [==============================] - 0s 4ms/step - loss: 3.2384 - binary_accuracy: 0.7889 - val_loss: 6.3964 - val_binary_accuracy: 0.4661\n",
            "Epoch 85/1000\n",
            "37/37 [==============================] - 0s 5ms/step - loss: 3.2384 - binary_accuracy: 0.7889 - val_loss: 6.3965 - val_binary_accuracy: 0.4661\n",
            "Epoch 86/1000\n",
            "37/37 [==============================] - 0s 4ms/step - loss: 3.2384 - binary_accuracy: 0.7889 - val_loss: 6.3965 - val_binary_accuracy: 0.4661\n",
            "Epoch 87/1000\n",
            "37/37 [==============================] - 0s 5ms/step - loss: 3.2383 - binary_accuracy: 0.7889 - val_loss: 6.3965 - val_binary_accuracy: 0.4661\n",
            "Epoch 88/1000\n",
            "37/37 [==============================] - 0s 5ms/step - loss: 3.2383 - binary_accuracy: 0.7889 - val_loss: 6.3964 - val_binary_accuracy: 0.4661\n",
            "Epoch 89/1000\n",
            "37/37 [==============================] - 0s 5ms/step - loss: 3.2383 - binary_accuracy: 0.7889 - val_loss: 6.3965 - val_binary_accuracy: 0.4661\n",
            "Epoch 90/1000\n",
            "37/37 [==============================] - 0s 5ms/step - loss: 3.2383 - binary_accuracy: 0.7889 - val_loss: 6.3963 - val_binary_accuracy: 0.4661\n",
            "Epoch 91/1000\n",
            "37/37 [==============================] - 0s 5ms/step - loss: 3.2383 - binary_accuracy: 0.7889 - val_loss: 6.3965 - val_binary_accuracy: 0.4661\n",
            "Epoch 92/1000\n",
            "37/37 [==============================] - 0s 5ms/step - loss: 3.2382 - binary_accuracy: 0.7889 - val_loss: 6.3966 - val_binary_accuracy: 0.4661\n",
            "Epoch 93/1000\n",
            "37/37 [==============================] - 0s 5ms/step - loss: 3.2382 - binary_accuracy: 0.7889 - val_loss: 6.3966 - val_binary_accuracy: 0.4661\n",
            "Epoch 94/1000\n",
            "37/37 [==============================] - 0s 5ms/step - loss: 3.2382 - binary_accuracy: 0.7889 - val_loss: 6.3967 - val_binary_accuracy: 0.4661\n",
            "Epoch 95/1000\n",
            "37/37 [==============================] - 0s 5ms/step - loss: 3.2382 - binary_accuracy: 0.7889 - val_loss: 6.3968 - val_binary_accuracy: 0.4661\n",
            "Epoch 96/1000\n",
            "37/37 [==============================] - 0s 4ms/step - loss: 3.2382 - binary_accuracy: 0.7889 - val_loss: 6.3966 - val_binary_accuracy: 0.4661\n",
            "Epoch 97/1000\n",
            "37/37 [==============================] - 0s 4ms/step - loss: 3.2382 - binary_accuracy: 0.7889 - val_loss: 6.3967 - val_binary_accuracy: 0.4661\n",
            "Epoch 98/1000\n",
            "37/37 [==============================] - 0s 5ms/step - loss: 3.2381 - binary_accuracy: 0.7889 - val_loss: 6.3966 - val_binary_accuracy: 0.4661\n",
            "Epoch 99/1000\n",
            "37/37 [==============================] - 0s 5ms/step - loss: 3.2381 - binary_accuracy: 0.7889 - val_loss: 6.3969 - val_binary_accuracy: 0.4661\n",
            "Epoch 100/1000\n",
            "37/37 [==============================] - 0s 4ms/step - loss: 3.2381 - binary_accuracy: 0.7889 - val_loss: 6.3969 - val_binary_accuracy: 0.4661\n",
            "Epoch 101/1000\n",
            "37/37 [==============================] - 0s 5ms/step - loss: 3.2381 - binary_accuracy: 0.7889 - val_loss: 6.3968 - val_binary_accuracy: 0.4661\n",
            "Epoch 102/1000\n",
            "37/37 [==============================] - 0s 4ms/step - loss: 3.2381 - binary_accuracy: 0.7889 - val_loss: 6.3970 - val_binary_accuracy: 0.4661\n",
            "Epoch 103/1000\n",
            "37/37 [==============================] - 0s 5ms/step - loss: 3.2381 - binary_accuracy: 0.7889 - val_loss: 6.3969 - val_binary_accuracy: 0.4661\n",
            "Epoch 104/1000\n",
            "37/37 [==============================] - 0s 4ms/step - loss: 3.2381 - binary_accuracy: 0.7889 - val_loss: 6.3972 - val_binary_accuracy: 0.4661\n",
            "Epoch 105/1000\n",
            "37/37 [==============================] - 0s 4ms/step - loss: 3.2381 - binary_accuracy: 0.7889 - val_loss: 6.3971 - val_binary_accuracy: 0.4661\n",
            "Epoch 106/1000\n",
            "37/37 [==============================] - 0s 5ms/step - loss: 3.2381 - binary_accuracy: 0.7889 - val_loss: 6.3971 - val_binary_accuracy: 0.4661\n",
            "Epoch 107/1000\n",
            "37/37 [==============================] - 0s 5ms/step - loss: 3.2381 - binary_accuracy: 0.7889 - val_loss: 6.3973 - val_binary_accuracy: 0.4661\n",
            "Restoring model weights from the end of the best epoch.\n",
            "\n",
            "Epoch 00107: ReduceLROnPlateau reducing learning rate to 1.0000000474974514e-05.\n",
            "Epoch 00107: early stopping\n"
          ],
          "name": "stdout"
        }
      ]
    },
    {
      "cell_type": "markdown",
      "metadata": {
        "id": "EtPqi4LYvygN"
      },
      "source": [
        "## Отчет обучения"
      ]
    },
    {
      "cell_type": "code",
      "metadata": {
        "colab": {
          "base_uri": "https://localhost:8080/",
          "height": 358
        },
        "id": "A5vyrf_uu2XE",
        "outputId": "12493984-a90e-41ea-f6d5-e81d1dd9f4e5"
      },
      "source": [
        "plt.figure(figsize=(20,7))\n",
        "\n",
        "plt.subplot(1,2,1)\n",
        "plt.plot(history.history['loss'],label='loss')\n",
        "plt.plot(history.history['val_loss'],label='val_loss')\n",
        "plt.yscale('log')\n",
        "plt.legend()\n",
        "\n",
        "plt.subplot(1,2,2)\n",
        "plt.plot(history.history['binary_accuracy'],label='binary_accuracy')\n",
        "plt.plot(history.history['val_binary_accuracy'],label='val_binary_accuracy')\n",
        "# plt.yscale('log')\n",
        "plt.legend()\n",
        "\n",
        "\n",
        "plt.show()"
      ],
      "execution_count": 51,
      "outputs": [
        {
          "output_type": "display_data",
          "data": {
            "image/png": "[encoded data removed]",
            "text/plain": [
              "<Figure size 1440x504 with 2 Axes>"
            ]
          },
          "metadata": {
            "needs_background": "light"
          }
        }
      ]
    },
    {
      "cell_type": "markdown",
      "metadata": {
        "id": "CbH9MIjiv33D"
      },
      "source": [
        "## Отчет на тесте"
      ]
    },
    {
      "cell_type": "code",
      "metadata": {
        "colab": {
          "base_uri": "https://localhost:8080/"
        },
        "id": "Ur1o9cqLvPNw",
        "outputId": "3df82ee9-1373-4f6c-e72c-63814ffbca28"
      },
      "source": [
        "model.evaluate([X1_test,X2_test],y_test[:,0])"
      ],
      "execution_count": 52,
      "outputs": [
        {
          "output_type": "stream",
          "text": [
            "26/26 [==============================] - 0s 2ms/step - loss: 5.4792 - binary_accuracy: 0.5231\n"
          ],
          "name": "stdout"
        },
        {
          "output_type": "execute_result",
          "data": {
            "text/plain": [
              "[5.479236125946045, 0.5230582356452942]"
            ]
          },
          "metadata": {},
          "execution_count": 52
        }
      ]
    },
    {
      "cell_type": "code",
      "metadata": {
        "colab": {
          "base_uri": "https://localhost:8080/"
        },
        "id": "6ygS3wIswTVU",
        "outputId": "c744d8a1-0a20-4ba6-b3dd-eec5f110f643"
      },
      "source": [
        "test_res = model([X1_test,X2_test]).numpy()\n",
        "\n",
        "print(classification_report(y_test[:,0],np.reshape((test_res > 0) * 1,-1)))\n",
        "\n"
      ],
      "execution_count": 53,
      "outputs": [
        {
          "output_type": "stream",
          "text": [
            "              precision    recall  f1-score   support\n",
            "\n",
            "           0       0.53      0.57      0.55       445\n",
            "           1       0.45      0.41      0.43       379\n",
            "\n",
            "    accuracy                           0.50       824\n",
            "   macro avg       0.49      0.49      0.49       824\n",
            "weighted avg       0.50      0.50      0.50       824\n",
            "\n"
          ],
          "name": "stdout"
        }
      ]
    }
  ]
}
{
  "nbformat": 4,
  "nbformat_minor": 0,
  "metadata": {
    "colab": {
      "name": "Прогноз на всю длину NN(подбор гиперпараметров).ipynb",
      "provenance": [],
      "toc_visible": true,
      "authorship_tag": "ABX9TyNM3wU1aPI+W6AiPnmUhbEa",
      "include_colab_link": true
    },
    "kernelspec": {
      "display_name": "Python 3",
      "name": "python3"
    },
    "language_info": {
      "name": "python"
    },
    "accelerator": "GPU"
  },
  "cells": [
    {
      "cell_type": "markdown",
      "metadata": {
        "id": "view-in-github",
        "colab_type": "text"
      },
      "source": [
        "<a href=\"https://colab.research.google.com/github/prog815/traide/blob/main/%D0%9F%D1%80%D0%BE%D0%B3%D0%BD%D0%BE%D0%B7%20%D0%BD%D0%B0%20%D0%B2%D1%81%D1%8E%20%D0%B4%D0%BB%D0%B8%D0%BD%D1%83%20NN(%D0%B2%D1%8B%D1%85%D0%BE%D0%B4%20%D0%BD%D0%B0%20%D0%BF%D0%BB%D0%B0%D1%82%D0%BE).ipynb\" target=\"_parent\"><img src=\"https://colab.research.google.com/assets/colab-badge.svg\" alt=\"Open In Colab\"/></a>"
      ]
    },
    {
      "cell_type": "markdown",
      "metadata": {
        "id": "SLjvs-NZdLR-"
      },
      "source": [
        "# Подключаем библиотеки"
      ]
    },
    {
      "cell_type": "code",
      "metadata": {
        "colab": {
          "base_uri": "https://localhost:8080/"
        },
        "id": "2FG9a7bpcj_t",
        "outputId": "7ca29364-35b7-40ca-d527-800bf530a3f4"
      },
      "source": [
        "! pip install keras-tuner --upgrade\n",
        "! pip install yfinance\n",
        "! pip install git+https://github.com/prog815/progOrder"
      ],
      "execution_count": null,
      "outputs": [
        {
          "output_type": "stream",
          "text": [
            "Requirement already up-to-date: keras-tuner in /usr/local/lib/python3.7/dist-packages (1.0.3)\n",
            "Requirement already satisfied, skipping upgrade: packaging in /usr/local/lib/python3.7/dist-packages (from keras-tuner) (20.9)\n",
            "Requirement already satisfied, skipping upgrade: kt-legacy in /usr/local/lib/python3.7/dist-packages (from keras-tuner) (1.0.3)\n",
            "Requirement already satisfied, skipping upgrade: requests in /usr/local/lib/python3.7/dist-packages (from keras-tuner) (2.23.0)\n",
            "Requirement already satisfied, skipping upgrade: ipython in /usr/local/lib/python3.7/dist-packages (from keras-tuner) (5.5.0)\n",
            "Requirement already satisfied, skipping upgrade: tensorboard in /usr/local/lib/python3.7/dist-packages (from keras-tuner) (2.5.0)\n",
            "Requirement already satisfied, skipping upgrade: numpy in /usr/local/lib/python3.7/dist-packages (from keras-tuner) (1.19.5)\n",
            "Requirement already satisfied, skipping upgrade: scipy in /usr/local/lib/python3.7/dist-packages (from keras-tuner) (1.4.1)\n",
            "Requirement already satisfied, skipping upgrade: pyparsing>=2.0.2 in /usr/local/lib/python3.7/dist-packages (from packaging->keras-tuner) (2.4.7)\n",
            "Requirement already satisfied, skipping upgrade: certifi>=2017.4.17 in /usr/local/lib/python3.7/dist-packages (from requests->keras-tuner) (2021.5.30)\n",
            "Requirement already satisfied, skipping upgrade: chardet<4,>=3.0.2 in /usr/local/lib/python3.7/dist-packages (from requests->keras-tuner) (3.0.4)\n",
            "Requirement already satisfied, skipping upgrade: idna<3,>=2.5 in /usr/local/lib/python3.7/dist-packages (from requests->keras-tuner) (2.10)\n",
            "Requirement already satisfied, skipping upgrade: urllib3!=1.25.0,!=1.25.1,<1.26,>=1.21.1 in /usr/local/lib/python3.7/dist-packages (from requests->keras-tuner) (1.24.3)\n",
            "Requirement already satisfied, skipping upgrade: decorator in /usr/local/lib/python3.7/dist-packages (from ipython->keras-tuner) (4.4.2)\n",
            "Requirement already satisfied, skipping upgrade: pexpect; sys_platform != \"win32\" in /usr/local/lib/python3.7/dist-packages (from ipython->keras-tuner) (4.8.0)\n",
            "Requirement already satisfied, skipping upgrade: pygments in /usr/local/lib/python3.7/dist-packages (from ipython->keras-tuner) (2.6.1)\n",
            "Requirement already satisfied, skipping upgrade: traitlets>=4.2 in /usr/local/lib/python3.7/dist-packages (from ipython->keras-tuner) (5.0.5)\n",
            "Requirement already satisfied, skipping upgrade: prompt-toolkit<2.0.0,>=1.0.4 in /usr/local/lib/python3.7/dist-packages (from ipython->keras-tuner) (1.0.18)\n",
            "Requirement already satisfied, skipping upgrade: simplegeneric>0.8 in /usr/local/lib/python3.7/dist-packages (from ipython->keras-tuner) (0.8.1)\n",
            "Requirement already satisfied, skipping upgrade: pickleshare in /usr/local/lib/python3.7/dist-packages (from ipython->keras-tuner) (0.7.5)\n",
            "Requirement already satisfied, skipping upgrade: setuptools>=18.5 in /usr/local/lib/python3.7/dist-packages (from ipython->keras-tuner) (57.0.0)\n",
            "Requirement already satisfied, skipping upgrade: absl-py>=0.4 in /usr/local/lib/python3.7/dist-packages (from tensorboard->keras-tuner) (0.12.0)\n",
            "Requirement already satisfied, skipping upgrade: werkzeug>=0.11.15 in /usr/local/lib/python3.7/dist-packages (from tensorboard->keras-tuner) (1.0.1)\n",
            "Requirement already satisfied, skipping upgrade: tensorboard-plugin-wit>=1.6.0 in /usr/local/lib/python3.7/dist-packages (from tensorboard->keras-tuner) (1.8.0)\n",
            "Requirement already satisfied, skipping upgrade: tensorboard-data-server<0.7.0,>=0.6.0 in /usr/local/lib/python3.7/dist-packages (from tensorboard->keras-tuner) (0.6.1)\n",
            "Requirement already satisfied, skipping upgrade: google-auth<2,>=1.6.3 in /usr/local/lib/python3.7/dist-packages (from tensorboard->keras-tuner) (1.32.1)\n",
            "Requirement already satisfied, skipping upgrade: google-auth-oauthlib<0.5,>=0.4.1 in /usr/local/lib/python3.7/dist-packages (from tensorboard->keras-tuner) (0.4.4)\n",
            "Requirement already satisfied, skipping upgrade: markdown>=2.6.8 in /usr/local/lib/python3.7/dist-packages (from tensorboard->keras-tuner) (3.3.4)\n",
            "Requirement already satisfied, skipping upgrade: grpcio>=1.24.3 in /usr/local/lib/python3.7/dist-packages (from tensorboard->keras-tuner) (1.34.1)\n",
            "Requirement already satisfied, skipping upgrade: wheel>=0.26; python_version >= \"3\" in /usr/local/lib/python3.7/dist-packages (from tensorboard->keras-tuner) (0.36.2)\n",
            "Requirement already satisfied, skipping upgrade: protobuf>=3.6.0 in /usr/local/lib/python3.7/dist-packages (from tensorboard->keras-tuner) (3.17.3)\n",
            "Requirement already satisfied, skipping upgrade: ptyprocess>=0.5 in /usr/local/lib/python3.7/dist-packages (from pexpect; sys_platform != \"win32\"->ipython->keras-tuner) (0.7.0)\n",
            "Requirement already satisfied, skipping upgrade: ipython-genutils in /usr/local/lib/python3.7/dist-packages (from traitlets>=4.2->ipython->keras-tuner) (0.2.0)\n",
            "Requirement already satisfied, skipping upgrade: six>=1.9.0 in /usr/local/lib/python3.7/dist-packages (from prompt-toolkit<2.0.0,>=1.0.4->ipython->keras-tuner) (1.15.0)\n",
            "Requirement already satisfied, skipping upgrade: wcwidth in /usr/local/lib/python3.7/dist-packages (from prompt-toolkit<2.0.0,>=1.0.4->ipython->keras-tuner) (0.2.5)\n",
            "Requirement already satisfied, skipping upgrade: pyasn1-modules>=0.2.1 in /usr/local/lib/python3.7/dist-packages (from google-auth<2,>=1.6.3->tensorboard->keras-tuner) (0.2.8)\n",
            "Requirement already satisfied, skipping upgrade: cachetools<5.0,>=2.0.0 in /usr/local/lib/python3.7/dist-packages (from google-auth<2,>=1.6.3->tensorboard->keras-tuner) (4.2.2)\n",
            "Requirement already satisfied, skipping upgrade: rsa<5,>=3.1.4; python_version >= \"3.6\" in /usr/local/lib/python3.7/dist-packages (from google-auth<2,>=1.6.3->tensorboard->keras-tuner) (4.7.2)\n",
            "Requirement already satisfied, skipping upgrade: requests-oauthlib>=0.7.0 in /usr/local/lib/python3.7/dist-packages (from google-auth-oauthlib<0.5,>=0.4.1->tensorboard->keras-tuner) (1.3.0)\n",
            "Requirement already satisfied, skipping upgrade: importlib-metadata; python_version < \"3.8\" in /usr/local/lib/python3.7/dist-packages (from markdown>=2.6.8->tensorboard->keras-tuner) (4.6.0)\n",
            "Requirement already satisfied, skipping upgrade: pyasn1<0.5.0,>=0.4.6 in /usr/local/lib/python3.7/dist-packages (from pyasn1-modules>=0.2.1->google-auth<2,>=1.6.3->tensorboard->keras-tuner) (0.4.8)\n",
            "Requirement already satisfied, skipping upgrade: oauthlib>=3.0.0 in /usr/local/lib/python3.7/dist-packages (from requests-oauthlib>=0.7.0->google-auth-oauthlib<0.5,>=0.4.1->tensorboard->keras-tuner) (3.1.1)\n",
            "Requirement already satisfied, skipping upgrade: typing-extensions>=3.6.4; python_version < \"3.8\" in /usr/local/lib/python3.7/dist-packages (from importlib-metadata; python_version < \"3.8\"->markdown>=2.6.8->tensorboard->keras-tuner) (3.7.4.3)\n",
            "Requirement already satisfied, skipping upgrade: zipp>=0.5 in /usr/local/lib/python3.7/dist-packages (from importlib-metadata; python_version < \"3.8\"->markdown>=2.6.8->tensorboard->keras-tuner) (3.4.1)\n",
            "Requirement already satisfied: yfinance in /usr/local/lib/python3.7/dist-packages (0.1.63)\n",
            "Requirement already satisfied: pandas>=0.24 in /usr/local/lib/python3.7/dist-packages (from yfinance) (1.1.5)\n",
            "Requirement already satisfied: multitasking>=0.0.7 in /usr/local/lib/python3.7/dist-packages (from yfinance) (0.0.9)\n",
            "Requirement already satisfied: lxml>=4.5.1 in /usr/local/lib/python3.7/dist-packages (from yfinance) (4.6.3)\n",
            "Requirement already satisfied: requests>=2.20 in /usr/local/lib/python3.7/dist-packages (from yfinance) (2.23.0)\n",
            "Requirement already satisfied: numpy>=1.15 in /usr/local/lib/python3.7/dist-packages (from yfinance) (1.19.5)\n",
            "Requirement already satisfied: pytz>=2017.2 in /usr/local/lib/python3.7/dist-packages (from pandas>=0.24->yfinance) (2018.9)\n",
            "Requirement already satisfied: python-dateutil>=2.7.3 in /usr/local/lib/python3.7/dist-packages (from pandas>=0.24->yfinance) (2.8.1)\n",
            "Requirement already satisfied: urllib3!=1.25.0,!=1.25.1,<1.26,>=1.21.1 in /usr/local/lib/python3.7/dist-packages (from requests>=2.20->yfinance) (1.24.3)\n",
            "Requirement already satisfied: idna<3,>=2.5 in /usr/local/lib/python3.7/dist-packages (from requests>=2.20->yfinance) (2.10)\n",
            "Requirement already satisfied: certifi>=2017.4.17 in /usr/local/lib/python3.7/dist-packages (from requests>=2.20->yfinance) (2021.5.30)\n",
            "Requirement already satisfied: chardet<4,>=3.0.2 in /usr/local/lib/python3.7/dist-packages (from requests>=2.20->yfinance) (3.0.4)\n",
            "Requirement already satisfied: six>=1.5 in /usr/local/lib/python3.7/dist-packages (from python-dateutil>=2.7.3->pandas>=0.24->yfinance) (1.15.0)\n",
            "Collecting git+https://github.com/prog815/progOrder\n",
            "  Cloning https://github.com/prog815/progOrder to /tmp/pip-req-build-y4pw_8hx\n",
            "  Running command git clone -q https://github.com/prog815/progOrder /tmp/pip-req-build-y4pw_8hx\n",
            "Requirement already satisfied (use --upgrade to upgrade): progOrder==0.0.5 from git+https://github.com/prog815/progOrder in /usr/local/lib/python3.7/dist-packages\n",
            "Building wheels for collected packages: progOrder\n",
            "  Building wheel for progOrder (setup.py) ... \u001b[?25l\u001b[?25hdone\n",
            "  Created wheel for progOrder: filename=progOrder-0.0.5-cp37-none-any.whl size=2478 sha256=b4ff2bdea49eaf0b1c2447e0f8c87ff66fafcb515664a0ad6246194ea1a3c233\n",
            "  Stored in directory: /tmp/pip-ephem-wheel-cache-9jneenjb/wheels/55/73/64/80cff258e67e5c7a4b92084f656d1e4f2f48a7543da44468f2\n",
            "Successfully built progOrder\n"
          ],
          "name": "stdout"
        }
      ]
    },
    {
      "cell_type": "code",
      "metadata": {
        "id": "gEYvpuixdKYr"
      },
      "source": [
        "import yfinance as yf\n",
        "import pandas as pd\n",
        "import matplotlib.pyplot as plt\n",
        "import seaborn as sns\n",
        "import numpy as np\n",
        "import datetime as dt\n",
        "import sklearn.metrics as metrics\n",
        "import progOrder\n",
        "import sklearn.model_selection as sl_ms\n",
        "from sklearn.metrics import classification_report\n",
        "import tensorflow as tf\n",
        "from tensorflow import keras\n",
        "from sklearn.utils import class_weight\n",
        "import keras_tuner as kt"
      ],
      "execution_count": null,
      "outputs": []
    },
    {
      "cell_type": "markdown",
      "metadata": {
        "id": "du_n-vm_drab"
      },
      "source": [
        "# Загрузка котировок"
      ]
    },
    {
      "cell_type": "markdown",
      "metadata": {
        "id": "Pd5N-cGE0w2K"
      },
      "source": [
        "## список тикеров"
      ]
    },
    {
      "cell_type": "code",
      "metadata": {
        "colab": {
          "base_uri": "https://localhost:8080/"
        },
        "id": "nNPXfaG50XLA",
        "outputId": "d971c85f-2dae-4e1a-ff3f-24faf9cde727"
      },
      "source": [
        "acc_list = \"TGKA\tFEES\tVTBR\tTGKB\tHYDR\tTGKD\tTGKN\tRSTI\tENRU\tSNGS\tMRKV\tGAZP\tMRKZ\tMRKP\tSNGSP\tMAGN\tTGKDP\tMSNG\tMRKC\tMRKU\tNMTP\tNLMK\tMTLR\tAFLT\tMSRS\tROSN\tTTLK\tFESH\tTRMK\tRSTIP\tRTKM\tSIBN\tAMEZ\tISKJ\tDVEC\tRASP\tRTKMP\tUTAR\tLSNG\tBSPB\tMRKS\tMVID\tNKNCP\tLSNGP\tPIKK\tKMAZ\tIRKT\tSVAV\tCHEP\tMRKK\tKUBE\tROSB\tKROT\".split('\\t')\n",
        "acc_list = [f'{name}.ME' for name in acc_list]\n",
        "np.array(acc_list)"
      ],
      "execution_count": null,
      "outputs": [
        {
          "output_type": "execute_result",
          "data": {
            "text/plain": [
              "array(['TGKA.ME', 'FEES.ME', 'VTBR.ME', 'TGKB.ME', 'HYDR.ME', 'TGKD.ME',\n",
              "       'TGKN.ME', 'RSTI.ME', 'ENRU.ME', 'SNGS.ME', 'MRKV.ME', 'GAZP.ME',\n",
              "       'MRKZ.ME', 'MRKP.ME', 'SNGSP.ME', 'MAGN.ME', 'TGKDP.ME', 'MSNG.ME',\n",
              "       'MRKC.ME', 'MRKU.ME', 'NMTP.ME', 'NLMK.ME', 'MTLR.ME', 'AFLT.ME',\n",
              "       'MSRS.ME', 'ROSN.ME', 'TTLK.ME', 'FESH.ME', 'TRMK.ME', 'RSTIP.ME',\n",
              "       'RTKM.ME', 'SIBN.ME', 'AMEZ.ME', 'ISKJ.ME', 'DVEC.ME', 'RASP.ME',\n",
              "       'RTKMP.ME', 'UTAR.ME', 'LSNG.ME', 'BSPB.ME', 'MRKS.ME', 'MVID.ME',\n",
              "       'NKNCP.ME', 'LSNGP.ME', 'PIKK.ME', 'KMAZ.ME', 'IRKT.ME', 'SVAV.ME',\n",
              "       'CHEP.ME', 'MRKK.ME', 'KUBE.ME', 'ROSB.ME', 'KROT.ME'], dtype='<U8')"
            ]
          },
          "metadata": {
            "tags": []
          },
          "execution_count": 5
        }
      ]
    },
    {
      "cell_type": "markdown",
      "metadata": {
        "id": "VcKjDtll0zy8"
      },
      "source": [
        "## Загрузка из сети"
      ]
    },
    {
      "cell_type": "code",
      "metadata": {
        "colab": {
          "base_uri": "https://localhost:8080/"
        },
        "id": "KVABHHii3KZf",
        "outputId": "8eb1356c-3c06-436b-cb77-fae257a62a15"
      },
      "source": [
        "all_data = yf.download(acc_list,period='10y',threads=False)\n"
      ],
      "execution_count": null,
      "outputs": [
        {
          "output_type": "stream",
          "text": [
            "[*********************100%***********************]  53 of 53 completed\n"
          ],
          "name": "stdout"
        }
      ]
    },
    {
      "cell_type": "code",
      "metadata": {
        "colab": {
          "base_uri": "https://localhost:8080/"
        },
        "id": "5vCEL8Ty4SPN",
        "outputId": "b9f8ba13-9a93-4461-beeb-7f2416c2c337"
      },
      "source": [
        "all_data.info()"
      ],
      "execution_count": null,
      "outputs": [
        {
          "output_type": "stream",
          "text": [
            "<class 'pandas.core.frame.DataFrame'>\n",
            "DatetimeIndex: 2507 entries, 2011-07-11 to 2021-07-09\n",
            "Columns: 318 entries, ('Adj Close', 'AFLT.ME') to ('Volume', 'VTBR.ME')\n",
            "dtypes: float64(318)\n",
            "memory usage: 6.1 MB\n"
          ],
          "name": "stdout"
        }
      ]
    },
    {
      "cell_type": "code",
      "metadata": {
        "colab": {
          "base_uri": "https://localhost:8080/",
          "height": 664
        },
        "id": "5yBao9P9eOzO",
        "outputId": "074ad2db-8065-445b-df9d-b1ccb3feba8b"
      },
      "source": [
        "all_data"
      ],
      "execution_count": null,
      "outputs": [
        {
          "output_type": "execute_result",
          "data": {
            "text/html": [
              "<div>\n",
              "<style scoped>\n",
              "    .dataframe tbody tr th:only-of-type {\n",
              "        vertical-align: middle;\n",
              "    }\n",
              "\n",
              "    .dataframe tbody tr th {\n",
              "        vertical-align: top;\n",
              "    }\n",
              "\n",
              "    .dataframe thead tr th {\n",
              "        text-align: left;\n",
              "    }\n",
              "\n",
              "    .dataframe thead tr:last-of-type th {\n",
              "        text-align: right;\n",
              "    }\n",
              "</style>\n",
              "<table border=\"1\" class=\"dataframe\">\n",
              "  <thead>\n",
              "    <tr>\n",
              "      <th></th>\n",
              "      <th colspan=\"40\" halign=\"left\">Adj Close</th>\n",
              "      <th>...</th>\n",
              "      <th colspan=\"40\" halign=\"left\">Volume</th>\n",
              "    </tr>\n",
              "    <tr>\n",
              "      <th></th>\n",
              "      <th>AFLT.ME</th>\n",
              "      <th>AMEZ.ME</th>\n",
              "      <th>BSPB.ME</th>\n",
              "      <th>CHEP.ME</th>\n",
              "      <th>DVEC.ME</th>\n",
              "      <th>ENRU.ME</th>\n",
              "      <th>FEES.ME</th>\n",
              "      <th>FESH.ME</th>\n",
              "      <th>GAZP.ME</th>\n",
              "      <th>HYDR.ME</th>\n",
              "      <th>IRKT.ME</th>\n",
              "      <th>ISKJ.ME</th>\n",
              "      <th>KMAZ.ME</th>\n",
              "      <th>KROT.ME</th>\n",
              "      <th>KUBE.ME</th>\n",
              "      <th>LSNG.ME</th>\n",
              "      <th>LSNGP.ME</th>\n",
              "      <th>MAGN.ME</th>\n",
              "      <th>MRKC.ME</th>\n",
              "      <th>MRKK.ME</th>\n",
              "      <th>MRKP.ME</th>\n",
              "      <th>MRKS.ME</th>\n",
              "      <th>MRKU.ME</th>\n",
              "      <th>MRKV.ME</th>\n",
              "      <th>MRKZ.ME</th>\n",
              "      <th>MSNG.ME</th>\n",
              "      <th>MSRS.ME</th>\n",
              "      <th>MTLR.ME</th>\n",
              "      <th>MVID.ME</th>\n",
              "      <th>NKNCP.ME</th>\n",
              "      <th>NLMK.ME</th>\n",
              "      <th>NMTP.ME</th>\n",
              "      <th>PIKK.ME</th>\n",
              "      <th>RASP.ME</th>\n",
              "      <th>ROSB.ME</th>\n",
              "      <th>ROSN.ME</th>\n",
              "      <th>RSTI.ME</th>\n",
              "      <th>RSTIP.ME</th>\n",
              "      <th>RTKM.ME</th>\n",
              "      <th>RTKMP.ME</th>\n",
              "      <th>...</th>\n",
              "      <th>KROT.ME</th>\n",
              "      <th>KUBE.ME</th>\n",
              "      <th>LSNG.ME</th>\n",
              "      <th>LSNGP.ME</th>\n",
              "      <th>MAGN.ME</th>\n",
              "      <th>MRKC.ME</th>\n",
              "      <th>MRKK.ME</th>\n",
              "      <th>MRKP.ME</th>\n",
              "      <th>MRKS.ME</th>\n",
              "      <th>MRKU.ME</th>\n",
              "      <th>MRKV.ME</th>\n",
              "      <th>MRKZ.ME</th>\n",
              "      <th>MSNG.ME</th>\n",
              "      <th>MSRS.ME</th>\n",
              "      <th>MTLR.ME</th>\n",
              "      <th>MVID.ME</th>\n",
              "      <th>NKNCP.ME</th>\n",
              "      <th>NLMK.ME</th>\n",
              "      <th>NMTP.ME</th>\n",
              "      <th>PIKK.ME</th>\n",
              "      <th>RASP.ME</th>\n",
              "      <th>ROSB.ME</th>\n",
              "      <th>ROSN.ME</th>\n",
              "      <th>RSTI.ME</th>\n",
              "      <th>RSTIP.ME</th>\n",
              "      <th>RTKM.ME</th>\n",
              "      <th>RTKMP.ME</th>\n",
              "      <th>SIBN.ME</th>\n",
              "      <th>SNGS.ME</th>\n",
              "      <th>SNGSP.ME</th>\n",
              "      <th>SVAV.ME</th>\n",
              "      <th>TGKA.ME</th>\n",
              "      <th>TGKB.ME</th>\n",
              "      <th>TGKD.ME</th>\n",
              "      <th>TGKDP.ME</th>\n",
              "      <th>TGKN.ME</th>\n",
              "      <th>TRMK.ME</th>\n",
              "      <th>TTLK.ME</th>\n",
              "      <th>UTAR.ME</th>\n",
              "      <th>VTBR.ME</th>\n",
              "    </tr>\n",
              "    <tr>\n",
              "      <th>Date</th>\n",
              "      <th></th>\n",
              "      <th></th>\n",
              "      <th></th>\n",
              "      <th></th>\n",
              "      <th></th>\n",
              "      <th></th>\n",
              "      <th></th>\n",
              "      <th></th>\n",
              "      <th></th>\n",
              "      <th></th>\n",
              "      <th></th>\n",
              "      <th></th>\n",
              "      <th></th>\n",
              "      <th></th>\n",
              "      <th></th>\n",
              "      <th></th>\n",
              "      <th></th>\n",
              "      <th></th>\n",
              "      <th></th>\n",
              "      <th></th>\n",
              "      <th></th>\n",
              "      <th></th>\n",
              "      <th></th>\n",
              "      <th></th>\n",
              "      <th></th>\n",
              "      <th></th>\n",
              "      <th></th>\n",
              "      <th></th>\n",
              "      <th></th>\n",
              "      <th></th>\n",
              "      <th></th>\n",
              "      <th></th>\n",
              "      <th></th>\n",
              "      <th></th>\n",
              "      <th></th>\n",
              "      <th></th>\n",
              "      <th></th>\n",
              "      <th></th>\n",
              "      <th></th>\n",
              "      <th></th>\n",
              "      <th></th>\n",
              "      <th></th>\n",
              "      <th></th>\n",
              "      <th></th>\n",
              "      <th></th>\n",
              "      <th></th>\n",
              "      <th></th>\n",
              "      <th></th>\n",
              "      <th></th>\n",
              "      <th></th>\n",
              "      <th></th>\n",
              "      <th></th>\n",
              "      <th></th>\n",
              "      <th></th>\n",
              "      <th></th>\n",
              "      <th></th>\n",
              "      <th></th>\n",
              "      <th></th>\n",
              "      <th></th>\n",
              "      <th></th>\n",
              "      <th></th>\n",
              "      <th></th>\n",
              "      <th></th>\n",
              "      <th></th>\n",
              "      <th></th>\n",
              "      <th></th>\n",
              "      <th></th>\n",
              "      <th></th>\n",
              "      <th></th>\n",
              "      <th></th>\n",
              "      <th></th>\n",
              "      <th></th>\n",
              "      <th></th>\n",
              "      <th></th>\n",
              "      <th></th>\n",
              "      <th></th>\n",
              "      <th></th>\n",
              "      <th></th>\n",
              "      <th></th>\n",
              "      <th></th>\n",
              "      <th></th>\n",
              "    </tr>\n",
              "  </thead>\n",
              "  <tbody>\n",
              "    <tr>\n",
              "      <th>2011-07-11</th>\n",
              "      <td>51.852802</td>\n",
              "      <td>13.414</td>\n",
              "      <td>100.758484</td>\n",
              "      <td>53.143276</td>\n",
              "      <td>1.0967</td>\n",
              "      <td>1.286322</td>\n",
              "      <td>0.251877</td>\n",
              "      <td>13.415000</td>\n",
              "      <td>112.017967</td>\n",
              "      <td>0.908072</td>\n",
              "      <td>6.536405</td>\n",
              "      <td>11.005298</td>\n",
              "      <td>58.601887</td>\n",
              "      <td>307.649658</td>\n",
              "      <td>108.133018</td>\n",
              "      <td>15.714865</td>\n",
              "      <td>17.297119</td>\n",
              "      <td>13.378941</td>\n",
              "      <td>0.521875</td>\n",
              "      <td>79.439758</td>\n",
              "      <td>0.099454</td>\n",
              "      <td>0.189110</td>\n",
              "      <td>0.159881</td>\n",
              "      <td>0.070623</td>\n",
              "      <td>0.095479</td>\n",
              "      <td>1.642937</td>\n",
              "      <td>0.894822</td>\n",
              "      <td>643.649109</td>\n",
              "      <td>123.724571</td>\n",
              "      <td>4.842935</td>\n",
              "      <td>47.837147</td>\n",
              "      <td>1.618343</td>\n",
              "      <td>84.037010</td>\n",
              "      <td>155.764648</td>\n",
              "      <td>103.000000</td>\n",
              "      <td>158.880447</td>\n",
              "      <td>3.513303</td>\n",
              "      <td>1.521629</td>\n",
              "      <td>110.003090</td>\n",
              "      <td>41.917122</td>\n",
              "      <td>...</td>\n",
              "      <td>106.0</td>\n",
              "      <td>370.0</td>\n",
              "      <td>378.0</td>\n",
              "      <td>192.0</td>\n",
              "      <td>21216.0</td>\n",
              "      <td>4099.0</td>\n",
              "      <td>1967.0</td>\n",
              "      <td>1071.0</td>\n",
              "      <td>20.0</td>\n",
              "      <td>17087.0</td>\n",
              "      <td>5670.0</td>\n",
              "      <td>747.0</td>\n",
              "      <td>14876.0</td>\n",
              "      <td>19680.0</td>\n",
              "      <td>260827.0</td>\n",
              "      <td>7513.0</td>\n",
              "      <td>230.0</td>\n",
              "      <td>182805.0</td>\n",
              "      <td>1298.0</td>\n",
              "      <td>34482.0</td>\n",
              "      <td>67753.0</td>\n",
              "      <td>29.0</td>\n",
              "      <td>743893.0</td>\n",
              "      <td>38218.0</td>\n",
              "      <td>990.0</td>\n",
              "      <td>306299.0</td>\n",
              "      <td>17150.0</td>\n",
              "      <td>26145.0</td>\n",
              "      <td>220943.0</td>\n",
              "      <td>111109.0</td>\n",
              "      <td>793.0</td>\n",
              "      <td>1.134400e+04</td>\n",
              "      <td>246.0</td>\n",
              "      <td>1.970000e+02</td>\n",
              "      <td>1.0</td>\n",
              "      <td>130.0</td>\n",
              "      <td>41483.0</td>\n",
              "      <td>29.0</td>\n",
              "      <td>552.0</td>\n",
              "      <td>2.413806e+06</td>\n",
              "    </tr>\n",
              "    <tr>\n",
              "      <th>2011-07-12</th>\n",
              "      <td>51.479931</td>\n",
              "      <td>13.209</td>\n",
              "      <td>99.052391</td>\n",
              "      <td>53.856110</td>\n",
              "      <td>1.0926</td>\n",
              "      <td>1.268456</td>\n",
              "      <td>0.253789</td>\n",
              "      <td>13.399000</td>\n",
              "      <td>110.566353</td>\n",
              "      <td>0.908735</td>\n",
              "      <td>6.556808</td>\n",
              "      <td>10.870718</td>\n",
              "      <td>57.321728</td>\n",
              "      <td>313.642822</td>\n",
              "      <td>106.768829</td>\n",
              "      <td>15.048079</td>\n",
              "      <td>17.285440</td>\n",
              "      <td>13.289416</td>\n",
              "      <td>0.509907</td>\n",
              "      <td>78.080460</td>\n",
              "      <td>0.096754</td>\n",
              "      <td>0.189110</td>\n",
              "      <td>0.153562</td>\n",
              "      <td>0.068857</td>\n",
              "      <td>0.095479</td>\n",
              "      <td>1.612242</td>\n",
              "      <td>0.894260</td>\n",
              "      <td>638.288513</td>\n",
              "      <td>125.245468</td>\n",
              "      <td>4.836457</td>\n",
              "      <td>47.093506</td>\n",
              "      <td>1.615436</td>\n",
              "      <td>83.517197</td>\n",
              "      <td>165.074661</td>\n",
              "      <td>103.760002</td>\n",
              "      <td>157.526230</td>\n",
              "      <td>3.384358</td>\n",
              "      <td>1.520458</td>\n",
              "      <td>110.069511</td>\n",
              "      <td>41.755371</td>\n",
              "      <td>...</td>\n",
              "      <td>129.0</td>\n",
              "      <td>563.0</td>\n",
              "      <td>322.0</td>\n",
              "      <td>13.0</td>\n",
              "      <td>41403.0</td>\n",
              "      <td>7845.0</td>\n",
              "      <td>2256.0</td>\n",
              "      <td>1787.0</td>\n",
              "      <td>62.0</td>\n",
              "      <td>617.0</td>\n",
              "      <td>1680.0</td>\n",
              "      <td>151.0</td>\n",
              "      <td>14094.0</td>\n",
              "      <td>3124.0</td>\n",
              "      <td>180688.0</td>\n",
              "      <td>5261.0</td>\n",
              "      <td>629.0</td>\n",
              "      <td>197737.0</td>\n",
              "      <td>579.0</td>\n",
              "      <td>45706.0</td>\n",
              "      <td>278620.0</td>\n",
              "      <td>160.0</td>\n",
              "      <td>948200.0</td>\n",
              "      <td>104037.0</td>\n",
              "      <td>936.0</td>\n",
              "      <td>225901.0</td>\n",
              "      <td>8117.0</td>\n",
              "      <td>112287.0</td>\n",
              "      <td>260946.0</td>\n",
              "      <td>144521.0</td>\n",
              "      <td>1199.0</td>\n",
              "      <td>5.676000e+03</td>\n",
              "      <td>181.0</td>\n",
              "      <td>1.170000e+02</td>\n",
              "      <td>1.0</td>\n",
              "      <td>182.0</td>\n",
              "      <td>9060.0</td>\n",
              "      <td>50.0</td>\n",
              "      <td>444.0</td>\n",
              "      <td>3.290454e+06</td>\n",
              "    </tr>\n",
              "    <tr>\n",
              "      <th>2011-07-13</th>\n",
              "      <td>51.384876</td>\n",
              "      <td>13.380</td>\n",
              "      <td>99.909012</td>\n",
              "      <td>54.127670</td>\n",
              "      <td>1.0927</td>\n",
              "      <td>1.283169</td>\n",
              "      <td>0.253152</td>\n",
              "      <td>14.187000</td>\n",
              "      <td>111.570900</td>\n",
              "      <td>0.914033</td>\n",
              "      <td>6.604415</td>\n",
              "      <td>10.921429</td>\n",
              "      <td>57.478291</td>\n",
              "      <td>305.711853</td>\n",
              "      <td>107.088821</td>\n",
              "      <td>15.217434</td>\n",
              "      <td>17.145288</td>\n",
              "      <td>13.474943</td>\n",
              "      <td>0.507826</td>\n",
              "      <td>78.245430</td>\n",
              "      <td>0.095854</td>\n",
              "      <td>0.185456</td>\n",
              "      <td>0.153562</td>\n",
              "      <td>0.068269</td>\n",
              "      <td>0.094721</td>\n",
              "      <td>1.617128</td>\n",
              "      <td>0.893134</td>\n",
              "      <td>645.755005</td>\n",
              "      <td>126.952446</td>\n",
              "      <td>4.815400</td>\n",
              "      <td>47.806721</td>\n",
              "      <td>1.613497</td>\n",
              "      <td>83.981880</td>\n",
              "      <td>167.825745</td>\n",
              "      <td>102.750000</td>\n",
              "      <td>157.856384</td>\n",
              "      <td>3.331367</td>\n",
              "      <td>1.492367</td>\n",
              "      <td>112.083969</td>\n",
              "      <td>41.607479</td>\n",
              "      <td>...</td>\n",
              "      <td>39.0</td>\n",
              "      <td>422.0</td>\n",
              "      <td>221.0</td>\n",
              "      <td>134.0</td>\n",
              "      <td>48618.0</td>\n",
              "      <td>1269.0</td>\n",
              "      <td>1954.0</td>\n",
              "      <td>543.0</td>\n",
              "      <td>206.0</td>\n",
              "      <td>1002.0</td>\n",
              "      <td>724.0</td>\n",
              "      <td>268.0</td>\n",
              "      <td>5909.0</td>\n",
              "      <td>3467.0</td>\n",
              "      <td>150836.0</td>\n",
              "      <td>5469.0</td>\n",
              "      <td>803.0</td>\n",
              "      <td>160936.0</td>\n",
              "      <td>162.0</td>\n",
              "      <td>46205.0</td>\n",
              "      <td>321850.0</td>\n",
              "      <td>112.0</td>\n",
              "      <td>926235.0</td>\n",
              "      <td>70767.0</td>\n",
              "      <td>362.0</td>\n",
              "      <td>154901.0</td>\n",
              "      <td>10488.0</td>\n",
              "      <td>54604.0</td>\n",
              "      <td>204820.0</td>\n",
              "      <td>160905.0</td>\n",
              "      <td>3449.0</td>\n",
              "      <td>3.102000e+03</td>\n",
              "      <td>24.0</td>\n",
              "      <td>1.274000e+03</td>\n",
              "      <td>1.0</td>\n",
              "      <td>176.0</td>\n",
              "      <td>30568.0</td>\n",
              "      <td>127.0</td>\n",
              "      <td>185.0</td>\n",
              "      <td>4.021595e+06</td>\n",
              "    </tr>\n",
              "    <tr>\n",
              "      <th>2011-07-14</th>\n",
              "      <td>51.202076</td>\n",
              "      <td>13.436</td>\n",
              "      <td>100.351585</td>\n",
              "      <td>53.638863</td>\n",
              "      <td>1.1018</td>\n",
              "      <td>1.286322</td>\n",
              "      <td>0.252514</td>\n",
              "      <td>13.565000</td>\n",
              "      <td>111.267319</td>\n",
              "      <td>0.910059</td>\n",
              "      <td>6.766881</td>\n",
              "      <td>10.941909</td>\n",
              "      <td>57.579597</td>\n",
              "      <td>308.898224</td>\n",
              "      <td>107.097244</td>\n",
              "      <td>15.020261</td>\n",
              "      <td>17.222839</td>\n",
              "      <td>13.512695</td>\n",
              "      <td>0.507306</td>\n",
              "      <td>78.331207</td>\n",
              "      <td>0.096304</td>\n",
              "      <td>0.185456</td>\n",
              "      <td>0.158617</td>\n",
              "      <td>0.067680</td>\n",
              "      <td>0.093205</td>\n",
              "      <td>1.620636</td>\n",
              "      <td>0.915082</td>\n",
              "      <td>656.476135</td>\n",
              "      <td>127.380348</td>\n",
              "      <td>4.814105</td>\n",
              "      <td>48.267685</td>\n",
              "      <td>1.594601</td>\n",
              "      <td>84.422943</td>\n",
              "      <td>159.408508</td>\n",
              "      <td>100.099998</td>\n",
              "      <td>158.503143</td>\n",
              "      <td>3.325184</td>\n",
              "      <td>1.505242</td>\n",
              "      <td>113.284874</td>\n",
              "      <td>41.681431</td>\n",
              "      <td>...</td>\n",
              "      <td>82.0</td>\n",
              "      <td>1017.0</td>\n",
              "      <td>633.0</td>\n",
              "      <td>73.0</td>\n",
              "      <td>25129.0</td>\n",
              "      <td>1819.0</td>\n",
              "      <td>1105.0</td>\n",
              "      <td>66.0</td>\n",
              "      <td>26.0</td>\n",
              "      <td>4830.0</td>\n",
              "      <td>1246.0</td>\n",
              "      <td>1078.0</td>\n",
              "      <td>4514.0</td>\n",
              "      <td>30032.0</td>\n",
              "      <td>83818.0</td>\n",
              "      <td>3209.0</td>\n",
              "      <td>2825.0</td>\n",
              "      <td>190173.0</td>\n",
              "      <td>4780.0</td>\n",
              "      <td>54439.0</td>\n",
              "      <td>130504.0</td>\n",
              "      <td>12.0</td>\n",
              "      <td>873970.0</td>\n",
              "      <td>68004.0</td>\n",
              "      <td>2671.0</td>\n",
              "      <td>135021.0</td>\n",
              "      <td>8603.0</td>\n",
              "      <td>87903.0</td>\n",
              "      <td>254558.0</td>\n",
              "      <td>120004.0</td>\n",
              "      <td>1135.0</td>\n",
              "      <td>4.832000e+03</td>\n",
              "      <td>12.0</td>\n",
              "      <td>4.160000e+02</td>\n",
              "      <td>1.0</td>\n",
              "      <td>294.0</td>\n",
              "      <td>13472.0</td>\n",
              "      <td>482.0</td>\n",
              "      <td>433.0</td>\n",
              "      <td>2.785689e+06</td>\n",
              "    </tr>\n",
              "    <tr>\n",
              "      <th>2011-07-15</th>\n",
              "      <td>50.968121</td>\n",
              "      <td>13.433</td>\n",
              "      <td>100.337296</td>\n",
              "      <td>53.632072</td>\n",
              "      <td>1.1330</td>\n",
              "      <td>1.283169</td>\n",
              "      <td>0.251877</td>\n",
              "      <td>13.369000</td>\n",
              "      <td>110.825752</td>\n",
              "      <td>0.902111</td>\n",
              "      <td>6.810708</td>\n",
              "      <td>11.036505</td>\n",
              "      <td>57.432240</td>\n",
              "      <td>307.549774</td>\n",
              "      <td>107.467758</td>\n",
              "      <td>15.007992</td>\n",
              "      <td>17.244791</td>\n",
              "      <td>13.508382</td>\n",
              "      <td>0.509907</td>\n",
              "      <td>77.532791</td>\n",
              "      <td>0.097654</td>\n",
              "      <td>0.185456</td>\n",
              "      <td>0.157985</td>\n",
              "      <td>0.067680</td>\n",
              "      <td>0.095479</td>\n",
              "      <td>1.610363</td>\n",
              "      <td>0.884129</td>\n",
              "      <td>647.478088</td>\n",
              "      <td>129.636139</td>\n",
              "      <td>4.856542</td>\n",
              "      <td>47.854546</td>\n",
              "      <td>1.574250</td>\n",
              "      <td>84.170906</td>\n",
              "      <td>157.686783</td>\n",
              "      <td>101.690002</td>\n",
              "      <td>157.869858</td>\n",
              "      <td>3.279258</td>\n",
              "      <td>1.485344</td>\n",
              "      <td>113.412170</td>\n",
              "      <td>41.727654</td>\n",
              "      <td>...</td>\n",
              "      <td>73.0</td>\n",
              "      <td>505.0</td>\n",
              "      <td>458.0</td>\n",
              "      <td>0.0</td>\n",
              "      <td>82111.0</td>\n",
              "      <td>2047.0</td>\n",
              "      <td>34791.0</td>\n",
              "      <td>806.0</td>\n",
              "      <td>123.0</td>\n",
              "      <td>565.0</td>\n",
              "      <td>640.0</td>\n",
              "      <td>1315.0</td>\n",
              "      <td>5046.0</td>\n",
              "      <td>2874.0</td>\n",
              "      <td>38139.0</td>\n",
              "      <td>10132.0</td>\n",
              "      <td>0.0</td>\n",
              "      <td>135770.0</td>\n",
              "      <td>693.0</td>\n",
              "      <td>55405.0</td>\n",
              "      <td>42067.0</td>\n",
              "      <td>28.0</td>\n",
              "      <td>539250.0</td>\n",
              "      <td>46107.0</td>\n",
              "      <td>197.0</td>\n",
              "      <td>115411.0</td>\n",
              "      <td>6342.0</td>\n",
              "      <td>44762.0</td>\n",
              "      <td>144350.0</td>\n",
              "      <td>52735.0</td>\n",
              "      <td>798.0</td>\n",
              "      <td>3.077000e+03</td>\n",
              "      <td>371.0</td>\n",
              "      <td>7.500000e+01</td>\n",
              "      <td>1.0</td>\n",
              "      <td>114.0</td>\n",
              "      <td>35361.0</td>\n",
              "      <td>128.0</td>\n",
              "      <td>173.0</td>\n",
              "      <td>4.411285e+06</td>\n",
              "    </tr>\n",
              "    <tr>\n",
              "      <th>...</th>\n",
              "      <td>...</td>\n",
              "      <td>...</td>\n",
              "      <td>...</td>\n",
              "      <td>...</td>\n",
              "      <td>...</td>\n",
              "      <td>...</td>\n",
              "      <td>...</td>\n",
              "      <td>...</td>\n",
              "      <td>...</td>\n",
              "      <td>...</td>\n",
              "      <td>...</td>\n",
              "      <td>...</td>\n",
              "      <td>...</td>\n",
              "      <td>...</td>\n",
              "      <td>...</td>\n",
              "      <td>...</td>\n",
              "      <td>...</td>\n",
              "      <td>...</td>\n",
              "      <td>...</td>\n",
              "      <td>...</td>\n",
              "      <td>...</td>\n",
              "      <td>...</td>\n",
              "      <td>...</td>\n",
              "      <td>...</td>\n",
              "      <td>...</td>\n",
              "      <td>...</td>\n",
              "      <td>...</td>\n",
              "      <td>...</td>\n",
              "      <td>...</td>\n",
              "      <td>...</td>\n",
              "      <td>...</td>\n",
              "      <td>...</td>\n",
              "      <td>...</td>\n",
              "      <td>...</td>\n",
              "      <td>...</td>\n",
              "      <td>...</td>\n",
              "      <td>...</td>\n",
              "      <td>...</td>\n",
              "      <td>...</td>\n",
              "      <td>...</td>\n",
              "      <td>...</td>\n",
              "      <td>...</td>\n",
              "      <td>...</td>\n",
              "      <td>...</td>\n",
              "      <td>...</td>\n",
              "      <td>...</td>\n",
              "      <td>...</td>\n",
              "      <td>...</td>\n",
              "      <td>...</td>\n",
              "      <td>...</td>\n",
              "      <td>...</td>\n",
              "      <td>...</td>\n",
              "      <td>...</td>\n",
              "      <td>...</td>\n",
              "      <td>...</td>\n",
              "      <td>...</td>\n",
              "      <td>...</td>\n",
              "      <td>...</td>\n",
              "      <td>...</td>\n",
              "      <td>...</td>\n",
              "      <td>...</td>\n",
              "      <td>...</td>\n",
              "      <td>...</td>\n",
              "      <td>...</td>\n",
              "      <td>...</td>\n",
              "      <td>...</td>\n",
              "      <td>...</td>\n",
              "      <td>...</td>\n",
              "      <td>...</td>\n",
              "      <td>...</td>\n",
              "      <td>...</td>\n",
              "      <td>...</td>\n",
              "      <td>...</td>\n",
              "      <td>...</td>\n",
              "      <td>...</td>\n",
              "      <td>...</td>\n",
              "      <td>...</td>\n",
              "      <td>...</td>\n",
              "      <td>...</td>\n",
              "      <td>...</td>\n",
              "      <td>...</td>\n",
              "    </tr>\n",
              "    <tr>\n",
              "      <th>2021-07-05</th>\n",
              "      <td>69.120003</td>\n",
              "      <td>11.570</td>\n",
              "      <td>66.230003</td>\n",
              "      <td>301.500000</td>\n",
              "      <td>0.8040</td>\n",
              "      <td>0.829800</td>\n",
              "      <td>0.221940</td>\n",
              "      <td>16.780001</td>\n",
              "      <td>288.820007</td>\n",
              "      <td>0.822422</td>\n",
              "      <td>24.820000</td>\n",
              "      <td>38.720001</td>\n",
              "      <td>73.300003</td>\n",
              "      <td>406.899384</td>\n",
              "      <td>68.000000</td>\n",
              "      <td>6.230000</td>\n",
              "      <td>151.550003</td>\n",
              "      <td>59.014999</td>\n",
              "      <td>0.380000</td>\n",
              "      <td>28.400000</td>\n",
              "      <td>0.247000</td>\n",
              "      <td>0.306000</td>\n",
              "      <td>0.149000</td>\n",
              "      <td>0.059500</td>\n",
              "      <td>0.049400</td>\n",
              "      <td>2.220500</td>\n",
              "      <td>1.202000</td>\n",
              "      <td>76.500000</td>\n",
              "      <td>647.500000</td>\n",
              "      <td>81.000000</td>\n",
              "      <td>227.399994</td>\n",
              "      <td>6.988829</td>\n",
              "      <td>1088.599976</td>\n",
              "      <td>245.000000</td>\n",
              "      <td>78.000000</td>\n",
              "      <td>566.250000</td>\n",
              "      <td>1.361700</td>\n",
              "      <td>1.997000</td>\n",
              "      <td>98.172073</td>\n",
              "      <td>87.734497</td>\n",
              "      <td>...</td>\n",
              "      <td>980.0</td>\n",
              "      <td>590.0</td>\n",
              "      <td>150200.0</td>\n",
              "      <td>320570.0</td>\n",
              "      <td>13254614.0</td>\n",
              "      <td>43716000.0</td>\n",
              "      <td>9677.0</td>\n",
              "      <td>65500033.0</td>\n",
              "      <td>160000.0</td>\n",
              "      <td>12070001.0</td>\n",
              "      <td>17820001.0</td>\n",
              "      <td>5870000.0</td>\n",
              "      <td>7972000.0</td>\n",
              "      <td>1774010.0</td>\n",
              "      <td>838207.0</td>\n",
              "      <td>590642.0</td>\n",
              "      <td>533211.0</td>\n",
              "      <td>5199570.0</td>\n",
              "      <td>3322109.0</td>\n",
              "      <td>27979.0</td>\n",
              "      <td>4066571.0</td>\n",
              "      <td>360.0</td>\n",
              "      <td>3191382.0</td>\n",
              "      <td>80504000.0</td>\n",
              "      <td>1597000.0</td>\n",
              "      <td>882160.0</td>\n",
              "      <td>321561.0</td>\n",
              "      <td>1099751.0</td>\n",
              "      <td>37762300.0</td>\n",
              "      <td>34926700.0</td>\n",
              "      <td>14591.0</td>\n",
              "      <td>6.504600e+09</td>\n",
              "      <td>182000000.0</td>\n",
              "      <td>2.731000e+08</td>\n",
              "      <td>17900000.0</td>\n",
              "      <td>365000000.0</td>\n",
              "      <td>988041.0</td>\n",
              "      <td>3480000.0</td>\n",
              "      <td>21600.0</td>\n",
              "      <td>5.136586e+10</td>\n",
              "    </tr>\n",
              "    <tr>\n",
              "      <th>2021-07-06</th>\n",
              "      <td>68.400002</td>\n",
              "      <td>11.225</td>\n",
              "      <td>66.019997</td>\n",
              "      <td>303.500000</td>\n",
              "      <td>0.8000</td>\n",
              "      <td>0.817600</td>\n",
              "      <td>0.223680</td>\n",
              "      <td>16.549999</td>\n",
              "      <td>294.640015</td>\n",
              "      <td>0.815382</td>\n",
              "      <td>24.879999</td>\n",
              "      <td>37.230000</td>\n",
              "      <td>72.300003</td>\n",
              "      <td>402.400482</td>\n",
              "      <td>68.000000</td>\n",
              "      <td>6.190000</td>\n",
              "      <td>150.899994</td>\n",
              "      <td>57.750000</td>\n",
              "      <td>0.376000</td>\n",
              "      <td>28.020000</td>\n",
              "      <td>0.243900</td>\n",
              "      <td>0.306500</td>\n",
              "      <td>0.146400</td>\n",
              "      <td>0.059300</td>\n",
              "      <td>0.049700</td>\n",
              "      <td>2.210000</td>\n",
              "      <td>1.186000</td>\n",
              "      <td>74.529999</td>\n",
              "      <td>639.099976</td>\n",
              "      <td>80.180000</td>\n",
              "      <td>222.199997</td>\n",
              "      <td>6.929349</td>\n",
              "      <td>1063.099976</td>\n",
              "      <td>235.100006</td>\n",
              "      <td>78.000000</td>\n",
              "      <td>571.799988</td>\n",
              "      <td>1.354900</td>\n",
              "      <td>2.000000</td>\n",
              "      <td>97.011734</td>\n",
              "      <td>86.978165</td>\n",
              "      <td>...</td>\n",
              "      <td>1000.0</td>\n",
              "      <td>30.0</td>\n",
              "      <td>237903.0</td>\n",
              "      <td>196230.0</td>\n",
              "      <td>34237640.0</td>\n",
              "      <td>21947000.0</td>\n",
              "      <td>5343.0</td>\n",
              "      <td>97620005.0</td>\n",
              "      <td>510000.0</td>\n",
              "      <td>17230004.0</td>\n",
              "      <td>46380000.0</td>\n",
              "      <td>72320000.0</td>\n",
              "      <td>9380000.0</td>\n",
              "      <td>1341025.0</td>\n",
              "      <td>2125933.0</td>\n",
              "      <td>220466.0</td>\n",
              "      <td>320907.0</td>\n",
              "      <td>10240260.0</td>\n",
              "      <td>2675700.0</td>\n",
              "      <td>136711.0</td>\n",
              "      <td>1963710.0</td>\n",
              "      <td>100.0</td>\n",
              "      <td>20141962.0</td>\n",
              "      <td>147143000.0</td>\n",
              "      <td>3571284.0</td>\n",
              "      <td>2541650.0</td>\n",
              "      <td>310820.0</td>\n",
              "      <td>1142270.0</td>\n",
              "      <td>22773600.0</td>\n",
              "      <td>92671300.0</td>\n",
              "      <td>3764.0</td>\n",
              "      <td>6.161300e+09</td>\n",
              "      <td>161000000.0</td>\n",
              "      <td>1.217400e+09</td>\n",
              "      <td>110900000.0</td>\n",
              "      <td>171000050.0</td>\n",
              "      <td>469755.0</td>\n",
              "      <td>4140000.0</td>\n",
              "      <td>6900.0</td>\n",
              "      <td>5.527354e+10</td>\n",
              "    </tr>\n",
              "    <tr>\n",
              "      <th>2021-07-07</th>\n",
              "      <td>68.300003</td>\n",
              "      <td>11.225</td>\n",
              "      <td>66.019997</td>\n",
              "      <td>303.500000</td>\n",
              "      <td>0.7890</td>\n",
              "      <td>0.813200</td>\n",
              "      <td>0.229800</td>\n",
              "      <td>16.969999</td>\n",
              "      <td>296.890015</td>\n",
              "      <td>0.811252</td>\n",
              "      <td>25.219999</td>\n",
              "      <td>38.220001</td>\n",
              "      <td>72.699997</td>\n",
              "      <td>404.399994</td>\n",
              "      <td>68.000000</td>\n",
              "      <td>6.170000</td>\n",
              "      <td>151.550003</td>\n",
              "      <td>58.889999</td>\n",
              "      <td>0.372800</td>\n",
              "      <td>27.900000</td>\n",
              "      <td>0.241900</td>\n",
              "      <td>0.305000</td>\n",
              "      <td>0.145400</td>\n",
              "      <td>0.059100</td>\n",
              "      <td>0.049600</td>\n",
              "      <td>2.196500</td>\n",
              "      <td>1.189500</td>\n",
              "      <td>74.419998</td>\n",
              "      <td>635.000000</td>\n",
              "      <td>81.000000</td>\n",
              "      <td>228.279999</td>\n",
              "      <td>6.904566</td>\n",
              "      <td>1070.300049</td>\n",
              "      <td>237.440002</td>\n",
              "      <td>78.199997</td>\n",
              "      <td>580.900024</td>\n",
              "      <td>1.369600</td>\n",
              "      <td>1.995000</td>\n",
              "      <td>97.078316</td>\n",
              "      <td>87.734497</td>\n",
              "      <td>...</td>\n",
              "      <td>530.0</td>\n",
              "      <td>130.0</td>\n",
              "      <td>215800.0</td>\n",
              "      <td>148140.0</td>\n",
              "      <td>27822003.0</td>\n",
              "      <td>23753000.0</td>\n",
              "      <td>5130.0</td>\n",
              "      <td>89190002.0</td>\n",
              "      <td>340000.0</td>\n",
              "      <td>3660000.0</td>\n",
              "      <td>18150000.0</td>\n",
              "      <td>19550000.0</td>\n",
              "      <td>10059001.0</td>\n",
              "      <td>688000.0</td>\n",
              "      <td>1665401.0</td>\n",
              "      <td>405311.0</td>\n",
              "      <td>243050.0</td>\n",
              "      <td>9405522.0</td>\n",
              "      <td>1441901.0</td>\n",
              "      <td>112575.0</td>\n",
              "      <td>541630.0</td>\n",
              "      <td>430.0</td>\n",
              "      <td>14159580.0</td>\n",
              "      <td>165272000.0</td>\n",
              "      <td>2545003.0</td>\n",
              "      <td>1731480.0</td>\n",
              "      <td>758400.0</td>\n",
              "      <td>807490.0</td>\n",
              "      <td>25462710.0</td>\n",
              "      <td>73901400.0</td>\n",
              "      <td>11770.0</td>\n",
              "      <td>4.587500e+09</td>\n",
              "      <td>215000000.0</td>\n",
              "      <td>8.977000e+08</td>\n",
              "      <td>63900000.0</td>\n",
              "      <td>330000000.0</td>\n",
              "      <td>247051.0</td>\n",
              "      <td>2570000.0</td>\n",
              "      <td>36700.0</td>\n",
              "      <td>4.482605e+10</td>\n",
              "    </tr>\n",
              "    <tr>\n",
              "      <th>2021-07-08</th>\n",
              "      <td>67.940002</td>\n",
              "      <td>11.085</td>\n",
              "      <td>65.500000</td>\n",
              "      <td>304.000000</td>\n",
              "      <td>0.7850</td>\n",
              "      <td>0.811200</td>\n",
              "      <td>0.229600</td>\n",
              "      <td>16.809999</td>\n",
              "      <td>291.899994</td>\n",
              "      <td>0.826000</td>\n",
              "      <td>25.520000</td>\n",
              "      <td>38.000000</td>\n",
              "      <td>73.199997</td>\n",
              "      <td>404.000000</td>\n",
              "      <td>67.900002</td>\n",
              "      <td>6.190000</td>\n",
              "      <td>153.300003</td>\n",
              "      <td>58.564999</td>\n",
              "      <td>0.370800</td>\n",
              "      <td>27.900000</td>\n",
              "      <td>0.241400</td>\n",
              "      <td>0.301000</td>\n",
              "      <td>0.145200</td>\n",
              "      <td>0.058650</td>\n",
              "      <td>0.049150</td>\n",
              "      <td>2.165000</td>\n",
              "      <td>1.178000</td>\n",
              "      <td>74.690002</td>\n",
              "      <td>632.400024</td>\n",
              "      <td>80.620003</td>\n",
              "      <td>225.820007</td>\n",
              "      <td>6.855000</td>\n",
              "      <td>1058.699951</td>\n",
              "      <td>235.979996</td>\n",
              "      <td>78.199997</td>\n",
              "      <td>579.599976</td>\n",
              "      <td>1.358800</td>\n",
              "      <td>1.982000</td>\n",
              "      <td>97.239998</td>\n",
              "      <td>86.599998</td>\n",
              "      <td>...</td>\n",
              "      <td>471.0</td>\n",
              "      <td>310.0</td>\n",
              "      <td>132600.0</td>\n",
              "      <td>210342.0</td>\n",
              "      <td>15797210.0</td>\n",
              "      <td>15899000.0</td>\n",
              "      <td>2560.0</td>\n",
              "      <td>46940000.0</td>\n",
              "      <td>5300000.0</td>\n",
              "      <td>1740000.0</td>\n",
              "      <td>34950000.0</td>\n",
              "      <td>65740000.0</td>\n",
              "      <td>8021000.0</td>\n",
              "      <td>1501002.0</td>\n",
              "      <td>2020410.0</td>\n",
              "      <td>252619.0</td>\n",
              "      <td>177850.0</td>\n",
              "      <td>10443610.0</td>\n",
              "      <td>1477901.0</td>\n",
              "      <td>76178.0</td>\n",
              "      <td>664240.0</td>\n",
              "      <td>1170.0</td>\n",
              "      <td>13575690.0</td>\n",
              "      <td>114899002.0</td>\n",
              "      <td>1868071.0</td>\n",
              "      <td>4036000.0</td>\n",
              "      <td>1002300.0</td>\n",
              "      <td>1162400.0</td>\n",
              "      <td>40419356.0</td>\n",
              "      <td>52767400.0</td>\n",
              "      <td>3255.0</td>\n",
              "      <td>2.332400e+09</td>\n",
              "      <td>151000020.0</td>\n",
              "      <td>9.527000e+08</td>\n",
              "      <td>32300035.0</td>\n",
              "      <td>105000000.0</td>\n",
              "      <td>292920.0</td>\n",
              "      <td>4330000.0</td>\n",
              "      <td>5300.0</td>\n",
              "      <td>4.166873e+10</td>\n",
              "    </tr>\n",
              "    <tr>\n",
              "      <th>2021-07-09</th>\n",
              "      <td>68.839996</td>\n",
              "      <td>11.160</td>\n",
              "      <td>66.900002</td>\n",
              "      <td>303.000000</td>\n",
              "      <td>0.7950</td>\n",
              "      <td>0.816400</td>\n",
              "      <td>0.228400</td>\n",
              "      <td>17.150000</td>\n",
              "      <td>294.579987</td>\n",
              "      <td>0.832400</td>\n",
              "      <td>25.360001</td>\n",
              "      <td>38.200001</td>\n",
              "      <td>74.000000</td>\n",
              "      <td>403.500000</td>\n",
              "      <td>68.000000</td>\n",
              "      <td>6.220000</td>\n",
              "      <td>155.649994</td>\n",
              "      <td>60.744999</td>\n",
              "      <td>0.375200</td>\n",
              "      <td>27.780001</td>\n",
              "      <td>0.245700</td>\n",
              "      <td>0.300500</td>\n",
              "      <td>0.144600</td>\n",
              "      <td>0.058900</td>\n",
              "      <td>0.049600</td>\n",
              "      <td>2.191000</td>\n",
              "      <td>1.189000</td>\n",
              "      <td>74.690002</td>\n",
              "      <td>632.400024</td>\n",
              "      <td>81.000000</td>\n",
              "      <td>232.899994</td>\n",
              "      <td>6.985000</td>\n",
              "      <td>1041.500000</td>\n",
              "      <td>240.119995</td>\n",
              "      <td>78.000000</td>\n",
              "      <td>575.750000</td>\n",
              "      <td>1.363500</td>\n",
              "      <td>1.987000</td>\n",
              "      <td>99.029999</td>\n",
              "      <td>87.800003</td>\n",
              "      <td>...</td>\n",
              "      <td>180.0</td>\n",
              "      <td>10.0</td>\n",
              "      <td>128200.0</td>\n",
              "      <td>235051.0</td>\n",
              "      <td>35485520.0</td>\n",
              "      <td>15484003.0</td>\n",
              "      <td>2470.0</td>\n",
              "      <td>48380000.0</td>\n",
              "      <td>570000.0</td>\n",
              "      <td>5290000.0</td>\n",
              "      <td>13870000.0</td>\n",
              "      <td>40100000.0</td>\n",
              "      <td>3337000.0</td>\n",
              "      <td>609000.0</td>\n",
              "      <td>1889663.0</td>\n",
              "      <td>311621.0</td>\n",
              "      <td>132271.0</td>\n",
              "      <td>13279992.0</td>\n",
              "      <td>1845000.0</td>\n",
              "      <td>173586.0</td>\n",
              "      <td>564870.0</td>\n",
              "      <td>1450.0</td>\n",
              "      <td>16393730.0</td>\n",
              "      <td>24871000.0</td>\n",
              "      <td>1113000.0</td>\n",
              "      <td>4860990.0</td>\n",
              "      <td>1144422.0</td>\n",
              "      <td>984630.0</td>\n",
              "      <td>19924500.0</td>\n",
              "      <td>47029205.0</td>\n",
              "      <td>5540.0</td>\n",
              "      <td>2.607800e+09</td>\n",
              "      <td>75000000.0</td>\n",
              "      <td>1.817000e+08</td>\n",
              "      <td>7100000.0</td>\n",
              "      <td>37000000.0</td>\n",
              "      <td>170300.0</td>\n",
              "      <td>3520000.0</td>\n",
              "      <td>5300.0</td>\n",
              "      <td>3.190898e+10</td>\n",
              "    </tr>\n",
              "  </tbody>\n",
              "</table>\n",
              "<p>2507 rows × 318 columns</p>\n",
              "</div>"
            ],
            "text/plain": [
              "            Adj Close                      ...     Volume                       \n",
              "              AFLT.ME AMEZ.ME     BSPB.ME  ...    TTLK.ME  UTAR.ME       VTBR.ME\n",
              "Date                                       ...                                  \n",
              "2011-07-11  51.852802  13.414  100.758484  ...       29.0    552.0  2.413806e+06\n",
              "2011-07-12  51.479931  13.209   99.052391  ...       50.0    444.0  3.290454e+06\n",
              "2011-07-13  51.384876  13.380   99.909012  ...      127.0    185.0  4.021595e+06\n",
              "2011-07-14  51.202076  13.436  100.351585  ...      482.0    433.0  2.785689e+06\n",
              "2011-07-15  50.968121  13.433  100.337296  ...      128.0    173.0  4.411285e+06\n",
              "...               ...     ...         ...  ...        ...      ...           ...\n",
              "2021-07-05  69.120003  11.570   66.230003  ...  3480000.0  21600.0  5.136586e+10\n",
              "2021-07-06  68.400002  11.225   66.019997  ...  4140000.0   6900.0  5.527354e+10\n",
              "2021-07-07  68.300003  11.225   66.019997  ...  2570000.0  36700.0  4.482605e+10\n",
              "2021-07-08  67.940002  11.085   65.500000  ...  4330000.0   5300.0  4.166873e+10\n",
              "2021-07-09  68.839996  11.160   66.900002  ...  3520000.0   5300.0  3.190898e+10\n",
              "\n",
              "[2507 rows x 318 columns]"
            ]
          },
          "metadata": {
            "tags": []
          },
          "execution_count": 8
        }
      ]
    },
    {
      "cell_type": "markdown",
      "metadata": {
        "id": "4Pf7GrtnenoG"
      },
      "source": [
        "# Выход ордерный\n",
        "\n",
        "\n",
        "\n",
        "---\n",
        "\n",
        "\n",
        "\n",
        "Генерим выход.\n",
        "\n",
        "На выходе: \n",
        "- \"-1\" - продавать\n",
        "- 0 - держать\n",
        "- \"+1\" - покупать\n",
        "\n",
        "Генерим для каждого инструмента.\n",
        "\n",
        "\n",
        "---\n",
        "\n"
      ]
    },
    {
      "cell_type": "code",
      "metadata": {
        "id": "a_rUW2vDeqgI"
      },
      "source": [
        "res = []\n",
        "for acc in acc_list:\n",
        "    ohlc = all_data.loc[:,[['Open',acc],['High',acc],['Low',acc],['Close',acc]]].values\n",
        "    buy,sell = progOrder.getBuySellForData(ohlc,dSL=0.1,SP=0.0007)\n",
        "    y = buy-sell\n",
        "    res.append(y)\n",
        "Y = np.array(res).T"
      ],
      "execution_count": null,
      "outputs": []
    },
    {
      "cell_type": "code",
      "metadata": {
        "colab": {
          "base_uri": "https://localhost:8080/",
          "height": 281
        },
        "id": "amfOobFmiDH6",
        "outputId": "e417ad3a-57da-492d-b892-3dc2dd5a4792"
      },
      "source": [
        "plt.plot(Y[:,12])"
      ],
      "execution_count": null,
      "outputs": [
        {
          "output_type": "execute_result",
          "data": {
            "text/plain": [
              "[<matplotlib.lines.Line2D at 0x7f54db6a7350>]"
            ]
          },
          "metadata": {
            "tags": []
          },
          "execution_count": 10
        },
        {
          "output_type": "display_data",
          "data": {
            "image/png": "[encoded data removed]",
            "text/plain": [
              "<Figure size 432x288 with 1 Axes>"
            ]
          },
          "metadata": {
            "tags": [],
            "needs_background": "light"
          }
        }
      ]
    },
    {
      "cell_type": "markdown",
      "metadata": {
        "id": "LeXB2G06Xywo"
      },
      "source": [
        "\n",
        "\n",
        "---\n",
        "\n",
        "\n",
        "На образце по 12-му инструменту часто пляшет изменение\n",
        "\n",
        "\n",
        "\n",
        "---\n",
        "\n"
      ]
    },
    {
      "cell_type": "code",
      "metadata": {
        "colab": {
          "base_uri": "https://localhost:8080/"
        },
        "id": "KTlG5BHF4uJO",
        "outputId": "299373c3-171e-46a5-c148-6588097506ce"
      },
      "source": [
        "for n in range(Y.shape[1]):\n",
        "    print(acc_list[n],np.unique(Y[:,n],return_counts=True))"
      ],
      "execution_count": null,
      "outputs": [
        {
          "output_type": "stream",
          "text": [
            "TGKA.ME (array([-1.,  0.,  1.]), array([ 568, 1466,  473]))\n",
            "FEES.ME (array([-1.,  0.,  1.]), array([ 178, 2136,  193]))\n",
            "VTBR.ME (array([-1.,  0.,  1.]), array([ 458, 1641,  408]))\n",
            "TGKB.ME (array([0.]), array([2507]))\n",
            "HYDR.ME (array([-1.,  0.,  1.]), array([  89, 2359,   59]))\n",
            "TGKD.ME (array([-1.,  0.,  1.]), array([ 118, 2336,   53]))\n",
            "TGKN.ME (array([0.]), array([2507]))\n",
            "RSTI.ME (array([-1.,  0.,  1.]), array([  90, 2330,   87]))\n",
            "ENRU.ME (array([-1.,  0.,  1.]), array([  85, 2354,   68]))\n",
            "SNGS.ME (array([-1.,  0.,  1.]), array([  55, 2414,   38]))\n",
            "MRKV.ME (array([-1.,  0.,  1.]), array([ 441, 1660,  406]))\n",
            "GAZP.ME (array([-1.,  0.,  1.]), array([  60, 2405,   42]))\n",
            "MRKZ.ME (array([-1.,  0.,  1.]), array([ 393, 1704,  410]))\n",
            "MRKP.ME (array([-1.,  0.,  1.]), array([ 182, 2087,  238]))\n",
            "SNGSP.ME (array([-1.,  0.,  1.]), array([  68, 2401,   38]))\n",
            "MAGN.ME (array([-1.,  0.,  1.]), array([  79, 2396,   32]))\n",
            "TGKDP.ME (array([-1.,  0.]), array([   2, 2505]))\n",
            "MSNG.ME (array([-1.,  0.,  1.]), array([  49, 2383,   75]))\n",
            "MRKC.ME (array([-1.,  0.,  1.]), array([ 148, 2242,  117]))\n",
            "MRKU.ME (array([-1.,  0.,  1.]), array([ 223, 2087,  197]))\n",
            "NMTP.ME (array([-1.,  0.,  1.]), array([  62, 2379,   66]))\n",
            "NLMK.ME (array([-1.,  0.,  1.]), array([  83, 2383,   41]))\n",
            "MTLR.ME (array([-1.,  0.,  1.]), array([ 133, 2249,  125]))\n",
            "AFLT.ME (array([-1.,  0.,  1.]), array([  61, 2395,   51]))\n",
            "MSRS.ME (array([-1.,  0.,  1.]), array([  69, 2387,   51]))\n",
            "ROSN.ME (array([-1.,  0.,  1.]), array([  69, 2398,   40]))\n",
            "TTLK.ME (array([-1.,  0.,  1.]), array([ 104, 2276,  127]))\n",
            "FESH.ME (array([-1.,  0.,  1.]), array([  99, 2297,  111]))\n",
            "TRMK.ME (array([-1.,  0.,  1.]), array([  90, 2359,   58]))\n",
            "RSTIP.ME (array([-1.,  0.,  1.]), array([  56, 2337,  114]))\n",
            "RTKM.ME (array([-1.,  0.,  1.]), array([  61, 2415,   31]))\n",
            "SIBN.ME (array([-1.,  0.,  1.]), array([  43, 2417,   47]))\n",
            "AMEZ.ME (array([-1.,  0.,  1.]), array([  90, 2287,  130]))\n",
            "ISKJ.ME (array([-1.,  0.,  1.]), array([ 108, 2285,  114]))\n",
            "DVEC.ME (array([-1.,  0.,  1.]), array([ 180, 2173,  154]))\n",
            "RASP.ME (array([-1.,  0.,  1.]), array([  80, 2346,   81]))\n",
            "RTKMP.ME (array([-1.,  0.,  1.]), array([  64, 2401,   42]))\n",
            "UTAR.ME (array([-1.,  0.,  1.]), array([ 127, 2305,   75]))\n",
            "LSNG.ME (array([-1.,  0.,  1.]), array([  79, 2337,   91]))\n",
            "BSPB.ME (array([-1.,  0.,  1.]), array([  91, 2340,   76]))\n",
            "MRKS.ME (array([-1.,  0.,  1.]), array([ 348, 1902,  257]))\n",
            "MVID.ME (array([-1.,  0.,  1.]), array([  96, 2359,   52]))\n",
            "NKNCP.ME (array([-1.,  0.,  1.]), array([  76, 2374,   57]))\n",
            "LSNGP.ME (array([-1.,  0.,  1.]), array([  58, 2359,   90]))\n",
            "PIKK.ME (array([-1.,  0.,  1.]), array([  69, 2397,   41]))\n",
            "KMAZ.ME (array([-1.,  0.,  1.]), array([  58, 2370,   79]))\n",
            "IRKT.ME (array([-1.,  0.,  1.]), array([  59, 2354,   94]))\n",
            "SVAV.ME (array([-1.,  0.,  1.]), array([  85, 2348,   74]))\n",
            "CHEP.ME (array([-1.,  0.,  1.]), array([ 203, 2063,  241]))\n",
            "MRKK.ME (array([-1.,  0.,  1.]), array([ 147, 2250,  110]))\n",
            "KUBE.ME (array([-1.,  0.,  1.]), array([ 167, 2209,  131]))\n",
            "ROSB.ME (array([-1.,  0.,  1.]), array([ 139, 2261,  107]))\n",
            "KROT.ME (array([-1.,  0.,  1.]), array([ 190, 2107,  210]))\n"
          ],
          "name": "stdout"
        }
      ]
    },
    {
      "cell_type": "markdown",
      "metadata": {
        "id": "vZCJJbkenNpt"
      },
      "source": [
        "# Входы с задержкой"
      ]
    },
    {
      "cell_type": "markdown",
      "metadata": {
        "id": "ZXz50ndSH2cj"
      },
      "source": [
        "## Анализ входов"
      ]
    },
    {
      "cell_type": "code",
      "metadata": {
        "colab": {
          "base_uri": "https://localhost:8080/",
          "height": 939
        },
        "id": "ZXopojqw7IjM",
        "outputId": "2108c2b2-1b25-4e84-e8fc-5a02875935dc"
      },
      "source": [
        "sample_acc = np.random.choice(acc_list)\n",
        "sample_data = all_data[[(gr,sample_acc) for gr in np.unique([gr for gr,acc in all_data.columns])]]\n",
        "\n",
        "plt.figure(figsize=(15,5))\n",
        "plt.subplot(1,2,1)\n",
        "plt.plot(sample_data.iloc[:,:-1])\n",
        "plt.subplot(1,2,2)\n",
        "plt.plot(sample_data.iloc[:,-1])\n",
        "plt.show()\n",
        "\n",
        "plt.figure(figsize=(15,5))\n",
        "plt.subplot(1,2,1)\n",
        "plt.plot(sample_data.iloc[:,:-1].pct_change())\n",
        "plt.subplot(1,2,2)\n",
        "plt.plot(sample_data.iloc[:,-1].apply(np.log1p))\n",
        "plt.show()\n",
        "\n",
        "plt.figure(figsize=(15,5))\n",
        "plt.subplot(1,2,1)\n",
        "plt.hist(sample_data.iloc[:,-2].pct_change(),bins=100)\n",
        "plt.subplot(1,2,2)\n",
        "plt.hist(sample_data.iloc[:,-1].apply(np.log1p),bins=100)\n",
        "plt.show()"
      ],
      "execution_count": null,
      "outputs": [
        {
          "output_type": "display_data",
          "data": {
            "image/png": "[encoded data removed]",
            "text/plain": [
              "<Figure size 1080x360 with 2 Axes>"
            ]
          },
          "metadata": {
            "tags": [],
            "needs_background": "light"
          }
        },
        {
          "output_type": "display_data",
          "data": {
            "image/png": "[encoded data removed]",
            "text/plain": [
              "<Figure size 1080x360 with 2 Axes>"
            ]
          },
          "metadata": {
            "tags": [],
            "needs_background": "light"
          }
        },
        {
          "output_type": "display_data",
          "data": {
            "image/png": "[encoded data removed]",
            "text/plain": [
              "<Figure size 1080x360 with 2 Axes>"
            ]
          },
          "metadata": {
            "tags": [],
            "needs_background": "light"
          }
        }
      ]
    },
    {
      "cell_type": "markdown",
      "metadata": {
        "id": "vflCH8gQIem9"
      },
      "source": [
        "можно для котировок использовать изменение, а для объемов использовать логарифмическое преобразование"
      ]
    },
    {
      "cell_type": "markdown",
      "metadata": {
        "id": "xmSZ09XxnSMF"
      },
      "source": [
        "## Преобразование"
      ]
    },
    {
      "cell_type": "code",
      "metadata": {
        "colab": {
          "base_uri": "https://localhost:8080/"
        },
        "id": "dNWr29KiJKqN",
        "outputId": "69dee1f5-c685-40f7-d32a-b7b1b45daba4"
      },
      "source": [
        "dData = all_data.copy()\n",
        "aohlc = dData.iloc[:,:-int(len(dData.columns)/6)]\n",
        "aohlc.iloc[:,:] = aohlc.pct_change()\n",
        "v = dData.iloc[:,-int(len(dData.columns)/6):]\n",
        "v.iloc[:,:] = v.apply(np.log1p)"
      ],
      "execution_count": null,
      "outputs": [
        {
          "output_type": "stream",
          "text": [
            "/usr/local/lib/python3.7/dist-packages/pandas/core/indexing.py:670: SettingWithCopyWarning: \n",
            "A value is trying to be set on a copy of a slice from a DataFrame\n",
            "\n",
            "See the caveats in the documentation: https://pandas.pydata.org/pandas-docs/stable/user_guide/indexing.html#returning-a-view-versus-a-copy\n",
            "  iloc._setitem_with_indexer(indexer, value)\n",
            "/usr/local/lib/python3.7/dist-packages/ipykernel_launcher.py:3: SettingWithCopyWarning: \n",
            "A value is trying to be set on a copy of a slice from a DataFrame\n",
            "\n",
            "See the caveats in the documentation: https://pandas.pydata.org/pandas-docs/stable/user_guide/indexing.html#returning-a-view-versus-a-copy\n",
            "  This is separate from the ipykernel package so we can avoid doing imports until\n",
            "/usr/local/lib/python3.7/dist-packages/ipykernel_launcher.py:5: SettingWithCopyWarning: \n",
            "A value is trying to be set on a copy of a slice from a DataFrame\n",
            "\n",
            "See the caveats in the documentation: https://pandas.pydata.org/pandas-docs/stable/user_guide/indexing.html#returning-a-view-versus-a-copy\n",
            "  \"\"\"\n"
          ],
          "name": "stderr"
        }
      ]
    },
    {
      "cell_type": "code",
      "metadata": {
        "colab": {
          "base_uri": "https://localhost:8080/"
        },
        "id": "LIcWFTss4loU",
        "outputId": "58b4a104-0a89-4fb3-bfea-d572d7efdb56"
      },
      "source": [
        "dData.isna().sum().max()"
      ],
      "execution_count": null,
      "outputs": [
        {
          "output_type": "execute_result",
          "data": {
            "text/plain": [
              "290"
            ]
          },
          "metadata": {
            "tags": []
          },
          "execution_count": 14
        }
      ]
    },
    {
      "cell_type": "markdown",
      "metadata": {
        "id": "079Wk3HB47eZ"
      },
      "source": [
        "максимальное число пустых элементов в столбце\n",
        "\n",
        "не много\n",
        "\n",
        "можно заполнить"
      ]
    },
    {
      "cell_type": "markdown",
      "metadata": {
        "id": "0sZd4RcnnV9c"
      },
      "source": [
        "## карты"
      ]
    },
    {
      "cell_type": "code",
      "metadata": {
        "id": "Zyx0Pa9gOaDP"
      },
      "source": [
        "all_len,mapsCnt = dData.shape\n",
        "zad = 40\n",
        "X_maps = np.zeros((all_len,zad,mapsCnt))\n",
        "for n in range(zad):\n",
        "    X_maps[:,n,:] = dData.shift(n).values"
      ],
      "execution_count": null,
      "outputs": []
    },
    {
      "cell_type": "code",
      "metadata": {
        "colab": {
          "base_uri": "https://localhost:8080/",
          "height": 281
        },
        "id": "TjiRMPHipToI",
        "outputId": "e2b27d74-1fd1-4e70-f611-2a14f358402f"
      },
      "source": [
        "plt.plot(X_maps[:,0,-4])"
      ],
      "execution_count": null,
      "outputs": [
        {
          "output_type": "execute_result",
          "data": {
            "text/plain": [
              "[<matplotlib.lines.Line2D at 0x7f54dacef6d0>]"
            ]
          },
          "metadata": {
            "tags": []
          },
          "execution_count": 16
        },
        {
          "output_type": "display_data",
          "data": {
            "image/png": "[encoded data removed]",
            "text/plain": [
              "<Figure size 432x288 with 1 Axes>"
            ]
          },
          "metadata": {
            "tags": [],
            "needs_background": "light"
          }
        }
      ]
    },
    {
      "cell_type": "markdown",
      "metadata": {
        "id": "Bf6Jw79xrCdk"
      },
      "source": [
        "## Даты"
      ]
    },
    {
      "cell_type": "code",
      "metadata": {
        "colab": {
          "base_uri": "https://localhost:8080/"
        },
        "id": "LSZwktuUrHu0",
        "outputId": "7a04d927-8186-41b9-fc8e-c11046271505"
      },
      "source": [
        "X_date = np.hstack([np.array([dData.index.day.values/31,dData.index.weekday.values/7,dData.index.month/12]).T])\n",
        "X_date = np.hstack([np.sin(X_date),np.cos(X_date)])\n",
        "X_date.shape"
      ],
      "execution_count": null,
      "outputs": [
        {
          "output_type": "execute_result",
          "data": {
            "text/plain": [
              "(2507, 6)"
            ]
          },
          "metadata": {
            "tags": []
          },
          "execution_count": 17
        }
      ]
    },
    {
      "cell_type": "markdown",
      "metadata": {
        "id": "9-Pj07Ffp5UV"
      },
      "source": [
        "# Обучение и тест (делим выборки)"
      ]
    },
    {
      "cell_type": "code",
      "metadata": {
        "id": "UltMJPfcqR3h"
      },
      "source": [
        "X_maps_train, X_maps_test, X_date_train, X_date_test, Y_train, Y_test = sl_ms.train_test_split(X_maps,X_date,Y,test_size=0.2,shuffle=False)\n",
        "\n",
        "for n in range(X_maps_train.shape[2]):\n",
        "    mean = np.nanmean(X_maps_train[:,:,n])\n",
        "    X_maps_train[:,:,n] -= mean\n",
        "    X_maps_test[:,:,n] -= mean\n",
        "    std = np.nanstd(X_maps_train[:,:,n])\n",
        "    X_maps_train[:,:,n] /= std if std > 1e-5 else 1\n",
        "    X_maps_test[:,:,n] /= std if std > 1e-5 else 1\n",
        "    # break\n",
        "    \n",
        "X_maps_train[np.isnan(X_maps_train)] = 0"
      ],
      "execution_count": null,
      "outputs": []
    },
    {
      "cell_type": "code",
      "metadata": {
        "colab": {
          "base_uri": "https://localhost:8080/"
        },
        "id": "WUoA7U-hrJZm",
        "outputId": "702af85b-d318-4a41-fb19-bb3e5f114329"
      },
      "source": [
        "X_maps_train.shape, X_maps_test.shape, X_date_train.shape, X_date_test.shape, Y_train.shape, Y_test.shape"
      ],
      "execution_count": null,
      "outputs": [
        {
          "output_type": "execute_result",
          "data": {
            "text/plain": [
              "((2005, 40, 318), (502, 40, 318), (2005, 6), (502, 6), (2005, 53), (502, 53))"
            ]
          },
          "metadata": {
            "tags": []
          },
          "execution_count": 19
        }
      ]
    },
    {
      "cell_type": "code",
      "metadata": {
        "colab": {
          "base_uri": "https://localhost:8080/",
          "height": 281
        },
        "id": "laD62b_C0wQ9",
        "outputId": "be4522f5-cdb0-42e0-9055-241acef8fb45"
      },
      "source": [
        "plt.plot(X_maps_train[:,1,40])"
      ],
      "execution_count": null,
      "outputs": [
        {
          "output_type": "execute_result",
          "data": {
            "text/plain": [
              "[<matplotlib.lines.Line2D at 0x7f54dacb5390>]"
            ]
          },
          "metadata": {
            "tags": []
          },
          "execution_count": 20
        },
        {
          "output_type": "display_data",
          "data": {
            "image/png": "[encoded data removed]",
            "text/plain": [
              "<Figure size 432x288 with 1 Axes>"
            ]
          },
          "metadata": {
            "tags": [],
            "needs_background": "light"
          }
        }
      ]
    },
    {
      "cell_type": "markdown",
      "metadata": {
        "id": "0hDQPzEJp9i3"
      },
      "source": [
        "# Учим - тестим"
      ]
    },
    {
      "cell_type": "markdown",
      "metadata": {
        "id": "ZeR8ljgTchvy"
      },
      "source": [
        "## Обучение"
      ]
    },
    {
      "cell_type": "code",
      "metadata": {
        "colab": {
          "base_uri": "https://localhost:8080/"
        },
        "id": "_q33jvIjlyYp",
        "outputId": "728b1885-2149-4d3f-9ba4-2656816fe87d"
      },
      "source": [
        "def build_model(hp):\n",
        "    inputMaps = keras.Input(X_maps_train[0].shape,name='inputMaps')\n",
        "    inputDate = keras.Input(X_date_train[0].shape,name='inputDate')\n",
        "\n",
        "    xMaps = keras.layers.Conv1D(filters=hp.Choice('filters1',range(10,200,10)),\n",
        "                                kernel_size=hp.Choice('kernel1',[2,3,4,5]),\n",
        "                                input_shape=X_maps_train[0].shape,\n",
        "                                activation=tf.nn.sigmoid)(inputMaps)\n",
        "    xMaps = keras.layers.MaxPool1D()(xMaps)\n",
        "    xMaps = keras.layers.BatchNormalization()(xMaps)\n",
        "    xMaps = keras.layers.Conv1D(filters=hp.Choice('filters2',range(10,200,10)),\n",
        "                                kernel_size=hp.Choice('kernel2',[2,3,4,5]),\n",
        "                                input_shape=X_maps_train[0].shape,\n",
        "                                activation=tf.nn.sigmoid)(xMaps)\n",
        "    xMaps = keras.layers.MaxPool1D()(xMaps)\n",
        "    xMaps = keras.layers.Dropout(hp.Choice('dropout',list(np.logspace(-2,-0.5,10))))(xMaps)\n",
        "    xMaps = keras.layers.Flatten()(xMaps)\n",
        "\n",
        "    x = keras.layers.concatenate([xMaps,inputDate])\n",
        "\n",
        "    x = keras.layers.Dense(hp.Choice('dense',range(10,200,10)),activation=tf.nn.sigmoid)(x)\n",
        "    output = keras.layers.Dense(3,activation=tf.nn.softmax)(x)\n",
        "\n",
        "    model = keras.Model(inputs={'inputMaps':inputMaps,'inputDate':inputDate},outputs=output)\n",
        "\n",
        "    model.compile(optimizer=tf.optimizers.Adam(learning_rate=hp.Choice('learning_rate',list(np.logspace(-4,-2)))),\n",
        "                  loss=keras.losses.SparseCategoricalCrossentropy(from_logits=True))\n",
        "    \n",
        "    return model\n",
        "\n",
        "tuner = kt.RandomSearch(build_model,\n",
        "                        objective='val_loss',\n",
        "                        max_trials=20,\n",
        "                        overwrite=True,\n",
        "                        )\n",
        "\n",
        "class_weights = class_weight.compute_class_weight('balanced',\n",
        "                                                  np.unique(Y_train[:,0]+1),\n",
        "                                                  Y_train[:,0]+1)\n",
        "\n",
        "tuner.search(x={'inputMaps':X_maps_train,'inputDate':X_date_train},\n",
        "             y=Y_train[:,0]+1,\n",
        "             epochs=100,\n",
        "             verbose=True,\n",
        "             validation_split=0.3,\n",
        "             callbacks=[keras.callbacks.EarlyStopping(patience=20,\n",
        "                                                      restore_best_weights=True)],\n",
        "             class_weight={k:v for k,v in zip(np.unique(Y_train[:,0]+1),class_weights)})\n",
        "\n",
        "bhp = tuner.get_best_hyperparameters()[0]\n",
        "\n",
        "print(bhp.values)\n",
        "\n",
        "model = build_model(bhp)\n",
        "\n",
        "model.fit(x={'inputMaps':X_maps_train,'inputDate':X_date_train},\n",
        "          y=Y_train[:,0]+1,\n",
        "          epochs=100,\n",
        "          verbose=True,\n",
        "          validation_split=0.3,\n",
        "          callbacks=[keras.callbacks.EarlyStopping(patience=20,\n",
        "                                                   restore_best_weights=True)],\n",
        "          class_weight={k:v for k,v in zip(np.unique(Y_train[:,0]+1),class_weights)}\n",
        "          )"
      ],
      "execution_count": null,
      "outputs": [
        {
          "output_type": "stream",
          "text": [
            "Trial 20 Complete [00h 00m 13s]\n",
            "val_loss: 1.101622223854065\n",
            "\n",
            "Best val_loss So Far: 1.0534635782241821\n",
            "Total elapsed time: 00h 04m 10s\n",
            "INFO:tensorflow:Oracle triggered exit\n",
            "{'filters1': 170, 'kernel1': 3, 'filters2': 150, 'kernel2': 4, 'dropout': 0.03162277660168379, 'dense': 160, 'learning_rate': 0.00017575106248547912}\n",
            "Epoch 1/100\n",
            "44/44 [==============================] - 1s 10ms/step - loss: 0.8012 - val_loss: 1.1910\n",
            "Epoch 2/100\n",
            "44/44 [==============================] - 0s 7ms/step - loss: 0.7217 - val_loss: 1.1177\n",
            "Epoch 3/100\n",
            "44/44 [==============================] - 0s 7ms/step - loss: 0.6138 - val_loss: 1.1651\n",
            "Epoch 4/100\n",
            "44/44 [==============================] - 0s 7ms/step - loss: 0.5806 - val_loss: 1.1513\n",
            "Epoch 5/100\n",
            "44/44 [==============================] - 0s 7ms/step - loss: 0.5613 - val_loss: 1.1639\n",
            "Epoch 6/100\n",
            "44/44 [==============================] - 0s 6ms/step - loss: 0.5505 - val_loss: 1.1405\n",
            "Epoch 7/100\n",
            "44/44 [==============================] - 0s 7ms/step - loss: 0.5319 - val_loss: 1.1483\n",
            "Epoch 8/100\n",
            "44/44 [==============================] - 0s 7ms/step - loss: 0.5193 - val_loss: 1.1292\n",
            "Epoch 9/100\n",
            "44/44 [==============================] - 0s 7ms/step - loss: 0.5026 - val_loss: 1.1026\n",
            "Epoch 10/100\n",
            "44/44 [==============================] - 0s 7ms/step - loss: 0.4878 - val_loss: 1.1212\n",
            "Epoch 11/100\n",
            "44/44 [==============================] - 0s 7ms/step - loss: 0.4801 - val_loss: 1.0773\n",
            "Epoch 12/100\n",
            "44/44 [==============================] - 0s 7ms/step - loss: 0.4771 - val_loss: 1.0896\n",
            "Epoch 13/100\n",
            "44/44 [==============================] - 0s 7ms/step - loss: 0.4707 - val_loss: 1.0883\n",
            "Epoch 14/100\n",
            "44/44 [==============================] - 0s 7ms/step - loss: 0.4662 - val_loss: 1.0876\n",
            "Epoch 15/100\n",
            "44/44 [==============================] - 0s 6ms/step - loss: 0.4607 - val_loss: 1.0843\n",
            "Epoch 16/100\n",
            "44/44 [==============================] - 0s 6ms/step - loss: 0.4600 - val_loss: 1.0889\n",
            "Epoch 17/100\n",
            "44/44 [==============================] - 0s 7ms/step - loss: 0.4572 - val_loss: 1.0831\n",
            "Epoch 18/100\n",
            "44/44 [==============================] - 0s 7ms/step - loss: 0.4532 - val_loss: 1.0871\n",
            "Epoch 19/100\n",
            "44/44 [==============================] - 0s 6ms/step - loss: 0.4505 - val_loss: 1.1106\n",
            "Epoch 20/100\n",
            "44/44 [==============================] - 0s 7ms/step - loss: 0.4496 - val_loss: 1.0896\n",
            "Epoch 21/100\n",
            "44/44 [==============================] - 0s 7ms/step - loss: 0.4491 - val_loss: 1.0997\n",
            "Epoch 22/100\n",
            "44/44 [==============================] - 0s 7ms/step - loss: 0.4471 - val_loss: 1.1059\n",
            "Epoch 23/100\n",
            "44/44 [==============================] - 0s 7ms/step - loss: 0.4467 - val_loss: 1.1039\n",
            "Epoch 24/100\n",
            "44/44 [==============================] - 0s 7ms/step - loss: 0.4452 - val_loss: 1.0978\n",
            "Epoch 25/100\n",
            "44/44 [==============================] - 0s 6ms/step - loss: 0.4429 - val_loss: 1.1126\n",
            "Epoch 26/100\n",
            "44/44 [==============================] - 0s 7ms/step - loss: 0.4435 - val_loss: 1.0784\n",
            "Epoch 27/100\n",
            "44/44 [==============================] - 0s 7ms/step - loss: 0.4417 - val_loss: 1.1022\n",
            "Epoch 28/100\n",
            "44/44 [==============================] - 0s 7ms/step - loss: 0.4408 - val_loss: 1.1137\n",
            "Epoch 29/100\n",
            "44/44 [==============================] - 0s 6ms/step - loss: 0.4412 - val_loss: 1.0895\n",
            "Epoch 30/100\n",
            "44/44 [==============================] - 0s 7ms/step - loss: 0.4399 - val_loss: 1.1074\n",
            "Epoch 31/100\n",
            "44/44 [==============================] - 0s 7ms/step - loss: 0.4396 - val_loss: 1.0919\n"
          ],
          "name": "stdout"
        },
        {
          "output_type": "execute_result",
          "data": {
            "text/plain": [
              "<tensorflow.python.keras.callbacks.History at 0x7f547a1fa5d0>"
            ]
          },
          "metadata": {
            "tags": []
          },
          "execution_count": 63
        }
      ]
    },
    {
      "cell_type": "markdown",
      "metadata": {
        "id": "7TiJGJj3ckgF"
      },
      "source": [
        "## Тестирование"
      ]
    },
    {
      "cell_type": "code",
      "metadata": {
        "colab": {
          "base_uri": "https://localhost:8080/"
        },
        "id": "N2_gxGib20xr",
        "outputId": "787d60b9-6855-461e-af92-a584c42c13e4"
      },
      "source": [
        "Y_pred_train = np.argmax(model.predict({'inputMaps':X_maps_train,'inputDate':X_date_train}),axis=1)-1\n",
        "Y_pred_test = np.argmax(model.predict({'inputMaps':X_maps_test,'inputDate':X_date_test}),axis=1)-1\n",
        "print('------------ train -----------')\n",
        "print(classification_report(Y_train[:,0],Y_pred_train))\n",
        "print('------------ test -----------')\n",
        "print(classification_report(Y_test[:,0],Y_pred_test))"
      ],
      "execution_count": null,
      "outputs": [
        {
          "output_type": "stream",
          "text": [
            "------------ train -----------\n",
            "              precision    recall  f1-score   support\n",
            "\n",
            "        -1.0       0.59      0.68      0.63       399\n",
            "         0.0       0.87      0.90      0.89      1360\n",
            "         1.0       0.78      0.41      0.53       246\n",
            "\n",
            "    accuracy                           0.80      2005\n",
            "   macro avg       0.74      0.66      0.68      2005\n",
            "weighted avg       0.80      0.80      0.79      2005\n",
            "\n",
            "------------ test -----------\n",
            "              precision    recall  f1-score   support\n",
            "\n",
            "        -1.0       0.37      0.84      0.51       169\n",
            "         0.0       0.26      0.27      0.26       106\n",
            "         1.0       0.00      0.00      0.00       227\n",
            "\n",
            "    accuracy                           0.34       502\n",
            "   macro avg       0.21      0.37      0.26       502\n",
            "weighted avg       0.18      0.34      0.23       502\n",
            "\n"
          ],
          "name": "stdout"
        }
      ]
    },
    {
      "cell_type": "markdown",
      "metadata": {
        "id": "AomM0SYAcm52"
      },
      "source": [
        "## Схема сети"
      ]
    },
    {
      "cell_type": "code",
      "metadata": {
        "colab": {
          "base_uri": "https://localhost:8080/",
          "height": 1000
        },
        "id": "NQoBl80Lbwya",
        "outputId": "d5776dd1-c226-4d37-e755-a276b2e17eec"
      },
      "source": [
        "keras.utils.plot_model(model,show_shapes=True,show_layer_names=True)"
      ],
      "execution_count": null,
      "outputs": [
        {
          "output_type": "execute_result",
          "data": {
            "image/png": "[encoded data removed]",
            "text/plain": [
              "<IPython.core.display.Image object>"
            ]
          },
          "metadata": {
            "tags": []
          },
          "execution_count": 65
        }
      ]
    }
  ]
}
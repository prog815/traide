{
  "nbformat": 4,
  "nbformat_minor": 0,
  "metadata": {
    "colab": {
      "name": "Прогноз на всю длину NN(подбор гиперпараметров).ipynb",
      "provenance": [],
      "toc_visible": true,
      "authorship_tag": "ABX9TyM7k9gQGNFFoX32N4AGbA0Y",
      "include_colab_link": true
    },
    "kernelspec": {
      "display_name": "Python 3",
      "name": "python3"
    },
    "language_info": {
      "name": "python"
    },
    "accelerator": "GPU"
  },
  "cells": [
    {
      "cell_type": "markdown",
      "metadata": {
        "id": "view-in-github",
        "colab_type": "text"
      },
      "source": [
        "<a href=\"https://colab.research.google.com/github/prog815/traide/blob/main/%D0%9F%D1%80%D0%BE%D0%B3%D0%BD%D0%BE%D0%B7%20%D0%BD%D0%B0%20%D0%B2%D1%81%D1%8E%20%D0%B4%D0%BB%D0%B8%D0%BD%D1%83%20NN(%D0%B2%D1%8B%D1%85%D0%BE%D0%B4%20%D0%BD%D0%B0%20%D0%BF%D0%BB%D0%B0%D1%82%D0%BE).ipynb\" target=\"_parent\"><img src=\"https://colab.research.google.com/assets/colab-badge.svg\" alt=\"Open In Colab\"/></a>"
      ]
    },
    {
      "cell_type": "markdown",
      "metadata": {
        "id": "2Zx0IP82NjX9"
      },
      "source": [
        "# Прогноз на всю длину (выход на плато)\n",
        "\n",
        "\n",
        "---\n",
        "\n",
        "добавляем немного тонкой настройки в виде выхода на плато"
      ]
    },
    {
      "cell_type": "markdown",
      "metadata": {
        "id": "SLjvs-NZdLR-"
      },
      "source": [
        "# Подключаем библиотеки"
      ]
    },
    {
      "cell_type": "code",
      "metadata": {
        "colab": {
          "base_uri": "https://localhost:8080/"
        },
        "id": "2FG9a7bpcj_t",
        "outputId": "583b3c9f-35d4-4a57-d28f-572a63d65f04"
      },
      "source": [
        "! pip install keras-tuner --upgrade\n",
        "! pip install yfinance\n",
        "! pip install git+https://github.com/prog815/progOrder"
      ],
      "execution_count": 1,
      "outputs": [
        {
          "output_type": "stream",
          "text": [
            "Collecting keras-tuner\n",
            "\u001b[?25l  Downloading https://files.pythonhosted.org/packages/a2/ba/c7a7cda64b67846bde66ffdaaf3199a79d4e35ab6b6f170cc1b7d235646e/keras_tuner-1.0.3-py3-none-any.whl (96kB)\n",
            "\r\u001b[K     |███▍                            | 10kB 11.3MB/s eta 0:00:01\r\u001b[K     |██████▉                         | 20kB 14.9MB/s eta 0:00:01\r\u001b[K     |██████████▏                     | 30kB 17.9MB/s eta 0:00:01\r\u001b[K     |█████████████▋                  | 40kB 15.3MB/s eta 0:00:01\r\u001b[K     |█████████████████               | 51kB 7.3MB/s eta 0:00:01\r\u001b[K     |████████████████████▍           | 61kB 8.4MB/s eta 0:00:01\r\u001b[K     |███████████████████████▊        | 71kB 8.1MB/s eta 0:00:01\r\u001b[K     |███████████████████████████▏    | 81kB 8.7MB/s eta 0:00:01\r\u001b[K     |██████████████████████████████▋ | 92kB 9.3MB/s eta 0:00:01\r\u001b[K     |████████████████████████████████| 102kB 6.4MB/s \n",
            "\u001b[?25hRequirement already satisfied, skipping upgrade: ipython in /usr/local/lib/python3.7/dist-packages (from keras-tuner) (5.5.0)\n",
            "Requirement already satisfied, skipping upgrade: requests in /usr/local/lib/python3.7/dist-packages (from keras-tuner) (2.23.0)\n",
            "Requirement already satisfied, skipping upgrade: tensorboard in /usr/local/lib/python3.7/dist-packages (from keras-tuner) (2.5.0)\n",
            "Requirement already satisfied, skipping upgrade: scipy in /usr/local/lib/python3.7/dist-packages (from keras-tuner) (1.4.1)\n",
            "Requirement already satisfied, skipping upgrade: packaging in /usr/local/lib/python3.7/dist-packages (from keras-tuner) (20.9)\n",
            "Requirement already satisfied, skipping upgrade: numpy in /usr/local/lib/python3.7/dist-packages (from keras-tuner) (1.19.5)\n",
            "Collecting kt-legacy\n",
            "  Downloading https://files.pythonhosted.org/packages/76/c7/7ebe02ef2495b84a47dc92a4e943260b264b6546783ca23e451bcd8c09c1/kt-legacy-1.0.3.tar.gz\n",
            "Requirement already satisfied, skipping upgrade: pexpect; sys_platform != \"win32\" in /usr/local/lib/python3.7/dist-packages (from ipython->keras-tuner) (4.8.0)\n",
            "Requirement already satisfied, skipping upgrade: pygments in /usr/local/lib/python3.7/dist-packages (from ipython->keras-tuner) (2.6.1)\n",
            "Requirement already satisfied, skipping upgrade: setuptools>=18.5 in /usr/local/lib/python3.7/dist-packages (from ipython->keras-tuner) (57.0.0)\n",
            "Requirement already satisfied, skipping upgrade: prompt-toolkit<2.0.0,>=1.0.4 in /usr/local/lib/python3.7/dist-packages (from ipython->keras-tuner) (1.0.18)\n",
            "Requirement already satisfied, skipping upgrade: pickleshare in /usr/local/lib/python3.7/dist-packages (from ipython->keras-tuner) (0.7.5)\n",
            "Requirement already satisfied, skipping upgrade: traitlets>=4.2 in /usr/local/lib/python3.7/dist-packages (from ipython->keras-tuner) (5.0.5)\n",
            "Requirement already satisfied, skipping upgrade: simplegeneric>0.8 in /usr/local/lib/python3.7/dist-packages (from ipython->keras-tuner) (0.8.1)\n",
            "Requirement already satisfied, skipping upgrade: decorator in /usr/local/lib/python3.7/dist-packages (from ipython->keras-tuner) (4.4.2)\n",
            "Requirement already satisfied, skipping upgrade: chardet<4,>=3.0.2 in /usr/local/lib/python3.7/dist-packages (from requests->keras-tuner) (3.0.4)\n",
            "Requirement already satisfied, skipping upgrade: urllib3!=1.25.0,!=1.25.1,<1.26,>=1.21.1 in /usr/local/lib/python3.7/dist-packages (from requests->keras-tuner) (1.24.3)\n",
            "Requirement already satisfied, skipping upgrade: idna<3,>=2.5 in /usr/local/lib/python3.7/dist-packages (from requests->keras-tuner) (2.10)\n",
            "Requirement already satisfied, skipping upgrade: certifi>=2017.4.17 in /usr/local/lib/python3.7/dist-packages (from requests->keras-tuner) (2021.5.30)\n",
            "Requirement already satisfied, skipping upgrade: werkzeug>=0.11.15 in /usr/local/lib/python3.7/dist-packages (from tensorboard->keras-tuner) (1.0.1)\n",
            "Requirement already satisfied, skipping upgrade: markdown>=2.6.8 in /usr/local/lib/python3.7/dist-packages (from tensorboard->keras-tuner) (3.3.4)\n",
            "Requirement already satisfied, skipping upgrade: grpcio>=1.24.3 in /usr/local/lib/python3.7/dist-packages (from tensorboard->keras-tuner) (1.34.1)\n",
            "Requirement already satisfied, skipping upgrade: tensorboard-data-server<0.7.0,>=0.6.0 in /usr/local/lib/python3.7/dist-packages (from tensorboard->keras-tuner) (0.6.1)\n",
            "Requirement already satisfied, skipping upgrade: protobuf>=3.6.0 in /usr/local/lib/python3.7/dist-packages (from tensorboard->keras-tuner) (3.17.3)\n",
            "Requirement already satisfied, skipping upgrade: google-auth<2,>=1.6.3 in /usr/local/lib/python3.7/dist-packages (from tensorboard->keras-tuner) (1.32.1)\n",
            "Requirement already satisfied, skipping upgrade: tensorboard-plugin-wit>=1.6.0 in /usr/local/lib/python3.7/dist-packages (from tensorboard->keras-tuner) (1.8.0)\n",
            "Requirement already satisfied, skipping upgrade: google-auth-oauthlib<0.5,>=0.4.1 in /usr/local/lib/python3.7/dist-packages (from tensorboard->keras-tuner) (0.4.4)\n",
            "Requirement already satisfied, skipping upgrade: wheel>=0.26; python_version >= \"3\" in /usr/local/lib/python3.7/dist-packages (from tensorboard->keras-tuner) (0.36.2)\n",
            "Requirement already satisfied, skipping upgrade: absl-py>=0.4 in /usr/local/lib/python3.7/dist-packages (from tensorboard->keras-tuner) (0.12.0)\n",
            "Requirement already satisfied, skipping upgrade: pyparsing>=2.0.2 in /usr/local/lib/python3.7/dist-packages (from packaging->keras-tuner) (2.4.7)\n",
            "Requirement already satisfied, skipping upgrade: ptyprocess>=0.5 in /usr/local/lib/python3.7/dist-packages (from pexpect; sys_platform != \"win32\"->ipython->keras-tuner) (0.7.0)\n",
            "Requirement already satisfied, skipping upgrade: wcwidth in /usr/local/lib/python3.7/dist-packages (from prompt-toolkit<2.0.0,>=1.0.4->ipython->keras-tuner) (0.2.5)\n",
            "Requirement already satisfied, skipping upgrade: six>=1.9.0 in /usr/local/lib/python3.7/dist-packages (from prompt-toolkit<2.0.0,>=1.0.4->ipython->keras-tuner) (1.15.0)\n",
            "Requirement already satisfied, skipping upgrade: ipython-genutils in /usr/local/lib/python3.7/dist-packages (from traitlets>=4.2->ipython->keras-tuner) (0.2.0)\n",
            "Requirement already satisfied, skipping upgrade: importlib-metadata; python_version < \"3.8\" in /usr/local/lib/python3.7/dist-packages (from markdown>=2.6.8->tensorboard->keras-tuner) (4.6.0)\n",
            "Requirement already satisfied, skipping upgrade: pyasn1-modules>=0.2.1 in /usr/local/lib/python3.7/dist-packages (from google-auth<2,>=1.6.3->tensorboard->keras-tuner) (0.2.8)\n",
            "Requirement already satisfied, skipping upgrade: cachetools<5.0,>=2.0.0 in /usr/local/lib/python3.7/dist-packages (from google-auth<2,>=1.6.3->tensorboard->keras-tuner) (4.2.2)\n",
            "Requirement already satisfied, skipping upgrade: rsa<5,>=3.1.4; python_version >= \"3.6\" in /usr/local/lib/python3.7/dist-packages (from google-auth<2,>=1.6.3->tensorboard->keras-tuner) (4.7.2)\n",
            "Requirement already satisfied, skipping upgrade: requests-oauthlib>=0.7.0 in /usr/local/lib/python3.7/dist-packages (from google-auth-oauthlib<0.5,>=0.4.1->tensorboard->keras-tuner) (1.3.0)\n",
            "Requirement already satisfied, skipping upgrade: typing-extensions>=3.6.4; python_version < \"3.8\" in /usr/local/lib/python3.7/dist-packages (from importlib-metadata; python_version < \"3.8\"->markdown>=2.6.8->tensorboard->keras-tuner) (3.7.4.3)\n",
            "Requirement already satisfied, skipping upgrade: zipp>=0.5 in /usr/local/lib/python3.7/dist-packages (from importlib-metadata; python_version < \"3.8\"->markdown>=2.6.8->tensorboard->keras-tuner) (3.4.1)\n",
            "Requirement already satisfied, skipping upgrade: pyasn1<0.5.0,>=0.4.6 in /usr/local/lib/python3.7/dist-packages (from pyasn1-modules>=0.2.1->google-auth<2,>=1.6.3->tensorboard->keras-tuner) (0.4.8)\n",
            "Requirement already satisfied, skipping upgrade: oauthlib>=3.0.0 in /usr/local/lib/python3.7/dist-packages (from requests-oauthlib>=0.7.0->google-auth-oauthlib<0.5,>=0.4.1->tensorboard->keras-tuner) (3.1.1)\n",
            "Building wheels for collected packages: kt-legacy\n",
            "  Building wheel for kt-legacy (setup.py) ... \u001b[?25l\u001b[?25hdone\n",
            "  Created wheel for kt-legacy: filename=kt_legacy-1.0.3-cp37-none-any.whl size=9569 sha256=ae02b15bbad5efb65fb486e2f33fc1edd8ae654b4c480b69397f16e0d194e9f2\n",
            "  Stored in directory: /root/.cache/pip/wheels/95/99/a8/6b116b0f69be60cc475d1cd36680f3a09f284d86655bb99d93\n",
            "Successfully built kt-legacy\n",
            "Installing collected packages: kt-legacy, keras-tuner\n",
            "Successfully installed keras-tuner-1.0.3 kt-legacy-1.0.3\n",
            "Collecting yfinance\n",
            "  Downloading https://files.pythonhosted.org/packages/79/bd/d64719da8f5367f4d8b16e83507fa1d90942f433f748a4cf3ed7aa515d14/yfinance-0.1.63.tar.gz\n",
            "Requirement already satisfied: pandas>=0.24 in /usr/local/lib/python3.7/dist-packages (from yfinance) (1.1.5)\n",
            "Requirement already satisfied: numpy>=1.15 in /usr/local/lib/python3.7/dist-packages (from yfinance) (1.19.5)\n",
            "Requirement already satisfied: requests>=2.20 in /usr/local/lib/python3.7/dist-packages (from yfinance) (2.23.0)\n",
            "Requirement already satisfied: multitasking>=0.0.7 in /usr/local/lib/python3.7/dist-packages (from yfinance) (0.0.9)\n",
            "Collecting lxml>=4.5.1\n",
            "\u001b[?25l  Downloading https://files.pythonhosted.org/packages/30/c0/d0526314971fc661b083ab135747dc68446a3022686da8c16d25fcf6ef07/lxml-4.6.3-cp37-cp37m-manylinux2014_x86_64.whl (6.3MB)\n",
            "\u001b[K     |████████████████████████████████| 6.3MB 11.4MB/s \n",
            "\u001b[?25hRequirement already satisfied: python-dateutil>=2.7.3 in /usr/local/lib/python3.7/dist-packages (from pandas>=0.24->yfinance) (2.8.1)\n",
            "Requirement already satisfied: pytz>=2017.2 in /usr/local/lib/python3.7/dist-packages (from pandas>=0.24->yfinance) (2018.9)\n",
            "Requirement already satisfied: urllib3!=1.25.0,!=1.25.1,<1.26,>=1.21.1 in /usr/local/lib/python3.7/dist-packages (from requests>=2.20->yfinance) (1.24.3)\n",
            "Requirement already satisfied: certifi>=2017.4.17 in /usr/local/lib/python3.7/dist-packages (from requests>=2.20->yfinance) (2021.5.30)\n",
            "Requirement already satisfied: idna<3,>=2.5 in /usr/local/lib/python3.7/dist-packages (from requests>=2.20->yfinance) (2.10)\n",
            "Requirement already satisfied: chardet<4,>=3.0.2 in /usr/local/lib/python3.7/dist-packages (from requests>=2.20->yfinance) (3.0.4)\n",
            "Requirement already satisfied: six>=1.5 in /usr/local/lib/python3.7/dist-packages (from python-dateutil>=2.7.3->pandas>=0.24->yfinance) (1.15.0)\n",
            "Building wheels for collected packages: yfinance\n",
            "  Building wheel for yfinance (setup.py) ... \u001b[?25l\u001b[?25hdone\n",
            "  Created wheel for yfinance: filename=yfinance-0.1.63-py2.py3-none-any.whl size=23919 sha256=62063a34dd29681a37374e9c4b2b534fc56d81ed2802bc1d823dfa8d2bbc9224\n",
            "  Stored in directory: /root/.cache/pip/wheels/fe/a0/79/b73d4a0c535b421b88fc7b393936b371fabbfeaf979eca4050\n",
            "Successfully built yfinance\n",
            "Installing collected packages: lxml, yfinance\n",
            "  Found existing installation: lxml 4.2.6\n",
            "    Uninstalling lxml-4.2.6:\n",
            "      Successfully uninstalled lxml-4.2.6\n",
            "Successfully installed lxml-4.6.3 yfinance-0.1.63\n",
            "Collecting git+https://github.com/prog815/progOrder\n",
            "  Cloning https://github.com/prog815/progOrder to /tmp/pip-req-build-1vzbfq05\n",
            "  Running command git clone -q https://github.com/prog815/progOrder /tmp/pip-req-build-1vzbfq05\n",
            "Building wheels for collected packages: progOrder\n",
            "  Building wheel for progOrder (setup.py) ... \u001b[?25l\u001b[?25hdone\n",
            "  Created wheel for progOrder: filename=progOrder-0.0.5-cp37-none-any.whl size=2478 sha256=901186ad1ef16502b39f932a74a28d1a70ad44123374985eadbff624377efeef\n",
            "  Stored in directory: /tmp/pip-ephem-wheel-cache-q_tcwqis/wheels/55/73/64/80cff258e67e5c7a4b92084f656d1e4f2f48a7543da44468f2\n",
            "Successfully built progOrder\n",
            "Installing collected packages: progOrder\n",
            "Successfully installed progOrder-0.0.5\n"
          ],
          "name": "stdout"
        }
      ]
    },
    {
      "cell_type": "code",
      "metadata": {
        "id": "gEYvpuixdKYr"
      },
      "source": [
        "import yfinance as yf\n",
        "import pandas as pd\n",
        "import matplotlib.pyplot as plt\n",
        "import seaborn as sns\n",
        "import numpy as np\n",
        "import datetime as dt\n",
        "import sklearn.metrics as metrics\n",
        "import progOrder\n",
        "import sklearn.model_selection as sl_ms\n",
        "from sklearn.metrics import classification_report\n",
        "import tensorflow as tf\n",
        "from tensorflow import keras\n",
        "from sklearn.utils import class_weight\n",
        "import keras_tuner as kt"
      ],
      "execution_count": 2,
      "outputs": []
    },
    {
      "cell_type": "markdown",
      "metadata": {
        "id": "du_n-vm_drab"
      },
      "source": [
        "# Загрузка котировок"
      ]
    },
    {
      "cell_type": "markdown",
      "metadata": {
        "id": "Pd5N-cGE0w2K"
      },
      "source": [
        "## список тикеров"
      ]
    },
    {
      "cell_type": "code",
      "metadata": {
        "colab": {
          "base_uri": "https://localhost:8080/"
        },
        "id": "nNPXfaG50XLA",
        "outputId": "ad8d6fc0-9353-4355-8574-2e431ec84fb1"
      },
      "source": [
        "acc_list = \"TGKA\tFEES\tVTBR\tTGKB\tHYDR\tTGKD\tTGKN\tRSTI\tENRU\tSNGS\tMRKV\tGAZP\tMRKZ\tMRKP\tSNGSP\tMAGN\tTGKDP\tMSNG\tMRKC\tMRKU\tNMTP\tNLMK\tMTLR\tAFLT\tMSRS\tROSN\tTTLK\tFESH\tTRMK\tRSTIP\tRTKM\tSIBN\tAMEZ\tISKJ\tDVEC\tRASP\tRTKMP\tUTAR\tLSNG\tBSPB\tMRKS\tMVID\tNKNCP\tLSNGP\tPIKK\tKMAZ\tIRKT\tSVAV\tCHEP\tMRKK\tKUBE\tROSB\tKROT\".split('\\t')\n",
        "acc_list = [f'{name}.ME' for name in acc_list]\n",
        "np.array(acc_list)"
      ],
      "execution_count": 3,
      "outputs": [
        {
          "output_type": "execute_result",
          "data": {
            "text/plain": [
              "array(['TGKA.ME', 'FEES.ME', 'VTBR.ME', 'TGKB.ME', 'HYDR.ME', 'TGKD.ME',\n",
              "       'TGKN.ME', 'RSTI.ME', 'ENRU.ME', 'SNGS.ME', 'MRKV.ME', 'GAZP.ME',\n",
              "       'MRKZ.ME', 'MRKP.ME', 'SNGSP.ME', 'MAGN.ME', 'TGKDP.ME', 'MSNG.ME',\n",
              "       'MRKC.ME', 'MRKU.ME', 'NMTP.ME', 'NLMK.ME', 'MTLR.ME', 'AFLT.ME',\n",
              "       'MSRS.ME', 'ROSN.ME', 'TTLK.ME', 'FESH.ME', 'TRMK.ME', 'RSTIP.ME',\n",
              "       'RTKM.ME', 'SIBN.ME', 'AMEZ.ME', 'ISKJ.ME', 'DVEC.ME', 'RASP.ME',\n",
              "       'RTKMP.ME', 'UTAR.ME', 'LSNG.ME', 'BSPB.ME', 'MRKS.ME', 'MVID.ME',\n",
              "       'NKNCP.ME', 'LSNGP.ME', 'PIKK.ME', 'KMAZ.ME', 'IRKT.ME', 'SVAV.ME',\n",
              "       'CHEP.ME', 'MRKK.ME', 'KUBE.ME', 'ROSB.ME', 'KROT.ME'], dtype='<U8')"
            ]
          },
          "metadata": {
            "tags": []
          },
          "execution_count": 3
        }
      ]
    },
    {
      "cell_type": "markdown",
      "metadata": {
        "id": "VcKjDtll0zy8"
      },
      "source": [
        "## Загрузка из сети"
      ]
    },
    {
      "cell_type": "code",
      "metadata": {
        "colab": {
          "base_uri": "https://localhost:8080/"
        },
        "id": "KVABHHii3KZf",
        "outputId": "ae968d4a-4ecb-4157-943c-a3d69905b85c"
      },
      "source": [
        "all_data = yf.download(acc_list,period='10y',threads=False)\n"
      ],
      "execution_count": 4,
      "outputs": [
        {
          "output_type": "stream",
          "text": [
            "[*********************100%***********************]  53 of 53 completed\n"
          ],
          "name": "stdout"
        }
      ]
    },
    {
      "cell_type": "code",
      "metadata": {
        "colab": {
          "base_uri": "https://localhost:8080/"
        },
        "id": "5vCEL8Ty4SPN",
        "outputId": "3db9fe2c-e7bd-4bb6-a8ef-7495bba92a46"
      },
      "source": [
        "all_data.info()"
      ],
      "execution_count": 5,
      "outputs": [
        {
          "output_type": "stream",
          "text": [
            "<class 'pandas.core.frame.DataFrame'>\n",
            "DatetimeIndex: 2507 entries, 2011-07-12 to 2021-07-12\n",
            "Columns: 318 entries, ('Adj Close', 'AFLT.ME') to ('Volume', 'VTBR.ME')\n",
            "dtypes: float64(318)\n",
            "memory usage: 6.1 MB\n"
          ],
          "name": "stdout"
        }
      ]
    },
    {
      "cell_type": "code",
      "metadata": {
        "colab": {
          "base_uri": "https://localhost:8080/",
          "height": 671
        },
        "id": "5yBao9P9eOzO",
        "outputId": "b886b3f9-b3ac-4e4c-f90e-562fab61b4f1"
      },
      "source": [
        "all_data"
      ],
      "execution_count": 6,
      "outputs": [
        {
          "output_type": "execute_result",
          "data": {
            "text/html": [
              "<div>\n",
              "<style scoped>\n",
              "    .dataframe tbody tr th:only-of-type {\n",
              "        vertical-align: middle;\n",
              "    }\n",
              "\n",
              "    .dataframe tbody tr th {\n",
              "        vertical-align: top;\n",
              "    }\n",
              "\n",
              "    .dataframe thead tr th {\n",
              "        text-align: left;\n",
              "    }\n",
              "\n",
              "    .dataframe thead tr:last-of-type th {\n",
              "        text-align: right;\n",
              "    }\n",
              "</style>\n",
              "<table border=\"1\" class=\"dataframe\">\n",
              "  <thead>\n",
              "    <tr>\n",
              "      <th></th>\n",
              "      <th colspan=\"40\" halign=\"left\">Adj Close</th>\n",
              "      <th>...</th>\n",
              "      <th colspan=\"40\" halign=\"left\">Volume</th>\n",
              "    </tr>\n",
              "    <tr>\n",
              "      <th></th>\n",
              "      <th>AFLT.ME</th>\n",
              "      <th>AMEZ.ME</th>\n",
              "      <th>BSPB.ME</th>\n",
              "      <th>CHEP.ME</th>\n",
              "      <th>DVEC.ME</th>\n",
              "      <th>ENRU.ME</th>\n",
              "      <th>FEES.ME</th>\n",
              "      <th>FESH.ME</th>\n",
              "      <th>GAZP.ME</th>\n",
              "      <th>HYDR.ME</th>\n",
              "      <th>IRKT.ME</th>\n",
              "      <th>ISKJ.ME</th>\n",
              "      <th>KMAZ.ME</th>\n",
              "      <th>KROT.ME</th>\n",
              "      <th>KUBE.ME</th>\n",
              "      <th>LSNG.ME</th>\n",
              "      <th>LSNGP.ME</th>\n",
              "      <th>MAGN.ME</th>\n",
              "      <th>MRKC.ME</th>\n",
              "      <th>MRKK.ME</th>\n",
              "      <th>MRKP.ME</th>\n",
              "      <th>MRKS.ME</th>\n",
              "      <th>MRKU.ME</th>\n",
              "      <th>MRKV.ME</th>\n",
              "      <th>MRKZ.ME</th>\n",
              "      <th>MSNG.ME</th>\n",
              "      <th>MSRS.ME</th>\n",
              "      <th>MTLR.ME</th>\n",
              "      <th>MVID.ME</th>\n",
              "      <th>NKNCP.ME</th>\n",
              "      <th>NLMK.ME</th>\n",
              "      <th>NMTP.ME</th>\n",
              "      <th>PIKK.ME</th>\n",
              "      <th>RASP.ME</th>\n",
              "      <th>ROSB.ME</th>\n",
              "      <th>ROSN.ME</th>\n",
              "      <th>RSTI.ME</th>\n",
              "      <th>RSTIP.ME</th>\n",
              "      <th>RTKM.ME</th>\n",
              "      <th>RTKMP.ME</th>\n",
              "      <th>...</th>\n",
              "      <th>KROT.ME</th>\n",
              "      <th>KUBE.ME</th>\n",
              "      <th>LSNG.ME</th>\n",
              "      <th>LSNGP.ME</th>\n",
              "      <th>MAGN.ME</th>\n",
              "      <th>MRKC.ME</th>\n",
              "      <th>MRKK.ME</th>\n",
              "      <th>MRKP.ME</th>\n",
              "      <th>MRKS.ME</th>\n",
              "      <th>MRKU.ME</th>\n",
              "      <th>MRKV.ME</th>\n",
              "      <th>MRKZ.ME</th>\n",
              "      <th>MSNG.ME</th>\n",
              "      <th>MSRS.ME</th>\n",
              "      <th>MTLR.ME</th>\n",
              "      <th>MVID.ME</th>\n",
              "      <th>NKNCP.ME</th>\n",
              "      <th>NLMK.ME</th>\n",
              "      <th>NMTP.ME</th>\n",
              "      <th>PIKK.ME</th>\n",
              "      <th>RASP.ME</th>\n",
              "      <th>ROSB.ME</th>\n",
              "      <th>ROSN.ME</th>\n",
              "      <th>RSTI.ME</th>\n",
              "      <th>RSTIP.ME</th>\n",
              "      <th>RTKM.ME</th>\n",
              "      <th>RTKMP.ME</th>\n",
              "      <th>SIBN.ME</th>\n",
              "      <th>SNGS.ME</th>\n",
              "      <th>SNGSP.ME</th>\n",
              "      <th>SVAV.ME</th>\n",
              "      <th>TGKA.ME</th>\n",
              "      <th>TGKB.ME</th>\n",
              "      <th>TGKD.ME</th>\n",
              "      <th>TGKDP.ME</th>\n",
              "      <th>TGKN.ME</th>\n",
              "      <th>TRMK.ME</th>\n",
              "      <th>TTLK.ME</th>\n",
              "      <th>UTAR.ME</th>\n",
              "      <th>VTBR.ME</th>\n",
              "    </tr>\n",
              "    <tr>\n",
              "      <th>Date</th>\n",
              "      <th></th>\n",
              "      <th></th>\n",
              "      <th></th>\n",
              "      <th></th>\n",
              "      <th></th>\n",
              "      <th></th>\n",
              "      <th></th>\n",
              "      <th></th>\n",
              "      <th></th>\n",
              "      <th></th>\n",
              "      <th></th>\n",
              "      <th></th>\n",
              "      <th></th>\n",
              "      <th></th>\n",
              "      <th></th>\n",
              "      <th></th>\n",
              "      <th></th>\n",
              "      <th></th>\n",
              "      <th></th>\n",
              "      <th></th>\n",
              "      <th></th>\n",
              "      <th></th>\n",
              "      <th></th>\n",
              "      <th></th>\n",
              "      <th></th>\n",
              "      <th></th>\n",
              "      <th></th>\n",
              "      <th></th>\n",
              "      <th></th>\n",
              "      <th></th>\n",
              "      <th></th>\n",
              "      <th></th>\n",
              "      <th></th>\n",
              "      <th></th>\n",
              "      <th></th>\n",
              "      <th></th>\n",
              "      <th></th>\n",
              "      <th></th>\n",
              "      <th></th>\n",
              "      <th></th>\n",
              "      <th></th>\n",
              "      <th></th>\n",
              "      <th></th>\n",
              "      <th></th>\n",
              "      <th></th>\n",
              "      <th></th>\n",
              "      <th></th>\n",
              "      <th></th>\n",
              "      <th></th>\n",
              "      <th></th>\n",
              "      <th></th>\n",
              "      <th></th>\n",
              "      <th></th>\n",
              "      <th></th>\n",
              "      <th></th>\n",
              "      <th></th>\n",
              "      <th></th>\n",
              "      <th></th>\n",
              "      <th></th>\n",
              "      <th></th>\n",
              "      <th></th>\n",
              "      <th></th>\n",
              "      <th></th>\n",
              "      <th></th>\n",
              "      <th></th>\n",
              "      <th></th>\n",
              "      <th></th>\n",
              "      <th></th>\n",
              "      <th></th>\n",
              "      <th></th>\n",
              "      <th></th>\n",
              "      <th></th>\n",
              "      <th></th>\n",
              "      <th></th>\n",
              "      <th></th>\n",
              "      <th></th>\n",
              "      <th></th>\n",
              "      <th></th>\n",
              "      <th></th>\n",
              "      <th></th>\n",
              "      <th></th>\n",
              "    </tr>\n",
              "  </thead>\n",
              "  <tbody>\n",
              "    <tr>\n",
              "      <th>2011-07-12</th>\n",
              "      <td>51.479931</td>\n",
              "      <td>13.209</td>\n",
              "      <td>99.052391</td>\n",
              "      <td>53.856110</td>\n",
              "      <td>1.0926</td>\n",
              "      <td>1.268456</td>\n",
              "      <td>0.253789</td>\n",
              "      <td>13.399000</td>\n",
              "      <td>110.566353</td>\n",
              "      <td>0.908735</td>\n",
              "      <td>6.556808</td>\n",
              "      <td>10.870718</td>\n",
              "      <td>57.321728</td>\n",
              "      <td>313.642822</td>\n",
              "      <td>106.768829</td>\n",
              "      <td>15.048079</td>\n",
              "      <td>17.285440</td>\n",
              "      <td>13.289416</td>\n",
              "      <td>0.509907</td>\n",
              "      <td>78.080460</td>\n",
              "      <td>0.096754</td>\n",
              "      <td>0.189110</td>\n",
              "      <td>0.153562</td>\n",
              "      <td>0.068857</td>\n",
              "      <td>0.095479</td>\n",
              "      <td>1.612242</td>\n",
              "      <td>0.894260</td>\n",
              "      <td>638.288513</td>\n",
              "      <td>125.245468</td>\n",
              "      <td>4.836457</td>\n",
              "      <td>47.093506</td>\n",
              "      <td>1.615436</td>\n",
              "      <td>83.517197</td>\n",
              "      <td>165.074661</td>\n",
              "      <td>103.760002</td>\n",
              "      <td>157.526230</td>\n",
              "      <td>3.384358</td>\n",
              "      <td>1.520458</td>\n",
              "      <td>110.069511</td>\n",
              "      <td>41.755371</td>\n",
              "      <td>...</td>\n",
              "      <td>129.0</td>\n",
              "      <td>563.0</td>\n",
              "      <td>322.0</td>\n",
              "      <td>13.0</td>\n",
              "      <td>41403.0</td>\n",
              "      <td>7845.0</td>\n",
              "      <td>2256.0</td>\n",
              "      <td>1787.0</td>\n",
              "      <td>62.0</td>\n",
              "      <td>617.0</td>\n",
              "      <td>1680.0</td>\n",
              "      <td>151.0</td>\n",
              "      <td>14094.0</td>\n",
              "      <td>3124.0</td>\n",
              "      <td>180688.0</td>\n",
              "      <td>5261.0</td>\n",
              "      <td>629.0</td>\n",
              "      <td>197737.0</td>\n",
              "      <td>579.0</td>\n",
              "      <td>45706.0</td>\n",
              "      <td>278620.0</td>\n",
              "      <td>160.0</td>\n",
              "      <td>948200.0</td>\n",
              "      <td>104037.0</td>\n",
              "      <td>936.0</td>\n",
              "      <td>225901.0</td>\n",
              "      <td>8117.0</td>\n",
              "      <td>112287.0</td>\n",
              "      <td>260946.0</td>\n",
              "      <td>144521.0</td>\n",
              "      <td>1199.0</td>\n",
              "      <td>5.676000e+03</td>\n",
              "      <td>181.0</td>\n",
              "      <td>1.170000e+02</td>\n",
              "      <td>1.0</td>\n",
              "      <td>182.0</td>\n",
              "      <td>9060.0</td>\n",
              "      <td>50.0</td>\n",
              "      <td>444.0</td>\n",
              "      <td>3.290454e+06</td>\n",
              "    </tr>\n",
              "    <tr>\n",
              "      <th>2011-07-13</th>\n",
              "      <td>51.384876</td>\n",
              "      <td>13.380</td>\n",
              "      <td>99.909012</td>\n",
              "      <td>54.127670</td>\n",
              "      <td>1.0927</td>\n",
              "      <td>1.283169</td>\n",
              "      <td>0.253152</td>\n",
              "      <td>14.187000</td>\n",
              "      <td>111.570900</td>\n",
              "      <td>0.914033</td>\n",
              "      <td>6.604415</td>\n",
              "      <td>10.921429</td>\n",
              "      <td>57.478291</td>\n",
              "      <td>305.711853</td>\n",
              "      <td>107.088821</td>\n",
              "      <td>15.217434</td>\n",
              "      <td>17.145288</td>\n",
              "      <td>13.474943</td>\n",
              "      <td>0.507826</td>\n",
              "      <td>78.245430</td>\n",
              "      <td>0.095854</td>\n",
              "      <td>0.185456</td>\n",
              "      <td>0.153562</td>\n",
              "      <td>0.068269</td>\n",
              "      <td>0.094721</td>\n",
              "      <td>1.617128</td>\n",
              "      <td>0.893134</td>\n",
              "      <td>645.755005</td>\n",
              "      <td>126.952446</td>\n",
              "      <td>4.815400</td>\n",
              "      <td>47.806721</td>\n",
              "      <td>1.613497</td>\n",
              "      <td>83.981880</td>\n",
              "      <td>167.825745</td>\n",
              "      <td>102.750000</td>\n",
              "      <td>157.856384</td>\n",
              "      <td>3.331367</td>\n",
              "      <td>1.492367</td>\n",
              "      <td>112.083969</td>\n",
              "      <td>41.607479</td>\n",
              "      <td>...</td>\n",
              "      <td>39.0</td>\n",
              "      <td>422.0</td>\n",
              "      <td>221.0</td>\n",
              "      <td>134.0</td>\n",
              "      <td>48618.0</td>\n",
              "      <td>1269.0</td>\n",
              "      <td>1954.0</td>\n",
              "      <td>543.0</td>\n",
              "      <td>206.0</td>\n",
              "      <td>1002.0</td>\n",
              "      <td>724.0</td>\n",
              "      <td>268.0</td>\n",
              "      <td>5909.0</td>\n",
              "      <td>3467.0</td>\n",
              "      <td>150836.0</td>\n",
              "      <td>5469.0</td>\n",
              "      <td>803.0</td>\n",
              "      <td>160936.0</td>\n",
              "      <td>162.0</td>\n",
              "      <td>46205.0</td>\n",
              "      <td>321850.0</td>\n",
              "      <td>112.0</td>\n",
              "      <td>926235.0</td>\n",
              "      <td>70767.0</td>\n",
              "      <td>362.0</td>\n",
              "      <td>154901.0</td>\n",
              "      <td>10488.0</td>\n",
              "      <td>54604.0</td>\n",
              "      <td>204820.0</td>\n",
              "      <td>160905.0</td>\n",
              "      <td>3449.0</td>\n",
              "      <td>3.102000e+03</td>\n",
              "      <td>24.0</td>\n",
              "      <td>1.274000e+03</td>\n",
              "      <td>1.0</td>\n",
              "      <td>176.0</td>\n",
              "      <td>30568.0</td>\n",
              "      <td>127.0</td>\n",
              "      <td>185.0</td>\n",
              "      <td>4.021595e+06</td>\n",
              "    </tr>\n",
              "    <tr>\n",
              "      <th>2011-07-14</th>\n",
              "      <td>51.202076</td>\n",
              "      <td>13.436</td>\n",
              "      <td>100.351585</td>\n",
              "      <td>53.638863</td>\n",
              "      <td>1.1018</td>\n",
              "      <td>1.286322</td>\n",
              "      <td>0.252514</td>\n",
              "      <td>13.565000</td>\n",
              "      <td>111.267319</td>\n",
              "      <td>0.910059</td>\n",
              "      <td>6.766881</td>\n",
              "      <td>10.941909</td>\n",
              "      <td>57.579597</td>\n",
              "      <td>308.898224</td>\n",
              "      <td>107.097244</td>\n",
              "      <td>15.020261</td>\n",
              "      <td>17.222839</td>\n",
              "      <td>13.512695</td>\n",
              "      <td>0.507306</td>\n",
              "      <td>78.331207</td>\n",
              "      <td>0.096304</td>\n",
              "      <td>0.185456</td>\n",
              "      <td>0.158617</td>\n",
              "      <td>0.067680</td>\n",
              "      <td>0.093205</td>\n",
              "      <td>1.620636</td>\n",
              "      <td>0.915082</td>\n",
              "      <td>656.476135</td>\n",
              "      <td>127.380348</td>\n",
              "      <td>4.814105</td>\n",
              "      <td>48.267685</td>\n",
              "      <td>1.594601</td>\n",
              "      <td>84.422943</td>\n",
              "      <td>159.408508</td>\n",
              "      <td>100.099998</td>\n",
              "      <td>158.503143</td>\n",
              "      <td>3.325184</td>\n",
              "      <td>1.505242</td>\n",
              "      <td>113.284874</td>\n",
              "      <td>41.681431</td>\n",
              "      <td>...</td>\n",
              "      <td>82.0</td>\n",
              "      <td>1017.0</td>\n",
              "      <td>633.0</td>\n",
              "      <td>73.0</td>\n",
              "      <td>25129.0</td>\n",
              "      <td>1819.0</td>\n",
              "      <td>1105.0</td>\n",
              "      <td>66.0</td>\n",
              "      <td>26.0</td>\n",
              "      <td>4830.0</td>\n",
              "      <td>1246.0</td>\n",
              "      <td>1078.0</td>\n",
              "      <td>4514.0</td>\n",
              "      <td>30032.0</td>\n",
              "      <td>83818.0</td>\n",
              "      <td>3209.0</td>\n",
              "      <td>2825.0</td>\n",
              "      <td>190173.0</td>\n",
              "      <td>4780.0</td>\n",
              "      <td>54439.0</td>\n",
              "      <td>130504.0</td>\n",
              "      <td>12.0</td>\n",
              "      <td>873970.0</td>\n",
              "      <td>68004.0</td>\n",
              "      <td>2671.0</td>\n",
              "      <td>135021.0</td>\n",
              "      <td>8603.0</td>\n",
              "      <td>87903.0</td>\n",
              "      <td>254558.0</td>\n",
              "      <td>120004.0</td>\n",
              "      <td>1135.0</td>\n",
              "      <td>4.832000e+03</td>\n",
              "      <td>12.0</td>\n",
              "      <td>4.160000e+02</td>\n",
              "      <td>1.0</td>\n",
              "      <td>294.0</td>\n",
              "      <td>13472.0</td>\n",
              "      <td>482.0</td>\n",
              "      <td>433.0</td>\n",
              "      <td>2.785689e+06</td>\n",
              "    </tr>\n",
              "    <tr>\n",
              "      <th>2011-07-15</th>\n",
              "      <td>50.968121</td>\n",
              "      <td>13.433</td>\n",
              "      <td>100.337296</td>\n",
              "      <td>53.632072</td>\n",
              "      <td>1.1330</td>\n",
              "      <td>1.283169</td>\n",
              "      <td>0.251877</td>\n",
              "      <td>13.369000</td>\n",
              "      <td>110.825752</td>\n",
              "      <td>0.902111</td>\n",
              "      <td>6.810708</td>\n",
              "      <td>11.036505</td>\n",
              "      <td>57.432240</td>\n",
              "      <td>307.549774</td>\n",
              "      <td>107.467758</td>\n",
              "      <td>15.007992</td>\n",
              "      <td>17.244791</td>\n",
              "      <td>13.508382</td>\n",
              "      <td>0.509907</td>\n",
              "      <td>77.532791</td>\n",
              "      <td>0.097654</td>\n",
              "      <td>0.185456</td>\n",
              "      <td>0.157985</td>\n",
              "      <td>0.067680</td>\n",
              "      <td>0.095479</td>\n",
              "      <td>1.610363</td>\n",
              "      <td>0.884129</td>\n",
              "      <td>647.478088</td>\n",
              "      <td>129.636139</td>\n",
              "      <td>4.856542</td>\n",
              "      <td>47.854546</td>\n",
              "      <td>1.574250</td>\n",
              "      <td>84.170906</td>\n",
              "      <td>157.686783</td>\n",
              "      <td>101.690002</td>\n",
              "      <td>157.869858</td>\n",
              "      <td>3.279258</td>\n",
              "      <td>1.485344</td>\n",
              "      <td>113.412170</td>\n",
              "      <td>41.727654</td>\n",
              "      <td>...</td>\n",
              "      <td>73.0</td>\n",
              "      <td>505.0</td>\n",
              "      <td>458.0</td>\n",
              "      <td>0.0</td>\n",
              "      <td>82111.0</td>\n",
              "      <td>2047.0</td>\n",
              "      <td>34791.0</td>\n",
              "      <td>806.0</td>\n",
              "      <td>123.0</td>\n",
              "      <td>565.0</td>\n",
              "      <td>640.0</td>\n",
              "      <td>1315.0</td>\n",
              "      <td>5046.0</td>\n",
              "      <td>2874.0</td>\n",
              "      <td>38139.0</td>\n",
              "      <td>10132.0</td>\n",
              "      <td>0.0</td>\n",
              "      <td>135770.0</td>\n",
              "      <td>693.0</td>\n",
              "      <td>55405.0</td>\n",
              "      <td>42067.0</td>\n",
              "      <td>28.0</td>\n",
              "      <td>539250.0</td>\n",
              "      <td>46107.0</td>\n",
              "      <td>197.0</td>\n",
              "      <td>115411.0</td>\n",
              "      <td>6342.0</td>\n",
              "      <td>44762.0</td>\n",
              "      <td>144350.0</td>\n",
              "      <td>52735.0</td>\n",
              "      <td>798.0</td>\n",
              "      <td>3.077000e+03</td>\n",
              "      <td>371.0</td>\n",
              "      <td>7.500000e+01</td>\n",
              "      <td>1.0</td>\n",
              "      <td>114.0</td>\n",
              "      <td>35361.0</td>\n",
              "      <td>128.0</td>\n",
              "      <td>173.0</td>\n",
              "      <td>4.411285e+06</td>\n",
              "    </tr>\n",
              "    <tr>\n",
              "      <th>2011-07-18</th>\n",
              "      <td>50.551369</td>\n",
              "      <td>13.372</td>\n",
              "      <td>100.137451</td>\n",
              "      <td>53.971519</td>\n",
              "      <td>1.1677</td>\n",
              "      <td>1.271083</td>\n",
              "      <td>0.244862</td>\n",
              "      <td>13.527000</td>\n",
              "      <td>110.229668</td>\n",
              "      <td>0.892176</td>\n",
              "      <td>6.619528</td>\n",
              "      <td>10.855114</td>\n",
              "      <td>57.027012</td>\n",
              "      <td>297.201569</td>\n",
              "      <td>107.164619</td>\n",
              "      <td>14.999807</td>\n",
              "      <td>17.192472</td>\n",
              "      <td>13.345504</td>\n",
              "      <td>0.494818</td>\n",
              "      <td>76.866341</td>\n",
              "      <td>0.096304</td>\n",
              "      <td>0.184543</td>\n",
              "      <td>0.158617</td>\n",
              "      <td>0.067092</td>\n",
              "      <td>0.093205</td>\n",
              "      <td>1.610551</td>\n",
              "      <td>0.873999</td>\n",
              "      <td>655.710327</td>\n",
              "      <td>129.947784</td>\n",
              "      <td>4.921006</td>\n",
              "      <td>46.919540</td>\n",
              "      <td>1.561168</td>\n",
              "      <td>83.698341</td>\n",
              "      <td>158.133163</td>\n",
              "      <td>100.500000</td>\n",
              "      <td>155.592621</td>\n",
              "      <td>3.257179</td>\n",
              "      <td>1.464860</td>\n",
              "      <td>113.699959</td>\n",
              "      <td>41.491940</td>\n",
              "      <td>...</td>\n",
              "      <td>260.0</td>\n",
              "      <td>634.0</td>\n",
              "      <td>149.0</td>\n",
              "      <td>5.0</td>\n",
              "      <td>42568.0</td>\n",
              "      <td>481.0</td>\n",
              "      <td>1636.0</td>\n",
              "      <td>8798.0</td>\n",
              "      <td>165.0</td>\n",
              "      <td>4445.0</td>\n",
              "      <td>827.0</td>\n",
              "      <td>305.0</td>\n",
              "      <td>7227.0</td>\n",
              "      <td>5244.0</td>\n",
              "      <td>42594.0</td>\n",
              "      <td>7668.0</td>\n",
              "      <td>2219.0</td>\n",
              "      <td>129096.0</td>\n",
              "      <td>2116.0</td>\n",
              "      <td>51019.0</td>\n",
              "      <td>30555.0</td>\n",
              "      <td>24.0</td>\n",
              "      <td>1060652.0</td>\n",
              "      <td>61432.0</td>\n",
              "      <td>235.0</td>\n",
              "      <td>128008.0</td>\n",
              "      <td>6244.0</td>\n",
              "      <td>38329.0</td>\n",
              "      <td>215254.0</td>\n",
              "      <td>159311.0</td>\n",
              "      <td>655.0</td>\n",
              "      <td>2.892000e+03</td>\n",
              "      <td>591.0</td>\n",
              "      <td>1.630000e+02</td>\n",
              "      <td>1.0</td>\n",
              "      <td>248.0</td>\n",
              "      <td>3987.0</td>\n",
              "      <td>60.0</td>\n",
              "      <td>44.0</td>\n",
              "      <td>3.326645e+06</td>\n",
              "    </tr>\n",
              "    <tr>\n",
              "      <th>...</th>\n",
              "      <td>...</td>\n",
              "      <td>...</td>\n",
              "      <td>...</td>\n",
              "      <td>...</td>\n",
              "      <td>...</td>\n",
              "      <td>...</td>\n",
              "      <td>...</td>\n",
              "      <td>...</td>\n",
              "      <td>...</td>\n",
              "      <td>...</td>\n",
              "      <td>...</td>\n",
              "      <td>...</td>\n",
              "      <td>...</td>\n",
              "      <td>...</td>\n",
              "      <td>...</td>\n",
              "      <td>...</td>\n",
              "      <td>...</td>\n",
              "      <td>...</td>\n",
              "      <td>...</td>\n",
              "      <td>...</td>\n",
              "      <td>...</td>\n",
              "      <td>...</td>\n",
              "      <td>...</td>\n",
              "      <td>...</td>\n",
              "      <td>...</td>\n",
              "      <td>...</td>\n",
              "      <td>...</td>\n",
              "      <td>...</td>\n",
              "      <td>...</td>\n",
              "      <td>...</td>\n",
              "      <td>...</td>\n",
              "      <td>...</td>\n",
              "      <td>...</td>\n",
              "      <td>...</td>\n",
              "      <td>...</td>\n",
              "      <td>...</td>\n",
              "      <td>...</td>\n",
              "      <td>...</td>\n",
              "      <td>...</td>\n",
              "      <td>...</td>\n",
              "      <td>...</td>\n",
              "      <td>...</td>\n",
              "      <td>...</td>\n",
              "      <td>...</td>\n",
              "      <td>...</td>\n",
              "      <td>...</td>\n",
              "      <td>...</td>\n",
              "      <td>...</td>\n",
              "      <td>...</td>\n",
              "      <td>...</td>\n",
              "      <td>...</td>\n",
              "      <td>...</td>\n",
              "      <td>...</td>\n",
              "      <td>...</td>\n",
              "      <td>...</td>\n",
              "      <td>...</td>\n",
              "      <td>...</td>\n",
              "      <td>...</td>\n",
              "      <td>...</td>\n",
              "      <td>...</td>\n",
              "      <td>...</td>\n",
              "      <td>...</td>\n",
              "      <td>...</td>\n",
              "      <td>...</td>\n",
              "      <td>...</td>\n",
              "      <td>...</td>\n",
              "      <td>...</td>\n",
              "      <td>...</td>\n",
              "      <td>...</td>\n",
              "      <td>...</td>\n",
              "      <td>...</td>\n",
              "      <td>...</td>\n",
              "      <td>...</td>\n",
              "      <td>...</td>\n",
              "      <td>...</td>\n",
              "      <td>...</td>\n",
              "      <td>...</td>\n",
              "      <td>...</td>\n",
              "      <td>...</td>\n",
              "      <td>...</td>\n",
              "      <td>...</td>\n",
              "    </tr>\n",
              "    <tr>\n",
              "      <th>2021-07-06</th>\n",
              "      <td>68.400002</td>\n",
              "      <td>11.225</td>\n",
              "      <td>66.019997</td>\n",
              "      <td>303.500000</td>\n",
              "      <td>0.8000</td>\n",
              "      <td>0.817600</td>\n",
              "      <td>0.223680</td>\n",
              "      <td>16.549999</td>\n",
              "      <td>294.640015</td>\n",
              "      <td>0.815382</td>\n",
              "      <td>24.879999</td>\n",
              "      <td>37.230000</td>\n",
              "      <td>72.300003</td>\n",
              "      <td>402.400482</td>\n",
              "      <td>68.000000</td>\n",
              "      <td>6.190000</td>\n",
              "      <td>150.899994</td>\n",
              "      <td>57.750000</td>\n",
              "      <td>0.376000</td>\n",
              "      <td>28.020000</td>\n",
              "      <td>0.243900</td>\n",
              "      <td>0.306500</td>\n",
              "      <td>0.146400</td>\n",
              "      <td>0.059300</td>\n",
              "      <td>0.049700</td>\n",
              "      <td>2.210000</td>\n",
              "      <td>1.186000</td>\n",
              "      <td>74.529999</td>\n",
              "      <td>639.099976</td>\n",
              "      <td>80.180000</td>\n",
              "      <td>222.199997</td>\n",
              "      <td>6.929349</td>\n",
              "      <td>1063.099976</td>\n",
              "      <td>235.100006</td>\n",
              "      <td>78.000000</td>\n",
              "      <td>571.799988</td>\n",
              "      <td>1.354900</td>\n",
              "      <td>2.000000</td>\n",
              "      <td>97.011734</td>\n",
              "      <td>86.978165</td>\n",
              "      <td>...</td>\n",
              "      <td>1000.0</td>\n",
              "      <td>30.0</td>\n",
              "      <td>237903.0</td>\n",
              "      <td>196230.0</td>\n",
              "      <td>34237640.0</td>\n",
              "      <td>21947000.0</td>\n",
              "      <td>5343.0</td>\n",
              "      <td>97620005.0</td>\n",
              "      <td>510000.0</td>\n",
              "      <td>17230004.0</td>\n",
              "      <td>46380000.0</td>\n",
              "      <td>72320000.0</td>\n",
              "      <td>9380000.0</td>\n",
              "      <td>1341025.0</td>\n",
              "      <td>2125933.0</td>\n",
              "      <td>220466.0</td>\n",
              "      <td>320907.0</td>\n",
              "      <td>10240260.0</td>\n",
              "      <td>2675700.0</td>\n",
              "      <td>136711.0</td>\n",
              "      <td>1963710.0</td>\n",
              "      <td>100.0</td>\n",
              "      <td>20141962.0</td>\n",
              "      <td>147143000.0</td>\n",
              "      <td>3571284.0</td>\n",
              "      <td>2541650.0</td>\n",
              "      <td>310820.0</td>\n",
              "      <td>1142270.0</td>\n",
              "      <td>22773600.0</td>\n",
              "      <td>92671300.0</td>\n",
              "      <td>3764.0</td>\n",
              "      <td>6.161300e+09</td>\n",
              "      <td>161000000.0</td>\n",
              "      <td>1.217400e+09</td>\n",
              "      <td>110900000.0</td>\n",
              "      <td>171000050.0</td>\n",
              "      <td>469755.0</td>\n",
              "      <td>4140000.0</td>\n",
              "      <td>6900.0</td>\n",
              "      <td>5.527354e+10</td>\n",
              "    </tr>\n",
              "    <tr>\n",
              "      <th>2021-07-07</th>\n",
              "      <td>68.300003</td>\n",
              "      <td>11.225</td>\n",
              "      <td>66.019997</td>\n",
              "      <td>303.500000</td>\n",
              "      <td>0.7890</td>\n",
              "      <td>0.813200</td>\n",
              "      <td>0.229800</td>\n",
              "      <td>16.969999</td>\n",
              "      <td>296.890015</td>\n",
              "      <td>0.811252</td>\n",
              "      <td>25.219999</td>\n",
              "      <td>38.220001</td>\n",
              "      <td>72.699997</td>\n",
              "      <td>404.399994</td>\n",
              "      <td>68.000000</td>\n",
              "      <td>6.170000</td>\n",
              "      <td>151.550003</td>\n",
              "      <td>58.889999</td>\n",
              "      <td>0.372800</td>\n",
              "      <td>27.900000</td>\n",
              "      <td>0.241900</td>\n",
              "      <td>0.305000</td>\n",
              "      <td>0.145400</td>\n",
              "      <td>0.059100</td>\n",
              "      <td>0.049600</td>\n",
              "      <td>2.196500</td>\n",
              "      <td>1.189500</td>\n",
              "      <td>74.419998</td>\n",
              "      <td>635.000000</td>\n",
              "      <td>81.000000</td>\n",
              "      <td>228.279999</td>\n",
              "      <td>6.904566</td>\n",
              "      <td>1070.300049</td>\n",
              "      <td>237.440002</td>\n",
              "      <td>78.199997</td>\n",
              "      <td>580.900024</td>\n",
              "      <td>1.369600</td>\n",
              "      <td>1.995000</td>\n",
              "      <td>97.078316</td>\n",
              "      <td>87.734497</td>\n",
              "      <td>...</td>\n",
              "      <td>530.0</td>\n",
              "      <td>130.0</td>\n",
              "      <td>215800.0</td>\n",
              "      <td>148140.0</td>\n",
              "      <td>27822003.0</td>\n",
              "      <td>23753000.0</td>\n",
              "      <td>5130.0</td>\n",
              "      <td>89190002.0</td>\n",
              "      <td>340000.0</td>\n",
              "      <td>3660000.0</td>\n",
              "      <td>18150000.0</td>\n",
              "      <td>19550000.0</td>\n",
              "      <td>10059001.0</td>\n",
              "      <td>688000.0</td>\n",
              "      <td>1665401.0</td>\n",
              "      <td>405311.0</td>\n",
              "      <td>243050.0</td>\n",
              "      <td>9405522.0</td>\n",
              "      <td>1441901.0</td>\n",
              "      <td>112575.0</td>\n",
              "      <td>541630.0</td>\n",
              "      <td>430.0</td>\n",
              "      <td>14159580.0</td>\n",
              "      <td>165272000.0</td>\n",
              "      <td>2545003.0</td>\n",
              "      <td>1731480.0</td>\n",
              "      <td>758400.0</td>\n",
              "      <td>807490.0</td>\n",
              "      <td>25462710.0</td>\n",
              "      <td>73901400.0</td>\n",
              "      <td>11770.0</td>\n",
              "      <td>4.587500e+09</td>\n",
              "      <td>215000000.0</td>\n",
              "      <td>8.977000e+08</td>\n",
              "      <td>63900000.0</td>\n",
              "      <td>330000000.0</td>\n",
              "      <td>247051.0</td>\n",
              "      <td>2570000.0</td>\n",
              "      <td>36700.0</td>\n",
              "      <td>4.482605e+10</td>\n",
              "    </tr>\n",
              "    <tr>\n",
              "      <th>2021-07-08</th>\n",
              "      <td>67.940002</td>\n",
              "      <td>11.085</td>\n",
              "      <td>65.500000</td>\n",
              "      <td>304.000000</td>\n",
              "      <td>0.7850</td>\n",
              "      <td>0.811200</td>\n",
              "      <td>0.229600</td>\n",
              "      <td>16.809999</td>\n",
              "      <td>291.899994</td>\n",
              "      <td>0.826000</td>\n",
              "      <td>25.520000</td>\n",
              "      <td>38.000000</td>\n",
              "      <td>73.199997</td>\n",
              "      <td>404.000000</td>\n",
              "      <td>67.900002</td>\n",
              "      <td>6.190000</td>\n",
              "      <td>153.300003</td>\n",
              "      <td>58.564999</td>\n",
              "      <td>0.370800</td>\n",
              "      <td>27.900000</td>\n",
              "      <td>0.241400</td>\n",
              "      <td>0.301000</td>\n",
              "      <td>0.145200</td>\n",
              "      <td>0.058650</td>\n",
              "      <td>0.049150</td>\n",
              "      <td>2.165000</td>\n",
              "      <td>1.178000</td>\n",
              "      <td>74.690002</td>\n",
              "      <td>632.400024</td>\n",
              "      <td>80.620003</td>\n",
              "      <td>225.820007</td>\n",
              "      <td>6.855000</td>\n",
              "      <td>1058.699951</td>\n",
              "      <td>235.979996</td>\n",
              "      <td>78.199997</td>\n",
              "      <td>579.599976</td>\n",
              "      <td>1.358800</td>\n",
              "      <td>1.982000</td>\n",
              "      <td>97.239998</td>\n",
              "      <td>86.599998</td>\n",
              "      <td>...</td>\n",
              "      <td>471.0</td>\n",
              "      <td>310.0</td>\n",
              "      <td>132600.0</td>\n",
              "      <td>210342.0</td>\n",
              "      <td>15797210.0</td>\n",
              "      <td>15899000.0</td>\n",
              "      <td>2560.0</td>\n",
              "      <td>46940000.0</td>\n",
              "      <td>5300000.0</td>\n",
              "      <td>1740000.0</td>\n",
              "      <td>34950000.0</td>\n",
              "      <td>65740000.0</td>\n",
              "      <td>8021000.0</td>\n",
              "      <td>1501002.0</td>\n",
              "      <td>2020410.0</td>\n",
              "      <td>252619.0</td>\n",
              "      <td>177850.0</td>\n",
              "      <td>10443610.0</td>\n",
              "      <td>1477901.0</td>\n",
              "      <td>76178.0</td>\n",
              "      <td>664240.0</td>\n",
              "      <td>1170.0</td>\n",
              "      <td>13575690.0</td>\n",
              "      <td>114899002.0</td>\n",
              "      <td>1868071.0</td>\n",
              "      <td>4036000.0</td>\n",
              "      <td>1002300.0</td>\n",
              "      <td>1162400.0</td>\n",
              "      <td>40419356.0</td>\n",
              "      <td>52767400.0</td>\n",
              "      <td>3255.0</td>\n",
              "      <td>2.332400e+09</td>\n",
              "      <td>151000020.0</td>\n",
              "      <td>9.527000e+08</td>\n",
              "      <td>32300035.0</td>\n",
              "      <td>105000000.0</td>\n",
              "      <td>292920.0</td>\n",
              "      <td>4330000.0</td>\n",
              "      <td>5300.0</td>\n",
              "      <td>4.166873e+10</td>\n",
              "    </tr>\n",
              "    <tr>\n",
              "      <th>2021-07-09</th>\n",
              "      <td>68.839996</td>\n",
              "      <td>11.160</td>\n",
              "      <td>66.900002</td>\n",
              "      <td>303.000000</td>\n",
              "      <td>0.7950</td>\n",
              "      <td>0.816400</td>\n",
              "      <td>0.228400</td>\n",
              "      <td>17.150000</td>\n",
              "      <td>294.579987</td>\n",
              "      <td>0.832400</td>\n",
              "      <td>25.360001</td>\n",
              "      <td>38.200001</td>\n",
              "      <td>74.000000</td>\n",
              "      <td>403.500000</td>\n",
              "      <td>68.000000</td>\n",
              "      <td>6.220000</td>\n",
              "      <td>155.649994</td>\n",
              "      <td>60.744999</td>\n",
              "      <td>0.375200</td>\n",
              "      <td>27.780001</td>\n",
              "      <td>0.245700</td>\n",
              "      <td>0.300500</td>\n",
              "      <td>0.144600</td>\n",
              "      <td>0.058900</td>\n",
              "      <td>0.049600</td>\n",
              "      <td>2.191000</td>\n",
              "      <td>1.189000</td>\n",
              "      <td>74.690002</td>\n",
              "      <td>632.400024</td>\n",
              "      <td>81.000000</td>\n",
              "      <td>232.899994</td>\n",
              "      <td>6.985000</td>\n",
              "      <td>1041.500000</td>\n",
              "      <td>240.119995</td>\n",
              "      <td>78.000000</td>\n",
              "      <td>575.750000</td>\n",
              "      <td>1.363500</td>\n",
              "      <td>1.987000</td>\n",
              "      <td>99.029999</td>\n",
              "      <td>87.800003</td>\n",
              "      <td>...</td>\n",
              "      <td>180.0</td>\n",
              "      <td>10.0</td>\n",
              "      <td>128200.0</td>\n",
              "      <td>235051.0</td>\n",
              "      <td>35485520.0</td>\n",
              "      <td>15484003.0</td>\n",
              "      <td>2470.0</td>\n",
              "      <td>48380000.0</td>\n",
              "      <td>570000.0</td>\n",
              "      <td>5290000.0</td>\n",
              "      <td>13870000.0</td>\n",
              "      <td>40100000.0</td>\n",
              "      <td>3337000.0</td>\n",
              "      <td>609000.0</td>\n",
              "      <td>1889663.0</td>\n",
              "      <td>311621.0</td>\n",
              "      <td>132271.0</td>\n",
              "      <td>13279992.0</td>\n",
              "      <td>1845000.0</td>\n",
              "      <td>173586.0</td>\n",
              "      <td>564870.0</td>\n",
              "      <td>1450.0</td>\n",
              "      <td>16393730.0</td>\n",
              "      <td>24871000.0</td>\n",
              "      <td>1113000.0</td>\n",
              "      <td>4860990.0</td>\n",
              "      <td>1144422.0</td>\n",
              "      <td>984630.0</td>\n",
              "      <td>19924500.0</td>\n",
              "      <td>47029205.0</td>\n",
              "      <td>5540.0</td>\n",
              "      <td>2.607800e+09</td>\n",
              "      <td>75000000.0</td>\n",
              "      <td>1.817000e+08</td>\n",
              "      <td>7100000.0</td>\n",
              "      <td>37000000.0</td>\n",
              "      <td>170300.0</td>\n",
              "      <td>3520000.0</td>\n",
              "      <td>5300.0</td>\n",
              "      <td>3.190898e+10</td>\n",
              "    </tr>\n",
              "    <tr>\n",
              "      <th>2021-07-12</th>\n",
              "      <td>68.860001</td>\n",
              "      <td>11.190</td>\n",
              "      <td>66.900002</td>\n",
              "      <td>303.000000</td>\n",
              "      <td>0.7950</td>\n",
              "      <td>0.824000</td>\n",
              "      <td>0.228140</td>\n",
              "      <td>16.930000</td>\n",
              "      <td>297.100006</td>\n",
              "      <td>0.833600</td>\n",
              "      <td>26.440001</td>\n",
              "      <td>38.689999</td>\n",
              "      <td>74.800003</td>\n",
              "      <td>404.000000</td>\n",
              "      <td>67.900002</td>\n",
              "      <td>6.210000</td>\n",
              "      <td>157.899994</td>\n",
              "      <td>60.384998</td>\n",
              "      <td>0.377800</td>\n",
              "      <td>27.600000</td>\n",
              "      <td>0.247800</td>\n",
              "      <td>0.303000</td>\n",
              "      <td>0.143000</td>\n",
              "      <td>0.058500</td>\n",
              "      <td>0.049900</td>\n",
              "      <td>2.225000</td>\n",
              "      <td>1.195500</td>\n",
              "      <td>76.739998</td>\n",
              "      <td>620.500000</td>\n",
              "      <td>81.040001</td>\n",
              "      <td>233.979996</td>\n",
              "      <td>6.970000</td>\n",
              "      <td>1026.000000</td>\n",
              "      <td>242.800003</td>\n",
              "      <td>78.000000</td>\n",
              "      <td>577.900024</td>\n",
              "      <td>1.363300</td>\n",
              "      <td>1.991000</td>\n",
              "      <td>98.930000</td>\n",
              "      <td>88.349998</td>\n",
              "      <td>...</td>\n",
              "      <td>390.0</td>\n",
              "      <td>590.0</td>\n",
              "      <td>181200.0</td>\n",
              "      <td>190290.0</td>\n",
              "      <td>11799390.0</td>\n",
              "      <td>17716000.0</td>\n",
              "      <td>410.0</td>\n",
              "      <td>47820000.0</td>\n",
              "      <td>60000.0</td>\n",
              "      <td>5840000.0</td>\n",
              "      <td>44900000.0</td>\n",
              "      <td>8970000.0</td>\n",
              "      <td>8048000.0</td>\n",
              "      <td>1418000.0</td>\n",
              "      <td>622595.0</td>\n",
              "      <td>127478.0</td>\n",
              "      <td>204566.0</td>\n",
              "      <td>7595660.0</td>\n",
              "      <td>1247200.0</td>\n",
              "      <td>114882.0</td>\n",
              "      <td>383960.0</td>\n",
              "      <td>300.0</td>\n",
              "      <td>4210810.0</td>\n",
              "      <td>76401000.0</td>\n",
              "      <td>2107000.0</td>\n",
              "      <td>1689613.0</td>\n",
              "      <td>281244.0</td>\n",
              "      <td>1152250.0</td>\n",
              "      <td>14318100.0</td>\n",
              "      <td>46065200.0</td>\n",
              "      <td>6290.0</td>\n",
              "      <td>1.547900e+09</td>\n",
              "      <td>226000001.0</td>\n",
              "      <td>6.194000e+08</td>\n",
              "      <td>13600000.0</td>\n",
              "      <td>64000000.0</td>\n",
              "      <td>105600.0</td>\n",
              "      <td>2130000.0</td>\n",
              "      <td>4100.0</td>\n",
              "      <td>2.834958e+10</td>\n",
              "    </tr>\n",
              "  </tbody>\n",
              "</table>\n",
              "<p>2507 rows × 318 columns</p>\n",
              "</div>"
            ],
            "text/plain": [
              "            Adj Close                      ...     Volume                       \n",
              "              AFLT.ME AMEZ.ME     BSPB.ME  ...    TTLK.ME  UTAR.ME       VTBR.ME\n",
              "Date                                       ...                                  \n",
              "2011-07-12  51.479931  13.209   99.052391  ...       50.0    444.0  3.290454e+06\n",
              "2011-07-13  51.384876  13.380   99.909012  ...      127.0    185.0  4.021595e+06\n",
              "2011-07-14  51.202076  13.436  100.351585  ...      482.0    433.0  2.785689e+06\n",
              "2011-07-15  50.968121  13.433  100.337296  ...      128.0    173.0  4.411285e+06\n",
              "2011-07-18  50.551369  13.372  100.137451  ...       60.0     44.0  3.326645e+06\n",
              "...               ...     ...         ...  ...        ...      ...           ...\n",
              "2021-07-06  68.400002  11.225   66.019997  ...  4140000.0   6900.0  5.527354e+10\n",
              "2021-07-07  68.300003  11.225   66.019997  ...  2570000.0  36700.0  4.482605e+10\n",
              "2021-07-08  67.940002  11.085   65.500000  ...  4330000.0   5300.0  4.166873e+10\n",
              "2021-07-09  68.839996  11.160   66.900002  ...  3520000.0   5300.0  3.190898e+10\n",
              "2021-07-12  68.860001  11.190   66.900002  ...  2130000.0   4100.0  2.834958e+10\n",
              "\n",
              "[2507 rows x 318 columns]"
            ]
          },
          "metadata": {
            "tags": []
          },
          "execution_count": 6
        }
      ]
    },
    {
      "cell_type": "markdown",
      "metadata": {
        "id": "4Pf7GrtnenoG"
      },
      "source": [
        "# Выход ордерный\n",
        "\n",
        "\n",
        "\n",
        "---\n",
        "\n",
        "\n",
        "\n",
        "Генерим выход.\n",
        "\n",
        "На выходе: \n",
        "- \"-1\" - продавать\n",
        "- 0 - держать\n",
        "- \"+1\" - покупать\n",
        "\n",
        "Генерим для каждого инструмента.\n",
        "\n",
        "\n",
        "---\n",
        "\n"
      ]
    },
    {
      "cell_type": "code",
      "metadata": {
        "id": "a_rUW2vDeqgI"
      },
      "source": [
        "res = []\n",
        "for acc in acc_list:\n",
        "    ohlc = all_data.loc[:,[['Open',acc],['High',acc],['Low',acc],['Close',acc]]].values\n",
        "    buy,sell = progOrder.getBuySellForData(ohlc,dSL=0.1,SP=0.0007)\n",
        "    y = buy-sell\n",
        "    res.append(y)\n",
        "Y = np.array(res).T"
      ],
      "execution_count": 7,
      "outputs": []
    },
    {
      "cell_type": "code",
      "metadata": {
        "colab": {
          "base_uri": "https://localhost:8080/",
          "height": 282
        },
        "id": "amfOobFmiDH6",
        "outputId": "fd7fed42-6e62-4338-85a4-e1a46b851b78"
      },
      "source": [
        "plt.plot(Y[:,12])"
      ],
      "execution_count": 8,
      "outputs": [
        {
          "output_type": "execute_result",
          "data": {
            "text/plain": [
              "[<matplotlib.lines.Line2D at 0x7fa60a812f50>]"
            ]
          },
          "metadata": {
            "tags": []
          },
          "execution_count": 8
        },
        {
          "output_type": "display_data",
          "data": {
            "image/png": "[encoded data removed]",
            "text/plain": [
              "<Figure size 432x288 with 1 Axes>"
            ]
          },
          "metadata": {
            "tags": [],
            "needs_background": "light"
          }
        }
      ]
    },
    {
      "cell_type": "markdown",
      "metadata": {
        "id": "LeXB2G06Xywo"
      },
      "source": [
        "\n",
        "\n",
        "---\n",
        "\n",
        "\n",
        "На образце по 12-му инструменту часто пляшет изменение\n",
        "\n",
        "\n",
        "\n",
        "---\n",
        "\n"
      ]
    },
    {
      "cell_type": "code",
      "metadata": {
        "colab": {
          "base_uri": "https://localhost:8080/"
        },
        "id": "KTlG5BHF4uJO",
        "outputId": "11108745-c1e9-4693-9393-2fb2cd54dcd4"
      },
      "source": [
        "for n in range(Y.shape[1]):\n",
        "    print(acc_list[n],np.unique(Y[:,n],return_counts=True))"
      ],
      "execution_count": 9,
      "outputs": [
        {
          "output_type": "stream",
          "text": [
            "TGKA.ME (array([-1.,  0.,  1.]), array([ 567, 1467,  473]))\n",
            "FEES.ME (array([-1.,  0.,  1.]), array([ 179, 2135,  193]))\n",
            "VTBR.ME (array([-1.,  0.,  1.]), array([ 458, 1640,  409]))\n",
            "TGKB.ME (array([0.]), array([2507]))\n",
            "HYDR.ME (array([-1.,  0.,  1.]), array([  89, 2359,   59]))\n",
            "TGKD.ME (array([-1.,  0.,  1.]), array([ 117, 2337,   53]))\n",
            "TGKN.ME (array([0.]), array([2507]))\n",
            "RSTI.ME (array([-1.,  0.,  1.]), array([  90, 2330,   87]))\n",
            "ENRU.ME (array([-1.,  0.,  1.]), array([  85, 2354,   68]))\n",
            "SNGS.ME (array([-1.,  0.,  1.]), array([  55, 2414,   38]))\n",
            "MRKV.ME (array([-1.,  0.,  1.]), array([ 441, 1660,  406]))\n",
            "GAZP.ME (array([-1.,  0.,  1.]), array([  60, 2405,   42]))\n",
            "MRKZ.ME (array([-1.,  0.,  1.]), array([ 393, 1703,  411]))\n",
            "MRKP.ME (array([-1.,  0.,  1.]), array([ 182, 2086,  239]))\n",
            "SNGSP.ME (array([-1.,  0.,  1.]), array([  68, 2401,   38]))\n",
            "MAGN.ME (array([-1.,  0.,  1.]), array([  79, 2396,   32]))\n",
            "TGKDP.ME (array([-1.,  0.]), array([   2, 2505]))\n",
            "MSNG.ME (array([-1.,  0.,  1.]), array([  49, 2383,   75]))\n",
            "MRKC.ME (array([-1.,  0.,  1.]), array([ 149, 2240,  118]))\n",
            "MRKU.ME (array([-1.,  0.,  1.]), array([ 223, 2087,  197]))\n",
            "NMTP.ME (array([-1.,  0.,  1.]), array([  62, 2379,   66]))\n",
            "NLMK.ME (array([-1.,  0.,  1.]), array([  83, 2383,   41]))\n",
            "MTLR.ME (array([-1.,  0.,  1.]), array([ 133, 2249,  125]))\n",
            "AFLT.ME (array([-1.,  0.,  1.]), array([  61, 2395,   51]))\n",
            "MSRS.ME (array([-1.,  0.,  1.]), array([  69, 2387,   51]))\n",
            "ROSN.ME (array([-1.,  0.,  1.]), array([  69, 2398,   40]))\n",
            "TTLK.ME (array([-1.,  0.,  1.]), array([ 104, 2276,  127]))\n",
            "FESH.ME (array([-1.,  0.,  1.]), array([  99, 2297,  111]))\n",
            "TRMK.ME (array([-1.,  0.,  1.]), array([  90, 2359,   58]))\n",
            "RSTIP.ME (array([-1.,  0.,  1.]), array([  55, 2338,  114]))\n",
            "RTKM.ME (array([-1.,  0.,  1.]), array([  61, 2415,   31]))\n",
            "SIBN.ME (array([-1.,  0.,  1.]), array([  43, 2417,   47]))\n",
            "AMEZ.ME (array([-1.,  0.,  1.]), array([  90, 2287,  130]))\n",
            "ISKJ.ME (array([-1.,  0.,  1.]), array([ 108, 2285,  114]))\n",
            "DVEC.ME (array([-1.,  0.,  1.]), array([ 180, 2173,  154]))\n",
            "RASP.ME (array([-1.,  0.,  1.]), array([  80, 2346,   81]))\n",
            "RTKMP.ME (array([-1.,  0.,  1.]), array([  64, 2401,   42]))\n",
            "UTAR.ME (array([-1.,  0.,  1.]), array([ 127, 2306,   74]))\n",
            "LSNG.ME (array([-1.,  0.,  1.]), array([  79, 2338,   90]))\n",
            "BSPB.ME (array([-1.,  0.,  1.]), array([  91, 2340,   76]))\n",
            "MRKS.ME (array([-1.,  0.,  1.]), array([ 348, 1901,  258]))\n",
            "MVID.ME (array([-1.,  0.,  1.]), array([  96, 2359,   52]))\n",
            "NKNCP.ME (array([-1.,  0.,  1.]), array([  76, 2374,   57]))\n",
            "LSNGP.ME (array([-1.,  0.,  1.]), array([  58, 2359,   90]))\n",
            "PIKK.ME (array([-1.,  0.,  1.]), array([  69, 2397,   41]))\n",
            "KMAZ.ME (array([-1.,  0.,  1.]), array([  58, 2370,   79]))\n",
            "IRKT.ME (array([-1.,  0.,  1.]), array([  59, 2354,   94]))\n",
            "SVAV.ME (array([-1.,  0.,  1.]), array([  85, 2348,   74]))\n",
            "CHEP.ME (array([-1.,  0.,  1.]), array([ 203, 2063,  241]))\n",
            "MRKK.ME (array([-1.,  0.,  1.]), array([ 147, 2250,  110]))\n",
            "KUBE.ME (array([-1.,  0.,  1.]), array([ 167, 2209,  131]))\n",
            "ROSB.ME (array([-1.,  0.,  1.]), array([ 139, 2260,  108]))\n",
            "KROT.ME (array([-1.,  0.,  1.]), array([ 190, 2108,  209]))\n"
          ],
          "name": "stdout"
        }
      ]
    },
    {
      "cell_type": "markdown",
      "metadata": {
        "id": "vZCJJbkenNpt"
      },
      "source": [
        "# Входы с задержкой"
      ]
    },
    {
      "cell_type": "markdown",
      "metadata": {
        "id": "ZXz50ndSH2cj"
      },
      "source": [
        "## Анализ входов"
      ]
    },
    {
      "cell_type": "code",
      "metadata": {
        "colab": {
          "base_uri": "https://localhost:8080/",
          "height": 937
        },
        "id": "ZXopojqw7IjM",
        "outputId": "2beeff9c-b59f-4e69-d1d7-781cb4164754"
      },
      "source": [
        "sample_acc = np.random.choice(acc_list)\n",
        "sample_data = all_data[[(gr,sample_acc) for gr in np.unique([gr for gr,acc in all_data.columns])]]\n",
        "\n",
        "plt.figure(figsize=(15,5))\n",
        "plt.subplot(1,2,1)\n",
        "plt.plot(sample_data.iloc[:,:-1])\n",
        "plt.subplot(1,2,2)\n",
        "plt.plot(sample_data.iloc[:,-1])\n",
        "plt.show()\n",
        "\n",
        "plt.figure(figsize=(15,5))\n",
        "plt.subplot(1,2,1)\n",
        "plt.plot(sample_data.iloc[:,:-1].pct_change())\n",
        "plt.subplot(1,2,2)\n",
        "plt.plot(sample_data.iloc[:,-1].apply(np.log1p))\n",
        "plt.show()\n",
        "\n",
        "plt.figure(figsize=(15,5))\n",
        "plt.subplot(1,2,1)\n",
        "plt.hist(sample_data.iloc[:,-2].pct_change(),bins=100)\n",
        "plt.subplot(1,2,2)\n",
        "plt.hist(sample_data.iloc[:,-1].apply(np.log1p),bins=100)\n",
        "plt.show()"
      ],
      "execution_count": 10,
      "outputs": [
        {
          "output_type": "display_data",
          "data": {
            "image/png": "[encoded data removed]",
            "text/plain": [
              "<Figure size 1080x360 with 2 Axes>"
            ]
          },
          "metadata": {
            "tags": [],
            "needs_background": "light"
          }
        },
        {
          "output_type": "display_data",
          "data": {
            "image/png": "[encoded data removed]",
            "text/plain": [
              "<Figure size 1080x360 with 2 Axes>"
            ]
          },
          "metadata": {
            "tags": [],
            "needs_background": "light"
          }
        },
        {
          "output_type": "display_data",
          "data": {
            "image/png": "[encoded data removed]",
            "text/plain": [
              "<Figure size 1080x360 with 2 Axes>"
            ]
          },
          "metadata": {
            "tags": [],
            "needs_background": "light"
          }
        }
      ]
    },
    {
      "cell_type": "markdown",
      "metadata": {
        "id": "vflCH8gQIem9"
      },
      "source": [
        "можно для котировок использовать изменение, а для объемов использовать логарифмическое преобразование"
      ]
    },
    {
      "cell_type": "markdown",
      "metadata": {
        "id": "xmSZ09XxnSMF"
      },
      "source": [
        "## Преобразование"
      ]
    },
    {
      "cell_type": "code",
      "metadata": {
        "colab": {
          "base_uri": "https://localhost:8080/"
        },
        "id": "dNWr29KiJKqN",
        "outputId": "73bb738e-68de-48ee-f053-31b0974b8052"
      },
      "source": [
        "dData = all_data.copy()\n",
        "aohlc = dData.iloc[:,:-int(len(dData.columns)/6)]\n",
        "aohlc.iloc[:,:] = aohlc.pct_change()\n",
        "v = dData.iloc[:,-int(len(dData.columns)/6):]\n",
        "v.iloc[:,:] = v.apply(np.log1p)"
      ],
      "execution_count": 11,
      "outputs": [
        {
          "output_type": "stream",
          "text": [
            "/usr/local/lib/python3.7/dist-packages/pandas/core/indexing.py:670: SettingWithCopyWarning: \n",
            "A value is trying to be set on a copy of a slice from a DataFrame\n",
            "\n",
            "See the caveats in the documentation: https://pandas.pydata.org/pandas-docs/stable/user_guide/indexing.html#returning-a-view-versus-a-copy\n",
            "  iloc._setitem_with_indexer(indexer, value)\n",
            "/usr/local/lib/python3.7/dist-packages/ipykernel_launcher.py:3: SettingWithCopyWarning: \n",
            "A value is trying to be set on a copy of a slice from a DataFrame\n",
            "\n",
            "See the caveats in the documentation: https://pandas.pydata.org/pandas-docs/stable/user_guide/indexing.html#returning-a-view-versus-a-copy\n",
            "  This is separate from the ipykernel package so we can avoid doing imports until\n",
            "/usr/local/lib/python3.7/dist-packages/ipykernel_launcher.py:5: SettingWithCopyWarning: \n",
            "A value is trying to be set on a copy of a slice from a DataFrame\n",
            "\n",
            "See the caveats in the documentation: https://pandas.pydata.org/pandas-docs/stable/user_guide/indexing.html#returning-a-view-versus-a-copy\n",
            "  \"\"\"\n"
          ],
          "name": "stderr"
        }
      ]
    },
    {
      "cell_type": "code",
      "metadata": {
        "colab": {
          "base_uri": "https://localhost:8080/"
        },
        "id": "LIcWFTss4loU",
        "outputId": "fcd7fcc9-4cca-42fd-cef9-82ca59420317"
      },
      "source": [
        "dData.isna().sum().max()"
      ],
      "execution_count": 12,
      "outputs": [
        {
          "output_type": "execute_result",
          "data": {
            "text/plain": [
              "290"
            ]
          },
          "metadata": {
            "tags": []
          },
          "execution_count": 12
        }
      ]
    },
    {
      "cell_type": "markdown",
      "metadata": {
        "id": "079Wk3HB47eZ"
      },
      "source": [
        "максимальное число пустых элементов в столбце\n",
        "\n",
        "не много\n",
        "\n",
        "можно заполнить"
      ]
    },
    {
      "cell_type": "markdown",
      "metadata": {
        "id": "0sZd4RcnnV9c"
      },
      "source": [
        "## карты"
      ]
    },
    {
      "cell_type": "code",
      "metadata": {
        "id": "Zyx0Pa9gOaDP"
      },
      "source": [
        "all_len,mapsCnt = dData.shape\n",
        "zad = 40\n",
        "X_maps = np.zeros((all_len,zad,mapsCnt))\n",
        "for n in range(zad):\n",
        "    X_maps[:,n,:] = dData.shift(n).values"
      ],
      "execution_count": 13,
      "outputs": []
    },
    {
      "cell_type": "code",
      "metadata": {
        "colab": {
          "base_uri": "https://localhost:8080/",
          "height": 282
        },
        "id": "TjiRMPHipToI",
        "outputId": "0b49d88c-c407-447a-ea5a-07052b6220ae"
      },
      "source": [
        "plt.plot(X_maps[:,0,-4])"
      ],
      "execution_count": 14,
      "outputs": [
        {
          "output_type": "execute_result",
          "data": {
            "text/plain": [
              "[<matplotlib.lines.Line2D at 0x7fa609e1fa50>]"
            ]
          },
          "metadata": {
            "tags": []
          },
          "execution_count": 14
        },
        {
          "output_type": "display_data",
          "data": {
            "image/png": "[encoded data removed]",
            "text/plain": [
              "<Figure size 432x288 with 1 Axes>"
            ]
          },
          "metadata": {
            "tags": [],
            "needs_background": "light"
          }
        }
      ]
    },
    {
      "cell_type": "markdown",
      "metadata": {
        "id": "Bf6Jw79xrCdk"
      },
      "source": [
        "## Даты"
      ]
    },
    {
      "cell_type": "code",
      "metadata": {
        "colab": {
          "base_uri": "https://localhost:8080/"
        },
        "id": "LSZwktuUrHu0",
        "outputId": "021dad90-0dd5-4c36-9525-4286bbc335ef"
      },
      "source": [
        "X_date = np.hstack([np.array([dData.index.day.values/31,dData.index.weekday.values/7,dData.index.month/12]).T])\n",
        "X_date = np.hstack([np.sin(X_date),np.cos(X_date)])\n",
        "X_date.shape"
      ],
      "execution_count": 15,
      "outputs": [
        {
          "output_type": "execute_result",
          "data": {
            "text/plain": [
              "(2507, 6)"
            ]
          },
          "metadata": {
            "tags": []
          },
          "execution_count": 15
        }
      ]
    },
    {
      "cell_type": "markdown",
      "metadata": {
        "id": "9-Pj07Ffp5UV"
      },
      "source": [
        "# Обучение и тест (делим выборки)"
      ]
    },
    {
      "cell_type": "code",
      "metadata": {
        "id": "UltMJPfcqR3h"
      },
      "source": [
        "X_maps_train, X_maps_test, X_date_train, X_date_test, Y_train, Y_test = sl_ms.train_test_split(X_maps,X_date,Y,test_size=0.2,shuffle=False)\n",
        "\n",
        "for n in range(X_maps_train.shape[2]):\n",
        "    mean = np.nanmean(X_maps_train[:,:,n])\n",
        "    X_maps_train[:,:,n] -= mean\n",
        "    X_maps_test[:,:,n] -= mean\n",
        "    std = np.nanstd(X_maps_train[:,:,n])\n",
        "    X_maps_train[:,:,n] /= std if std > 1e-5 else 1\n",
        "    X_maps_test[:,:,n] /= std if std > 1e-5 else 1\n",
        "    # break\n",
        "    \n",
        "X_maps_train[np.isnan(X_maps_train)] = 0"
      ],
      "execution_count": 16,
      "outputs": []
    },
    {
      "cell_type": "code",
      "metadata": {
        "colab": {
          "base_uri": "https://localhost:8080/"
        },
        "id": "WUoA7U-hrJZm",
        "outputId": "11dd9e75-589b-401f-970a-d98ed1a64310"
      },
      "source": [
        "X_maps_train.shape, X_maps_test.shape, X_date_train.shape, X_date_test.shape, Y_train.shape, Y_test.shape"
      ],
      "execution_count": 17,
      "outputs": [
        {
          "output_type": "execute_result",
          "data": {
            "text/plain": [
              "((2005, 40, 318), (502, 40, 318), (2005, 6), (502, 6), (2005, 53), (502, 53))"
            ]
          },
          "metadata": {
            "tags": []
          },
          "execution_count": 17
        }
      ]
    },
    {
      "cell_type": "code",
      "metadata": {
        "colab": {
          "base_uri": "https://localhost:8080/",
          "height": 282
        },
        "id": "laD62b_C0wQ9",
        "outputId": "7b4e1c25-5085-4ca1-a211-4764d75e1a78"
      },
      "source": [
        "plt.plot(X_maps_train[:,1,40])"
      ],
      "execution_count": 18,
      "outputs": [
        {
          "output_type": "execute_result",
          "data": {
            "text/plain": [
              "[<matplotlib.lines.Line2D at 0x7fa609d9ed50>]"
            ]
          },
          "metadata": {
            "tags": []
          },
          "execution_count": 18
        },
        {
          "output_type": "display_data",
          "data": {
            "image/png": "[encoded data removed]",
            "text/plain": [
              "<Figure size 432x288 with 1 Axes>"
            ]
          },
          "metadata": {
            "tags": [],
            "needs_background": "light"
          }
        }
      ]
    },
    {
      "cell_type": "markdown",
      "metadata": {
        "id": "0hDQPzEJp9i3"
      },
      "source": [
        "# Учим - тестим"
      ]
    },
    {
      "cell_type": "markdown",
      "metadata": {
        "id": "ZeR8ljgTchvy"
      },
      "source": [
        "## Обучение"
      ]
    },
    {
      "cell_type": "code",
      "metadata": {
        "colab": {
          "base_uri": "https://localhost:8080/"
        },
        "id": "_q33jvIjlyYp",
        "outputId": "fcc63f3f-3e63-497a-bbf1-6eb113b0ec76"
      },
      "source": [
        "def build_model(hp):\n",
        "    inputMaps = keras.Input(X_maps_train[0].shape,name='inputMaps')\n",
        "    inputDate = keras.Input(X_date_train[0].shape,name='inputDate')\n",
        "\n",
        "    xMaps = keras.layers.Conv1D(filters=hp.Choice('filters1',range(10,200,10)),\n",
        "                                kernel_size=hp.Choice('kernel1',[2,3,4,5]),\n",
        "                                input_shape=X_maps_train[0].shape,\n",
        "                                activation=tf.nn.sigmoid)(inputMaps)\n",
        "    xMaps = keras.layers.MaxPool1D()(xMaps)\n",
        "    xMaps = keras.layers.BatchNormalization()(xMaps)\n",
        "    xMaps = keras.layers.Conv1D(filters=hp.Choice('filters2',range(10,200,10)),\n",
        "                                kernel_size=hp.Choice('kernel2',[2,3,4,5]),\n",
        "                                input_shape=X_maps_train[0].shape,\n",
        "                                activation=tf.nn.sigmoid)(xMaps)\n",
        "    xMaps = keras.layers.MaxPool1D()(xMaps)\n",
        "    xMaps = keras.layers.Dropout(hp.Choice('dropout',list(np.logspace(-2,-0.5,10))))(xMaps)\n",
        "    xMaps = keras.layers.Flatten()(xMaps)\n",
        "\n",
        "    x = keras.layers.concatenate([xMaps,inputDate])\n",
        "\n",
        "    x = keras.layers.Dense(hp.Choice('dense',range(10,200,10)),activation=tf.nn.sigmoid)(x)\n",
        "    output = keras.layers.Dense(3,activation=tf.nn.softmax)(x)\n",
        "\n",
        "    model = keras.Model(inputs={'inputMaps':inputMaps,'inputDate':inputDate},outputs=output)\n",
        "\n",
        "    model.compile(optimizer=tf.optimizers.Adam(learning_rate=hp.Choice('learning_rate',list(np.logspace(-4,-2)))),\n",
        "                  loss=keras.losses.SparseCategoricalCrossentropy(from_logits=True))\n",
        "    \n",
        "    return model\n",
        "\n",
        "tuner = kt.RandomSearch(build_model,\n",
        "                        objective='val_loss',\n",
        "                        max_trials=40,\n",
        "                        overwrite=True\n",
        "                        )\n",
        "\n",
        "class_weights = class_weight.compute_class_weight('balanced',\n",
        "                                                  np.unique(Y_train[:,0]+1),\n",
        "                                                  Y_train[:,0]+1)\n",
        "\n",
        "cb_es = keras.callbacks.EarlyStopping(patience=50,restore_best_weights=True,verbose=1)\n",
        "cb_pt = keras.callbacks.ReduceLROnPlateau(verbose=1,patience=10)\n",
        "\n",
        "\n",
        "tuner.search(x={'inputMaps':X_maps_train,'inputDate':X_date_train},\n",
        "             y=Y_train[:,0]+1,\n",
        "             epochs=300,\n",
        "             verbose=True,\n",
        "             validation_split=0.3,\n",
        "             callbacks=[cb_es,cb_pt],\n",
        "             class_weight={k:v for k,v in zip(np.unique(Y_train[:,0]+1),class_weights)})\n",
        "\n",
        "bhp = tuner.get_best_hyperparameters()[0]\n",
        "\n",
        "print(bhp.values)\n",
        "\n",
        "model = build_model(bhp)\n",
        "\n",
        "model.fit(x={'inputMaps':X_maps_train,'inputDate':X_date_train},\n",
        "          y=Y_train[:,0]+1,\n",
        "          epochs=100,\n",
        "          verbose=True,\n",
        "          validation_split=0.3,\n",
        "          callbacks=[cb_es,cb_pt],\n",
        "          class_weight={k:v for k,v in zip(np.unique(Y_train[:,0]+1),class_weights)}\n",
        "          )"
      ],
      "execution_count": 23,
      "outputs": [
        {
          "output_type": "stream",
          "text": [
            "Trial 40 Complete [00h 00m 36s]\n",
            "val_loss: 1.0748738050460815\n",
            "\n",
            "Best val_loss So Far: 1.0601177215576172\n",
            "Total elapsed time: 00h 14m 26s\n",
            "INFO:tensorflow:Oracle triggered exit\n",
            "{'filters1': 80, 'kernel1': 5, 'filters2': 100, 'kernel2': 4, 'dropout': 0.046415888336127774, 'dense': 30, 'learning_rate': 0.0002811768697974231}\n",
            "Epoch 1/100\n",
            "44/44 [==============================] - 1s 9ms/step - loss: 0.8141 - val_loss: 1.1338\n",
            "Epoch 2/100\n",
            "44/44 [==============================] - 0s 6ms/step - loss: 0.7164 - val_loss: 1.1232\n",
            "Epoch 3/100\n",
            "44/44 [==============================] - 0s 6ms/step - loss: 0.6295 - val_loss: 1.1363\n",
            "Epoch 4/100\n",
            "44/44 [==============================] - 0s 6ms/step - loss: 0.5965 - val_loss: 1.1226\n",
            "Epoch 5/100\n",
            "44/44 [==============================] - 0s 5ms/step - loss: 0.5763 - val_loss: 1.1247\n",
            "Epoch 6/100\n",
            "44/44 [==============================] - 0s 6ms/step - loss: 0.5636 - val_loss: 1.1136\n",
            "Epoch 7/100\n",
            "44/44 [==============================] - 0s 6ms/step - loss: 0.5524 - val_loss: 1.0797\n",
            "Epoch 8/100\n",
            "44/44 [==============================] - 0s 6ms/step - loss: 0.5438 - val_loss: 1.0716\n",
            "Epoch 9/100\n",
            "44/44 [==============================] - 0s 6ms/step - loss: 0.5322 - val_loss: 1.0669\n",
            "Epoch 10/100\n",
            "44/44 [==============================] - 0s 5ms/step - loss: 0.5195 - val_loss: 1.0648\n",
            "Epoch 11/100\n",
            "44/44 [==============================] - 0s 6ms/step - loss: 0.5105 - val_loss: 1.0778\n",
            "Epoch 12/100\n",
            "44/44 [==============================] - 0s 6ms/step - loss: 0.5029 - val_loss: 1.0768\n",
            "Epoch 13/100\n",
            "44/44 [==============================] - 0s 5ms/step - loss: 0.4952 - val_loss: 1.0736\n",
            "Epoch 14/100\n",
            "44/44 [==============================] - 0s 6ms/step - loss: 0.4904 - val_loss: 1.0798\n",
            "Epoch 15/100\n",
            "44/44 [==============================] - 0s 5ms/step - loss: 0.4855 - val_loss: 1.0751\n",
            "Epoch 16/100\n",
            "44/44 [==============================] - 0s 6ms/step - loss: 0.4771 - val_loss: 1.0841\n",
            "Epoch 17/100\n",
            "44/44 [==============================] - 0s 6ms/step - loss: 0.4751 - val_loss: 1.0818\n",
            "Epoch 18/100\n",
            "44/44 [==============================] - 0s 6ms/step - loss: 0.4744 - val_loss: 1.0875\n",
            "Epoch 19/100\n",
            "44/44 [==============================] - 0s 5ms/step - loss: 0.4693 - val_loss: 1.0855\n",
            "Epoch 20/100\n",
            "44/44 [==============================] - 0s 6ms/step - loss: 0.4665 - val_loss: 1.0861\n",
            "\n",
            "Epoch 00020: ReduceLROnPlateau reducing learning rate to 2.8117686979742314e-05.\n",
            "Epoch 21/100\n",
            "44/44 [==============================] - 0s 6ms/step - loss: 0.4632 - val_loss: 1.0871\n",
            "Epoch 22/100\n",
            "44/44 [==============================] - 0s 6ms/step - loss: 0.4613 - val_loss: 1.0870\n",
            "Epoch 23/100\n",
            "44/44 [==============================] - 0s 6ms/step - loss: 0.4611 - val_loss: 1.0873\n",
            "Epoch 24/100\n",
            "44/44 [==============================] - 0s 6ms/step - loss: 0.4611 - val_loss: 1.0874\n",
            "Epoch 25/100\n",
            "44/44 [==============================] - 0s 6ms/step - loss: 0.4606 - val_loss: 1.0875\n",
            "Epoch 26/100\n",
            "44/44 [==============================] - 0s 6ms/step - loss: 0.4600 - val_loss: 1.0877\n",
            "Epoch 27/100\n",
            "44/44 [==============================] - 0s 6ms/step - loss: 0.4590 - val_loss: 1.0878\n",
            "Epoch 28/100\n",
            "44/44 [==============================] - 0s 6ms/step - loss: 0.4601 - val_loss: 1.0880\n",
            "Epoch 29/100\n",
            "44/44 [==============================] - 0s 6ms/step - loss: 0.4588 - val_loss: 1.0881\n",
            "Epoch 30/100\n",
            "44/44 [==============================] - 0s 5ms/step - loss: 0.4583 - val_loss: 1.0887\n",
            "\n",
            "Epoch 00030: ReduceLROnPlateau reducing learning rate to 2.8117686979742316e-06.\n",
            "Epoch 31/100\n",
            "44/44 [==============================] - 0s 6ms/step - loss: 0.4578 - val_loss: 1.0887\n",
            "Epoch 32/100\n",
            "44/44 [==============================] - 0s 6ms/step - loss: 0.4574 - val_loss: 1.0888\n",
            "Epoch 33/100\n",
            "44/44 [==============================] - 0s 6ms/step - loss: 0.4583 - val_loss: 1.0888\n",
            "Epoch 34/100\n",
            "44/44 [==============================] - 0s 6ms/step - loss: 0.4587 - val_loss: 1.0890\n",
            "Epoch 35/100\n",
            "44/44 [==============================] - 0s 6ms/step - loss: 0.4583 - val_loss: 1.0889\n",
            "Epoch 36/100\n",
            "44/44 [==============================] - 0s 6ms/step - loss: 0.4579 - val_loss: 1.0889\n",
            "Epoch 37/100\n",
            "44/44 [==============================] - 0s 5ms/step - loss: 0.4581 - val_loss: 1.0890\n",
            "Epoch 38/100\n",
            "44/44 [==============================] - 0s 5ms/step - loss: 0.4581 - val_loss: 1.0890\n",
            "Epoch 39/100\n",
            "44/44 [==============================] - 0s 5ms/step - loss: 0.4577 - val_loss: 1.0889\n",
            "Epoch 40/100\n",
            "44/44 [==============================] - 0s 6ms/step - loss: 0.4587 - val_loss: 1.0892\n",
            "\n",
            "Epoch 00040: ReduceLROnPlateau reducing learning rate to 2.811768697974232e-07.\n",
            "Epoch 41/100\n",
            "44/44 [==============================] - 0s 6ms/step - loss: 0.4578 - val_loss: 1.0891\n",
            "Epoch 42/100\n",
            "44/44 [==============================] - 0s 6ms/step - loss: 0.4576 - val_loss: 1.0890\n",
            "Epoch 43/100\n",
            "44/44 [==============================] - 0s 6ms/step - loss: 0.4582 - val_loss: 1.0890\n",
            "Epoch 44/100\n",
            "44/44 [==============================] - 0s 5ms/step - loss: 0.4577 - val_loss: 1.0889\n",
            "Epoch 45/100\n",
            "44/44 [==============================] - 0s 6ms/step - loss: 0.4585 - val_loss: 1.0889\n",
            "Epoch 46/100\n",
            "44/44 [==============================] - 0s 5ms/step - loss: 0.4584 - val_loss: 1.0890\n",
            "Epoch 47/100\n",
            "44/44 [==============================] - 0s 6ms/step - loss: 0.4576 - val_loss: 1.0891\n",
            "Epoch 48/100\n",
            "44/44 [==============================] - 0s 6ms/step - loss: 0.4575 - val_loss: 1.0890\n",
            "Epoch 49/100\n",
            "44/44 [==============================] - 0s 6ms/step - loss: 0.4590 - val_loss: 1.0891\n",
            "Epoch 50/100\n",
            "44/44 [==============================] - 0s 6ms/step - loss: 0.4581 - val_loss: 1.0890\n",
            "\n",
            "Epoch 00050: ReduceLROnPlateau reducing learning rate to 2.811768697974232e-08.\n",
            "Epoch 51/100\n",
            "44/44 [==============================] - 0s 6ms/step - loss: 0.4577 - val_loss: 1.0888\n",
            "Epoch 52/100\n",
            "44/44 [==============================] - 0s 6ms/step - loss: 0.4577 - val_loss: 1.0889\n",
            "Epoch 53/100\n",
            "44/44 [==============================] - 0s 5ms/step - loss: 0.4575 - val_loss: 1.0890\n",
            "Epoch 54/100\n",
            "44/44 [==============================] - 0s 5ms/step - loss: 0.4582 - val_loss: 1.0889\n",
            "Epoch 55/100\n",
            "44/44 [==============================] - 0s 6ms/step - loss: 0.4578 - val_loss: 1.0889\n",
            "Epoch 56/100\n",
            "44/44 [==============================] - 0s 6ms/step - loss: 0.4571 - val_loss: 1.0889\n",
            "Epoch 57/100\n",
            "44/44 [==============================] - 0s 6ms/step - loss: 0.4572 - val_loss: 1.0889\n",
            "Epoch 58/100\n",
            "44/44 [==============================] - 0s 6ms/step - loss: 0.4576 - val_loss: 1.0890\n",
            "Epoch 59/100\n",
            "44/44 [==============================] - 0s 6ms/step - loss: 0.4579 - val_loss: 1.0889\n",
            "Epoch 60/100\n",
            "44/44 [==============================] - 0s 6ms/step - loss: 0.4583 - val_loss: 1.0888\n",
            "Restoring model weights from the end of the best epoch.\n",
            "\n",
            "Epoch 00060: ReduceLROnPlateau reducing learning rate to 2.8117686979742323e-09.\n",
            "Epoch 00060: early stopping\n"
          ],
          "name": "stdout"
        },
        {
          "output_type": "execute_result",
          "data": {
            "text/plain": [
              "<tensorflow.python.keras.callbacks.History at 0x7fa5ac720890>"
            ]
          },
          "metadata": {
            "tags": []
          },
          "execution_count": 23
        }
      ]
    },
    {
      "cell_type": "markdown",
      "metadata": {
        "id": "7TiJGJj3ckgF"
      },
      "source": [
        "## Тестирование"
      ]
    },
    {
      "cell_type": "code",
      "metadata": {
        "colab": {
          "base_uri": "https://localhost:8080/"
        },
        "id": "N2_gxGib20xr",
        "outputId": "ee8d1681-0b86-4d08-fc17-8e9038d6792f"
      },
      "source": [
        "Y_pred_train = np.argmax(model.predict({'inputMaps':X_maps_train,'inputDate':X_date_train}),axis=1)-1\n",
        "Y_pred_test = np.argmax(model.predict({'inputMaps':X_maps_test,'inputDate':X_date_test}),axis=1)-1\n",
        "print('------------ train -----------')\n",
        "print(classification_report(Y_train[:,0],Y_pred_train))\n",
        "print('------------ test -----------')\n",
        "print(classification_report(Y_test[:,0],Y_pred_test))"
      ],
      "execution_count": 24,
      "outputs": [
        {
          "output_type": "stream",
          "text": [
            "------------ train -----------\n",
            "              precision    recall  f1-score   support\n",
            "\n",
            "        -1.0       0.53      0.82      0.65       398\n",
            "         0.0       0.94      0.86      0.90      1361\n",
            "         1.0       0.69      0.43      0.53       246\n",
            "\n",
            "    accuracy                           0.80      2005\n",
            "   macro avg       0.72      0.70      0.69      2005\n",
            "weighted avg       0.83      0.80      0.80      2005\n",
            "\n",
            "------------ test -----------\n",
            "              precision    recall  f1-score   support\n",
            "\n",
            "        -1.0       0.44      0.57      0.50       169\n",
            "         0.0       0.29      0.24      0.26       106\n",
            "         1.0       0.47      0.41      0.44       227\n",
            "\n",
            "    accuracy                           0.43       502\n",
            "   macro avg       0.40      0.41      0.40       502\n",
            "weighted avg       0.42      0.43      0.42       502\n",
            "\n"
          ],
          "name": "stdout"
        }
      ]
    },
    {
      "cell_type": "markdown",
      "metadata": {
        "id": "AomM0SYAcm52"
      },
      "source": [
        "## Схема сети"
      ]
    },
    {
      "cell_type": "code",
      "metadata": {
        "colab": {
          "base_uri": "https://localhost:8080/",
          "height": 1000
        },
        "id": "NQoBl80Lbwya",
        "outputId": "ad9710e2-a8e7-4168-b4b4-1cc92f1f457d"
      },
      "source": [
        "keras.utils.plot_model(model,show_shapes=True,show_layer_names=True)"
      ],
      "execution_count": 25,
      "outputs": [
        {
          "output_type": "execute_result",
          "data": {
            "image/png": "[encoded data removed]",
            "text/plain": [
              "<IPython.core.display.Image object>"
            ]
          },
          "metadata": {
            "tags": []
          },
          "execution_count": 25
        }
      ]
    }
  ]
}
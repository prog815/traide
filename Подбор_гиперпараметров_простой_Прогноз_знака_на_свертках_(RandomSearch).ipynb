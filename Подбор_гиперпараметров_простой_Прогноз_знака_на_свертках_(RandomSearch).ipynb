{
  "nbformat": 4,
  "nbformat_minor": 0,
  "metadata": {
    "colab": {
      "name": "Подбор гиперпараметров простой. Прогноз знака на свертках (RandomSearch).ipynb",
      "provenance": [],
      "collapsed_sections": [],
      "toc_visible": true,
      "authorship_tag": "ABX9TyOnh9GapvuzLuPhn35MObKY",
      "include_colab_link": true
    },
    "kernelspec": {
      "display_name": "Python 3",
      "name": "python3"
    },
    "language_info": {
      "name": "python"
    },
    "accelerator": "GPU"
  },
  "cells": [
    {
      "cell_type": "markdown",
      "metadata": {
        "id": "view-in-github",
        "colab_type": "text"
      },
      "source": [
        "<a href=\"https://colab.research.google.com/github/prog815/traide/blob/main/%D0%9F%D0%BE%D0%B4%D0%B1%D0%BE%D1%80_%D0%B3%D0%B8%D0%BF%D0%B5%D1%80%D0%BF%D0%B0%D1%80%D0%B0%D0%BC%D0%B5%D1%82%D1%80%D0%BE%D0%B2_%D0%BF%D1%80%D0%BE%D1%81%D1%82%D0%BE%D0%B9_%D0%9F%D1%80%D0%BE%D0%B3%D0%BD%D0%BE%D0%B7_%D0%B7%D0%BD%D0%B0%D0%BA%D0%B0_%D0%BD%D0%B0_%D1%81%D0%B2%D0%B5%D1%80%D1%82%D0%BA%D0%B0%D1%85_(RandomSearch).ipynb\" target=\"_parent\"><img src=\"https://colab.research.google.com/assets/colab-badge.svg\" alt=\"Open In Colab\"/></a>"
      ]
    },
    {
      "cell_type": "markdown",
      "metadata": {
        "id": "SLjvs-NZdLR-"
      },
      "source": [
        "# Подключаем библиотеки"
      ]
    },
    {
      "cell_type": "code",
      "metadata": {
        "colab": {
          "base_uri": "https://localhost:8080/"
        },
        "id": "2FG9a7bpcj_t",
        "outputId": "58efee71-238c-4ab0-db4a-8e821c224fe4"
      },
      "source": [
        "! pip install yfinance\n",
        "! pip install keras-tuner "
      ],
      "execution_count": null,
      "outputs": [
        {
          "output_type": "stream",
          "name": "stdout",
          "text": [
            "Collecting yfinance\n",
            "  Downloading yfinance-0.1.63.tar.gz (26 kB)\n",
            "Requirement already satisfied: pandas>=0.24 in /usr/local/lib/python3.7/dist-packages (from yfinance) (1.1.5)\n",
            "Requirement already satisfied: numpy>=1.15 in /usr/local/lib/python3.7/dist-packages (from yfinance) (1.19.5)\n",
            "Requirement already satisfied: requests>=2.20 in /usr/local/lib/python3.7/dist-packages (from yfinance) (2.23.0)\n",
            "Requirement already satisfied: multitasking>=0.0.7 in /usr/local/lib/python3.7/dist-packages (from yfinance) (0.0.9)\n",
            "Collecting lxml>=4.5.1\n",
            "  Downloading lxml-4.6.3-cp37-cp37m-manylinux2014_x86_64.whl (6.3 MB)\n",
            "\u001b[K     |████████████████████████████████| 6.3 MB 7.8 MB/s \n",
            "\u001b[?25hRequirement already satisfied: python-dateutil>=2.7.3 in /usr/local/lib/python3.7/dist-packages (from pandas>=0.24->yfinance) (2.8.2)\n",
            "Requirement already satisfied: pytz>=2017.2 in /usr/local/lib/python3.7/dist-packages (from pandas>=0.24->yfinance) (2018.9)\n",
            "Requirement already satisfied: six>=1.5 in /usr/local/lib/python3.7/dist-packages (from python-dateutil>=2.7.3->pandas>=0.24->yfinance) (1.15.0)\n",
            "Requirement already satisfied: chardet<4,>=3.0.2 in /usr/local/lib/python3.7/dist-packages (from requests>=2.20->yfinance) (3.0.4)\n",
            "Requirement already satisfied: urllib3!=1.25.0,!=1.25.1,<1.26,>=1.21.1 in /usr/local/lib/python3.7/dist-packages (from requests>=2.20->yfinance) (1.24.3)\n",
            "Requirement already satisfied: idna<3,>=2.5 in /usr/local/lib/python3.7/dist-packages (from requests>=2.20->yfinance) (2.10)\n",
            "Requirement already satisfied: certifi>=2017.4.17 in /usr/local/lib/python3.7/dist-packages (from requests>=2.20->yfinance) (2021.5.30)\n",
            "Building wheels for collected packages: yfinance\n",
            "  Building wheel for yfinance (setup.py) ... \u001b[?25l\u001b[?25hdone\n",
            "  Created wheel for yfinance: filename=yfinance-0.1.63-py2.py3-none-any.whl size=23918 sha256=489506387518ed3083cc37bd46351843df74d13b2561065a597a0fb2bd2aae0e\n",
            "  Stored in directory: /root/.cache/pip/wheels/fe/87/8b/7ec24486e001d3926537f5f7801f57a74d181be25b11157983\n",
            "Successfully built yfinance\n",
            "Installing collected packages: lxml, yfinance\n",
            "  Attempting uninstall: lxml\n",
            "    Found existing installation: lxml 4.2.6\n",
            "    Uninstalling lxml-4.2.6:\n",
            "      Successfully uninstalled lxml-4.2.6\n",
            "Successfully installed lxml-4.6.3 yfinance-0.1.63\n",
            "Collecting keras-tuner\n",
            "  Downloading keras_tuner-1.0.4-py3-none-any.whl (97 kB)\n",
            "\u001b[K     |████████████████████████████████| 97 kB 3.8 MB/s \n",
            "\u001b[?25hRequirement already satisfied: packaging in /usr/local/lib/python3.7/dist-packages (from keras-tuner) (21.0)\n",
            "Requirement already satisfied: requests in /usr/local/lib/python3.7/dist-packages (from keras-tuner) (2.23.0)\n",
            "Requirement already satisfied: tensorboard in /usr/local/lib/python3.7/dist-packages (from keras-tuner) (2.6.0)\n",
            "Requirement already satisfied: ipython in /usr/local/lib/python3.7/dist-packages (from keras-tuner) (5.5.0)\n",
            "Requirement already satisfied: scipy in /usr/local/lib/python3.7/dist-packages (from keras-tuner) (1.4.1)\n",
            "Requirement already satisfied: numpy in /usr/local/lib/python3.7/dist-packages (from keras-tuner) (1.19.5)\n",
            "Collecting kt-legacy\n",
            "  Downloading kt_legacy-1.0.4-py3-none-any.whl (9.6 kB)\n",
            "Requirement already satisfied: pygments in /usr/local/lib/python3.7/dist-packages (from ipython->keras-tuner) (2.6.1)\n",
            "Requirement already satisfied: pexpect in /usr/local/lib/python3.7/dist-packages (from ipython->keras-tuner) (4.8.0)\n",
            "Requirement already satisfied: traitlets>=4.2 in /usr/local/lib/python3.7/dist-packages (from ipython->keras-tuner) (5.0.5)\n",
            "Requirement already satisfied: prompt-toolkit<2.0.0,>=1.0.4 in /usr/local/lib/python3.7/dist-packages (from ipython->keras-tuner) (1.0.18)\n",
            "Requirement already satisfied: setuptools>=18.5 in /usr/local/lib/python3.7/dist-packages (from ipython->keras-tuner) (57.4.0)\n",
            "Requirement already satisfied: pickleshare in /usr/local/lib/python3.7/dist-packages (from ipython->keras-tuner) (0.7.5)\n",
            "Requirement already satisfied: decorator in /usr/local/lib/python3.7/dist-packages (from ipython->keras-tuner) (4.4.2)\n",
            "Requirement already satisfied: simplegeneric>0.8 in /usr/local/lib/python3.7/dist-packages (from ipython->keras-tuner) (0.8.1)\n",
            "Requirement already satisfied: wcwidth in /usr/local/lib/python3.7/dist-packages (from prompt-toolkit<2.0.0,>=1.0.4->ipython->keras-tuner) (0.2.5)\n",
            "Requirement already satisfied: six>=1.9.0 in /usr/local/lib/python3.7/dist-packages (from prompt-toolkit<2.0.0,>=1.0.4->ipython->keras-tuner) (1.15.0)\n",
            "Requirement already satisfied: ipython-genutils in /usr/local/lib/python3.7/dist-packages (from traitlets>=4.2->ipython->keras-tuner) (0.2.0)\n",
            "Requirement already satisfied: pyparsing>=2.0.2 in /usr/local/lib/python3.7/dist-packages (from packaging->keras-tuner) (2.4.7)\n",
            "Requirement already satisfied: ptyprocess>=0.5 in /usr/local/lib/python3.7/dist-packages (from pexpect->ipython->keras-tuner) (0.7.0)\n",
            "Requirement already satisfied: certifi>=2017.4.17 in /usr/local/lib/python3.7/dist-packages (from requests->keras-tuner) (2021.5.30)\n",
            "Requirement already satisfied: chardet<4,>=3.0.2 in /usr/local/lib/python3.7/dist-packages (from requests->keras-tuner) (3.0.4)\n",
            "Requirement already satisfied: urllib3!=1.25.0,!=1.25.1,<1.26,>=1.21.1 in /usr/local/lib/python3.7/dist-packages (from requests->keras-tuner) (1.24.3)\n",
            "Requirement already satisfied: idna<3,>=2.5 in /usr/local/lib/python3.7/dist-packages (from requests->keras-tuner) (2.10)\n",
            "Requirement already satisfied: google-auth<2,>=1.6.3 in /usr/local/lib/python3.7/dist-packages (from tensorboard->keras-tuner) (1.34.0)\n",
            "Requirement already satisfied: grpcio>=1.24.3 in /usr/local/lib/python3.7/dist-packages (from tensorboard->keras-tuner) (1.39.0)\n",
            "Requirement already satisfied: werkzeug>=0.11.15 in /usr/local/lib/python3.7/dist-packages (from tensorboard->keras-tuner) (1.0.1)\n",
            "Requirement already satisfied: wheel>=0.26 in /usr/local/lib/python3.7/dist-packages (from tensorboard->keras-tuner) (0.37.0)\n",
            "Requirement already satisfied: protobuf>=3.6.0 in /usr/local/lib/python3.7/dist-packages (from tensorboard->keras-tuner) (3.17.3)\n",
            "Requirement already satisfied: absl-py>=0.4 in /usr/local/lib/python3.7/dist-packages (from tensorboard->keras-tuner) (0.12.0)\n",
            "Requirement already satisfied: tensorboard-data-server<0.7.0,>=0.6.0 in /usr/local/lib/python3.7/dist-packages (from tensorboard->keras-tuner) (0.6.1)\n",
            "Requirement already satisfied: google-auth-oauthlib<0.5,>=0.4.1 in /usr/local/lib/python3.7/dist-packages (from tensorboard->keras-tuner) (0.4.5)\n",
            "Requirement already satisfied: tensorboard-plugin-wit>=1.6.0 in /usr/local/lib/python3.7/dist-packages (from tensorboard->keras-tuner) (1.8.0)\n",
            "Requirement already satisfied: markdown>=2.6.8 in /usr/local/lib/python3.7/dist-packages (from tensorboard->keras-tuner) (3.3.4)\n",
            "Requirement already satisfied: rsa<5,>=3.1.4 in /usr/local/lib/python3.7/dist-packages (from google-auth<2,>=1.6.3->tensorboard->keras-tuner) (4.7.2)\n",
            "Requirement already satisfied: cachetools<5.0,>=2.0.0 in /usr/local/lib/python3.7/dist-packages (from google-auth<2,>=1.6.3->tensorboard->keras-tuner) (4.2.2)\n",
            "Requirement already satisfied: pyasn1-modules>=0.2.1 in /usr/local/lib/python3.7/dist-packages (from google-auth<2,>=1.6.3->tensorboard->keras-tuner) (0.2.8)\n",
            "Requirement already satisfied: requests-oauthlib>=0.7.0 in /usr/local/lib/python3.7/dist-packages (from google-auth-oauthlib<0.5,>=0.4.1->tensorboard->keras-tuner) (1.3.0)\n",
            "Requirement already satisfied: importlib-metadata in /usr/local/lib/python3.7/dist-packages (from markdown>=2.6.8->tensorboard->keras-tuner) (4.6.4)\n",
            "Requirement already satisfied: pyasn1<0.5.0,>=0.4.6 in /usr/local/lib/python3.7/dist-packages (from pyasn1-modules>=0.2.1->google-auth<2,>=1.6.3->tensorboard->keras-tuner) (0.4.8)\n",
            "Requirement already satisfied: oauthlib>=3.0.0 in /usr/local/lib/python3.7/dist-packages (from requests-oauthlib>=0.7.0->google-auth-oauthlib<0.5,>=0.4.1->tensorboard->keras-tuner) (3.1.1)\n",
            "Requirement already satisfied: typing-extensions>=3.6.4 in /usr/local/lib/python3.7/dist-packages (from importlib-metadata->markdown>=2.6.8->tensorboard->keras-tuner) (3.7.4.3)\n",
            "Requirement already satisfied: zipp>=0.5 in /usr/local/lib/python3.7/dist-packages (from importlib-metadata->markdown>=2.6.8->tensorboard->keras-tuner) (3.5.0)\n",
            "Installing collected packages: kt-legacy, keras-tuner\n",
            "Successfully installed keras-tuner-1.0.4 kt-legacy-1.0.4\n"
          ]
        }
      ]
    },
    {
      "cell_type": "code",
      "metadata": {
        "id": "gEYvpuixdKYr"
      },
      "source": [
        "import yfinance as yf\n",
        "import pandas as pd\n",
        "import matplotlib.pyplot as plt\n",
        "import seaborn as sns\n",
        "import numpy as np\n",
        "import datetime as dt\n",
        "import tensorflow as tf\n",
        "from tensorflow import keras\n",
        "from sklearn.model_selection import train_test_split\n",
        "from sklearn.metrics import classification_report,confusion_matrix\n",
        "import keras_tuner as kt"
      ],
      "execution_count": null,
      "outputs": []
    },
    {
      "cell_type": "markdown",
      "metadata": {
        "id": "du_n-vm_drab"
      },
      "source": [
        "# Загрузка котировок"
      ]
    },
    {
      "cell_type": "markdown",
      "metadata": {
        "id": "Pd5N-cGE0w2K"
      },
      "source": [
        "## список тикеров"
      ]
    },
    {
      "cell_type": "code",
      "metadata": {
        "colab": {
          "base_uri": "https://localhost:8080/"
        },
        "id": "nNPXfaG50XLA",
        "outputId": "3d05bbe1-6d83-44f1-b552-600a9de1ee6c"
      },
      "source": [
        "acc_list = \"TGKA\tFEES\tVTBR\tTGKB\tHYDR\tTGKD\tTGKN\tRSTI\tENRU\tSNGS\tMRKV\tGAZP\tMRKZ\tMRKP\tSNGSP\tMAGN\tTGKDP\tMSNG\tMRKC\tMRKU\tNMTP\tNLMK\tMTLR\tAFLT\tMSRS\tROSN\tTTLK\tFESH\tTRMK\tRSTIP\tRTKM\tSIBN\tAMEZ\tISKJ\tDVEC\tRASP\tRTKMP\tUTAR\tLSNG\tBSPB\tMRKS\tMVID\tNKNCP\tLSNGP\tPIKK\tKMAZ\tIRKT\tSVAV\tCHEP\tMRKK\tKUBE\tROSB\tKROT\".split('\\t')\n",
        "acc_list = [f'{name}.ME' for name in acc_list]\n",
        "np.array(acc_list)"
      ],
      "execution_count": null,
      "outputs": [
        {
          "output_type": "execute_result",
          "data": {
            "text/plain": [
              "array(['TGKA.ME', 'FEES.ME', 'VTBR.ME', 'TGKB.ME', 'HYDR.ME', 'TGKD.ME',\n",
              "       'TGKN.ME', 'RSTI.ME', 'ENRU.ME', 'SNGS.ME', 'MRKV.ME', 'GAZP.ME',\n",
              "       'MRKZ.ME', 'MRKP.ME', 'SNGSP.ME', 'MAGN.ME', 'TGKDP.ME', 'MSNG.ME',\n",
              "       'MRKC.ME', 'MRKU.ME', 'NMTP.ME', 'NLMK.ME', 'MTLR.ME', 'AFLT.ME',\n",
              "       'MSRS.ME', 'ROSN.ME', 'TTLK.ME', 'FESH.ME', 'TRMK.ME', 'RSTIP.ME',\n",
              "       'RTKM.ME', 'SIBN.ME', 'AMEZ.ME', 'ISKJ.ME', 'DVEC.ME', 'RASP.ME',\n",
              "       'RTKMP.ME', 'UTAR.ME', 'LSNG.ME', 'BSPB.ME', 'MRKS.ME', 'MVID.ME',\n",
              "       'NKNCP.ME', 'LSNGP.ME', 'PIKK.ME', 'KMAZ.ME', 'IRKT.ME', 'SVAV.ME',\n",
              "       'CHEP.ME', 'MRKK.ME', 'KUBE.ME', 'ROSB.ME', 'KROT.ME'], dtype='<U8')"
            ]
          },
          "metadata": {},
          "execution_count": 3
        }
      ]
    },
    {
      "cell_type": "markdown",
      "metadata": {
        "id": "VcKjDtll0zy8"
      },
      "source": [
        "## Загрузка из сети"
      ]
    },
    {
      "cell_type": "code",
      "metadata": {
        "colab": {
          "base_uri": "https://localhost:8080/"
        },
        "id": "KVABHHii3KZf",
        "outputId": "eb681a2d-41d0-46e5-bfac-790160b4f6e1"
      },
      "source": [
        "all_data = yf.download(acc_list,period='10y',threads=False)\n"
      ],
      "execution_count": null,
      "outputs": [
        {
          "output_type": "stream",
          "name": "stdout",
          "text": [
            "[*********************100%***********************]  53 of 53 completed\n"
          ]
        }
      ]
    },
    {
      "cell_type": "code",
      "metadata": {
        "colab": {
          "base_uri": "https://localhost:8080/"
        },
        "id": "5vCEL8Ty4SPN",
        "outputId": "5d1a4cef-6ef5-4bb8-8a78-ad2b226cb10e"
      },
      "source": [
        "all_data.info()"
      ],
      "execution_count": null,
      "outputs": [
        {
          "output_type": "stream",
          "name": "stdout",
          "text": [
            "<class 'pandas.core.frame.DataFrame'>\n",
            "DatetimeIndex: 2507 entries, 2011-09-05 to 2021-09-03\n",
            "Columns: 318 entries, ('Adj Close', 'AFLT.ME') to ('Volume', 'VTBR.ME')\n",
            "dtypes: float64(318)\n",
            "memory usage: 6.1 MB\n"
          ]
        }
      ]
    },
    {
      "cell_type": "markdown",
      "metadata": {
        "id": "bwcb54MY-XW-"
      },
      "source": [
        "## Заполнить пустоты предыдущим"
      ]
    },
    {
      "cell_type": "code",
      "metadata": {
        "id": "5yBao9P9eOzO"
      },
      "source": [
        "all_data.fillna(method='pad',inplace=True)"
      ],
      "execution_count": null,
      "outputs": []
    },
    {
      "cell_type": "markdown",
      "metadata": {
        "id": "bx8r7PB4oKCn"
      },
      "source": [
        "# Подготовка данных"
      ]
    },
    {
      "cell_type": "markdown",
      "metadata": {
        "id": "Wlu-gWjs6crR"
      },
      "source": [
        "## К общему знаменателю (без сдвига)"
      ]
    },
    {
      "cell_type": "markdown",
      "metadata": {
        "id": "KGhds4uQVpnj"
      },
      "source": [
        "### Входы (курсы + объем) (без сдвига)"
      ]
    },
    {
      "cell_type": "code",
      "metadata": {
        "colab": {
          "base_uri": "https://localhost:8080/"
        },
        "id": "8afn1tex7Fdv",
        "outputId": "0b728233-b0e7-4cb6-b77a-d209f57ed084"
      },
      "source": [
        "# inpData1 = np.hstack([(all_data[gr] / all_data['Close'].shift(1)).values for gr in ('Open','High','Low','Close')])\n",
        "# inpData1.shape\n",
        "d = [all_data[gr]/all_data['Close'].shift(1) for gr in ('Open','High','Low','Close')]\n",
        "v = all_data['Volume'].apply(np.log1p)\n",
        "v = v.diff()\n",
        "d.append(v)\n",
        "d = np.hstack([x.values for x in d])\n",
        "d.shape"
      ],
      "execution_count": null,
      "outputs": [
        {
          "output_type": "execute_result",
          "data": {
            "text/plain": [
              "(2507, 265)"
            ]
          },
          "metadata": {},
          "execution_count": 7
        }
      ]
    },
    {
      "cell_type": "markdown",
      "metadata": {
        "id": "Jd5XE-1YVs1L"
      },
      "source": [
        "### Выход"
      ]
    },
    {
      "cell_type": "code",
      "metadata": {
        "id": "kUJISrxGUyO5",
        "colab": {
          "base_uri": "https://localhost:8080/"
        },
        "outputId": "346b3f1d-37f3-4b08-f33b-5dcf2f32e73b"
      },
      "source": [
        "# outDataHigh = (all_data['High'] / all_data['Close'].shift(1)).values\n",
        "# outDataLow = (all_data['Low'] / all_data['Close'].shift(1)).values\n",
        "output = np.array((all_data['Close'].diff() > 0) * 1)\n",
        "output.shape"
      ],
      "execution_count": null,
      "outputs": [
        {
          "output_type": "execute_result",
          "data": {
            "text/plain": [
              "(2507, 53)"
            ]
          },
          "metadata": {},
          "execution_count": 8
        }
      ]
    },
    {
      "cell_type": "markdown",
      "metadata": {
        "id": "BmLT3n9E6gmE"
      },
      "source": [
        "## Первый вход - окно (без сдвига)"
      ]
    },
    {
      "cell_type": "code",
      "metadata": {
        "colab": {
          "base_uri": "https://localhost:8080/"
        },
        "id": "iW9X8lyNmUML",
        "outputId": "4099ff7d-06af-40d3-c970-1f1b6afdcb46"
      },
      "source": [
        "WINDOW = 10\n",
        "# d = pd.DataFrame(inpData1)\n",
        "# inpData1 = np.hstack([d.shift(n).values for n in range(WINDOW)])\n",
        "# inpData1.shape\n",
        "inpData1 = np.ones((d.shape[0],WINDOW,d.shape[-1]))\n",
        "d = pd.DataFrame(d)\n",
        "for n in range(WINDOW):\n",
        "    inpData1[:,n,:] = d.shift(n).values\n",
        "inpData1.shape"
      ],
      "execution_count": null,
      "outputs": [
        {
          "output_type": "execute_result",
          "data": {
            "text/plain": [
              "(2507, 10, 265)"
            ]
          },
          "metadata": {},
          "execution_count": 9
        }
      ]
    },
    {
      "cell_type": "markdown",
      "metadata": {
        "id": "mwGdPI7oiOPb"
      },
      "source": [
        "## Второй вход - даты (без сдвига)"
      ]
    },
    {
      "cell_type": "code",
      "metadata": {
        "colab": {
          "base_uri": "https://localhost:8080/"
        },
        "id": "7NksDJ_WoTd8",
        "outputId": "d870191e-8ffc-47bf-d92d-e4ed178505ce"
      },
      "source": [
        "days = all_data.index.day.values\n",
        "weekdays = all_data.index.weekday.values\n",
        "months = all_data.index.month.values\n",
        "x2sc = lambda x,per: np.transpose([np.sin(x/per*2*np.pi),np.cos(x/per*2*np.pi)])\n",
        "inpData2 = np.hstack([x2sc(days,31),x2sc(weekdays,7),x2sc(months,12)])\n",
        "inpData2.shape"
      ],
      "execution_count": null,
      "outputs": [
        {
          "output_type": "execute_result",
          "data": {
            "text/plain": [
              "(2507, 6)"
            ]
          },
          "metadata": {},
          "execution_count": 10
        }
      ]
    },
    {
      "cell_type": "markdown",
      "metadata": {
        "id": "NxjLc-k6iaFZ"
      },
      "source": [
        "## Разделяем обучение и расчет (появляется сдвиг)"
      ]
    },
    {
      "cell_type": "code",
      "metadata": {
        "id": "iEPTGpMkqO00"
      },
      "source": [
        "inpData1Calc = inpData1[-1,...]\n",
        "\n",
        "inpData1Learn = inpData1\n",
        "inpData1Learn[1:,...] = inpData1Learn[:-1,...]\n",
        "\n",
        "inpData2Calc = inpData2[-1,...]\n",
        "\n",
        "inpData2Learn = inpData2\n",
        "inpData2Learn[1:,...] = inpData2Learn[:-1,...]"
      ],
      "execution_count": null,
      "outputs": []
    },
    {
      "cell_type": "code",
      "metadata": {
        "colab": {
          "base_uri": "https://localhost:8080/"
        },
        "id": "MWFPBI2xq9ix",
        "outputId": "60b1943b-0ed7-45b0-a7f6-e1a403740abb"
      },
      "source": [
        "inpData1Learn.shape,inpData2Learn.shape"
      ],
      "execution_count": null,
      "outputs": [
        {
          "output_type": "execute_result",
          "data": {
            "text/plain": [
              "((2507, 10, 265), (2507, 6))"
            ]
          },
          "metadata": {},
          "execution_count": 12
        }
      ]
    },
    {
      "cell_type": "code",
      "metadata": {
        "colab": {
          "base_uri": "https://localhost:8080/"
        },
        "id": "h1XEXLXirF3Z",
        "outputId": "49329931-2fb6-4346-9fbc-a3400e313ec4"
      },
      "source": [
        "inpData1Calc.shape,inpData2Calc.shape"
      ],
      "execution_count": null,
      "outputs": [
        {
          "output_type": "execute_result",
          "data": {
            "text/plain": [
              "((10, 265), (6,))"
            ]
          },
          "metadata": {},
          "execution_count": 13
        }
      ]
    },
    {
      "cell_type": "code",
      "metadata": {
        "colab": {
          "base_uri": "https://localhost:8080/"
        },
        "id": "p0ATtoWNrY9l",
        "outputId": "1f3f2753-bc75-44fd-b89a-d9c12bf40549"
      },
      "source": [
        "output.shape"
      ],
      "execution_count": null,
      "outputs": [
        {
          "output_type": "execute_result",
          "data": {
            "text/plain": [
              "(2507, 53)"
            ]
          },
          "metadata": {},
          "execution_count": 14
        }
      ]
    },
    {
      "cell_type": "markdown",
      "metadata": {
        "id": "WnMdkJlosDwg"
      },
      "source": [
        "## Чистим пустоты на обучении"
      ]
    },
    {
      "cell_type": "code",
      "metadata": {
        "colab": {
          "base_uri": "https://localhost:8080/"
        },
        "id": "VO6a1MzIsOLi",
        "outputId": "e27d3fb9-d604-4fd2-e227-80044324d048"
      },
      "source": [
        "index = (~np.isnan(np.sum(inpData1Learn,axis=(1,2)))) & (~np.isnan(np.sum(inpData2Learn,axis=1))) & (~np.isnan(np.sum(output,axis=1)))\n",
        "np.unique(index,return_counts=True)"
      ],
      "execution_count": null,
      "outputs": [
        {
          "output_type": "execute_result",
          "data": {
            "text/plain": [
              "(array([False,  True]), array([  11, 2496]))"
            ]
          },
          "metadata": {},
          "execution_count": 15
        }
      ]
    },
    {
      "cell_type": "code",
      "metadata": {
        "id": "aSeuEYgv_wH8"
      },
      "source": [
        "inpData1Learn = inpData1Learn[index,:]\n",
        "inpData2Learn = inpData2Learn[index,:]\n",
        "output = output[index,:]\n",
        "learnDates = all_data.index.values[index]"
      ],
      "execution_count": null,
      "outputs": []
    },
    {
      "cell_type": "code",
      "metadata": {
        "colab": {
          "base_uri": "https://localhost:8080/"
        },
        "id": "I3a3aj9xCXWU",
        "outputId": "ef7f8ab6-c010-4b52-f012-51030d8462a3"
      },
      "source": [
        "print('inpData1Learn size',inpData1Learn.shape)\n",
        "print('inpData2Learn size',inpData2Learn.shape)\n",
        "print('output size',output.shape)\n",
        "print('Learn dates from',learnDates[0],'to',learnDates[-1])"
      ],
      "execution_count": null,
      "outputs": [
        {
          "output_type": "stream",
          "name": "stdout",
          "text": [
            "inpData1Learn size (2496, 10, 265)\n",
            "inpData2Learn size (2496, 6)\n",
            "output size (2496, 53)\n",
            "Learn dates from 2011-09-20T00:00:00.000000000 to 2021-09-03T00:00:00.000000000\n"
          ]
        }
      ]
    },
    {
      "cell_type": "markdown",
      "metadata": {
        "id": "_yXfZ4fO659U"
      },
      "source": [
        "## Разделение на обучение и тест"
      ]
    },
    {
      "cell_type": "code",
      "metadata": {
        "id": "H9QxniBpBUzc"
      },
      "source": [
        "X1_train, X1_test, X2_train, X2_test, y_train, y_test, d_train, d_test = train_test_split(inpData1Learn,inpData2Learn,output,learnDates,test_size=0.33,shuffle=False)"
      ],
      "execution_count": null,
      "outputs": []
    },
    {
      "cell_type": "markdown",
      "metadata": {
        "id": "SM6Xcny16_w_"
      },
      "source": [
        "## Нормировка данных (слой нормировки первого входа)"
      ]
    },
    {
      "cell_type": "code",
      "metadata": {
        "id": "wGpqzA5Wecjc"
      },
      "source": [
        "normLayer = keras.layers.experimental.preprocessing.Normalization(axis=-1)\n",
        "normLayer.adapt(X1_train)"
      ],
      "execution_count": null,
      "outputs": []
    },
    {
      "cell_type": "markdown",
      "metadata": {
        "id": "mcfzljWWqq51"
      },
      "source": [
        "# Модель"
      ]
    },
    {
      "cell_type": "markdown",
      "metadata": {
        "id": "1o5mf7gMqwPI"
      },
      "source": [
        "## Функция создания"
      ]
    },
    {
      "cell_type": "code",
      "metadata": {
        "id": "SCXh490hpSkb"
      },
      "source": [
        "def build_model(hp):\n",
        "    input1 = keras.layers.Input(shape=X1_train.shape[1:])\n",
        "    x1 = normLayer(input1)\n",
        "\n",
        "    units = hp.Choice('units',range(10,100))\n",
        "    kernel = hp.Choice('kernel',range(2,5+1))\n",
        "    x1 = keras.layers.Conv1D(units,\n",
        "                             kernel,\n",
        "                             padding='same',\n",
        "                             activation='relu')(x1)\n",
        "\n",
        "    x1 = keras.layers.Flatten()(x1)\n",
        "\n",
        "    input2 = keras.layers.Input(shape=(X2_train.shape[1],))\n",
        "\n",
        "    x = keras.layers.Concatenate()([x1,input2])\n",
        "\n",
        "    output = keras.layers.Dense(1)(x)\n",
        "\n",
        "    model = keras.Model((input1,input2),output)\n",
        "    model.compile(optimizer=tf.optimizers.Adam(),\n",
        "                loss=tf.losses.BinaryCrossentropy(from_logits=True),\n",
        "                metrics=['accuracy'])\n",
        "    # model.summary()\n",
        "    return model"
      ],
      "execution_count": null,
      "outputs": []
    },
    {
      "cell_type": "markdown",
      "metadata": {
        "id": "puHag6EOv4J0"
      },
      "source": [
        "## Обучение"
      ]
    },
    {
      "cell_type": "code",
      "metadata": {
        "colab": {
          "base_uri": "https://localhost:8080/"
        },
        "id": "ARHSAQiqtM1O",
        "outputId": "a3580d76-08ae-4ac6-f36c-3d879ca0645e"
      },
      "source": [
        "pn = 'RandomSearch'\n",
        "dir = '/tmp/tboard_logs/' + pn\n",
        "\n",
        "cb = [tf.keras.callbacks.EarlyStopping(monitor='val_accuracy',mode='max',patience=100,restore_best_weights=True,verbose=False),\n",
        "      tf.keras.callbacks.ReduceLROnPlateau(monitor='val_accuracy',mode='max',patience=50,verbose=False)]\n",
        "\n",
        "tuner = kt.RandomSearch(build_model,\n",
        "                        objective='val_accuracy',\n",
        "                        max_trials=100,\n",
        "                        # overwrite=True,\n",
        "                        project_name=pn)\n",
        "tuner.search((X1_train,X2_train),y_train[:,0],\n",
        "            epochs=1000,\n",
        "            validation_split=0.3,\n",
        "            verbose=False,\n",
        "            callbacks = cb)\n",
        "\n",
        "tuner.get_best_hyperparameters()[0].values"
      ],
      "execution_count": null,
      "outputs": [
        {
          "output_type": "stream",
          "name": "stdout",
          "text": [
            "INFO:tensorflow:Oracle triggered exit\n"
          ]
        },
        {
          "output_type": "execute_result",
          "data": {
            "text/plain": [
              "{'kernel': 2, 'units': 35}"
            ]
          },
          "metadata": {},
          "execution_count": 21
        }
      ]
    },
    {
      "cell_type": "markdown",
      "metadata": {
        "id": "we611roH1Wn5"
      },
      "source": [
        "ядро - 2 - маленькое\n",
        "выход сверточной - 35 - ниже среднего"
      ]
    },
    {
      "cell_type": "markdown",
      "metadata": {
        "id": "2kFCtBEigLM1"
      },
      "source": [
        "## Суммарно по лучшим"
      ]
    },
    {
      "cell_type": "code",
      "metadata": {
        "colab": {
          "base_uri": "https://localhost:8080/"
        },
        "id": "oOYwbnInddfT",
        "outputId": "8824f821-0905-40b4-f3cc-e69ae3c9b263"
      },
      "source": [
        "tuner.results_summary()"
      ],
      "execution_count": null,
      "outputs": [
        {
          "output_type": "stream",
          "name": "stdout",
          "text": [
            "Results summary\n",
            "Results in ./RandomSearch\n",
            "Showing 10 best trials\n",
            "Objective(name='val_accuracy', direction='max')\n",
            "Trial summary\n",
            "Hyperparameters:\n",
            "units: 35\n",
            "kernel: 2\n",
            "Score: 0.5458167195320129\n",
            "Trial summary\n",
            "Hyperparameters:\n",
            "units: 85\n",
            "kernel: 2\n",
            "Score: 0.5438246726989746\n",
            "Trial summary\n",
            "Hyperparameters:\n",
            "units: 63\n",
            "kernel: 2\n",
            "Score: 0.541832685470581\n",
            "Trial summary\n",
            "Hyperparameters:\n",
            "units: 19\n",
            "kernel: 5\n",
            "Score: 0.5398406386375427\n",
            "Trial summary\n",
            "Hyperparameters:\n",
            "units: 34\n",
            "kernel: 2\n",
            "Score: 0.5398406386375427\n",
            "Trial summary\n",
            "Hyperparameters:\n",
            "units: 25\n",
            "kernel: 2\n",
            "Score: 0.5338645577430725\n",
            "Trial summary\n",
            "Hyperparameters:\n",
            "units: 11\n",
            "kernel: 2\n",
            "Score: 0.525896430015564\n",
            "Trial summary\n",
            "Hyperparameters:\n",
            "units: 31\n",
            "kernel: 2\n",
            "Score: 0.525896430015564\n",
            "Trial summary\n",
            "Hyperparameters:\n",
            "units: 69\n",
            "kernel: 2\n",
            "Score: 0.525896430015564\n",
            "Trial summary\n",
            "Hyperparameters:\n",
            "units: 91\n",
            "kernel: 2\n",
            "Score: 0.5239043831825256\n"
          ]
        }
      ]
    },
    {
      "cell_type": "markdown",
      "metadata": {
        "id": "h_cD57Cq1fXj"
      },
      "source": [
        "на валидации почти 55%"
      ]
    },
    {
      "cell_type": "markdown",
      "metadata": {
        "id": "so9TL9SIgCj9"
      },
      "source": [
        "## Схема лучшей модели"
      ]
    },
    {
      "cell_type": "code",
      "metadata": {
        "colab": {
          "base_uri": "https://localhost:8080/",
          "height": 53
        },
        "id": "4tVqkmXXatsd",
        "outputId": "5e04e6a3-af45-46e1-ae06-9623b9ce3df8"
      },
      "source": [
        "best_model = tuner.get_best_models()[0]\n",
        "keras.utils.plot_model(best_model,show_shapes=True)"
      ],
      "execution_count": null,
      "outputs": [
        {
          "output_type": "execute_result",
          "data": {
            "image/png": "[encoded data removed]",
            "text/plain": [
              "<IPython.core.display.Image object>"
            ]
          },
          "metadata": {},
          "execution_count": 23
        }
      ]
    },
    {
      "cell_type": "markdown",
      "metadata": {
        "id": "CbH9MIjiv33D"
      },
      "source": [
        "## Отчет на тесте"
      ]
    },
    {
      "cell_type": "code",
      "metadata": {
        "id": "Ur1o9cqLvPNw",
        "colab": {
          "base_uri": "https://localhost:8080/"
        },
        "outputId": "7e180c88-33c9-49ce-cae6-528751eef42b"
      },
      "source": [
        "best_model.evaluate([X1_test,X2_test],y_test[:,0])"
      ],
      "execution_count": null,
      "outputs": [
        {
          "output_type": "stream",
          "name": "stdout",
          "text": [
            "26/26 [==============================] - 0s 4ms/step - loss: 0.7275 - accuracy: 0.5485\n"
          ]
        },
        {
          "output_type": "execute_result",
          "data": {
            "text/plain": [
              "[0.7275174260139465, 0.5485436916351318]"
            ]
          },
          "metadata": {},
          "execution_count": 24
        }
      ]
    },
    {
      "cell_type": "markdown",
      "metadata": {
        "id": "6vYz4sjw1jpd"
      },
      "source": [
        "на тесте почти 55%\n",
        "как на валидации\n",
        "близкий результат"
      ]
    },
    {
      "cell_type": "code",
      "metadata": {
        "id": "6ygS3wIswTVU",
        "colab": {
          "base_uri": "https://localhost:8080/"
        },
        "outputId": "dd52345d-4cad-481b-e49c-a11bf4150167"
      },
      "source": [
        "test_res = best_model([X1_test,X2_test]).numpy()\n",
        "\n",
        "print(classification_report(y_test[:,0],np.reshape((test_res > 0) * 1,-1)))\n",
        "\n"
      ],
      "execution_count": null,
      "outputs": [
        {
          "output_type": "stream",
          "name": "stdout",
          "text": [
            "              precision    recall  f1-score   support\n",
            "\n",
            "           0       0.56      0.50      0.53       441\n",
            "           1       0.49      0.55      0.52       383\n",
            "\n",
            "    accuracy                           0.52       824\n",
            "   macro avg       0.52      0.52      0.52       824\n",
            "weighted avg       0.53      0.52      0.52       824\n",
            "\n"
          ]
        }
      ]
    },
    {
      "cell_type": "markdown",
      "metadata": {
        "id": "LVU7eDc11qWd"
      },
      "source": [
        "52% нормы\n",
        "все равно слабо"
      ]
    },
    {
      "cell_type": "code",
      "metadata": {
        "colab": {
          "base_uri": "https://localhost:8080/",
          "height": 70
        },
        "id": "R-zpyfYGgrYT",
        "outputId": "1d282251-52bc-4c35-c6b5-de08e1412492"
      },
      "source": [
        "sns.heatmap(confusion_matrix(y_test[:,0],np.reshape((test_res > 0) * 1,-1)),annot=True,fmt='.0f',cbar=False)"
      ],
      "execution_count": null,
      "outputs": [
        {
          "output_type": "execute_result",
          "data": {
            "text/plain": [
              "<matplotlib.axes._subplots.AxesSubplot at 0x7f060f310610>"
            ]
          },
          "metadata": {},
          "execution_count": 26
        },
        {
          "output_type": "display_data",
          "data": {
            "image/png": "[encoded data removed]",
            "text/plain": [
              "<Figure size 432x288 with 1 Axes>"
            ]
          },
          "metadata": {
            "needs_background": "light"
          }
        }
      ]
    },
    {
      "cell_type": "markdown",
      "metadata": {
        "id": "CWQV4TXG1vUF"
      },
      "source": [
        "слабо на главно диагонали"
      ]
    }
  ]
}